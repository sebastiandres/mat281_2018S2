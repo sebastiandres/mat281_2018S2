{
 "cells": [
  {
   "cell_type": "code",
   "execution_count": 1,
   "metadata": {
    "slideshow": {
     "slide_type": "skip"
    }
   },
   "outputs": [],
   "source": [
    "# Configuracion para recargar módulos y librerías \n",
    "%reload_ext autoreload\n",
    "%autoreload 2"
   ]
  },
  {
   "cell_type": "markdown",
   "metadata": {
    "slideshow": {
     "slide_type": "slide"
    }
   },
   "source": [
    "<header>\n",
    "<img src=\"./images/shared/utfsm.png\" alt=\"\" height=\"100px\" align=\"left\"/>\n",
    "<img src=\"./images/shared/dmat.png\" alt=\"\" height=\"100px\" align=\"right\"/>\n",
    "</header>\n",
    "<br/><br/><br/><br/><br/>\n",
    "\n",
    "# MAT281\n",
    "\n",
    "## Aplicaciones de la Matemática en la Ingeniería\n",
    "\n",
    "### Sebastián Flores & Alonso Ogueda\n",
    "\n",
    "https://www.github.com/sebastiandres/mat281_2018S2\n"
   ]
  },
  {
   "cell_type": "markdown",
   "metadata": {
    "slideshow": {
     "slide_type": "slide"
    }
   },
   "source": [
    "## ¿Qué contenido aprenderemos?\n",
    "* ¿Quién?\n",
    "* ¿Porqué?\n",
    "* ¿Qué?\n",
    "* ¿Cómo?\n",
    "* ¿Cuándo?"
   ]
  },
  {
   "cell_type": "markdown",
   "metadata": {
    "slideshow": {
     "slide_type": "slide"
    }
   },
   "source": [
    "## ¿Quién soy?\n",
    "\n",
    "* Ingeniero Civil Matemático - UTFSM, Chile (2000).\n",
    "* Ingeniero y Magíster en Mecánica - Ecole Polytechnique, Francia (2005).\n",
    "* Magíster en Computación y Matemática Aplicada - Stanford, EEUU (2010).\n",
    "* Esval, Peugeot-Citroen, Lexity, CMM-UCh, Thinkful.\n",
    "* Proyectos de mecánica de sólidos y fluidos, minería, química y sismología. \n"
   ]
  },
  {
   "cell_type": "markdown",
   "metadata": {
    "slideshow": {
     "slide_type": "slide"
    }
   },
   "source": [
    "## ¿Quién soy?\n",
    "### Actualmente\n",
    "* Clases en el mundo real: IWI131 y MAT281\n",
    "* Clases online: Data Science @ Thinkful\n",
    "* Programando software para propagación de tsunamis"
   ]
  },
  {
   "cell_type": "markdown",
   "metadata": {
    "slideshow": {
     "slide_type": "slide"
    }
   },
   "source": [
    "## ¿Porqué aprenderemos ese contenido?\n",
    "\n",
    "* Reglas claras desde un comienzo.\n",
    "* Ilustración de lo que veremos en el curso."
   ]
  },
  {
   "cell_type": "markdown",
   "metadata": {
    "collapsed": true,
    "slideshow": {
     "slide_type": "slide"
    }
   },
   "source": [
    "## ¿Porqué? \n",
    "### ¿Porqué me gusta dictar este curso?\n",
    "\n",
    "* Flexibilidad temática\n",
    "* Potencial de los alumnos\n",
    "* Compartir mi experiencia como ICM"
   ]
  },
  {
   "cell_type": "markdown",
   "metadata": {
    "slideshow": {
     "slide_type": "slide"
    }
   },
   "source": [
    "##  Motivación\n",
    "### Mi experiencia como ICM recién egresado\n",
    "\n",
    "<img src=\"images/AG1.png\" alt=\"\" align=\"middle\"/>"
   ]
  },
  {
   "cell_type": "markdown",
   "metadata": {
    "slideshow": {
     "slide_type": "slide"
    }
   },
   "source": [
    "##  Motivación\n",
    "<img src=\"images/AG2.png\" alt=\"\" align=\"middle\"/>"
   ]
  },
  {
   "cell_type": "markdown",
   "metadata": {
    "slideshow": {
     "slide_type": "slide"
    }
   },
   "source": [
    "## Motivación\n",
    "\n",
    "¿Porqué hay tanta diferencia entre el mundo académico y el mundo industrial?"
   ]
  },
  {
   "cell_type": "markdown",
   "metadata": {
    "slideshow": {
     "slide_type": "slide"
    }
   },
   "source": [
    "##  Motivación\n",
    "\n",
    "<img src=\"images/XKCD_purity1.png\" alt=\"\" align=\"middle\"/>"
   ]
  },
  {
   "cell_type": "markdown",
   "metadata": {
    "slideshow": {
     "slide_type": "slide"
    }
   },
   "source": [
    "##  Motivación\n",
    "\n",
    "<img src=\"images/XKCD_purity2.png\" alt=\"\" align=\"middle\"/>"
   ]
  },
  {
   "cell_type": "markdown",
   "metadata": {
    "collapsed": true,
    "slideshow": {
     "slide_type": "slide"
    }
   },
   "source": [
    "## ¿Qué?\n",
    "### Programa del curso\n",
    "* Unidad 1: Introducción y Proyectos.\n",
    "* Unidad 2: Herramientas transversales en ingeniería.\n",
    "* Unidad 3: Modelamiento y error.\n",
    "* Unidad 4: Trabajando con datos reales."
   ]
  },
  {
   "cell_type": "markdown",
   "metadata": {
    "slideshow": {
     "slide_type": "slide"
    }
   },
   "source": [
    "## ¿Cómo?\n",
    "### Elementos centrales del curso\n",
    "* **Proyecto central**: trabajar con datos reales.\n",
    "* **Tareas**: desarrollos analíticos y componente práctica.\n",
    "* **Laboratorios**: prácticos.\n",
    "* **Ayudantías**: según se necesite.\n",
    "* Clases interactivas.\n",
    "* No hay certámenes ni lecturas, pero sí mucho trabajo."
   ]
  },
  {
   "cell_type": "markdown",
   "metadata": {
    "slideshow": {
     "slide_type": "slide"
    }
   },
   "source": [
    "## ¿Cómo?\n",
    "\n",
    "### Lenguaje de comunicación\n",
    "Tareas y proyectos deben ser escritos en **latex**!\n",
    "\n",
    "### Lenguaje de programación\n",
    "\n",
    "* Programaremos en **python**, con las librerías numpy, scipy, matplotlib, sklearn.\n",
    "* Haremos uso en clase y laboratorios de **ipython** y **ipython notebook** (jupyter)"
   ]
  },
  {
   "cell_type": "markdown",
   "metadata": {
    "slideshow": {
     "slide_type": "slide"
    }
   },
   "source": [
    "## ¿Cómo?\n",
    "\n",
    "\n",
    "### ¿Porqué python?"
   ]
  },
  {
   "cell_type": "code",
   "execution_count": 2,
   "metadata": {
    "slideshow": {
     "slide_type": "fragment"
    }
   },
   "outputs": [
    {
     "data": {
      "image/png": "[encoded data removed]",
      "text/plain": [
       "<matplotlib.figure.Figure at 0x7f6fa5135bd0>"
      ]
     },
     "metadata": {},
     "output_type": "display_data"
    }
   ],
   "source": [
    "from matplotlib import pyplot as plt\n",
    "import numpy as np\n",
    "x = np.linspace(1E-8,np.pi/6,1000)\n",
    "y = x*np.sin(1./x)\n",
    "plt.plot(x, y)\n",
    "plt.plot(x, x)\n",
    "plt.plot(x, -x)\n",
    "plt.show()"
   ]
  },
  {
   "cell_type": "markdown",
   "metadata": {
    "slideshow": {
     "slide_type": "slide"
    }
   },
   "source": [
    "## ¿Cómo?\n",
    "### ¿Porqué python?"
   ]
  },
  {
   "cell_type": "code",
   "execution_count": 3,
   "metadata": {
    "slideshow": {
     "slide_type": "fragment"
    }
   },
   "outputs": [
    {
     "data": {
      "image/png": "[encoded data removed]",
      "text/plain": [
       "<matplotlib.figure.Figure at 0x7f6f96d40a90>"
      ]
     },
     "metadata": {},
     "output_type": "display_data"
    }
   ],
   "source": [
    "from mat281_code import black_box\n",
    "black_box.iplot()"
   ]
  },
  {
   "cell_type": "markdown",
   "metadata": {
    "slideshow": {
     "slide_type": "slide"
    }
   },
   "source": [
    "## ¿Cómo?\n",
    "### Pero profe, yo no sé programar...\n",
    "\n",
    "* python es multipropósito.\n",
    "* ICM debe saber trabajar con datos.\n",
    "* Énfasis en aplicar, no en programar desde cero. \n",
    "* Todas las clases, códigos y lecturas: https://github.com/sebastiandres/mat281"
   ]
  },
  {
   "cell_type": "markdown",
   "metadata": {
    "slideshow": {
     "slide_type": "slide"
    }
   },
   "source": [
    "<img src=\"images/saint_curious_george.png\" alt=\"\" align=\"middle\"/>"
   ]
  },
  {
   "cell_type": "markdown",
   "metadata": {
    "slideshow": {
     "slide_type": "slide"
    }
   },
   "source": [
    "## ¿Cuándo?\n",
    "\n",
    "### Clases\n",
    " * Lunes: bloque 3-4.\n",
    " * Miercoles: bloque 3-4.\n",
    "\n",
    "### Ayudantía\n",
    " * Por fijar."
   ]
  },
  {
   "cell_type": "markdown",
   "metadata": {
    "slideshow": {
     "slide_type": "slide"
    }
   },
   "source": [
    "## ¿Cuándo?\n",
    "\n",
    "### Fechas importantes\n",
    "Ver programa. \n",
    "\n",
    "### Evaluables\n",
    "En resumen:\n",
    "* 4 Tareas\n",
    "* 5 Laboratorios\n",
    "* 1 Anteproyecto, 1 Avance de proyecto y 1 Presentación de Proyecto."
   ]
  },
  {
   "cell_type": "markdown",
   "metadata": {
    "slideshow": {
     "slide_type": "-"
    }
   },
   "source": [
    "$$ NF = 40\\% T + 20 \\% L + 40\\% P$$"
   ]
  },
  {
   "cell_type": "markdown",
   "metadata": {
    "slideshow": {
     "slide_type": "slide"
    }
   },
   "source": [
    "## Ejemplo 1 : Contexto\n",
    "\n",
    "* Todo problema depende fuertemente del contexto\n",
    "* ¿Cuál es el valor promedio de los siguientes valores?\n",
    "$$1.2,\\  2.2,\\  2.6,\\  3.1,\\  3.1,\\  3.2,\\  3.3,\\  3.6,\\  3.6,\\  4.3$$"
   ]
  },
  {
   "cell_type": "code",
   "execution_count": 9,
   "metadata": {
    "slideshow": {
     "slide_type": "-"
    }
   },
   "outputs": [
    {
     "name": "stdout",
     "output_type": "stream",
     "text": [
      "3.02\n",
      "1.2 0.81215762017\n"
     ]
    }
   ],
   "source": [
    "# Calculando el promedio\n",
    "x = np.array([1.2, 2.2, 2.6, 3.1, 3.1, 3.2, 3.3, 3.6, 3.6, 4.3])\n",
    "print(x.mean())\n",
    "print x.min(), x.std()\n"
   ]
  },
  {
   "cell_type": "markdown",
   "metadata": {
    "slideshow": {
     "slide_type": "slide"
    }
   },
   "source": [
    "## Ejemplo 1: Contexto\n",
    "* ¿Cómo cambia su respuesta si se sabe que $x$ es una medición angular?\n",
    "\n",
    "Lo anterior representa un promedio de los valores angulares:"
   ]
  },
  {
   "cell_type": "code",
   "execution_count": 10,
   "metadata": {},
   "outputs": [
    {
     "name": "stdout",
     "output_type": "stream",
     "text": [
      "Promedio angular: 3.02 [rad] ó 173.03 [deg]\n"
     ]
    }
   ],
   "source": [
    "# Calculando el promedio\n",
    "x = np.array([1.2, 2.2, 2.6, 3.1, 3.1, 3.2, 3.3, 3.6, 3.6, 4.3])\n",
    "x_mean = x.mean()\n",
    "print(\"Promedio angular: {0:.2f} [rad] ó {1:.2f} [deg]\".format(x_mean, x_mean*180/np.pi))"
   ]
  },
  {
   "cell_type": "code",
   "execution_count": 11,
   "metadata": {
    "slideshow": {
     "slide_type": "slide"
    }
   },
   "outputs": [
    {
     "data": {
      "image/png": "[encoded data removed]",
      "text/plain": [
       "<matplotlib.figure.Figure at 0x7ff5185b39d0>"
      ]
     },
     "metadata": {},
     "output_type": "display_data"
    }
   ],
   "source": [
    "plt.figure(figsize=(14,3))\n",
    "plt.plot(x, 0*x, 'go', alpha=0.75)\n",
    "plt.plot([x.mean(), x.mean()], [-1,1], '-g', lw=2.0)\n",
    "plt.gca().set_yticks([])\n",
    "plt.show()"
   ]
  },
  {
   "cell_type": "markdown",
   "metadata": {
    "slideshow": {
     "slide_type": "slide"
    }
   },
   "source": [
    "## Ejemplo 1: Contexto\n",
    "Si suponemos que el radio es constante, podemos realizar un promedio de posiciones espaciales:"
   ]
  },
  {
   "cell_type": "code",
   "execution_count": 12,
   "metadata": {
    "slideshow": {
     "slide_type": "-"
    }
   },
   "outputs": [
    {
     "name": "stdout",
     "output_type": "stream",
     "text": [
      "Promedio espacial: 3.10 [rad] ó 177.46 [deg]\n"
     ]
    }
   ],
   "source": [
    "cos_mean = np.cos(x).mean()\n",
    "sin_mean = np.sin(x).mean()\n",
    "trig_mean = np.arctan2(sin_mean, cos_mean)\n",
    "print(\"Promedio espacial: {0:.2f} [rad] ó {1:.2f} [deg]\".format(trig_mean, trig_mean*180/np.pi))"
   ]
  },
  {
   "cell_type": "code",
   "execution_count": 13,
   "metadata": {
    "slideshow": {
     "slide_type": "slide"
    }
   },
   "outputs": [
    {
     "data": {
      "text/plain": [
       "<matplotlib.text.Text at 0x7ff51870f5d0>"
      ]
     },
     "execution_count": 13,
     "metadata": {},
     "output_type": "execute_result"
    },
    {
     "data": {
      "image/png": "[encoded data removed]",
      "text/plain": [
       "<matplotlib.figure.Figure at 0x7ff50e51c350>"
      ]
     },
     "metadata": {},
     "output_type": "display_data"
    }
   ],
   "source": [
    "plt.figure(figsize=(12,12))\n",
    "aux_th = np.arange(0,1000.)*2*np.pi/1000.\n",
    "r = (cos_mean**2 + sin_mean**2)**.5\n",
    "plt.plot(0, 0, 'k.', alpha=0.25)\n",
    "plt.plot(np.cos(aux_th), np.sin(aux_th), 'k-', alpha=0.25)\n",
    "plt.plot(np.cos(x), np.sin(x), 'b*', alpha=0.75, ms=16)\n",
    "plt.plot(np.cos(x_mean), np.sin(x_mean), 'go', alpha=1.0, ms=16, label=r\"$(\\cos(\\overline{\\theta}),\\sin(\\overline{\\theta}))$\") \n",
    "plt.plot(cos_mean, sin_mean, 'rs', alpha=1.0, ms=16, label=r\"$(\\overline{\\cos(\\theta}),\\overline{\\sin(\\theta}))$\") \n",
    "plt.plot(cos_mean/r, sin_mean/r, 'rs', alpha=0.5, ms=16, label=r\"$(\\overline{\\cos(\\theta}),\\overline{\\sin(\\theta}))$\") \n",
    "plt.xlim([-1.1, 1.1])\n",
    "plt.ylim([-1.1, 1.1])\n",
    "plt.legend(loc=\"lower right\", fontsize=20, numpoints=1)\n",
    "plt.xlabel(r\"$x=cos(\\theta)$ [$L$]\")\n",
    "plt.ylabel(r\"$x=sin(\\theta)$ [$L$]\")"
   ]
  },
  {
   "cell_type": "markdown",
   "metadata": {
    "slideshow": {
     "slide_type": "slide"
    }
   },
   "source": [
    "## Ejemplo 2: Aplicación de conocimiento\n",
    "\n",
    "Ejemplo real: \n",
    " * Código está presente en el software QUESTION (módulo de preprocesamiento de datos, software de propagación de tsunamis).\n",
    " * Ver https://bitbucket.org/sebastiandres/question\n",
    " * Diferencia entre conocer y hacer."
   ]
  },
  {
   "cell_type": "markdown",
   "metadata": {
    "collapsed": true,
    "slideshow": {
     "slide_type": "slide"
    }
   },
   "source": [
    "## Ejemplo 2: Aplicación de conocimiento\n",
    "\n",
    "* Dominio ha sido mallado utilizando triangulos no regulares.\n",
    "* Método numérico require extender el dominio generando \"ghost-cells\" para poder aplicar condiciones de frontera.\n",
    "* ¿Cómo podemos obtener el borde y generar automáticamente las ghost-cells?"
   ]
  },
  {
   "cell_type": "markdown",
   "metadata": {
    "collapsed": true,
    "slideshow": {
     "slide_type": "slide"
    }
   },
   "source": [
    "## Ejemplo 2: Aplicación de conocimiento\n",
    "### Condiciones de Frontera Periódicas\n",
    "<img src=\"images/QAS1.png\" alt=\"\" width=\"800px\" align=\"middle\"/>"
   ]
  },
  {
   "cell_type": "markdown",
   "metadata": {
    "collapsed": true,
    "slideshow": {
     "slide_type": "slide"
    }
   },
   "source": [
    "## Ejemplo 2: Aplicación de conocimiento\n",
    "### Condiciones de Frontera Reflectantes\n",
    "<img src=\"images/QAS2.png\" alt=\"\" width=\"800px\" align=\"middle\"/>"
   ]
  },
  {
   "cell_type": "markdown",
   "metadata": {
    "collapsed": true,
    "slideshow": {
     "slide_type": "slide"
    }
   },
   "source": [
    "## Ejemplo 2: Aplicación de conocimiento\n",
    "### Condiciones de Frontera No Reflectantes\n",
    "<img src=\"images/QAS3.png\" alt=\"\" width=\"800px\" align=\"middle\"/>"
   ]
  },
  {
   "cell_type": "markdown",
   "metadata": {
    "collapsed": true,
    "slideshow": {
     "slide_type": "slide"
    }
   },
   "source": [
    "## Ejemplo 2: Aplicación de conocimiento\n",
    "* ¿Cómo simplificar y modelar el problema (matemáticamente)?\n",
    "* ¿Cómo implementar una solución compatible con la estructura actual del problema?\n",
    " "
   ]
  },
  {
   "cell_type": "markdown",
   "metadata": {
    "slideshow": {
     "slide_type": "slide"
    }
   },
   "source": [
    "## Ejemplo 3: Visualización\n",
    "\n",
    "Visualización de resultados es crucial.\n",
    "\n",
    "<img src=\"images/Ej1_bad.png\" alt=\"\" width=\"500px\"  align=\"middle\"/>"
   ]
  },
  {
   "cell_type": "markdown",
   "metadata": {
    "slideshow": {
     "slide_type": "slide"
    }
   },
   "source": [
    "## Ejemplo 3: Visualización\n",
    "\n",
    "### Problemas del gráfico anterior\n",
    "* Requiere interacción 3D para comprender la superficie.\n",
    "* No se pueden inferir valores a partir del gráfico.\n",
    "* Mapa de colores es arbitrario y engañoso."
   ]
  },
  {
   "cell_type": "markdown",
   "metadata": {
    "slideshow": {
     "slide_type": "slide"
    }
   },
   "source": [
    "## Ejemplo 3: Visualización\n",
    "\n",
    "### Solución\n",
    "<img src=\"images/Ej1_good.png\" alt=\"\" width=\"500px\" align=\"middle\"/>"
   ]
  },
  {
   "cell_type": "markdown",
   "metadata": {
    "slideshow": {
     "slide_type": "slide"
    }
   },
   "source": [
    "# Regla de las 10,000 horas\n",
    "* Toda habilidad require trabajo\n",
    " * Matemática\n",
    " * Ingeniería\n",
    " * Programación\n",
    " \n",
    " Este curso desarrollaremos habilidades para poder facilitarles su trabajo en ingeniería: el mundo de los datos reales y de las aproximaciones.\n",
    " "
   ]
  },
  {
   "cell_type": "markdown",
   "metadata": {
    "slideshow": {
     "slide_type": "slide"
    }
   },
   "source": [
    "<img src=\"images/zeus_square.png\" alt=\"\" width=\"600px\" align=\"middle\"/>"
   ]
  },
  {
   "cell_type": "markdown",
   "metadata": {
    "slideshow": {
     "slide_type": "slide"
    }
   },
   "source": [
    "## Resumen\n",
    "* Curso atípico: interactivo y enfásis en vinculación a \"mundo real\"\n",
    "* Trabajo con datos reales: esencial\n",
    "* Programaremos en python\n",
    "* Para aprobar: ¡trabajar!"
   ]
  }
 ],
 "metadata": {
  "celltoolbar": "Slideshow",
  "kernelspec": {
   "display_name": "Python 3",
   "language": "python",
   "name": "python3"
  },
  "language_info": {
   "codemirror_mode": {
    "name": "ipython",
    "version": 3
   },
   "file_extension": ".py",
   "mimetype": "text/x-python",
   "name": "python",
   "nbconvert_exporter": "python",
   "pygments_lexer": "ipython3",
   "version": "3.6.6"
  }
 },
 "nbformat": 4,
 "nbformat_minor": 1
}
