{
 "cells": [
  {
   "cell_type": "markdown",
   "metadata": {
    "slideshow": {
     "slide_type": "slide"
    }
   },
   "source": [
    "### MAT281 - Aplicaciones de la Matemática en la Ingeniería\n",
    "\n",
    "#### Sebastián Flores & Alonso Ogueda\n",
    "\n",
    "---"
   ]
  },
  {
   "cell_type": "markdown",
   "metadata": {
    "slideshow": {
     "slide_type": "slide"
    }
   },
   "source": [
    "# Módulo 1: Data Science Toolkit "
   ]
  },
  {
   "cell_type": "markdown",
   "metadata": {
    "slideshow": {
     "slide_type": "slide"
    }
   },
   "source": [
    "## Objetivo de la clase\n",
    "\n",
    "Introducir e instalar cada una de las herramientas que utilizaremos en el resto del curso. "
   ]
  },
  {
   "cell_type": "markdown",
   "metadata": {
    "slideshow": {
     "slide_type": "subslide"
    }
   },
   "source": [
    "## Contenidos\n",
    "\n",
    "* Tú!\n",
    "* Sistema Operativo\n",
    "* Interfaz de Línea de Comandos\n",
    "* Entorno Virtual\n",
    "* Python\n",
    "* Project Jupyter\n",
    "* Git"
   ]
  },
  {
   "cell_type": "markdown",
   "metadata": {
    "slideshow": {
     "slide_type": "slide"
    }
   },
   "source": [
    "## Tú!\n",
    "\n",
    "Eres el principal actor en este curso. Prepara todas tus neuronas!"
   ]
  },
  {
   "cell_type": "markdown",
   "metadata": {
    "slideshow": {
     "slide_type": "slide"
    }
   },
   "source": [
    "## Sistema Operativo\n",
    "\n",
    "* Personalmente recomiendo **Linux**, en particular distribuciones como Ubuntu, Mint o Fedora por su facilidad a la hora de instalar.\n",
    "* En ocasiones las implementaciones en **Windows** no están completamente integradas e inclusive en ocasiones no están disponibles.\n",
    "    - Una alternativa es [**Windows Subsystem for Linux**](https://docs.microsoft.com/en-us/windows/wsl/about), pero lamentablemente no se asegura un 100% de compatibilidad.\n",
    "* En el caso que poseas un equipo con **macOS** no debería haber problema."
   ]
  },
  {
   "cell_type": "markdown",
   "metadata": {
    "slideshow": {
     "slide_type": "slide"
    }
   },
   "source": [
    "## Interfaz de Línea de Comandos (*Command Line Interface* / CLI)\n",
    "\n",
    "* Es un método que permite a los usuarios interactuar con algún programa informático por medio de líneas de texto.\n",
    "* Típicamente se hace uso de una terminal/*shell* (ver imagen).\n",
    "* En el día a día dentro de la oficina facilita flujo de trabajo.\n",
    "* Permite moverse entre manipular directorios y ficheros, instalar/actualizar herramientas, aplicaciones, softwares, etc."
   ]
  },
  {
   "cell_type": "markdown",
   "metadata": {
    "slideshow": {
     "slide_type": "-"
    }
   },
   "source": [
    "<img src=\"https://upload.wikimedia.org/wikipedia/commons/2/29/Linux_command-line._Bash._GNOME_Terminal._screenshot.png\" alt=\"\" align=\"center\"/>\n",
    "\n",
    "*Screenshot of a sample bash session in GNOME Terminal 3, Fedora 15. [Wikipedia](https://en.wikipedia.org/wiki/Command-line_interface)* "
   ]
  },
  {
   "cell_type": "markdown",
   "metadata": {
    "slideshow": {
     "slide_type": "slide"
    }
   },
   "source": [
    "## Entorno Virtual\n",
    "\n",
    "__Problemas recurrentes:__\n",
    "- Dependencias de *packages* incompatibles.\n",
    "- Dificultad a la hora de compartir y reproducir resultados, e.g. no conocer las versiones de los *packages* instalados.\n",
    "- Tener una máquina virtual para cada desarrollo es tedioso y costoso.\n",
    "- Miedo constante a instalar algo nuevo y tu script vuelva a funcionar."
   ]
  },
  {
   "cell_type": "markdown",
   "metadata": {
    "slideshow": {
     "slide_type": "subslide"
    }
   },
   "source": [
    "#### Solución \n",
    "\n",
    "Aislar el desarrollo con tal de mejorar la compatibilidad y reproducibilidad de resultados. "
   ]
  },
  {
   "cell_type": "markdown",
   "metadata": {
    "slideshow": {
     "slide_type": "subslide"
    }
   },
   "source": [
    "####  ¿Cómo? \n",
    "\n",
    "Utilizando entornos virtuales."
   ]
  },
  {
   "cell_type": "markdown",
   "metadata": {
    "slideshow": {
     "slide_type": "subslide"
    }
   },
   "source": [
    "####  Para el curso (es recomendable)\n",
    "\n",
    "![Conda](https://conda.io/docs/_images/conda_logo.svg)\n",
    "\n",
    "*Package, dependency and environment management for any language—Python, R, Ruby, Lua, Scala, Java, JavaScript, C/ C++, FORTRAN.* [(Link)](https://conda.io/docs/)\n"
   ]
  },
  {
   "cell_type": "markdown",
   "metadata": {
    "slideshow": {
     "slide_type": "subslide"
    }
   },
   "source": [
    "#### ¿Por qué Conda?\n",
    "\n",
    "* Open Source\n",
    "* Gestor de *packages* __y__ entornos virtuales. \n",
    "* Compatible con Linux, Windows y macOS.\n",
    "* Es agnóstico al lenguaje de programación (inicialmente fue desarrollado para Python).\n",
    "* Es de fácil instalación y uso."
   ]
  },
  {
   "cell_type": "markdown",
   "metadata": {
    "slideshow": {
     "slide_type": "subslide"
    }
   },
   "source": [
    "### Instalación\n",
    "\n",
    "Toda la documentación se encuentra en este [link](https://conda.io/docs/user-guide/install/index.html), pero en resumen:\n",
    "\n",
    "* Existe Anaconda y Miniconda, ambas contienen conda.\n",
    "    - Anaconda es una distribución que incluye una artillería de *packages* científicos.\n",
    "    - Miniconda es para realizar una instalación mínima de conda sin adicionales (recomendada).\n",
    "* Descarga e instala Miniconda según tu sistena operativo.\n",
    "* __Importante__: En la fase final de la instalación se te preguntará si deseaas agregar Conda a tu PATH, dependiendo de tu sistema operativo:\n",
    "    - En Windows selecciona la opción \"NO\" e inicia desde *Anaconda Prompt*.\n",
    "    - En Linux y macOS acepta e inicia desde tu terminal.\n",
    "* Test: \n",
    "    ```conda --version```"
   ]
  },
  {
   "cell_type": "code",
   "execution_count": 1,
   "metadata": {
    "slideshow": {
     "slide_type": "fragment"
    }
   },
   "outputs": [
    {
     "name": "stdout",
     "output_type": "stream",
     "text": [
      "conda 4.5.11\r\n"
     ]
    }
   ],
   "source": [
    "!conda --version"
   ]
  },
  {
   "cell_type": "markdown",
   "metadata": {
    "slideshow": {
     "slide_type": "subslide"
    }
   },
   "source": [
    "#### Otras alternativas:\n",
    "* ```pip``` + ```virtualenv```, el primero es el gestor favorito de *packages* de Python y el segundo es un gestos de entornos virtuales, el contra es que es exclusivo de Python. \n",
    "    - En Conda también puedes instalar por  ```pip```.\n",
    "* __Dockers__ es una herramienta muy de moda en grandes proyectos debido a ser, en palabras simples, un intermedio entre entornos virtuales y máquinas virtuales."
   ]
  },
  {
   "cell_type": "markdown",
   "metadata": {
    "slideshow": {
     "slide_type": "slide"
    }
   },
   "source": [
    "## Python\n",
    "\n",
    "Las principales librerías científicas a instalar y que ocuparemos durante el curso son:\n",
    "\n",
    "* [Numpy](http://www.numpy.org/): Computación científica.\n",
    "* [Pandas](https://pandas.pydata.org/): Análisis de datos.\n",
    "* [Matplotlib](https://matplotlib.org/): Visualización.\n",
    "* [Altair](https://altair-viz.github.io/): Visualización Declarativa.\n",
    "* [Scikit-Learn](http://scikit-learn.org/stable/): Machine Learning"
   ]
  },
  {
   "cell_type": "markdown",
   "metadata": {
    "slideshow": {
     "slide_type": "slide"
    }
   },
   "source": [
    "## Project Jupyter \n",
    "\n",
    "*[Project Jupyter](https://jupyter.org/index.html) exists to develop open-source software, open-standards, and services for interactive computing across dozens of programming languages.*\n",
    "<img src=\"https://2.bp.blogspot.com/-Q23VBETHLS0/WN_lgpxinkI/AAAAAAAAA-k/f3DJQfBre0QD5rwMWmGIGhBGjU40MTAxQCLcB/s1600/jupyter.png\" alt=\"\" align=\"center\"/>"
   ]
  },
  {
   "cell_type": "markdown",
   "metadata": {
    "slideshow": {
     "slide_type": "subslide"
    }
   },
   "source": [
    "### Jupyter Notebook\n",
    "\n",
    "Es una aplicación web que permite crear y compartir documentos que contienen código, ecuaciones, visualizaciones y texto. Entre sus usos se encuentra:\n",
    "\n",
    "* Limpieza de datos\n",
    "* Transformación de datos\n",
    "* Simulaciones numéricas\n",
    "* Modelamiendo Estadístico\n",
    "* Visualización de Datos\n",
    "* Machine Learning\n",
    "* Mucho más."
   ]
  },
  {
   "cell_type": "markdown",
   "metadata": {
    "slideshow": {
     "slide_type": "subslide"
    }
   },
   "source": [
    "![Jupyter Notebook Example](https://jupyter.org/assets/jupyterpreview.png)"
   ]
  },
  {
   "cell_type": "markdown",
   "metadata": {
    "slideshow": {
     "slide_type": "subslide"
    }
   },
   "source": [
    "#### Dato Curioso\n",
    "\n",
    "Esta presentación está hecha con Jupyter Notebook + [RISE](https://github.com/damianavila/RISE)."
   ]
  },
  {
   "cell_type": "markdown",
   "metadata": {
    "slideshow": {
     "slide_type": "subslide"
    }
   },
   "source": [
    "### Jupyter Lab\n",
    "\n",
    "* Es la siguiente generación de la interfaz de usuario de *Project Jupyter*.\n",
    "* Similar a Jupyter Notebook cuenta con la facilidad de editar archivos .ipynb (notebooks) y heramientas como una terminal, editor de texto, explorador de archivos, etc.\n",
    "* Eventualmente Jupyter Lab reemplazará a Jupyter Notebok (aunque la versión estable fue liberada hace algunos meses).\n",
    "* Cuenta con una serie de extensiones que puedes instalar (y desarrollar inclurisve."
   ]
  },
  {
   "cell_type": "markdown",
   "metadata": {
    "slideshow": {
     "slide_type": "slide"
    }
   },
   "source": [
    "## Git\n",
    "\n",
    "*[__Git__](https://git-scm.com/) is a free and open source distributed version control system designed to handle everything from small to very large projects with speed and efficiency.*"
   ]
  },
  {
   "cell_type": "markdown",
   "metadata": {
    "slideshow": {
     "slide_type": "subslide"
    }
   },
   "source": [
    "### Instalación de Git\n",
    "\n",
    "No es nada del otro mundo, basta con seguir las instrucciones de la página oficial en este [link](https://git-scm.com/book/en/v2/Getting-Started-Installing-Git). "
   ]
  },
  {
   "cell_type": "markdown",
   "metadata": {
    "slideshow": {
     "slide_type": "subslide"
    }
   },
   "source": [
    "### Configuración de Git\n",
    "\n",
    "No es un paso crucial, pero si en el futuro quieres tener tu propio repositorio o contribuir en otros proyectos, debes tener una identidad. \n",
    "\n",
    "Lo primero es configurar git, la [documentación oficial](https://git-scm.com/book/es/v1/Empezando-Configurando-Git-por-primera-vez) incluso está en español. Con configurar tu ```email``` y ```username``` debería bastar en una primera instancia.\n",
    "\n",
    "Lo siguiente es tener una cuenta en la plataforma que utilizarás. Algunas de ellas son:\n",
    "* GitHub\n",
    "* GitLab\n",
    "* Bitbucket"
   ]
  },
  {
   "cell_type": "markdown",
   "metadata": {
    "slideshow": {
     "slide_type": "subslide"
    }
   },
   "source": [
    "### GitHub\n",
    "\n",
    "*[GitHub](https://github.com/) is a development platform inspired by the way you work. From open source to business, you can host and review code, manage projects, and build software alongside 30 million developers.*\n",
    "\n",
    "Es decir, es una plataforma para alojar proyectos que utilizan Git como sistema de control."
   ]
  },
  {
   "cell_type": "markdown",
   "metadata": {
    "slideshow": {
     "slide_type": "subslide"
    }
   },
   "source": [
    "### Material del curso\n",
    "\n",
    "El material del curso estará alojado en el siguiente repositorio:\n",
    "\n",
    "https://github.com/sebastiandres/mat281_2018S2"
   ]
  },
  {
   "cell_type": "markdown",
   "metadata": {
    "slideshow": {
     "slide_type": "slide"
    }
   },
   "source": [
    "## Manos a la obra\n",
    "\n",
    "1. Instalar [__git__](https://git-scm.com/).\n",
    "\n",
    "\n",
    "2. En la terminal (de git si es el caso) moverte hasta donde quieras guardar el material del curso. En lo personal me gusta crear una carpeta llamada __git__ en __Documents__. Los pasos serían:\n",
    "    * Abrir terminal\n",
    "    * ```cd Documents```\n",
    "    * ```mkdir git``` \n",
    "    \n",
    "\n",
    "3. Clonar el repositorio del curso, ejecutando la siguiente línea de comando en la ruta deseada (en mi caso *~/Documents/git*): \n",
    "\n",
    "    ```git clone git@github.com:sebastiandres/mat281_2018S2.git``` "
   ]
  },
  {
   "cell_type": "markdown",
   "metadata": {
    "slideshow": {
     "slide_type": "subslide"
    }
   },
   "source": [
    "4. ```cd mat281_2018S2/01_introduccion``` (__tip__: Puedes usar ```TAB``` para autocompletar).\n",
    "\n",
    "\n",
    "5. En la terminal (Anaconda Prompt si estás utilizando Windows) crear un entorno virtual de conda a partir de un archivo de requisitos (llamado *mat281_modulo1*), ejecutando la siguiente línea de comando:\n",
    "\n",
    "    ```conda env create -f mat281_modulo1.yml```\n",
    "\n",
    "\n",
    "6. Activar el entorno: \n",
    "    - Linux/macOS: ```source activate mat281_modulo1```\n",
    "    - Windows: ```activate mat281_modulo1```"
   ]
  },
  {
   "cell_type": "markdown",
   "metadata": {
    "slideshow": {
     "slide_type": "subslide"
    }
   },
   "source": [
    "7. Ejecutar:\n",
    "    - ```jupyter lab```, o\n",
    "    - ```jupyter notebook```\n",
    "8. Si no se abre atuomáticamente una nueva pestaña en tu navegador, copiar el link del token que se muestra en la terminal en tu navegador."
   ]
  },
  {
   "cell_type": "markdown",
   "metadata": {
    "slideshow": {
     "slide_type": "subslide"
    }
   },
   "source": [
    "![Ejemplo terminal jupyter lab](http://i.imgur.com/w3tb35S.png)"
   ]
  }
 ],
 "metadata": {
  "celltoolbar": "Slideshow",
  "kernelspec": {
   "display_name": "Python 3",
   "language": "python",
   "name": "python3"
  },
  "language_info": {
   "codemirror_mode": {
    "name": "ipython",
    "version": 3
   },
   "file_extension": ".py",
   "mimetype": "text/x-python",
   "name": "python",
   "nbconvert_exporter": "python",
   "pygments_lexer": "ipython3",
   "version": "3.6.6"
  }
 },
 "nbformat": 4,
 "nbformat_minor": 2
}
