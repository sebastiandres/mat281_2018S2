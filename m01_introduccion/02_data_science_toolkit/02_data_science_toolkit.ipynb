{
 "cells": [
  {
   "cell_type": "code",
   "execution_count": null,
   "metadata": {
    "slideshow": {
     "slide_type": "skip"
    }
   },
   "outputs": [],
   "source": [
    "# Configuracion para recargar módulos y librerías \n",
    "%reload_ext autoreload\n",
    "%autoreload 2"
   ]
  },
  {
   "cell_type": "markdown",
   "metadata": {
    "slideshow": {
     "slide_type": "slide"
    }
   },
   "source": [
    "# MAT281\n",
    "\n",
    "## Aplicaciones de la Matemática en la Ingeniería\n",
    "\n",
    "Puedes ejecutar este jupyter notebook de manera interactiva:\n",
    "\n",
    "[![Binder](../shared/images/jupyter_binder.png)](https://mybinder.org/v2/gh/sebastiandres/mat281_m01_introduccion/master?filepath=00_template/00_template.ipynb)\n",
    "\n",
    "[![Colab](../shared/images/jupyter_colab.png)](https://colab.research.google.com/github/sebastiandres/mat281_m01_introduccion/blob/master//00_template/00_template.ipynb)"
   ]
  },
  {
   "cell_type": "markdown",
   "metadata": {
    "slideshow": {
     "slide_type": "slide"
    }
   },
   "source": [
    "# Módulo 1: Data Science Toolkit "
   ]
  },
  {
   "cell_type": "markdown",
   "metadata": {
    "slideshow": {
     "slide_type": "subslide"
    }
   },
   "source": [
    "## ¿Qué contenidos aprenderemos?\n",
    "\n",
    "* [Sistema Operativo](#so)\n",
    "* [Interfaz de Línea de Comandos](#cli)\n",
    "* [Entorno Virtual](#venv)\n",
    "* [Python](#python)\n",
    "* [Project Jupyter](#jupyter)\n",
    "* [Git](#git)"
   ]
  },
  {
   "cell_type": "markdown",
   "metadata": {
    "slideshow": {
     "slide_type": "slide"
    }
   },
   "source": [
    "## Objetivos de la clase\n",
    "\n",
    "* Instalación y uso de herramientas computacionales.\n",
    "* Utilizar Jupyter Notebook/Lab.\n",
    "* Recordar Python"
   ]
  },
  {
   "cell_type": "markdown",
   "metadata": {
    "slideshow": {
     "slide_type": "slide"
    }
   },
   "source": [
    "<a id='so'></a>\n",
    "## Sistema Operativo\n",
    "\n",
    "* Personalmente recomiendo **Linux**, en particular distribuciones como Ubuntu, Mint o Fedora por su facilidad a la hora de instalar.\n",
    "* En ocasiones las implementaciones en **Windows** no están completamente integradas e inclusive en ocasiones no están disponibles.\n",
    "    - Una alternativa es [**Windows Subsystem for Linux**](https://docs.microsoft.com/en-us/windows/wsl/about), pero lamentablemente no se asegura un 100% de compatibilidad.\n",
    "* En el caso que poseas un equipo con **macOS** no debería haber problema."
   ]
  },
  {
   "cell_type": "markdown",
   "metadata": {
    "slideshow": {
     "slide_type": "slide"
    }
   },
   "source": [
    "<a id='cli'></a>\n",
    "## Interfaz de Línea de Comandos (*Command Line Interface* / CLI)\n",
    "\n",
    "* Es un método que permite a los usuarios interactuar con algún programa informático por medio de líneas de texto.\n",
    "* Típicamente se hace uso de una terminal/*shell* (ver imagen).\n",
    "* En el día a día dentro de la oficina facilita flujo de trabajo.\n",
    "* Permite moverse entre manipular directorios y ficheros, instalar/actualizar herramientas, aplicaciones, softwares, etc."
   ]
  },
  {
   "cell_type": "markdown",
   "metadata": {
    "slideshow": {
     "slide_type": "-"
    }
   },
   "source": [
    "<img src=\"https://upload.wikimedia.org/wikipedia/commons/2/29/Linux_command-line._Bash._GNOME_Terminal._screenshot.png\" alt=\"\" align=\"center\"/>\n",
    "\n",
    "*Screenshot of a sample bash session in GNOME Terminal 3, Fedora 15. [Wikipedia](https://en.wikipedia.org/wiki/Command-line_interface)* "
   ]
  },
  {
   "cell_type": "markdown",
   "metadata": {
    "slideshow": {
     "slide_type": "slide"
    }
   },
   "source": [
    "<a id='venv'></a>\n",
    "## Entorno Virtual\n",
    "\n",
    "__Problemas recurrentes:__\n",
    "- Dependencias de librerías (*packages*) incompatibles.\n",
    "- Dificultad a la hora de compartir y reproducir resultados, e.g. no conocer las versiones de las librerías instaladas.\n",
    "- Tener una máquina virtual para cada desarrollo es tedioso y costoso.\n",
    "- Miedo constante a instalar algo nuevo y tu script vuelva a funcionar."
   ]
  },
  {
   "cell_type": "markdown",
   "metadata": {
    "slideshow": {
     "slide_type": "subslide"
    }
   },
   "source": [
    "#### Solución \n",
    "\n",
    "Aislar el desarrollo con tal de mejorar la compatibilidad y reproducibilidad de resultados. "
   ]
  },
  {
   "cell_type": "markdown",
   "metadata": {
    "slideshow": {
     "slide_type": "subslide"
    }
   },
   "source": [
    "####  ¿Cómo? \n",
    "\n",
    "Utilizando entornos virtuales."
   ]
  },
  {
   "cell_type": "markdown",
   "metadata": {
    "slideshow": {
     "slide_type": "subslide"
    }
   },
   "source": [
    "####  Para el curso (es recomendable)\n",
    "\n",
    "![Conda](https://conda.io/docs/_images/conda_logo.svg)\n",
    "\n",
    "*Package, dependency and environment management for any language—Python, R, Ruby, Lua, Scala, Java, JavaScript, C/ C++, FORTRAN.* [(Link)](https://conda.io/docs/)\n"
   ]
  },
  {
   "cell_type": "markdown",
   "metadata": {
    "slideshow": {
     "slide_type": "subslide"
    }
   },
   "source": [
    "#### ¿Por qué Conda?\n",
    "\n",
    "* Open Source\n",
    "* Gestor de librerías __y__ entornos virtuales. \n",
    "* Compatible con Linux, Windows y macOS.\n",
    "* Es agnóstico al lenguaje de programación (inicialmente fue desarrollado para Python).\n",
    "* Es de fácil instalación y uso."
   ]
  },
  {
   "cell_type": "markdown",
   "metadata": {
    "slideshow": {
     "slide_type": "subslide"
    }
   },
   "source": [
    "### Instalación\n",
    "\n",
    "Toda la documentación se encuentra en este [link](https://conda.io/docs/user-guide/install/index.html), pero en resumen:\n",
    "\n",
    "* Existe Anaconda y Miniconda, ambas contienen conda.\n",
    "    - Anaconda es una distribución que incluye una artillería de librerías científicas.\n",
    "    - Miniconda es para realizar una instalación mínima de conda sin adicionales (recomendada).\n",
    "* Descarga e instala **Miniconda3** (Python3) según tu sistena operativo.\n",
    "* __Importante__: En la fase final de la instalación se te preguntará si deseaas agregar Conda a tu PATH, dependiendo de tu sistema operativo:\n",
    "    - En Windows selecciona la opción \"NO\" e inicia desde *Anaconda Prompt*.\n",
    "    - En Linux y macOS acepta e inicia desde tu terminal.\n",
    "* Test: \n",
    "    ```conda --version```"
   ]
  },
  {
   "cell_type": "code",
   "execution_count": null,
   "metadata": {
    "scrolled": true,
    "slideshow": {
     "slide_type": "fragment"
    }
   },
   "outputs": [],
   "source": [
    "!conda --version"
   ]
  },
  {
   "cell_type": "markdown",
   "metadata": {
    "slideshow": {
     "slide_type": "subslide"
    }
   },
   "source": [
    "#### Otras alternativas:\n",
    "* ```pip``` + ```virtualenv```, el primero es el gestor favorito de librerías de Python y el segundo es un gestos de entornos virtuales, el contra es que es exclusivo de Python. \n",
    "    - Ojo! En Conda también puedes instalar por  ```pip```.\n",
    "* __Dockers__ es una herramienta muy de moda en grandes proyectos debido a ser, en palabras simples, un intermedio entre entornos virtuales y máquinas virtuales."
   ]
  },
  {
   "cell_type": "markdown",
   "metadata": {
    "slideshow": {
     "slide_type": "slide"
    }
   },
   "source": [
    "<a id='python'></a>\n",
    "## Python\n",
    "\n",
    "Las principales librerías científicas a instalar y que ocuparemos durante el curso son:\n",
    "\n",
    "* [Numpy](http://www.numpy.org/): Computación científica.\n",
    "* [Pandas](https://pandas.pydata.org/): Análisis de datos.\n",
    "* [Matplotlib](https://matplotlib.org/): Visualización.\n",
    "* [Altair](https://altair-viz.github.io/): Visualización Declarativa.\n",
    "* [Scikit-Learn](http://scikit-learn.org/stable/): Machine Learning"
   ]
  },
  {
   "cell_type": "markdown",
   "metadata": {
    "slideshow": {
     "slide_type": "slide"
    }
   },
   "source": [
    "<a id='juptyer'></a>\n",
    "## Project Jupyter \n",
    "\n",
    "*[Project Jupyter](https://jupyter.org/index.html) exists to develop open-source software, open-standards, and services for interactive computing across dozens of programming languages.*\n",
    "<img src=\"https://2.bp.blogspot.com/-Q23VBETHLS0/WN_lgpxinkI/AAAAAAAAA-k/f3DJQfBre0QD5rwMWmGIGhBGjU40MTAxQCLcB/s1600/jupyter.png\" alt=\"\" align=\"center\"/>"
   ]
  },
  {
   "cell_type": "markdown",
   "metadata": {
    "slideshow": {
     "slide_type": "subslide"
    }
   },
   "source": [
    "### Jupyter Notebook\n",
    "\n",
    "Es una aplicación web que permite crear y compartir documentos que contienen código, ecuaciones, visualizaciones y texto. Entre sus usos se encuentra:\n",
    "\n",
    "* Limpieza de datos\n",
    "* Transformación de datos\n",
    "* Simulaciones numéricas\n",
    "* Modelamiendo Estadístico\n",
    "* Visualización de Datos\n",
    "* Machine Learning\n",
    "* Mucho más."
   ]
  },
  {
   "cell_type": "markdown",
   "metadata": {
    "slideshow": {
     "slide_type": "subslide"
    }
   },
   "source": [
    "![Jupyter Notebook Example](https://jupyter.org/assets/jupyterpreview.png)"
   ]
  },
  {
   "cell_type": "markdown",
   "metadata": {
    "slideshow": {
     "slide_type": "subslide"
    }
   },
   "source": [
    "#### Dato Curioso\n",
    "\n",
    "Esta presentación está hecha con Jupyter Notebook + [RISE](https://github.com/damianavila/RISE)."
   ]
  },
  {
   "cell_type": "markdown",
   "metadata": {
    "slideshow": {
     "slide_type": "subslide"
    }
   },
   "source": [
    "### Jupyter Lab\n",
    "\n",
    "* Es la siguiente generación de la interfaz de usuario de *Project Jupyter*.\n",
    "* Similar a Jupyter Notebook cuenta con la facilidad de editar archivos .ipynb (notebooks) y heramientas como una terminal, editor de texto, explorador de archivos, etc.\n",
    "* Eventualmente Jupyter Lab reemplazará a Jupyter Notebok (aunque la versión estable fue liberada hace algunos meses).\n",
    "* Cuenta con una serie de extensiones que puedes instalar (y desarrollar inclurisve."
   ]
  },
  {
   "cell_type": "markdown",
   "metadata": {
    "slideshow": {
     "slide_type": "slide"
    }
   },
   "source": [
    "<a id='git'></a>\n",
    "## Git\n",
    "\n",
    "*[__Git__](https://git-scm.com/) is a free and open source distributed version control system designed to handle everything from small to very large projects with speed and efficiency.*"
   ]
  },
  {
   "cell_type": "markdown",
   "metadata": {
    "slideshow": {
     "slide_type": "subslide"
    }
   },
   "source": [
    "### Instalación de Git\n",
    "\n",
    "No es nada del otro mundo, basta con seguir las instrucciones de la página oficial en este [link](https://git-scm.com/book/en/v2/Getting-Started-Installing-Git). "
   ]
  },
  {
   "cell_type": "markdown",
   "metadata": {
    "slideshow": {
     "slide_type": "subslide"
    }
   },
   "source": [
    "### Configuración de Git\n",
    "\n",
    "No es un paso crucial, pero si en el futuro quieres tener tu propio repositorio o contribuir en otros proyectos, debes tener una identidad. \n",
    "\n",
    "Lo primero es configurar git, la [documentación oficial](https://git-scm.com/book/es/v1/Empezando-Configurando-Git-por-primera-vez) incluso está en español. Con configurar tu ```email``` y ```username``` debería bastar en una primera instancia.\n",
    "\n",
    "Lo siguiente es tener una cuenta en la plataforma que utilizarás. Algunas de ellas son:\n",
    "* GitHub\n",
    "* GitLab\n",
    "* Bitbucket"
   ]
  },
  {
   "cell_type": "markdown",
   "metadata": {
    "slideshow": {
     "slide_type": "subslide"
    }
   },
   "source": [
    "### GitHub\n",
    "\n",
    "*[GitHub](https://github.com/) is a development platform inspired by the way you work. From open source to business, you can host and review code, manage projects, and build software alongside 30 million developers.*\n",
    "\n",
    "Es decir, es una plataforma para alojar proyectos que utilizan Git como sistema de control."
   ]
  },
  {
   "cell_type": "markdown",
   "metadata": {
    "slideshow": {
     "slide_type": "subslide"
    }
   },
   "source": [
    "### Material del curso\n",
    "\n",
    "El material del curso estará alojado en el siguiente repositorio:\n",
    "\n",
    "https://github.com/sebastiandres/mat281_2018S2"
   ]
  },
  {
   "cell_type": "markdown",
   "metadata": {
    "slideshow": {
     "slide_type": "slide"
    }
   },
   "source": [
    "## Manos a la obra\n",
    "\n",
    "1. Instalar [__git__](https://git-scm.com/).\n",
    "\n",
    "\n",
    "2. En la terminal (de git si es el caso) moverte hasta donde quieras guardar el material del curso. En lo personal me gusta crear una carpeta llamada __git__ en __Documents__. Los pasos serían:\n",
    "    * Abrir terminal\n",
    "    * ```cd Documents```\n",
    "    * ```mkdir git``` \n",
    "    \n",
    "\n",
    "3. Clonar el repositorio del curso, ejecutando la siguiente línea de comando en la ruta deseada (en mi caso *~/Documents/git*): \n",
    "\n",
    "    ```git clone git@github.com:sebastiandres/mat281_m01_introduccion.git``` "
   ]
  },
  {
   "cell_type": "markdown",
   "metadata": {
    "slideshow": {
     "slide_type": "subslide"
    }
   },
   "source": [
    "4. ```cd mat281_m01_introduccion``` (__tip__: Puedes usar ```TAB``` para autocompletar).\n",
    "\n",
    "\n",
    "5. En la terminal (Anaconda Prompt si estás utilizando Windows) crear un entorno virtual de conda a partir de un archivo de requisitos (llamado *mat281_modulo1*), ejecutando la siguiente línea de comando:\n",
    "\n",
    "    ```conda env create -f environment.yml```\n",
    "\n",
    "\n",
    "6. Activar el entorno: \n",
    "    - Linux/macOS: ```source activate mat281_modulo1```\n",
    "    - Windows: ```activate mat281_modulo1```"
   ]
  },
  {
   "cell_type": "markdown",
   "metadata": {
    "slideshow": {
     "slide_type": "subslide"
    }
   },
   "source": [
    "7. Ejecutar:\n",
    "    - ```jupyter lab```, o\n",
    "    - ```jupyter notebook```\n",
    "8. Si no se abre atuomáticamente una nueva pestaña en tu navegador, copiar el link del token que se muestra en la terminal en tu navegador.\n",
    "9. Abrir el notebook ```02_data_science_toolkit.ipynb``` ubicado en el directorio 02_data_science_toolkit."
   ]
  },
  {
   "cell_type": "markdown",
   "metadata": {
    "slideshow": {
     "slide_type": "subslide"
    }
   },
   "source": [
    "![Ejemplo terminal jupyter lab](http://i.imgur.com/w3tb35S.png)"
   ]
  },
  {
   "cell_type": "markdown",
   "metadata": {
    "slideshow": {
     "slide_type": "slide"
    }
   },
   "source": [
    "## Recordando Python"
   ]
  },
  {
   "cell_type": "markdown",
   "metadata": {
    "slideshow": {
     "slide_type": "subslide"
    }
   },
   "source": [
    "* Números y operaciones\n",
    "* Listas, tuplas, conjuntos y diccionarios.\n",
    "* Control flow\n",
    "* Importar librerías"
   ]
  },
  {
   "cell_type": "markdown",
   "metadata": {
    "slideshow": {
     "slide_type": "slide"
    }
   },
   "source": [
    "### Hola Mundo!"
   ]
  },
  {
   "cell_type": "code",
   "execution_count": null,
   "metadata": {},
   "outputs": [],
   "source": [
    "print('Hello World!')"
   ]
  },
  {
   "cell_type": "code",
   "execution_count": null,
   "metadata": {},
   "outputs": [],
   "source": [
    "name = 'John Titor'\n",
    "print(\"Hola {}!\".format(name))"
   ]
  },
  {
   "cell_type": "markdown",
   "metadata": {
    "slideshow": {
     "slide_type": "slide"
    }
   },
   "source": [
    "## Números y operaciones"
   ]
  },
  {
   "cell_type": "code",
   "execution_count": null,
   "metadata": {},
   "outputs": [],
   "source": [
    "1 + 2"
   ]
  },
  {
   "cell_type": "code",
   "execution_count": null,
   "metadata": {},
   "outputs": [],
   "source": [
    "100 - 99"
   ]
  },
  {
   "cell_type": "code",
   "execution_count": null,
   "metadata": {},
   "outputs": [],
   "source": [
    "3 * 4"
   ]
  },
  {
   "cell_type": "code",
   "execution_count": null,
   "metadata": {},
   "outputs": [],
   "source": [
    "42 / 4  # En python 2 la división por defecto es entera"
   ]
  },
  {
   "cell_type": "code",
   "execution_count": null,
   "metadata": {},
   "outputs": [],
   "source": [
    "43 // 4"
   ]
  },
  {
   "cell_type": "code",
   "execution_count": null,
   "metadata": {},
   "outputs": [],
   "source": [
    "14 % 4"
   ]
  },
  {
   "cell_type": "markdown",
   "metadata": {
    "slideshow": {
     "slide_type": "slide"
    }
   },
   "source": [
    "## Listas, tuplas, conjuntos y diccionarios"
   ]
  },
  {
   "cell_type": "code",
   "execution_count": null,
   "metadata": {},
   "outputs": [],
   "source": [
    "# Listas\n",
    "my_list = [1, 2, 3, 4, 5]\n",
    "print(my_list[0])"
   ]
  },
  {
   "cell_type": "code",
   "execution_count": null,
   "metadata": {},
   "outputs": [],
   "source": [
    "# Tuplas\n",
    "my_tuple = (1, 2, 3, 4, 5)\n",
    "print(my_tuple[4])"
   ]
  },
  {
   "cell_type": "code",
   "execution_count": null,
   "metadata": {
    "slideshow": {
     "slide_type": "subslide"
    }
   },
   "outputs": [],
   "source": [
    "# Las listas pueden ser modificadas\n",
    "my_list.append(100)  \n",
    "print(my_list)"
   ]
  },
  {
   "cell_type": "code",
   "execution_count": null,
   "metadata": {},
   "outputs": [],
   "source": [
    "# Las tuplas son objetos inmutables!\n",
    "my_tuple.append(50)"
   ]
  },
  {
   "cell_type": "code",
   "execution_count": null,
   "metadata": {
    "slideshow": {
     "slide_type": "subslide"
    }
   },
   "outputs": [],
   "source": [
    "# Accediendo a valores\n",
    "print(my_list[0])\n",
    "print(my_list[-1])\n",
    "print(my_list[0:2])\n",
    "print(my_list[3:5])\n",
    "print(my_list[::2])\n",
    "print(my_list[:-2])"
   ]
  },
  {
   "cell_type": "code",
   "execution_count": null,
   "metadata": {
    "slideshow": {
     "slide_type": "subslide"
    }
   },
   "outputs": [],
   "source": [
    "# Conjuntos\n",
    "my_set = {1, 1, 1, 2, 2, 3}\n",
    "print(my_set)"
   ]
  },
  {
   "cell_type": "code",
   "execution_count": null,
   "metadata": {},
   "outputs": [],
   "source": [
    "# Diccionarios\n",
    "my_dict = {\n",
    "    'llave': 'corazón',\n",
    "    'sonrisa': 'corazones'\n",
    "}\n",
    "print(my_dict['sonrisa'])"
   ]
  },
  {
   "cell_type": "markdown",
   "metadata": {
    "slideshow": {
     "slide_type": "slide"
    }
   },
   "source": [
    "## Control Flow"
   ]
  },
  {
   "cell_type": "code",
   "execution_count": null,
   "metadata": {},
   "outputs": [],
   "source": [
    "# Condicionales If, Elif, Else\n",
    "x = 7\n",
    "cota_inferior = 5\n",
    "cota_superior = 10\n",
    "if x < cota_inferior:\n",
    "    print('{} es menor que {}'.format(x, cota_inferior))\n",
    "elif x < cota_superior:\n",
    "    print('{} es mayor igual que {} y menor que {}'.format(x, cota_inferior, cota_superior))\n",
    "else:\n",
    "    print('{} es mayor igual que {}'.format(x, cota_superior))"
   ]
  },
  {
   "cell_type": "code",
   "execution_count": null,
   "metadata": {
    "slideshow": {
     "slide_type": "subslide"
    }
   },
   "outputs": [],
   "source": [
    "# Cilo While\n",
    "i = 0\n",
    "while i < 10:\n",
    "    print(i)\n",
    "    i += 1"
   ]
  },
  {
   "cell_type": "code",
   "execution_count": null,
   "metadata": {
    "slideshow": {
     "slide_type": "subslide"
    }
   },
   "outputs": [],
   "source": [
    "# Ciclo For\n",
    "for i in range(1, 10, 2):\n",
    "    if i < 5:\n",
    "        print('{} es menor que 5'.format(i))\n",
    "    else:\n",
    "        print('{} es mayor igual que 5'.format(i))"
   ]
  },
  {
   "cell_type": "markdown",
   "metadata": {
    "slideshow": {
     "slide_type": "subslide"
    }
   },
   "source": [
    "### Range no es una lista!"
   ]
  },
  {
   "cell_type": "code",
   "execution_count": null,
   "metadata": {
    "slideshow": {
     "slide_type": "-"
    }
   },
   "outputs": [],
   "source": [
    "my_range = range(1, 10, 2)\n",
    "type(my_range)"
   ]
  },
  {
   "cell_type": "code",
   "execution_count": null,
   "metadata": {},
   "outputs": [],
   "source": [
    "range?"
   ]
  },
  {
   "cell_type": "code",
   "execution_count": null,
   "metadata": {},
   "outputs": [],
   "source": [
    "# Presione TAB en el punto de la lína\n",
    "my_range."
   ]
  },
  {
   "cell_type": "code",
   "execution_count": null,
   "metadata": {},
   "outputs": [],
   "source": [
    "my_range.start"
   ]
  },
  {
   "cell_type": "code",
   "execution_count": null,
   "metadata": {},
   "outputs": [],
   "source": [
    "my_range.stop"
   ]
  },
  {
   "cell_type": "code",
   "execution_count": null,
   "metadata": {},
   "outputs": [],
   "source": [
    "my_range.step"
   ]
  },
  {
   "cell_type": "markdown",
   "metadata": {
    "slideshow": {
     "slide_type": "slide"
    }
   },
   "source": [
    "## Librerías"
   ]
  },
  {
   "cell_type": "code",
   "execution_count": null,
   "metadata": {},
   "outputs": [],
   "source": [
    "import testFunction as tf"
   ]
  },
  {
   "cell_type": "code",
   "execution_count": null,
   "metadata": {},
   "outputs": [],
   "source": [
    "# En Jupyter podemos ver el código de fuente inclusive\n",
    "tf.testFunction??"
   ]
  },
  {
   "cell_type": "code",
   "execution_count": null,
   "metadata": {},
   "outputs": [],
   "source": [
    "tf.testFunction(10, 2.5)"
   ]
  },
  {
   "cell_type": "code",
   "execution_count": null,
   "metadata": {},
   "outputs": [],
   "source": [
    "# La librería math no está cargada!\n",
    "math.floor(2.5)"
   ]
  },
  {
   "cell_type": "markdown",
   "metadata": {
    "slideshow": {
     "slide_type": "slide"
    }
   },
   "source": [
    "### Pro-Tip\n",
    "\n",
    "Jupyter está basado en ```IPython```, por lo que puedes hacer uso de los comandos mágicos."
   ]
  },
  {
   "cell_type": "code",
   "execution_count": null,
   "metadata": {},
   "outputs": [],
   "source": [
    "# Un poco de documentación\n",
    "%magic"
   ]
  },
  {
   "cell_type": "code",
   "execution_count": null,
   "metadata": {},
   "outputs": [],
   "source": [
    "%lsmagic"
   ]
  },
  {
   "cell_type": "code",
   "execution_count": null,
   "metadata": {},
   "outputs": [],
   "source": [
    "%pwd"
   ]
  },
  {
   "cell_type": "code",
   "execution_count": null,
   "metadata": {},
   "outputs": [],
   "source": [
    "%%lsmagic"
   ]
  },
  {
   "cell_type": "markdown",
   "metadata": {
    "slideshow": {
     "slide_type": "subslide"
    }
   },
   "source": [
    "Existen comando mágicos de línea (```%```)y de celda completa (```%%```)"
   ]
  },
  {
   "cell_type": "code",
   "execution_count": null,
   "metadata": {},
   "outputs": [],
   "source": [
    "%timeit comprehension_list = [i*2 for i in range(1000)]"
   ]
  },
  {
   "cell_type": "code",
   "execution_count": null,
   "metadata": {},
   "outputs": [],
   "source": [
    "%%timeit\n",
    "\n",
    "no_comprehension_list = []\n",
    "for i in range(1000):\n",
    "    no_comprehension_list.append(i * 2)"
   ]
  },
  {
   "cell_type": "markdown",
   "metadata": {
    "slideshow": {
     "slide_type": "slide"
    }
   },
   "source": [
    "## Evaluación del laboratorio\n",
    "\n",
    "#### Preparativos\n",
    "\n",
    "* Crea un archivo en la misma carpeta de este notebook llamado ```labFunctions.py``` (tip: Puedes hacerlo desde Jupyter Notebook/Lab!).\n",
    "* Se presentan a continuación tres ejercicios, para cada uno debes definir una función con el nombre y argumentos que se solicite.\n",
    "* La evaluación consiste en que esas funciones se deben cargar a este notebook como una librería y se probarán con los datos entregados."
   ]
  },
  {
   "cell_type": "markdown",
   "metadata": {
    "slideshow": {
     "slide_type": "subslide"
    }
   },
   "source": [
    "#### Se evaluará:\n",
    "\n",
    "1. El código\n",
    "2. Que la solución coincida con el ```assert```.\n",
    "3. Que se ejecute el jupyter notebook."
   ]
  },
  {
   "cell_type": "markdown",
   "metadata": {
    "slideshow": {
     "slide_type": "slide"
    }
   },
   "source": [
    "### Ejercicio #1\n",
    "\n",
    "* Definir la función llamada ```tribonacci``` con un argumento ```n``` tal que:\n",
    "    - Para n = 1, 2 o 3 retorne el valor 1.\n",
    "    - Para n >= 4 retorne la suma de los últimos tres valores de la sucesión.\n",
    "    \n",
    "Recuerda, para definir una función:\n",
    "\n",
    "```python\n",
    "def tribonacci(n):\n",
    "    # Tu código va aquí\n",
    "    value = ...\n",
    "    return value\n",
    "```"
   ]
  },
  {
   "cell_type": "code",
   "execution_count": null,
   "metadata": {
    "slideshow": {
     "slide_type": "subslide"
    }
   },
   "outputs": [],
   "source": [
    "from labFunctions import tribonacci\n",
    "n = 20\n",
    "assert tribonacci(n) == 46499, 'Nope! Revisa cuidadosamente tu función'\n",
    "print('Correcto!. El {0}-ésimo término de la serie es {1}.'.format(n, tribonacci(n)))"
   ]
  },
  {
   "cell_type": "markdown",
   "metadata": {
    "slideshow": {
     "slide_type": "subslide"
    }
   },
   "source": [
    "__OJO__: Engañar al ```assert``` es fácil. Podrías crear la siguiente función:"
   ]
  },
  {
   "cell_type": "code",
   "execution_count": 1,
   "metadata": {},
   "outputs": [
    {
     "name": "stdout",
     "output_type": "stream",
     "text": [
      "Correcto!. El 20-ésimo término de la serie es 46499.\n"
     ]
    }
   ],
   "source": [
    "def tribonacci(n):\n",
    "    if n == 20:\n",
    "        return 46499\n",
    "    else:\n",
    "        return None\n",
    "n = 20\n",
    "assert tribonacci(n) == 46499, 'Nope! Revisa cuidadosamente tu función'\n",
    "print('Correcto!. El {0}-ésimo término de la serie es {1}.'.format(n, tribonacci(n)))"
   ]
  },
  {
   "cell_type": "markdown",
   "metadata": {
    "slideshow": {
     "slide_type": "fragment"
    }
   },
   "source": [
    "__Consejo:__ No lo hagas..."
   ]
  },
  {
   "cell_type": "markdown",
   "metadata": {
    "slideshow": {
     "slide_type": "slide"
    }
   },
   "source": [
    "### Ejercicio #2\n",
    "\n",
    "Primero, ejecuta la siguiente celda con tal de crear el diccionario ```nba_players``` que contiene información de los jugadores de la NBA en los últimos años de la siguiente manera:\n",
    "\n",
    "- Las *keys* corresponden al nombre del jugador.\n",
    "- Los *values* corresponden a listas en el siguiente formato:\n",
    "    1. Año de inicio\n",
    "    2. Año de fin\n",
    "    3. Posición\n",
    "    4. Altura (pies - pulgadas)\n",
    "    5. Peso (libras)\n",
    "    6. Día de nacimiento\n",
    "    7. Universidad\n"
   ]
  },
  {
   "cell_type": "code",
   "execution_count": null,
   "metadata": {
    "slideshow": {
     "slide_type": "subslide"
    }
   },
   "outputs": [],
   "source": [
    "import os\n",
    "import pickle\n",
    "\n",
    "with open(os.path.join('data', 'nba_player_data.pkl'), 'rb') as input_file:\n",
    "    nba_player_data = pickle.load(input_file)"
   ]
  },
  {
   "cell_type": "code",
   "execution_count": null,
   "metadata": {
    "slideshow": {
     "slide_type": "subslide"
    }
   },
   "outputs": [],
   "source": [
    "# Recordatorio! Los diccionarios son elementos iterables\n",
    "\n",
    "for key, value in nba_player_data.items():\n",
    "    print('El jugador {} tiene las siguientes estadísticas'.format(key))\n",
    "    print('\\t {}'.format(value))\n",
    "    print('\\n')"
   ]
  },
  {
   "cell_type": "markdown",
   "metadata": {
    "slideshow": {
     "slide_type": "subslide"
    }
   },
   "source": [
    "### Ejercicio #2\n",
    "\n",
    "Define la función ```tallest_player(nba_player_data)``` tal que el argumento sea el diccionario anteriormente definido y retorne un objeto ```list``` con el/los jugadores más altos de la NBA."
   ]
  },
  {
   "cell_type": "markdown",
   "metadata": {
    "slideshow": {
     "slide_type": "slide"
    }
   },
   "source": [
    "#### Tip 1\n",
    "Las listas poseen el método ```append```"
   ]
  },
  {
   "cell_type": "code",
   "execution_count": null,
   "metadata": {},
   "outputs": [],
   "source": [
    "list.append?"
   ]
  },
  {
   "cell_type": "code",
   "execution_count": null,
   "metadata": {
    "slideshow": {
     "slide_type": "fragment"
    }
   },
   "outputs": [],
   "source": [
    "def onlyEvenNumbers(x):\n",
    "    \"\"\"Retorna los números pares de la lista x\"\"\"\n",
    "    aux_list = []\n",
    "    if isinstance(x, range) or isinstance(x, list):\n",
    "        for i in x:\n",
    "            if i % 2 == 0:\n",
    "                aux_list.append(i)\n",
    "        return aux_list\n",
    "    else:\n",
    "        print('El argumento debe ser una objeto list o range')\n",
    "        return\n",
    "\n",
    "print(onlyEvenNumbers(range(10)))\n",
    "print('-------------------------')\n",
    "print(onlyEvenNumbers({'key1': 1}))"
   ]
  },
  {
   "cell_type": "markdown",
   "metadata": {
    "slideshow": {
     "slide_type": "subslide"
    }
   },
   "source": [
    "#### Tip 2\n",
    "Las objetos ```str``` (_string_) los puedes cortar con ```split```."
   ]
  },
  {
   "cell_type": "code",
   "execution_count": null,
   "metadata": {},
   "outputs": [],
   "source": [
    "str.split?"
   ]
  },
  {
   "cell_type": "code",
   "execution_count": null,
   "metadata": {},
   "outputs": [],
   "source": [
    "pies, pulgadas = '10-1'.split('-')\n",
    "print(pies)\n",
    "print(type(pies))\n",
    "print(int(pies))\n",
    "print(type(int(pies)))"
   ]
  },
  {
   "cell_type": "code",
   "execution_count": null,
   "metadata": {
    "slideshow": {
     "slide_type": "subslide"
    }
   },
   "outputs": [],
   "source": [
    "from labFunctions import tallest_player\n",
    "assert tallest_player(nba_player_data) == ['Manute Bol', 'Gheorghe Muresan'], 'Nope! Revisa cuidadosamente tu función'\n",
    "print('Correcto!. Los jugadores más altos de la NBA son:\\n')\n",
    "print(*tallest_player(nba_player_data), sep='\\n')"
   ]
  },
  {
   "cell_type": "markdown",
   "metadata": {
    "slideshow": {
     "slide_type": "slide"
    }
   },
   "source": [
    "### Ejercicio #3\n",
    "\n",
    "Define la función ```more_time_position_player(nba_player_data, position)``` tal que el primer argumento sea el diccionario con los datos cargados, el segundo argumento la posición con tal que retorne una lista de el/los jugadores que estuvieron la mayor cantidad de años en la NBA para la posición seleccionada\n",
    "\n",
    "Las posibles posiciones son:\n",
    "['F-C', 'C-F', 'C', 'G', 'F', 'G-F', 'F-G']"
   ]
  },
  {
   "cell_type": "code",
   "execution_count": null,
   "metadata": {
    "slideshow": {
     "slide_type": "subslide"
    }
   },
   "outputs": [],
   "source": [
    "from labFunctions import more_time_position_player\n",
    "position = 'F-G'\n",
    "assert more_time_position_player(nba_player_data, position) == ['Grant Hill', 'Paul Pierce'], 'Nope! Revisa cuidadosamente tu función'\n",
    "print('Correcto! En la posición {} el/los jugadores con una mayor cantidad de tiempo son:\\n'.format(position))\n",
    "print(*more_time_position_player(nba_player_data, position), sep='\\n')"
   ]
  },
  {
   "cell_type": "markdown",
   "metadata": {
    "slideshow": {
     "slide_type": "slide"
    }
   },
   "source": [
    "### Nombre: Juanito Perez\n",
    "#### Rol: 201110002-6"
   ]
  }
 ],
 "metadata": {
  "celltoolbar": "Slideshow",
  "kernelspec": {
   "display_name": "Python 3",
   "language": "python",
   "name": "python3"
  },
  "language_info": {
   "codemirror_mode": {
    "name": "ipython",
    "version": 3
   },
   "file_extension": ".py",
   "mimetype": "text/x-python",
   "name": "python",
   "nbconvert_exporter": "python",
   "pygments_lexer": "ipython3",
   "version": "3.6.6"
  }
 },
 "nbformat": 4,
 "nbformat_minor": 2
}
