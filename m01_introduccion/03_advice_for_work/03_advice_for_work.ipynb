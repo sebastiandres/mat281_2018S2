{
 "cells": [
  {
   "cell_type": "code",
   "execution_count": 1,
   "metadata": {
    "slideshow": {
     "slide_type": "skip"
    }
   },
   "outputs": [],
   "source": [
    "# NO OLVIDAR EJECUTAR ANTES DE LANZAR LIVE\n",
    "# Configuracion para recargar módulos y librerías \n",
    "%reload_ext autoreload\n",
    "%autoreload 2\n",
    "%matplotlib inline"
   ]
  },
  {
   "cell_type": "markdown",
   "metadata": {
    "slideshow": {
     "slide_type": "slide"
    }
   },
   "source": [
    "# MAT281\n",
    "\n",
    "## Aplicaciones de la Matemática en la Ingeniería\n",
    "\n",
    "Puedes ejecutar este jupyter notebook de manera interactiva:\n",
    "\n",
    "[![Binder](../shared/images/jupyter_binder.png)](https://mybinder.org/v2/gh/sebastiandres/mat281_m01_introduccion/master?filepath=03_advice_for_work/03_advice_for_work.ipynb)\n",
    "\n",
    "[![Binder](../shared/images/jupyter_colab.png)](https://colab.research.google.com/github/sebastiandres/mat281_m01_introduccion/blob/master/03_advice_for_work/03_advice_for_work.ipynb)"
   ]
  },
  {
   "cell_type": "markdown",
   "metadata": {
    "slideshow": {
     "slide_type": "slide"
    }
   },
   "source": [
    "## Sobre los laboratorios:\n",
    "\n",
    "* ¿Qué tal el primer laboratorio?\n",
    "* ¿Comentarios u opiniones?"
   ]
  },
  {
   "cell_type": "markdown",
   "metadata": {
    "slideshow": {
     "slide_type": "slide"
    }
   },
   "source": [
    "## ¿Qué contenido aprenderemos?\n",
    "\n",
    "1. ¿Qué hacer **antes** de una entrevista de trabajo?\n",
    "2. ¿Qué hacer **durante** una entrevista de trabajo?\n",
    "3. ¿Qué hacer **después** de una entrevista de trabajo?\n",
    "4. ¿Qué hacer **en** el trabajo?"
   ]
  },
  {
   "cell_type": "markdown",
   "metadata": {
    "slideshow": {
     "slide_type": "slide"
    }
   },
   "source": [
    "## Consejo general\n",
    "\n",
    "Existe un mismo concepto o consejo descrito de varias formas: \n",
    "\n",
    "* Systems before goals - *Scott Adams*\n",
    "\n",
    "* Don’t expect to be motivated every day to get out there and make things happen. You won’t be. Don’t count on motivation. Count on Discipline. Discipline equals Freedom. - *Jocko Williams.*\n",
    "\n",
    "* Hard choices, easy life. Easy choices, hard life. - *Jerzy Gregorek*"
   ]
  },
  {
   "cell_type": "markdown",
   "metadata": {
    "slideshow": {
     "slide_type": "slide"
    }
   },
   "source": [
    "## 1. Antes de la entrevista de trabajo\n",
    "###  1.1 Transversales\n",
    "* Participar en actividades extraprogramáticas, representación de la carrera u otros intereses. **Objetivo**: aprender a distribuir tiempos.\n",
    "* Obtener aprendizajes fuera de la universidad: cursos en línea, kaggle, etc. **Objetivo**: romper la burbuja y tener \"calle\".\n",
    "* Maximizar el aprendizaje, aún a costo de bajar las notas. **Objetivo**: obtener recomendaciones, capacidades y habilidades.\n",
    "* Generar perfil profesional: LinkedIn, correo profesional, etc. **Objetivo**: mostrarse profesional y poder hacer networking. "
   ]
  },
  {
   "cell_type": "markdown",
   "metadata": {
    "slideshow": {
     "slide_type": "slide"
    }
   },
   "source": [
    "## 1. Antes de la entrevista de trabajo\n",
    "### 1.2 Preparación de la entrevista\n",
    "* Sobre la **empresa**: ¿Qué hacen? ¿Porqué lo hacen? ¿Quiénes pagan por el producto/servicio? ¿Quiénes trabajan en la empresa?\n",
    "* Sobre la **posición**: ¿Qué se espera del cargo? ¿Que responsabilidades tendrá? ¿Qué herramientas y conocimientos previos se requieren?\n",
    "* **Referencias**: ¿Conozco alguien que ha trabajado/entrevistado ahí? ¿Qué tipo de entrevistas hacen?\n",
    "* **Lecturas**: Si tienes poca/nula experiencia en entrevistas, googlea e infórmate de las preguntas más comunes y prepara algunas respuestas honestas. \n",
    "\n",
    "**Observación**: Todos las condiciones de un trabajo son referenciales. Si estás interesado, demuéstralo y negocia."
   ]
  },
  {
   "cell_type": "markdown",
   "metadata": {
    "slideshow": {
     "slide_type": "slide"
    }
   },
   "source": [
    "## 1. Antes de la entrevista de trabajo\n",
    "### 1.3 Sobre el Curriculum Vitae\n",
    "* **Formato**: Evitar templates clásicos, buscar algo que sea memorable.\n",
    "* **Extensión**: 1 página. Máximo 2 páginas.\n",
    "* **Ortografía**: Que una tercera persona, ojalá un maniático del detalle, revise el CV.\n",
    "* **Proactividad**: Orientación a resultados generados y experiencias adquiridas.\n",
    "* **Contenido**: Datos de identificación, estudios relevantes al cargo, trabajos anteriores, referencias. No: estado civil, hijos, fotos, información no relevante."
   ]
  },
  {
   "cell_type": "markdown",
   "metadata": {
    "slideshow": {
     "slide_type": "slide"
    }
   },
   "source": [
    "## 2. Durante la entrevista\n",
    "### 2.1 Actitud\n",
    "\n",
    "* **Relajado pero interesado**: \n",
    "  * No pierdes nada. Estadísticamente, lo más probable es que no consigas el trabajo/práctica pero si ganarás experiencia para la próxima entrevista.\n",
    "  * El mayor riesgo está en el lado del empleador, quien está gastando tiempo y recursos por una apuesta de un trabajador sobre la media.\n",
    "\n",
    "* **Interesado y Proactivo**: \n",
    "  * Se busca gente que solucione problemas, no que se quede pasiva, menos aún que los genere.\n",
    "  * Muestra interés genuino por el trabajo/práctica.\n",
    "  \n",
    "* **Respaldo con ejemplos**:\n",
    "  * Ten preparados ejemplos de proyectos y trabajos que hayan destacado y que demuestren pasión y calidad."
   ]
  },
  {
   "cell_type": "markdown",
   "metadata": {
    "slideshow": {
     "slide_type": "slide"
    }
   },
   "source": [
    "## 2. Durante la entrevista\n",
    "### 2.2 Beer test\n",
    "Si la persona que hace la entrevista es otro ingeniero, relájate... \n",
    "* Situación es fácil de leer y anticipar con suficiente preparación.\n",
    "* Lo más probable es que el otro ingeniero estaba en medio de su trabajo y lo están obligando a realizar entrevistas.\n",
    "* No tiene más preparación para hacer entrevistas que tú como entrevistado. Probablemente sólo googleó \"Interview questions\" en google y anotó las que le parecían más razonables.\n",
    "* Sólo hay que pasar el *\"beer test\"*: el otro ingeniero sólo busca alguien que sea *suficientemente* capacitado para resolver problemas y que sea alguien con quien no sea desagradable trabajar."
   ]
  },
  {
   "cell_type": "markdown",
   "metadata": {
    "slideshow": {
     "slide_type": "slide"
    }
   },
   "source": [
    "## 2. Durante la entrevista\n",
    "### 2.3 Algunas de mis preguntas cuando entrevisto\n",
    "* Sobre tipo de **mentalidad**: ¿Cómo has superado un obstáculo o fracaso?\n",
    "* Soble trabajo con **stress**: ¿Cómo enfrentas situaciones difíciles, como deadlines o personas complejas?\n",
    "* Sobre **trabajo en equipo**: ¿Cómo trabajas en equipo? \n",
    "* Sobre **frustración**: ¿Cómo has tratado o tratarías el caso de un compañero de equipo que no hace su parte?\n",
    "* Sobre **rigor y detallismo**: Cuéntame de algún proyecto personal que te represente profesionalmente."
   ]
  },
  {
   "cell_type": "markdown",
   "metadata": {
    "slideshow": {
     "slide_type": "slide"
    }
   },
   "source": [
    "## 3. Después de la entrevista\n",
    "### 3.1 Follow Up\n",
    "* Reflexiona sobre lo que podrías haber hecho mejor. ¿Mejor preparación? ¿Revisión de conceptos e ideas? ¿Mayor confianza? **Corrige** para hacerlo mejor la próxima vez.\n",
    "* Envía un **correo** agradeciendo la entrevista sin ser falso: *\"consideré interesante la pregunta X, ...\"*. A cada puesto postulan 10 a 100 personas, y esos pequeños gestos destacan.\n",
    "* En caso de no ser aceptado, puedes pedir retroalimentación. Poca gente lo hace. A veces las razones son diametralmente opuestas a las que uno imaginaba.\n",
    "\n",
    "La práctica hace al maestro: postula a prácticas o trabajos aunque no estes 100% interesado. Permitirá generar confianza para la entrevista del *trabajo soñado*."
   ]
  },
  {
   "cell_type": "markdown",
   "metadata": {
    "slideshow": {
     "slide_type": "slide"
    }
   },
   "source": [
    "## 4. En la oficina\n",
    "1. Consejos generales\n",
    "1. Cultura popular\n",
    "1. Relaciones interpersonales\n",
    "1. Metodologías de trabajo"
   ]
  },
  {
   "cell_type": "markdown",
   "metadata": {
    "slideshow": {
     "slide_type": "slide"
    }
   },
   "source": [
    "## 4. En la oficina\n",
    "### 4.1 Consejos Generales\n",
    "* En una jornada de 9 horas: 1 a 2 horas de **planeación**, el resto de **ejecución**.\n",
    "  * Resulta crucial aplicar una Regla de Pareto (80-20) al trabajo: *¿cuáles tareas producirán el máximo impacto?*\n",
    "* **Regla de la rana** (Frog rule o Granny's Rule): \n",
    "  * Si tu trabajo es comer una rana, es mejor hacerlo a primera hora en la mañana. Si es tu trabajo comer dos ranas, es mejor que comas la más grande primero . *Mark Twain*.\n",
    "* Increíblemente, existen libros al respecto: [Eat that frog, Brian Tracy](https://www.amazon.com/Eat-That-Frog-Great-Procrastinating-ebook/dp/B001AFF25W) "
   ]
  },
  {
   "cell_type": "markdown",
   "metadata": {
    "slideshow": {
     "slide_type": "slide"
    }
   },
   "source": [
    "## 4. En la oficina\n",
    "### 4.2 Cultura Popular\n",
    "\n",
    "* Principio de Incompetencia de Peter\n",
    "\n",
    "* Principio de Hanlon\n",
    "\n",
    "* Ley de Parkinson\n",
    "\n",
    "* Ley de Murphy"
   ]
  },
  {
   "cell_type": "markdown",
   "metadata": {
    "slideshow": {
     "slide_type": "slide"
    }
   },
   "source": [
    "## 4. En la oficina\n",
    "### 4.2 Cultura Popular\n",
    "\n",
    "\n",
    "#### Principio de Incompetencia de Peter\n",
    "En una jerarquía, todo empleado tiende a ascender hasta su nivel de incompetencia: la nata sube hasta cortarse."
   ]
  },
  {
   "cell_type": "markdown",
   "metadata": {
    "slideshow": {
     "slide_type": "slide"
    }
   },
   "source": [
    "## 4. En la oficina\n",
    "### 4.2 Cultura Popular\n",
    "\n",
    "#### Principio de Hanlon\n",
    "Nunca atribuyas a la maldad lo que puede ser explicado por la estupidez."
   ]
  },
  {
   "cell_type": "markdown",
   "metadata": {
    "slideshow": {
     "slide_type": "slide"
    }
   },
   "source": [
    "## 4. En la oficina\n",
    "### 4.2 Cultura Popular\n",
    "\n",
    "#### Ley de Parkinson\n",
    "El trabajo se expande hasta llenar el tiempo disponible para su realización."
   ]
  },
  {
   "cell_type": "markdown",
   "metadata": {
    "slideshow": {
     "slide_type": "slide"
    }
   },
   "source": [
    "## 4. En la oficina\n",
    "### 4.2 Cultura Popular\n",
    "\n",
    "#### Ley de Murphy\n",
    "Todo lo que puede salir mal, saldrá mal."
   ]
  },
  {
   "cell_type": "markdown",
   "metadata": {
    "slideshow": {
     "slide_type": "slide"
    }
   },
   "source": [
    "## En la oficina\n",
    "\n",
    "### 4.3 Relaciones Interpersonales\n",
    "\n",
    "#### Disclaimar\n",
    "Copyright de contenido e imágenes: Dr. Tony Alessandra, creador de \"The Platinium Rule\"."
   ]
  },
  {
   "cell_type": "markdown",
   "metadata": {
    "slideshow": {
     "slide_type": "slide"
    }
   },
   "source": [
    "#### Silver Rule\n",
    "*One should not treat others in ways that one would not like to be treated*: No trates a otros en una forma que no quieras ser tratado.\n",
    "\n",
    "\n",
    "\n",
    "#### Golden Rule\n",
    "*One should treat others as one would like others to treat oneself*: Trata a otros en la misma forma que quieras ser tratado.\n",
    "\n",
    "\n",
    "\n",
    "#### Platinium Rule\n",
    "*Treat others the way they want to be treated*: Trata a otros en la forma que ellos quieren ser tratados"
   ]
  },
  {
   "cell_type": "markdown",
   "metadata": {
    "slideshow": {
     "slide_type": "slide"
    }
   },
   "source": [
    "#### Relaciones Interpersonales - Platinium Rule\n",
    "Enfoque reduccionista y simplista, pero sencillo de recordar y aplicar.\n",
    "\n",
    "Hay 4 tipos básicos de personalidad:\n",
    "\n",
    "1. Pensador (Thinker)\n",
    "1. Director (Director)\n",
    "1. Relacionador (Relater)\n",
    "1. Sociabilizador (Socializer)"
   ]
  },
  {
   "cell_type": "markdown",
   "metadata": {
    "slideshow": {
     "slide_type": "slide"
    }
   },
   "source": [
    "#### Relaciones Interpersonales: Platinium Rule\n",
    "<img src=\"images/PR1.png\" alt=\"\" width=\"700px\" align=\"middle\"/>"
   ]
  },
  {
   "cell_type": "markdown",
   "metadata": {
    "slideshow": {
     "slide_type": "slide"
    }
   },
   "source": [
    "#### Relaciones Interpersonales: Platinium Rule\n",
    "El \"cliché\":\n",
    "1. ***Pensador (Thinker)***: científico/contador.\n",
    "1. ***Director (Director)***: gerente/sargento.\n",
    "1. ***Relacionador (Relater)***: enfermero/sicólogo.\n",
    "1. ***Sociabilizador (Socializer)***: vendedor de autos/publicista."
   ]
  },
  {
   "cell_type": "markdown",
   "metadata": {
    "slideshow": {
     "slide_type": "slide"
    }
   },
   "source": [
    "#### Relaciones Interpersonales: Platinium Rule\n",
    "<img src=\"images/PR4.png\" alt=\"\" width=\"600px\" align=\"middle\"/>"
   ]
  },
  {
   "cell_type": "markdown",
   "metadata": {
    "slideshow": {
     "slide_type": "slide"
    }
   },
   "source": [
    "#### Relaciones Interpersonales: Platinium Rule\n",
    "\n",
    "### 1. Pensador - Thinker\n",
    "\n",
    "#### ¿Qué hacen bien?\n",
    "* Organizar y planificar.\n",
    "* Rápido para pensar, pero lento para hablar y actuar.\n",
    "* Trabajar individualmente.\n",
    "\n",
    "#### ¿Qué les cuesta?\n",
    "* Trabajar con gente desorganizada o en ambientes caóticos.\n",
    "* Hablar de temas personales.\n",
    "* Trabajar en grupo.\n",
    "* Instrucciones incompletas o confusas."
   ]
  },
  {
   "cell_type": "markdown",
   "metadata": {
    "slideshow": {
     "slide_type": "slide"
    }
   },
   "source": [
    "#### Relaciones Interpersonales: Platinium Rule\n",
    "<img src=\"images/PR4c.png\" alt=\"\" width=\"500px\" align=\"middle\"/>"
   ]
  },
  {
   "cell_type": "markdown",
   "metadata": {
    "slideshow": {
     "slide_type": "slide"
    }
   },
   "source": [
    "#### Relaciones Interpersonales: Platinium Rule\n",
    "\n",
    "### 2. Director\n",
    "\n",
    "#### ¿Qué hacen bien?\n",
    "* Tomar el control.\n",
    "* Realizar decisiones bajo riesgo.\n",
    "* Sobreponerse a obstáculos.\n",
    "\n",
    "#### ¿Qué les cuesta?\n",
    "* Tareas repetitivas.\n",
    "* Ser diplomáticos.\n",
    "* Reglas y regulaciones.\n",
    "* No son tímidos, pero sí reservados de temas personales."
   ]
  },
  {
   "cell_type": "markdown",
   "metadata": {
    "slideshow": {
     "slide_type": "slide"
    }
   },
   "source": [
    "#### Relaciones Interpersonales: Platinium Rule\n",
    "<img src=\"images/PR4d.png\" alt=\"\" width=\"500px\" align=\"middle\"/>"
   ]
  },
  {
   "cell_type": "markdown",
   "metadata": {
    "slideshow": {
     "slide_type": "slide"
    }
   },
   "source": [
    "#### Relaciones Interpersonales: Platinium Rule\n",
    "\n",
    "### 3. Relater - Relacionador\n",
    "\n",
    "#### ¿Qué hacen bien?\n",
    "* Amigables y sensibles: buenos oyentes.\n",
    "* Construir redes de amigos.\n",
    "* Coordinar y cooperar con otros.\n",
    "\n",
    "#### ¿Qué les cuesta?\n",
    "* Competir.\n",
    "* Trabajar con gente dictatorial o poco amigable.\n",
    "* Tomar decisiones grandes, propensos a rechazar los cambios.\n",
    "* Emitir opiniones contrarias.\n",
    "\n"
   ]
  },
  {
   "cell_type": "markdown",
   "metadata": {
    "slideshow": {
     "slide_type": "slide"
    }
   },
   "source": [
    "#### Relaciones Interpersonales: Platinium Rule\n",
    "<img src=\"images/PR4a.png\" alt=\"\" width=\"500px\" align=\"middle\"/>"
   ]
  },
  {
   "cell_type": "markdown",
   "metadata": {
    "slideshow": {
     "slide_type": "slide"
    }
   },
   "source": [
    "#### Relaciones Interpersonales: Platinium Rule\n",
    "\n",
    "### 4. Socializer - Sociabilizador\n",
    "\n",
    "#### ¿Qué hacen bien?\n",
    "* Inspirar a otros a tomar acción.\n",
    "* Pensar rápido: intuitivos, optimistas, creativos.\n",
    "* Llenos de ideas, pero impulsivos.\n",
    "\n",
    "#### ¿Qué les cuesta?\n",
    "* Restricciones.\n",
    "* Reportes formales o contabilidad.\n",
    "* Rutina.\n",
    "* Repetir acciones."
   ]
  },
  {
   "cell_type": "markdown",
   "metadata": {
    "slideshow": {
     "slide_type": "slide"
    }
   },
   "source": [
    "#### Relaciones Interpersonales: Platinium Rule\n",
    "<img src=\"images/PR4b.png\" alt=\"\" width=\"500px\" align=\"middle\"/>"
   ]
  },
  {
   "cell_type": "markdown",
   "metadata": {
    "slideshow": {
     "slide_type": "slide"
    }
   },
   "source": [
    "#### Ejercicio\n",
    "Piensen en alguien (familiar, amigo, conocido, profesor, etc.) para cada tipo de personalidad:\n",
    "\n",
    "1. Pensador (Thinker)\n",
    "1. Director (Director)\n",
    "1. Relacionador (Relater)\n",
    "1. Sociabilizador (Socializer)\n",
    "\n",
    "\n",
    "Para relacionarse con cada tipo de personalidad hay que **entregar lo que a la otra personalidad le parece importante**."
   ]
  },
  {
   "cell_type": "markdown",
   "metadata": {
    "slideshow": {
     "slide_type": "slide"
    }
   },
   "source": [
    "#### Relaciones Interpersonales: Platinium Rule\n",
    "Como enfrentar cada tipo de personalidad:\n",
    "1. Con Pensadores, sé detallado, bien preparado y paciente.\n",
    "1. Con Directores, sé eficiente y competente.\n",
    "1. Con Relacionadores, sé sincero y no amenazante.\n",
    "1. Con Sociabilizadores, interésate por ellos y sus historias.\n"
   ]
  },
  {
   "cell_type": "markdown",
   "metadata": {
    "slideshow": {
     "slide_type": "slide"
    }
   },
   "source": [
    "#### Relaciones Interpersonales: Platinium Rule\n",
    "\n",
    "Y ahora, el ***test***."
   ]
  },
  {
   "cell_type": "markdown",
   "metadata": {
    "slideshow": {
     "slide_type": "fragment"
    }
   },
   "source": [
    "#### Evaluación del test"
   ]
  },
  {
   "cell_type": "markdown",
   "metadata": {
    "slideshow": {
     "slide_type": "fragment"
    }
   },
   "source": [
    "* Preguntas $4 \\ n + 1$: Multiplicar por *$+i$*\n",
    "* Preguntas $4 \\ n + 2$: Multiplicar por *$-1$* \n",
    "* Preguntas $4 \\ n + 3$: Multiplicar por *$-i$*\n",
    "* Preguntas $4 \\ n + 0$: Multiplicar por *$+1$*\n",
    "* Sumar puntajes de preguntas.\n",
    "* ¿Qué número complejo obtuvo? \n",
    "* ¿En qué parte del plano complejo se sitúa?"
   ]
  },
  {
   "cell_type": "markdown",
   "metadata": {
    "slideshow": {
     "slide_type": "slide"
    }
   },
   "source": [
    "#### Relaciones Interpersonales: Platinium Rule\n",
    "<img src=\"images/PR1.png\" alt=\"\" width=\"700px\" align=\"middle\"/>"
   ]
  },
  {
   "cell_type": "markdown",
   "metadata": {
    "slideshow": {
     "slide_type": "slide"
    }
   },
   "source": [
    "#### Relaciones Interpersonales: Platinium Rule\n",
    "\n",
    "* La personalidad que uno cree/quiere tener es distinta de la que los demás perciben de uno mismo.\n",
    "* Una misma persona puede presentar diversas personalidades para distintos ámbitos: familia, trabajo, amigos. "
   ]
  },
  {
   "cell_type": "markdown",
   "metadata": {
    "slideshow": {
     "slide_type": "slide"
    }
   },
   "source": [
    "## 4. En la oficina\n",
    "### 4.3 Metodologías de Trabajo\n",
    "* Waterfall Develpment\n",
    "* Agile Development"
   ]
  },
  {
   "cell_type": "markdown",
   "metadata": {
    "slideshow": {
     "slide_type": "slide"
    }
   },
   "source": [
    "#### Metodologías de Trabajo\n",
    "\n",
    "***Cascada (Waterfall)***: \n",
    "* Cliente define requerimientos al inicio y empresa cumple, etapa a etapa, con desarrollo especificado.\n",
    "* Orientado a proyectos de alta complejidad, con horizontes de tiempo de años.\n",
    "\n",
    "*** Desarrollo Ágil (Agile)***: \n",
    "* Trabajo codo a codo con cliente mediante iteraciones constantes.\n",
    "* Orientado a proyectos de alta variabilidad, con horizontes de tiempo de semanas/meses."
   ]
  },
  {
   "cell_type": "markdown",
   "metadata": {
    "slideshow": {
     "slide_type": "slide"
    }
   },
   "source": [
    "#### Metodologías de Trabajo\n",
    "##  Waterfall\n",
    "Enfoque metodológico que ordena rigurosa4ente las etapas del proceso para el desarrollo de software, de tal forma que el inicio de cada etapa debe esperar a la finalización de la etapa anterior.\n",
    "\n",
    "<img src=\"images/MT1.png\" alt=\"\" width=\"600px\" align=\"middle\"/>"
   ]
  },
  {
   "cell_type": "markdown",
   "metadata": {
    "slideshow": {
     "slide_type": "slide"
    }
   },
   "source": [
    "#### Metodologías de Trabajo: Waterfall\n",
    "Ventajas\n",
    "* Promueve análisis sobre improvisación:\n",
    "    *Definir antes que diseñar, diseñar antes de codificar.*\n",
    "* Modelo tradicional: ampliamente conocido y utilizado con frecuencia.\n",
    "* Fácil de implementar, entender y dirigir.\n",
    "* Requiere de menos capital y herramientas para hacerlo funcionar de manera óptima."
   ]
  },
  {
   "cell_type": "markdown",
   "metadata": {
    "slideshow": {
     "slide_type": "slide"
    }
   },
   "source": [
    "#### Metodologías de Trabajo: Waterfall\n",
    "Desventajas\n",
    "* Proyectos en el mundo real no son lineales; el cliente siempre tiene ideas adicionales. Involucrar tardíamente al cliente conlleva disconformidad y fracaso del proyecto.\n",
    "* Secuencialismo: etapa $i+1$ no se puede llevar a cabo a menos que se haya culminado la etapa $i$.\n",
    "* Demoras: No es posible paralelizar etapas y el software sólo puede validarse una vez que todas las etapas anteriores han finalizado.\n",
    "* Propenso a costos adicionales: errores no detectados en etapa $i$ conducen a cambios en todas las etapas posteriores ya realizadas.\n",
    "* Promueve respeto y obediencia sobre innovación y creatividad.\n"
   ]
  },
  {
   "cell_type": "markdown",
   "metadata": {
    "slideshow": {
     "slide_type": "slide"
    }
   },
   "source": [
    "#### Metodologías de Trabajo\n",
    "<img src=\"images/treeswing.jpg\" alt=\"\" width=\"900px\" align=\"middle\"/>"
   ]
  },
  {
   "cell_type": "markdown",
   "metadata": {
    "slideshow": {
     "slide_type": "slide"
    }
   },
   "source": [
    "#### Metodologías de Trabajo\n",
    "##  Agile\n",
    "Enfoque metodológico que promueve el desarrollo iterativo e incremental, donde los requisitos y soluciones evolucionan mediante la colaboración de grupos auto-organizados y multidisciplinarios.\n",
    "<img src=\"images/MT2.png\" alt=\"\" width=\"600px\" align=\"middle\"/>"
   ]
  },
  {
   "cell_type": "markdown",
   "metadata": {
    "slideshow": {
     "slide_type": "slide"
    }
   },
   "source": [
    "#### Metodologías de Trabajo\n",
    "##  Agile\n",
    "Enfoque metodológico que promueve el desarrollo iterativo e incremental, donde los requisitos y soluciones evolucionan mediante la colaboración de grupos auto-organizados y multidisciplinarios.\n",
    "<img src=\"images/MT3.png\" alt=\"\" width=\"600px\" align=\"middle\"/>"
   ]
  },
  {
   "cell_type": "markdown",
   "metadata": {
    "slideshow": {
     "slide_type": "slide"
    }
   },
   "source": [
    "#### Metodologías de Trabajo: Ágil\n",
    "\n",
    "***Manifesto for Agile Software Development, 2001***\n",
    "\n",
    "We are uncovering better ways of developing software by doing it and helping others do it. Through this work we have come to value:\n",
    "* Individuals and interactions over processes and tools\n",
    "* Working software over comprehensive documentation\n",
    "* Customer collaboration over contract negotiation\n",
    "* Responding to change over following a plan\n",
    "\n",
    "That is, while there is value in the items on the right, we value the\n",
    "items on the left more."
   ]
  },
  {
   "cell_type": "markdown",
   "metadata": {
    "slideshow": {
     "slide_type": "slide"
    }
   },
   "source": [
    "#### Metodologías de Trabajo: Ágil\n",
    "\n",
    " * ** Al individuo y las interacciones del equipo de desarrollo porsobre el proceso y las herramientas.**\n",
    "\n",
    "La gente es el principal factor de éxito de un proyecto software.\n",
    "\n",
    "Es más importante construir un buen equipo que construir el entorno de trabajo.\n",
    "\n",
    "* ** Desarrollar software que funciona por sobre que generar documentación extensiva.**\n",
    "\n",
    "La regla a seguir es no producir documentos a menos que sean necesarios de forma inmediata para tomar un decisión\n",
    "importante. \n",
    "\n",
    "Estos documentos deben ser cortos y centrarse en lo fundamental."
   ]
  },
  {
   "cell_type": "markdown",
   "metadata": {
    "slideshow": {
     "slide_type": "slide"
    }
   },
   "source": [
    "#### Metodologías de Trabajo: Ágil\n",
    "\n",
    "* **La colaboración con el cliente por sobre la negociación de un  contrato.**\n",
    "\n",
    "Se propone que exista una interacción constante entre el cliente y el equipo de desarrollo. \n",
    "\n",
    "Esta colaboración será crucial para el éxito del proyecto.\n",
    "\n",
    "* **Responder a los cambios por sobre seguir estrictamente un plan.**\n",
    "\n",
    "La habilidad de responder a los cambios que surgirán durante del proyecto (cambios en los requisitos, en la tecnología, en el equipo humano, etc.) determina el éxito o fracaso del proyecto."
   ]
  },
  {
   "cell_type": "markdown",
   "metadata": {
    "slideshow": {
     "slide_type": "slide"
    }
   },
   "source": [
    "#### Metodologías de Trabajo: Ágil\n",
    "\n",
    "## Principios básicos\n",
    "\n",
    "* La prioridad es satisfacer al cliente mediante tempranas y continuas entregas de software que le aporte un valor.\n",
    "* Dar la bienvenida a los cambios. Se capturan los cambios para que el cliente tenga una ventaja competitiva.\n",
    "* Entregar frecuentemente software que funcione desde un par de semanas a un par de meses, con el menor intervalo de tiempo posible entre entregas.\n",
    "* La gente del negocio y los desarrolladores deben trabajar juntos a lo largo del proyecto. El cliente es un aliado, no un enemigo."
   ]
  },
  {
   "cell_type": "markdown",
   "metadata": {
    "slideshow": {
     "slide_type": "slide"
    }
   },
   "source": [
    "#### Metodologías de Trabajo: Ágil\n",
    "\n",
    "## Principios básicos\n",
    "\n",
    "* Construir el proyecto en torno a individuos motivados. Darles el entorno y el apoyo que necesitan y confiar en ellos para conseguir finalizar el trabajo.\n",
    "* El diálogo cara a cara es el mejor método para comunicar información dentro de un equipo de desarrollo.\n",
    "* El software que funciona es la medida principal de progreso. La simplicidad es esencial.\n"
   ]
  },
  {
   "cell_type": "markdown",
   "metadata": {
    "slideshow": {
     "slide_type": "slide"
    }
   },
   "source": [
    "#### Metodologías de Trabajo: Ágil\n",
    "\n",
    "## Ventajas\n",
    "\n",
    "* Respuesta rápida a cambios de requisitos, minimizando costos, tiempo y frustración.\n",
    "* Efecto IKEA: el cliente se involucra y tiene una mejor satisfacción sobre el resultado final.\n",
    "* Al privilegiar la simplicidad se eliminan trabajos innecesarios/superfluos.\n",
    "* Permite paralelizar requerimientos y validar implementaciones por separado.\n",
    "* Puesto que el software es siempre “casi funcional” permite mantener proyecto en costo acordado. Siempre es posible parar el proyecto en la iteración actual.\n",
    "* Promueve innovación y creatividad sobre respeto y obediencia."
   ]
  },
  {
   "cell_type": "markdown",
   "metadata": {
    "slideshow": {
     "slide_type": "slide"
    }
   },
   "source": [
    "#### Metodologías de Trabajo: Ágil\n",
    "\n",
    "## Desventajas\n",
    "\n",
    "* Falta de documentación del diseño.\n",
    "* Problemas derivados de la comunicación oral: ambiguedad y futilidad.\n",
    "* Alta dependencia a las personas del equipo.\n",
    "* Restricciones en cuanto al tamaño y la complejidad de los proyectos."
   ]
  },
  {
   "cell_type": "markdown",
   "metadata": {
    "slideshow": {
     "slide_type": "slide"
    }
   },
   "source": [
    "#### Metodologías de Trabajo\n",
    "\n",
    "## Agil versus Cascada\n",
    "\n",
    "* Adaptividad vs. Predictibilidad\n",
    "* Iterativo vs. Secuencial\n",
    "* Código vs. Documentación"
   ]
  },
  {
   "cell_type": "markdown",
   "metadata": {
    "slideshow": {
     "slide_type": "slide"
    }
   },
   "source": [
    "#### Metodologías de Trabajo\n",
    "\n",
    "## Interpretación del éxito de metodología ágil\n",
    "\n",
    "La Metodología Agil puede interpretarse como una aplicación del principio de Pareto (ley del 80-20), que dice que, para muchos eventos, aproximadamente 80 % de los efectos proviene del 20 % de las causas. \n",
    "\n",
    "Reuniones tempranas con el cliente permite determinar cuáles son las causas de mayor impacto y establecer una ruta óptima de construcción en función de los requerimientos cambiantes del cliente."
   ]
  },
  {
   "cell_type": "markdown",
   "metadata": {
    "slideshow": {
     "slide_type": "slide"
    }
   },
   "source": [
    "#### Metodologías de Trabajo\n",
    "\n",
    "## Aplicacion en Ingeniería\n",
    "\n",
    "* Tener reuniones pequeñas reuniones semanales es mejor que una gran reunión mensual.\n",
    "* Mejorar incrementalmente informe e implementación numérica.\n",
    "* El cliente tiene derecho cambiar de opinión: ¡Está pagando por ello!"
   ]
  },
  {
   "cell_type": "markdown",
   "metadata": {
    "slideshow": {
     "slide_type": "slide"
    }
   },
   "source": [
    "#### Metodologías de Trabajo\n",
    "\n",
    "## Aplicacion en Vida Universitaria\n",
    "\n",
    "\n",
    "En tareas y proyectos:\n",
    "* Tener lo antes posible un entregable que garantice el 50-70 % de la nota.\n",
    "* Mejorar incrementalmente el entregable, en función del tiempo disponible y del esfuerzo requerido.\n",
    "* Si se requiere código numérico, preocuparse del código hasta que funcione, luego documentar.\n",
    "* El profesor es el cliente: preguntar con tiempo y clarificar expectativas. Lo esencial es cumplir los requerimientos."
   ]
  }
 ],
 "metadata": {
  "celltoolbar": "Slideshow",
  "kernelspec": {
   "display_name": "Python 3",
   "language": "python",
   "name": "python3"
  },
  "language_info": {
   "codemirror_mode": {
    "name": "ipython",
    "version": 3
   },
   "file_extension": ".py",
   "mimetype": "text/x-python",
   "name": "python",
   "nbconvert_exporter": "python",
   "pygments_lexer": "ipython3",
   "version": "3.5.2"
  }
 },
 "nbformat": 4,
 "nbformat_minor": 2
}
