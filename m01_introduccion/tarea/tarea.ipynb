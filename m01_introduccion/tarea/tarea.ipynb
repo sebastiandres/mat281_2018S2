{
 "cells": [
  {
   "cell_type": "markdown",
   "metadata": {
    "slideshow": {
     "slide_type": "-"
    }
   },
   "source": [
    "# MAT281\n",
    "\n",
    "## Aplicaciones de la Matemática en la Ingeniería\n",
    "### Tarea 1"
   ]
  },
  {
   "cell_type": "markdown",
   "metadata": {},
   "source": [
    "La siguiente tarea debe realizarse de manera individual. No es posible copiar y pegar código de otros estudiantes. \n",
    "Pueden consultar internet (stackoverflow, por ejemplo), pero deben indicar sus fuentes cuando corresponda.\n",
    "\n",
    "**Nombre**: *[COLOCAR NOMBRE ACA]*\n",
    "\n",
    "**Rol**: *[COLOCAR ROL ACA]*\n",
    "\n",
    "**Fecha de entrega**: Martes 16 Octubre 2018."
   ]
  },
  {
   "cell_type": "markdown",
   "metadata": {},
   "source": [
    "En esta tarea, enviaremos mensajes secretos dentro de imágenes.\n",
    "\n",
    "![images/hackerman.png](images/hackerman.png)"
   ]
  },
  {
   "cell_type": "markdown",
   "metadata": {},
   "source": [
    "Este proceso se llama [Esteganografía](https://es.wikipedia.org/wiki/Esteganograf%C3%ADa), y consiste en enviar un mensaje oculto en algún medio de manera que no sea aparente que contiene dicho mensaje. Un método de analógico sería escribir una carta a alguien pero poner con [tinta invisible](https://es.wikihow.com/escribir-un-mensaje-con-tinta-invisible) el contenido real que queremos transmitir. \n",
    "En esta tarea exploraremos el cómo enviar un mensaje en una imágen, para lo cual tomaremos varios supuestos que permitirán simplificar las funciones a utizar. Estos supuestos son los siguientes:\n",
    "1. La imagen a codificar/decodificar estará en formato png y sus dimensiones serán múltiplos de 8.\n",
    "1. El texto no está cifrado dentro de la imagen, sino que se almacena de manera simple en cada uno de sus pixeles."
   ]
  },
  {
   "cell_type": "markdown",
   "metadata": {},
   "source": [
    "La frase que resume esta tarea es la siguiente:\n",
    "\n",
    "***Información = Bits + Contexto***\n",
    "\n",
    "La manera que guardamos la información es siempre la misma independientemente del tipo de información. Como es bien sabido, un bit puede tener sólo 2 estados: uno o cero, en secuencias como \"10101111 101110100 11111011 000100010 ...\" que pueden representar números, textos, imágenes, sonidos y todo lo que llamamos \"digital\". Un byte es una secuencia particular de 8 bits, y que puede por tanto codificar $2^8 = 256$ secuencias distintas. La manera en que se codifican números enteros y reales, textos, imágenes, sonidos y videos puede resultar complejo puesto que siempre se busca comprimir la información para almacenarla.\n",
    "\n",
    "La tarea se divide en las siguientes etapas:\n",
    "1. Importar las librerías necesarias: para revisar que contamos con todo lo necesario antes de seguir avanzando.\n",
    "2. Transformación de strings a bits y de bits a strings.\n",
    "3. Transformación de imagen a bits y de bits a imagen.\n",
    "4. Ensamblaje de funciones para insertar un mensaje en una imagen, o recuperar un mensaje de una imagen."
   ]
  },
  {
   "cell_type": "markdown",
   "metadata": {},
   "source": [
    "## 1. Definición de las librerías [0 puntos]\n",
    "Esta tarea requiere instalar sólo unas pocas librerías: `pillow` que reemplaza la Python Image Library (PIL), numpy y os. "
   ]
  },
  {
   "cell_type": "code",
   "execution_count": null,
   "metadata": {},
   "outputs": [],
   "source": [
    "from PIL import Image\n",
    "import numpy as np\n",
    "import os"
   ]
  },
  {
   "cell_type": "markdown",
   "metadata": {},
   "source": [
    "Para instalar todo lo anterior puedes:\n",
    "\n",
    "(1) Instalar el ambiente\n",
    "```\n",
    "conda env create -n mat281_tarea1_test python=3.6\n",
    "conda install pillow numpy jupyter notebook\n",
    "```\n",
    "\n",
    "\n",
    "(2) Crear el ambiente usando:\n",
    "```\n",
    "conda create -n mat281_tarea1 python=3.6\n",
    "source activate mat281_tarea1\n",
    "conda install pillow numpy jupyter notebook\n",
    "```"
   ]
  },
  {
   "cell_type": "markdown",
   "metadata": {},
   "source": [
    "## 2. Codificando texto [40 puntos]\n",
    "\n",
    "La primera tarea por realizar es convertir texto común y corriente y obtener sus bits respectivos. Para ello existen librerías expecíficas que trabajan con códificaciones de texto y de manera ultra-rápida. Pero prescindiremos de ellas para trabajar sólo con código python para mayor diversión."
   ]
  },
  {
   "cell_type": "markdown",
   "metadata": {},
   "source": [
    "### 2.1 ¿Cómo poder obtener los bits de un string?\n",
    "\n",
    "Un texto se codifica a partir de la codificación de los carácteres que lo componen. Inicialmente, el código ASCII  (American Standard Code for Information Interchange) permitía únicamente la escritura en inglés debido a que no contenía acentos ni otros caracteres especiales. Sin embargo, tenían la ventaja de utilizar una pequeñísima cantidad de bits en su codificación. Para poder representar los lenguajes alrededor del mundo fue necesario crear convenciones especiales que extendieran el ASCII, dando origen a las codificaciones \"unicode\", \"utf-8\" y otras. En esta tarea y gracias a la inteligencia de python, podemos utilizar texto común en español con o sin acentos, y signos de exclamación sin mayores complejidades.\n",
    "\n",
    "El siguiente código, que debes ejecutar, imprimirá en pantalla los primeros 128 carácteres:"
   ]
  },
  {
   "cell_type": "code",
   "execution_count": null,
   "metadata": {},
   "outputs": [],
   "source": [
    "print(\"\".join([chr(my_int) for my_int in range(128)]))"
   ]
  },
  {
   "cell_type": "markdown",
   "metadata": {},
   "source": [
    "Los pasos a desarrollar serán las siguientes:\n",
    "1. Obtener los carácteres de un string. Esto se obtiene fácilmente recorriendo el string utilizando un ciclo for. No es necesario crear una función.\n",
    "2. Obtener el entero asociado a la representación ordinaria (ascii) de un carácter. Esto se logra utilizando la función `ord` que ya posee python. \n",
    "3. Transformar un int a una secuencia de bits. Esto es un poco más complejo y necesitaremos desarrollar una función `int_to_bits`."
   ]
  },
  {
   "cell_type": "code",
   "execution_count": null,
   "metadata": {},
   "outputs": [],
   "source": [
    "def int_to_bits(my_int, n_wanted_bits=8):\n",
    "    \"\"\"\n",
    "    Toma un entero my_int y lo convierte en la lista de bits (0 ó 1).\n",
    "    Se regresa esa lista con el número indicado de bits.\n",
    "    \"\"\"\n",
    "    my_bits_string_with_header = bin(my_int)\n",
    "    n_current_bits = len(my_bits_string_with_header) - 2\n",
    "    my_bits_string = \"0\"*(n_wanted_bits - n_current_bits) + my_bits_string_with_header[2:]\n",
    "    my_bit_list = [int(bit) for bit in my_bits_string]\n",
    "    return my_bit_list\n",
    "\n",
    "print(int_to_bits(42))"
   ]
  },
  {
   "cell_type": "markdown",
   "metadata": {},
   "source": [
    "### Pregunta 1 [10 puntos]:\n",
    "Explora la función `int_to_bits` y responde:\n",
    "\n",
    "**1 ¿Qué hace la función `bin`? ¿Que evalúa para el entero 0? ¿Y para el entero 42?** \n",
    "\n",
    "*R: << RESPUESTA DEL ALUMNO >>*\n",
    "\n",
    "**2 ¿Qué efecto tiene cambiar el parámetro `n_wanted_bits`**\n",
    "\n",
    "*R: << RESPUESTA DEL ALUMNO >>*"
   ]
  },
  {
   "cell_type": "markdown",
   "metadata": {},
   "source": [
    "### Pregunta 2 [10 puntos]:\n",
    "\n",
    "Completa la función `string_to_bits` indicada a continuación para que regrese una lista de enteros con valores 0 ó 1 correspondientes a la representación en bits de las letras que lo componen. \n",
    "\n",
    "Algunos ejemplos de valores a obtener:\n",
    "\n",
    "```python\n",
    "string_to_bits(\"a\") = [0, 1, 1, 0, 0, 0, 0, 1]\n",
    "string_to_bits(\"ñ\") = [1, 1, 1, 1, 0, 0, 0, 1]\n",
    "string_to_bits(\"hola\") = [0, 1, 1, 0, 1, 0, 0, 0, 0, 1, 1, 0, 1, 1, 1, 1, 0, 1, 1, 0, 1, 1, 0, 0, 0, 1, 1, 0, 0, 0, 0, 1]\n",
    "```"
   ]
  },
  {
   "cell_type": "code",
   "execution_count": null,
   "metadata": {},
   "outputs": [],
   "source": [
    "def string_to_bits(my_string):\n",
    "    \"\"\"\n",
    "    Converts a string into a list of the bits for each of its characters.\n",
    "    \"\"\"\n",
    "    my_bit_list = []\n",
    "    for char in my_string:\n",
    "        my_int = ord(char)\n",
    "        # INICIO CODIGO\n",
    "        # << RESPUESTA DEL ALUMNO >>\n",
    "        # FIN CODIGO\n",
    "    return my_bit_list\n",
    "        \n",
    "my_bit_list = string_to_bits(\"ñ\")\n",
    "print(my_bit_list)"
   ]
  },
  {
   "cell_type": "markdown",
   "metadata": {},
   "source": [
    "### 2.2 ¿Cómo podemos obtener un string a partir de los bits?\n",
    "Para poder leer un mensaje oculto en una imagen necesitaremos poder recorrer el camino inverso, esto es, producir un string a partir de sus bits. \n",
    "\n",
    "Para ello necesitaremos:\n",
    "1. Recuperar el entero a partir de la representación de bits. Para ello definiremos una función `bits_to_int`.\n",
    "2. Recuperar un carácter a partir de un entero. Para ello usaremos la función `chr` que ya existe en python.\n",
    "2. Obtener un string a partir de una representación en bits, juntando los elementos anteriores. Para ello definiremos una función `bits_to_string`."
   ]
  },
  {
   "cell_type": "code",
   "execution_count": null,
   "metadata": {},
   "outputs": [],
   "source": [
    "def bits_to_int(my_bits):\n",
    "    \"\"\"\n",
    "    Very inefficient way. Can you think of a more elegant solution :-)\n",
    "    \"\"\"\n",
    "    my_int = 0\n",
    "    for i, bit in enumerate(my_bits[::-1]):\n",
    "        my_int += 2**i * bit\n",
    "    return my_int\n",
    "\n",
    "print(bits_to_int([0,]))\n",
    "print(bits_to_int([1,1,1]))\n",
    "print(bits_to_int([0,1,0,1,0, 1, 0]))"
   ]
  },
  {
   "cell_type": "markdown",
   "metadata": {},
   "source": [
    "### Pregunta 3 [10 puntos]:\n",
    "\n",
    "¿Porqué la función `bits_to_int` anteriormente definida es ineficiente? ¿Qué podríamos hacer para hacerla más eficiente? ¿En que orden se recorre la lista `my_bits`?\n",
    "\n",
    "*R: << RESPUESTA DEL ALUMNO >>*"
   ]
  },
  {
   "cell_type": "markdown",
   "metadata": {},
   "source": [
    "### Pregunta 4 [10 puntos]:\n",
    "\n",
    "Completa la función `bits_to_string` indicada a continuación a partir de una lista de enteros con valores 0 ó 1 regrese el string correspondiente. \n",
    "\n",
    "Algunos ejemplos de valores a obtener:\n",
    "\n",
    "```python\n",
    "bits_to_string([0, 1, 1, 0, 0, 0, 0, 1]) = \"a\"\n",
    "bits_to_string([1, 1, 1, 1, 0, 0, 0, 1]) = \"ñ\"\n",
    "```\n",
    "\n",
    "Obs: La conversión en bits puede variar según el sistema operativo y la versión instalada. Lo importante es que las letras básicas (anscii tradicional) funcionen bien y que la convención sea única para convertir en bits y de vuelta sin problema."
   ]
  },
  {
   "cell_type": "code",
   "execution_count": null,
   "metadata": {},
   "outputs": [],
   "source": [
    "def bits_to_string(my_bit_list, n_bits=8):\n",
    "    \"\"\"\n",
    "    Using a list of bits creates the string representation of it.\n",
    "    \"\"\"\n",
    "    my_string = \"\"\n",
    "    n_ints = len(my_bit_list)//8\n",
    "    for n in range(n_ints):\n",
    "        bits = my_bit_list[n*8:(n+1)*8]\n",
    "        # INICIO DE CODIGO\n",
    "        # << RESPUESTA DEL ALUMNO >> # usar por ejemplo my_char = chr(my_int)\n",
    "        # INICIO DE CODIGO\n",
    "    return my_string\n",
    "\n",
    "my_bit_list = [1, 1, 1, 1, 0, 0, 0, 1]\n",
    "my_string = bits_to_string(my_bit_list)\n",
    "print(my_string)"
   ]
  },
  {
   "cell_type": "markdown",
   "metadata": {},
   "source": [
    "### 2.3 Jugando con strings\n",
    "\n",
    "Antes de avanzar, veamos que hemos obtenido jugando con la representación de diversos textos. Para ello, proveeremos una función auxiliar que indicará si la conversión es exitosa e imprimirá algunas estadísticas de interés. Este tipo de funciones, si bien no es estrictamente necesario para el objetivo de la tarea, nos permite saber si todo está correcto antes de seguir avanzando y debería ser parte de las buenas prácticas a adquirir: \n",
    "\n",
    "***Verificar cada paso o etapa que construye un resultado más grande***"
   ]
  },
  {
   "cell_type": "code",
   "execution_count": null,
   "metadata": {},
   "outputs": [],
   "source": [
    "def check_conversion(my_original_string):\n",
    "    \"\"\"\n",
    "    Chequea la conversion realizada por el string, calcula estadísticas e imprime cosas interesantes.\n",
    "    \"\"\"\n",
    "    my_bit_list = string_to_bits(my_original_string)\n",
    "    my_converted_string = bits_to_string(my_bit_list)\n",
    "    if my_original_string!= my_converted_string:\n",
    "        print(\"\\nAlgo no funcionó. Los strings no son iguales.\")\n",
    "        print(\"String original:\")\n",
    "        print(my_original_string)\n",
    "        print(\"String reconvertido:\")\n",
    "        print(my_converted_string)\n",
    "    else:\n",
    "        print(\"\\n¡Conversión correcta! Los strings son idénticos.\")\n",
    "        print(\"String: {}\".format(my_converted_string))\n",
    "        print(\"Bit code: {}\".format(\"\".join(str(i) for i in my_bit_list)))\n",
    "\n",
    "check_conversion(\"Only english content\")\n",
    "check_conversion(\"¿Español? - sin problemas - ¡Increíble!\")\n",
    "check_conversion(\"En français, s’il vous plaît? Pas de problème!\")\n",
    "check_conversion(\"¿Japonés?: 最高のプログラマ\")\n",
    "check_conversion(\"¡¿Emojis?!: 😀\")\n"
   ]
  },
  {
   "cell_type": "markdown",
   "metadata": {},
   "source": [
    "Los textos anteriores pueden o no tener problemas de conversión dependiendo de la versión de python y notebook. El hecho que se representen correctamente en pantalla corresponde a los esfuerzos realizados en python 3 y jupyter notebook para poseer una codificación universal. Sin que nos demos cuenta, está reconociendo cuando juntar y separar los bytes para representar adecuadamente los distintos caracteres."
   ]
  },
  {
   "cell_type": "markdown",
   "metadata": {},
   "source": [
    "## 3. Definición de funciones de apertura de imagen. [30 puntos]\n",
    "Por simplicidad, trabajaremos sólo con formato png que se almacena directamente en formato RGB.\n",
    "Recordemos que una imagen puede representarse (entre otros formas) mediante el formato RGB, en donde se tienen 3 canales separados para el color rojo (R - red), el colog verde (G - green) y el color azul (B - blue). \n",
    "\n",
    "![rgb_1](images/rgb_1.png)\n",
    "\n",
    "Una imagen de $n_{width} \\times n_{height}$ pixeles se representa por tanto mediante 3 matrices de $n_{width} \\times n_{height}$ que contienen valores entre 0 y 255. El valor 0 corresponde a la ausencia completa del color, mientras que el color 255 indica la presencia completa del color.\n",
    "\n",
    "![rgb_2](images/rgb_2.jpg)\n",
    "\n",
    "Es posible almacenar la información de la siguiente manera. Supongamos que quisiéramos enviar la letra `x`. Como podemos conocer usando la función que ya hemos construido, la `x` se representa en ascii por el entero 120, es decir, por la secuencia de bits `[0, 1, 1, 1, 1, 0, 0, 0]`. \n",
    "\n",
    "Supongamos que tenemos la imagen de $1 \\times 4$ pixeles, representada en RGB:\n",
    "```\n",
    "R = [0, 100, 181, 255]\n",
    "G = [1, 103, 193, 243]\n",
    "B = [3, 105, 177, 242]\n",
    "```\n",
    "\n",
    "Podemos usar los bits menos significativos de los enteros asociados a cada color para enviar los bits de la letra x.\n",
    "Así, dejaremos el número como par si deseamos enviar el bit 0, y como impar si deseamos enviar el bit 1. En el ejemplo anterior, usaremos sólo los canales R y G, y dejaremos el canal B con todos los bits en 0 para indicar que no entrega información adicional. Recordemos que deseamos enviar `[0, 1, 1, 1, 1, 0, 0, 0]`.\n",
    "\n",
    "```\n",
    "R = [0, 101, 181, 255]\n",
    "G = [1, 102, 192, 242]\n",
    "B = [2, 104, 176, 242]\n",
    "```\n",
    "La imagen generada es completamente idéntica a la imagen original para el ojo humano, y sin embargo, ¡hemos logrado enviar información contenida en ella!\n"
   ]
  },
  {
   "cell_type": "markdown",
   "metadata": {},
   "source": [
    "### 3.1 Abrir una imagen y obtener las matrices RGB\n",
    "\n",
    "La primera etapa es abrir la imagen y convertirla a un array RGB. Esta función se entrega de manera explícita a continuación. Para mayor facilidad, se separan los canales R, G y B."
   ]
  },
  {
   "cell_type": "code",
   "execution_count": null,
   "metadata": {},
   "outputs": [],
   "source": [
    "def from_image_to_array(my_picture):\n",
    "    PIL_image = Image.open(my_picture)\n",
    "    pixels = np.array(PIL_image)\n",
    "    R, G, B = pixels[:,:,0], pixels[:,:,1], pixels[:,:,2]\n",
    "    return R, G, B\n",
    "\n",
    "my_picture_filepath = os.path.join(\"images\", \"hackerman.png\")\n",
    "R, G, B = from_image_to_array(my_picture_filepath)\n",
    "print(R.shape) # heigh x width"
   ]
  },
  {
   "cell_type": "markdown",
   "metadata": {},
   "source": [
    "### Pregunta 5 [10 puntos]\n",
    "Nuestra imagen de prueba mide $240 \\times 220$ pixeles. ¿Cuántos bits pueden codificarse? ¿Cuantas letras pueden enviarse si cada letra requiere 1 byte = 8 bits? ¿Y si cada letra requiere 2 bytes? \n",
    "\n",
    "*R: << RESPUESTA DEL ALUMNO >>*\n"
   ]
  },
  {
   "cell_type": "markdown",
   "metadata": {},
   "source": [
    "### 3.2 Reseteando los bits\n",
    "\n",
    "Antes de codificar nueva información es conveniente eliminar todos los bits y dejar en cero todos los bits significativos.\n",
    "\n",
    "Cabe recordar que es posible realizar operaciones vectoriales de manera eficiente utilizando las funciones nativas de numpy: `np.mod(x,2)` nos entregará el bit menos significativo de `x`."
   ]
  },
  {
   "cell_type": "code",
   "execution_count": null,
   "metadata": {},
   "outputs": [],
   "source": [
    "x = np.array([[1,2,3],[4,5,6]])\n",
    "print(\"x=\\n\", x)\n",
    "print(\"np.mod(x,2)=\\n\", np.mod(x,2))\n",
    "x_flat = x.flatten()\n",
    "print(\"x_flat = x.flatten()=\\n\",x_flat)\n",
    "x_reshaped = x_flat.reshape(x.shape)\n",
    "print(\"x_flat.reshape([x.shape])=\\n\", x_reshaped)"
   ]
  },
  {
   "cell_type": "markdown",
   "metadata": {},
   "source": [
    "### Pregunta 6 [10 puntos]\n",
    "\n",
    "Completa la función `reset_bits` de manera que se regresen nuevas matrices R, G y B con los valores de los bits signitificativos todos seteados a 0.\n",
    "Por ejempo: \n",
    "```\n",
    "R = [0, 100, 181, 255]\n",
    "G = [1, 103, 193, 243]\n",
    "B = [3, 105, 177, 242]\n",
    "```\n",
    "\n",
    "deberia quedar\n",
    "```\n",
    "R = [0, 100, 180, 254]\n",
    "G = [0, 102, 192, 242]\n",
    "B = [2, 104, 176, 242]\n",
    "```"
   ]
  },
  {
   "cell_type": "code",
   "execution_count": null,
   "metadata": {},
   "outputs": [],
   "source": [
    "def reset_least_significant_bit(R, G, B):\n",
    "    \"\"\"\n",
    "    Resets the least significant bits in matrices R, G and B.\n",
    "    \"\"\"\n",
    "    new_R = R.copy()\n",
    "    new_G = G.copy()\n",
    "    new_B = B.copy()\n",
    "    # START CODING HERE\n",
    "    # << RESPUESTA DEL ALUMNO >>\n",
    "    # START CODING HERE    \n",
    "    return new_R, new_G, new_B\n",
    "\n",
    "R = np.array([0, 100, 181, 255])\n",
    "G = np.array([1, 103, 193, 243])\n",
    "B = np.array([3, 105, 177, 242])\n",
    "\n",
    "print(reset_least_significant_bit(R, G, B))"
   ]
  },
  {
   "cell_type": "markdown",
   "metadata": {},
   "source": [
    "### 3.2 Guardar como una imagen a partir de las matrices RGB\n",
    "\n",
    "Finalmente necesitamos poder guardar una imagen a partir de matrices R, G y B. Resulta importante que no guardemos con ningún tipo de compresión, pues de otro modo la imagen podría simplificarse y se perdería la información en los bits que vamos a codificar."
   ]
  },
  {
   "cell_type": "code",
   "execution_count": null,
   "metadata": {},
   "outputs": [],
   "source": [
    "def save_image_from_array(R, G, B, image_filepath):\n",
    "    \"\"\"\n",
    "    Creates an array with the proper dimensions and stores \n",
    "    the corresponding image\n",
    "    \"\"\"\n",
    "    height, width = R.shape\n",
    "    my_pixel_array = np.zeros([height, width, 3], dtype=\"uint8\") #must be uint8 for compatibility\n",
    "    my_pixel_array[:,:,0] = R                               \n",
    "    my_pixel_array[:,:,1] = G                               \n",
    "    my_pixel_array[:,:,2] = B\n",
    "    new_PIL_image = Image.fromarray(my_pixel_array, mode='RGB')\n",
    "    new_PIL_image.save(image_filepath, compress_level=0)\n",
    "    return"
   ]
  },
  {
   "cell_type": "markdown",
   "metadata": {},
   "source": [
    "### 3.3 Prueba de imagen\n",
    "\n",
    "Para verificar que todo esté funcionando correctamente, necesitamos una función que abra una imagen y luego guarde las matrices generadas.\n",
    "\n",
    "### Problema 7 [10 puntos]\n",
    "\n",
    "Escriba la función `open_reset_and_save` que tome una imagen y la guarde en otra imagen después de haber reseato sus dígitos menos significativos. Verifica que la imagen generada se vea parecida a la original."
   ]
  },
  {
   "cell_type": "code",
   "execution_count": null,
   "metadata": {},
   "outputs": [],
   "source": [
    "def open_reset_and_save(original_image, new_image):\n",
    "    \"\"\"\n",
    "    Abre la imagen, genera las matrices y la guarda como imagen.\n",
    "    \"\"\"\n",
    "    # Obtener las matrices R, G y B\n",
    "    R, G, B = from_image_to_array(original_image)\n",
    "    # Resetear las matrices\n",
    "    # INICIO CODIGO\n",
    "    # << RESPUESTA DEL ALUMNO >>\n",
    "    # FIN CODIGO\n",
    "    # Save the image                           \n",
    "    save_image_from_array(R, G, B, new_image)\n",
    "    print(\"Image saved at {}\".format(new_image))\n",
    "    return\n",
    "\n",
    "image_1 = os.path.join(\"images\", \"hackerman.png\")\n",
    "image_2 = os.path.join(\"images\", \"hackerman_test.png\")\n",
    "open_reset_and_save(image_1, image_2)"
   ]
  },
  {
   "cell_type": "markdown",
   "metadata": {},
   "source": [
    "## 4. Juntando todo [30 puntos]\n",
    "\n",
    "A partir de las funciones anteriormente definidas, es posible\n",
    "1. Insertar un mensaje en una imagen.\n",
    "2. Leer un mensaje de una imagen."
   ]
  },
  {
   "cell_type": "markdown",
   "metadata": {},
   "source": [
    "### 4.1 Insertando un mensaje\n",
    "Los pasos necesarios son los siguientes:\n",
    "\n",
    "1. Tomar un string y convertir todas sus letras a una secuencia de bits.\n",
    "2. Tomar los bits y ponerlos en el dígito menos significativo de los enteros que codifican el color de una imagen.\n",
    "3. Guardar la imagen\n",
    "\n",
    "Resulta necesario establecer ciertas convenciones para que la lectura y la escritura se realicen correctamente.\n",
    "Podríamos sobre-escribir los bits de sólo un canal, para ser más reservados. O escribir los bits en orden alterno en las matrices. O en general, aplicar cualquier cifrado a nuestro texto y al lugar donde enviaremos información. \n",
    "\n",
    "Sin embargo, no nos complicaremos. En este caso, escribiremos los bits en los enteros de la matriz R en el orden natural (por filas). Si todavía quedan bits, procederemos de la misma manera en la matriz G. Y por último, y si todavía queda texto, en la matriz B."
   ]
  },
  {
   "cell_type": "markdown",
   "metadata": {},
   "source": [
    "Para poder juntar todos los ingredientes necesitamos una función auxiliar que copie los bits que se le indican en la matriz correspondiente."
   ]
  },
  {
   "cell_type": "code",
   "execution_count": null,
   "metadata": {},
   "outputs": [],
   "source": [
    "def copy_bits(X, bits, start, n_bits_to_copy):\n",
    "    \"\"\"\n",
    "    Copia b_bits_to_copy de la lista bits en la matriz X partiendo en start.\n",
    "    \"\"\"\n",
    "    # Compute auxiliar indexes\n",
    "    end = start + n_bits_to_copy\n",
    "    # Compute matrix size\n",
    "    nx, ny = X.shape\n",
    "    # Flatten the array to simplify copying values\n",
    "    X_flat = X.flatten()\n",
    "    # Copy the bits\n",
    "    X_flat[:n_bits_to_copy] = X_flat[:n_bits_to_copy] + bits[start:end]\n",
    "    # Reshape\n",
    "    X_with_bits = X_flat.reshape([nx, ny])\n",
    "    return X_with_bits"
   ]
  },
  {
   "cell_type": "markdown",
   "metadata": {},
   "source": [
    "Finalmente podemos ensamblar todo de manera apropiada:"
   ]
  },
  {
   "cell_type": "code",
   "execution_count": null,
   "metadata": {},
   "outputs": [],
   "source": [
    "def encode(original_image, new_image, hidden_message):\n",
    "    \"\"\"\n",
    "    Codificar el texto hidden_message \n",
    "    sobre la image original_image \n",
    "    para generar la imagen new_image\n",
    "    \"\"\"\n",
    "    # Obtener los bits del mensaje secreto\n",
    "    my_bit_list = string_to_bits(hidden_message)\n",
    "    #print(\"\".join([str(x) for x in my_bit_list]))\n",
    "    # Calcular el número de bits por escribir\n",
    "    n_bits = len(my_bit_list)\n",
    "    # Obtener las matrices R, G y B\n",
    "    R, G, B = from_image_to_array(original_image)\n",
    "    # How many pixels do we have\n",
    "    n_pixels = R.shape[0] * R.shape[1]\n",
    "    # Resetear las matrices\n",
    "    R, G, B = reset_least_significant_bit(R, G, B)\n",
    "    # Know how much to copy\n",
    "    n_layers = n_bits // n_pixels\n",
    "    # Create the start and end for each layer\n",
    "    R_start_index = 0\n",
    "    G_start_index = n_pixels\n",
    "    B_start_index = 2*n_pixels\n",
    "    # Create the number of bits to copy at each layer\n",
    "    if n_layers==0:\n",
    "        print(\"Hidding message only in layer R\")\n",
    "        R_bits_to_copy = min(n_bits, n_pixels)\n",
    "        G_bits_to_copy = 0\n",
    "        B_bits_to_copy = 0\n",
    "    elif n_layers==1:\n",
    "        print(\"Hidding message in layers R and G\")\n",
    "        R_bits_to_copy = n_pixels\n",
    "        G_bits_to_copy = min(n_bits, 2*n_pixels) - n_pixels\n",
    "        B_bits_to_copy = 0\n",
    "    else:\n",
    "        print(\"Hidding message in layers R, G and B\")\n",
    "        R_bits_to_copy = n_pixels\n",
    "        G_bits_to_copy = n_pixels\n",
    "        B_bits_to_copy = min(n_bits, 3*n_pixels) - 2*n_pixels\n",
    "    # Store the information\n",
    "    R = copy_bits(R, my_bit_list, R_start_index, R_bits_to_copy)\n",
    "    G = copy_bits(G, my_bit_list, G_start_index, G_bits_to_copy)\n",
    "    B = copy_bits(B, my_bit_list, B_start_index, B_bits_to_copy)\n",
    "    # Save the image                           \n",
    "    save_image_from_array(R, G, B, new_image)\n",
    "    print(\"Image saved at {}\".format(new_image))\n",
    "    return\n",
    "                               \n",
    "my_secret_string = \"Aca puedo poner mensajes secretos y ocultarlos en una imagen.\"\n",
    "\n",
    "image_1 = os.path.join(\"images\", \"hackerman.png\")\n",
    "image_2 = os.path.join(\"images\", \"hackerman_with_hidden_message.png\")\n",
    "encode(image_1, image_2, my_secret_string)"
   ]
  },
  {
   "cell_type": "markdown",
   "metadata": {},
   "source": [
    "### Problema 8 [10 puntos]\n",
    "Responda a las siguientes preguntas:\n",
    "* ¿Porqué creamos una función auxiliar `copy_bits`?\n",
    "\n",
    "*R: << RESPUESTA DEL ALUMNO >>*\n",
    "\n",
    "* ¿Que otra estrategia propondría para aumentar la seguridad en el envío del mensaje?\n",
    "\n",
    "*R: << RESPUESTA DEL ALUMNO >>*"
   ]
  },
  {
   "cell_type": "markdown",
   "metadata": {},
   "source": [
    "## 4.2 Leyendo un mensaje\n",
    "\n",
    "Los pasos necesarios son los siguientes:\n",
    "\n",
    "1. Abrir una imagen y obtener los colores que componen una imagen.\n",
    "2. Tomar los bits menos significativos de los enteros asociados.\n",
    "3. Generar el texto asociado a esos bits e imprimirlos en pantalla.\n",
    "\n",
    "Esta etapa es más sencilla y solo requiere agrupar adecuadamente la información."
   ]
  },
  {
   "cell_type": "code",
   "execution_count": null,
   "metadata": {},
   "outputs": [],
   "source": [
    "def decode(image_with_message):\n",
    "    \"\"\"\n",
    "    Abrir la imagen, separar en R, G, B\n",
    "    Obtener los bits menos significativos de cada canal\n",
    "    Formar el texto corresondiente.\n",
    "    \"\"\"\n",
    "    # Get the ingredients\n",
    "    R, G, B = from_image_to_array(image_with_message)\n",
    "    # Use some strategy to store the information\n",
    "    my_R_bits = list( np.mod(R.flatten(), 2) )\n",
    "    my_B_bits = list(G.flatten() - 2*np.floor_divide(G.flatten(), 2))\n",
    "    my_G_bits = list(B.flatten() % 2)\n",
    "    my_bit_list = my_R_bits + my_B_bits + my_G_bits\n",
    "    #print(\"\".join([str(i) for i in my_bit_list]))\n",
    "    # See if a message\n",
    "    message = bits_to_string(my_bit_list, n_bits=8)\n",
    "    return message\n",
    "                               \n",
    "image_2 = os.path.join(\"images\", \"hackerman_with_hidden_message.png\")\n",
    "string = decode(image_2)\n",
    "print(string)"
   ]
  },
  {
   "cell_type": "markdown",
   "metadata": {},
   "source": [
    "### Problema 9 [10 puntos]\n",
    "\n",
    "Explique el significado de todas las siguientes líneas en el código:\n",
    "```python\n",
    "my_R_bits = list( np.mod(R.flatten(), 2) )\n",
    "my_B_bits = list(G.flatten() - 2*np.floor_divide(G.flatten(), 2))\n",
    "my_G_bits = list(B.flatten() % 2)\n",
    "my_bit_list = my_R_bits + my_B_bits + my_G_bits\n",
    "```\n",
    "\n",
    "*R: << RESPUESTA DEL ALUMNO >>*"
   ]
  },
  {
   "cell_type": "markdown",
   "metadata": {},
   "source": [
    "### Problema 10 [10 puntos]\n",
    "¿Que texto está codificado en la imagen `problema_10.png`?\n",
    "\n",
    "![utfsm](images/problema_10.png)"
   ]
  },
  {
   "cell_type": "code",
   "execution_count": null,
   "metadata": {},
   "outputs": [],
   "source": [
    "# INICIO DEL CODIGO\n",
    "\n",
    "# CODIGO ACA\n",
    "\n",
    "# FIN DEL CODIGO"
   ]
  },
  {
   "cell_type": "markdown",
   "metadata": {},
   "source": [
    "*R: << RESPUESTA DEL ALUMNO CON EL TEXTO SECRETO >>*"
   ]
  },
  {
   "cell_type": "markdown",
   "metadata": {},
   "source": [
    "## 5. Retroalimentación sobre el curso [0 puntos]\n",
    "\n",
    "Esta sección **no será evaluada** pero nos permitirá obtener retroalimentación de las clases, tareas y laboratorios. Puedes ser completamente sincero, pues no será parte de la evaluación de esta tarea (ni de futuras).\n",
    "\n",
    "**1**. ¿Aproximadamente cuánto tiempo, en horas, te tomó terminar la tarea?\n",
    "\n",
    "*R: << RESPUESTA DEL ALUMNO >>*\n",
    "\n",
    "**2**. ¿Qué tan interesante es esta tarea (0-100)?\n",
    "\n",
    "*R: << RESPUESTA DEL ALUMNO >>*\n",
    "\n",
    "**3**. ¿Qué tan difícil fue esta tarea (0-100)? Siendo 0 complemente trivial, 100 completamente imposible y 50 siendo una complejidad apropiada.\n",
    "\n",
    "*R: << RESPUESTA DEL ALUMNO >>*\n",
    "\n",
    "**4**. Evalúa las siguientes clases del módulo 1, en escala 0 a 100 (siendo 0 completamente inútil y 100 información indispensable). Puedes incluir comentarios adicionales, si lo deseas.\n",
    "* **Clase 1: Sobre el curso.** R: *[RESPUESTA DEL ESTUDIANTE]*\n",
    "* **Clase 2: Data Science Toolkit.** R: *[RESPUESTA DEL ESTUDIANTE]*\n",
    "* **Clase 3: Advice for work.** R: *[RESPUESTA DEL ESTUDIANTE]*\n",
    "* **Clase 4: Data manipulation.** R: *[RESPUESTA DEL ESTUDIANTE]*"
   ]
  }
 ],
 "metadata": {
  "celltoolbar": "Slideshow",
  "kernelspec": {
   "display_name": "Python 3",
   "language": "python",
   "name": "python3"
  },
  "language_info": {
   "codemirror_mode": {
    "name": "ipython",
    "version": 3
   },
   "file_extension": ".py",
   "mimetype": "text/x-python",
   "name": "python",
   "nbconvert_exporter": "python",
   "pygments_lexer": "ipython3",
   "version": "3.6.7"
  }
 },
 "nbformat": 4,
 "nbformat_minor": 2
}
