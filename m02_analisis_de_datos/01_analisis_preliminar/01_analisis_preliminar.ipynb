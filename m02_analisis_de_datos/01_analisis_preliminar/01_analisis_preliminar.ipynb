{
 "cells": [
  {
   "cell_type": "markdown",
   "metadata": {
    "slideshow": {
     "slide_type": "slide"
    }
   },
   "source": [
    "# MAT281\n",
    "\n",
    "## Aplicaciones de la Matemática en la Ingeniería"
   ]
  },
  {
   "cell_type": "markdown",
   "metadata": {
    "slideshow": {
     "slide_type": "slide"
    }
   },
   "source": [
    "## ¿Qué contenido aprenderemos?\n",
    "1. Conjeturas razonables\n",
    "2. Reglas de aproximación\n",
    "3. Teorema Pi o Teorema de Buckingham."
   ]
  },
  {
   "cell_type": "markdown",
   "metadata": {
    "slideshow": {
     "slide_type": "slide"
    }
   },
   "source": [
    "## ¿Porqué aprenderemos ese contenido?\n",
    "\n",
    "Porque todo ingeniero necesita conocer el orden de magnitud de las soluciones que está buscando. Una respuesta aproximada permite tener una primera aproximación gruesa a la posible solución del problema, y permite identificar los principales elementos que participarán. Si los números parecen extraños en la primera aproximación, es necesario identificar posibles factores no considerados o errores en los datos."
   ]
  },
  {
   "cell_type": "markdown",
   "metadata": {
    "slideshow": {
     "slide_type": "slide"
    }
   },
   "source": [
    "##  MOOC\n",
    " * Soy ferviente partidario de los MOOCs. \n",
    " * Gran parte de esta clase está basada en el curso Street Fighting Mathematics de <a href=\"https://www.edx.org/course/street-fighting-math-mitx-6-sfmx\">Edx</a>.\n",
    " * Libro asociado disponible gratuitamente <a href=\"https://mitpress.mit.edu/books/street-fighting-mathematics\">en línea</a>.\n",
    " \n",
    " <img src=\"images/mooc.png\" alt=\"\" width=\"400\" align=\"middle\"/>"
   ]
  },
  {
   "cell_type": "markdown",
   "metadata": {
    "slideshow": {
     "slide_type": "fragment"
    }
   },
   "source": [
    " * Como ICM, ¡hay que aprender nuevos conceptos y mantenerse actualizado!\n",
    " * En general, cursos interesantes (data science, big data, machine learning, parallel programming) se explican en python."
   ]
  },
  {
   "cell_type": "markdown",
   "metadata": {
    "slideshow": {
     "slide_type": "slide"
    }
   },
   "source": [
    "## Notación\n",
    "* $=$ : igual a\n",
    "* $\\approx$ : aproximadamente (latex \\approx)\n",
    "* $\\sim$ : del orden de (latex \\sim)\n",
    "* $\\propto$ : proporcional (latex \\propto)\n"
   ]
  },
  {
   "cell_type": "markdown",
   "metadata": {
    "slideshow": {
     "slide_type": "slide"
    }
   },
   "source": [
    "## Notación\n",
    "* $=$ : Se usa para una igualdad.\n",
    "$$A = \\pi a b$$\n",
    "* $\\approx$ : Se usa para igualdad excepto por factor cercano a uno.\n",
    "$$A \\approx 3 a b$$\n",
    "* $\\sim$ : Se usa para igualdad excepto por factor sin dimensiones.\n",
    "$$A \\sim a b$$\n",
    "* $\\propto$ : Se usa para igualdad excepto por factor con dimensiones.\n",
    "$$A \\propto a $$"
   ]
  },
  {
   "cell_type": "markdown",
   "metadata": {
    "slideshow": {
     "slide_type": "slide"
    }
   },
   "source": [
    "## Regla 1-$\\pi$-10\n",
    "\n",
    "#### Motivación\n",
    " * Multiplicar y dividir números rápidamente.\n",
    "\n",
    "#### Técnica\n",
    "* Utilizar notación científica.\n",
    "* Multiplicar factores de 10.\n",
    "* Multiplicar factores numéricos utilizando la siguiente aproximación:\n",
    "  * Si $1 \\leq |x| < 2$: aproximar a 1.\n",
    "  * Si $2 \\leq |x| < 6$: aproximar a $\\pi$.\n",
    "  * Si $6 \\leq |x| < 10$: aproximar a 10.\n",
    "* Utilizar $\\pi^2 \\approx 10$."
   ]
  },
  {
   "cell_type": "markdown",
   "metadata": {
    "slideshow": {
     "slide_type": "slide"
    }
   },
   "source": [
    "## Regla 1-$\\pi$-10\n",
    "#### Ejemplo 1\n",
    "$$ 1,312 \\times 3,124 \\times 542 ≈ 1.3 \\times 10^3 \\times 3.1 \\times 10^3 · 5.4 · 10^2 $$\n",
    "$$\\approx 1.3 \\times 3.1 \\times 5.4 \\times 10^3 \\times 10^3 \\times 10^2$$\n",
    "$$\\approx 1 \\times \\pi \\times \\pi \\times  10^8$$\n",
    "$$\\approx \\pi^2  10^8$$\n",
    "$$\\approx 10^9$$"
   ]
  },
  {
   "cell_type": "markdown",
   "metadata": {
    "slideshow": {
     "slide_type": "fragment"
    }
   },
   "source": [
    "La respuesta exacta es:\n",
    "$$1,312 \\times 3,124 \\times 542 = 2,221,488,896 \\approx 2.2 \\cdot 10^9$$\n",
    "¡Suficientemente cerca!\n"
   ]
  },
  {
   "cell_type": "markdown",
   "metadata": {
    "slideshow": {
     "slide_type": "slide"
    }
   },
   "source": [
    "## Regla 1-$\\pi$-10\n",
    "#### Ejemplo 2\n",
    "$$4, 675 · 0.007432 · 892 ≈ 4.6 · 10^3 · 7.4 · 10^{ −3}  · 8.9 · 10^2$$\n",
    "$$\\approx 4.6 · 7.4 · 8.9 · 10^3 · 10^{ −3}  · 10^2$$\n",
    "$$\\approx \\pi · 10 · 10 · 10^2$$\n",
    "$$\\approx \\pi · 10^4$$"
   ]
  },
  {
   "cell_type": "markdown",
   "metadata": {
    "slideshow": {
     "slide_type": "fragment"
    }
   },
   "source": [
    "La respuesta exacta es:\n",
    "$$ 4,675 \\times 0.007432 \\times 892 = 30,992.1832 \\approx 3.1 · 10^4$$\n",
    "¡Increíblemente cerca!\n"
   ]
  },
  {
   "cell_type": "markdown",
   "metadata": {
    "slideshow": {
     "slide_type": "slide"
    }
   },
   "source": [
    "## Conjeturas razonables\n",
    "\n",
    "#### Educated Guessing\n",
    "\n",
    "*A guess that is made using judgment and some degree of knowledge.*\n",
    "\n",
    "#### Conjetura razonable\n",
    "El arte de las conjeturas razonables es mezclar adecuadamente fórmulas y valores conocidos, y completar lo desconocido con hipótesis razonables."
   ]
  },
  {
   "cell_type": "markdown",
   "metadata": {
    "slideshow": {
     "slide_type": "slide"
    }
   },
   "source": [
    "## Conjeturas razonables\n",
    "\n",
    "#### Ejercicio\n",
    "Sin googlear, anoten en un papel su estimación de la magnitud de los\n",
    "siguientes valores:\n",
    "* Litros de agua en la tierra.\n",
    "* Pañales utilizados en Chile al año.\n"
   ]
  },
  {
   "cell_type": "markdown",
   "metadata": {
    "slideshow": {
     "slide_type": "slide"
    }
   },
   "source": [
    "#### Conjeturas razonables\n",
    "##  Litros de agua en la tierra.\n",
    "\n",
    "#### Conocimiento relevante\n",
    "* Radio de la tierra: 6.000 km\n",
    "* Profundidad media del océano: 5 km\n",
    "\n",
    "#### Hipótesis simplificadora\n",
    "* Tierra es una esfera\n",
    "* Superficie del océano es 3/4 de la superficie terrestre\n",
    "\n"
   ]
  },
  {
   "cell_type": "markdown",
   "metadata": {
    "slideshow": {
     "slide_type": "slide"
    }
   },
   "source": [
    "#### Conjeturas razonables\n",
    "##  Litros de agua en la tierra.\n",
    "\n",
    "Superficie Océano × Profundidad Océano = 3/4 Superficie Tierra × Profundidad Océano\n",
    "$$= (3/4) \\ 4 \\pi \\ 6000^2 \\ [km^2] × 5 \\ [km]$$\n",
    "$$= 3 · 5 · \\pi · 36 · 10^6 \\ [km^3]$$\n",
    "$$= \\pi^4 · 10^7 \\ [km^3]$$\n",
    "$$= 10^9 \\ [km^3]$$\n"
   ]
  },
  {
   "cell_type": "markdown",
   "metadata": {
    "slideshow": {
     "slide_type": "fragment"
    }
   },
   "source": [
    "* Conjetura Razonable:\n",
    "$$10^9 [km^3]$$\n",
    "\n",
    "* Valor correcto :\n",
    "$$1.4 · 10^9 [km^3 ]$$\n",
    "\n",
    "40 % de error para un cálculo que tomó menos de 2 minutos.\n"
   ]
  },
  {
   "cell_type": "markdown",
   "metadata": {
    "slideshow": {
     "slide_type": "slide"
    }
   },
   "source": [
    "#### Conjeturas razonables\n",
    "##  Pañales utilizados en Chile al año\n",
    "\n",
    "#### Conocimiento relevante\n",
    "* Población en Chile: 17 millones.\n",
    "* Un bebe usa 4 pañales por día hasta los 2 años.\n",
    "\n",
    "#### HIpótesis simplificadora\n",
    "* Tasa de mortalidad es constante\n",
    "* Longevidad de 100 años.\n"
   ]
  },
  {
   "cell_type": "markdown",
   "metadata": {
    "slideshow": {
     "slide_type": "slide"
    }
   },
   "source": [
    "#### Conjeturas razonables\n",
    "##  Pañales utilizados en Chile al año\n",
    "\n",
    "Pañales utilizados en Chile por año\n",
    "\n",
    "= Número de Bebés en Chile × Pañales por Bebé por Día × Días en el año\n",
    "\n",
    "= Número de Bebés en Chile × $4$ [pañales/día] × $365$ [días/año]\n",
    "\n",
    "= Número de Bebes en Chile × $10^3$ [pañales/año]\n",
    "\n"
   ]
  },
  {
   "cell_type": "markdown",
   "metadata": {
    "slideshow": {
     "slide_type": "slide"
    }
   },
   "source": [
    "#### Conjeturas razonables\n",
    "##  Pañales utilizados en Chile al año\n",
    "\n",
    "¿Como estimar el número de bebes?\n",
    "* Los bebes usan pañales hasta los 2 años.\n",
    "* Por lo tanto el número de bebés en Chile es, aproximadamente, 2 veces el número de nacimientos anuales.\n",
    "* Si asumimos que la poblacion vive hasta los 100 años, y la tasa de mortalidad es constante, podemos estimar que nacen al año $17 · 10^6 /50 = 34 · 10^4$ bebés\n",
    "* Por tanto, hay $≈ 7 · 10^5$ bebés entre 0 y 2 años.\n",
    "* En conclusión, en Chile se utilizan ∼ $7 · 10^5 \\times 10^3 = 7 · 10^8$ pañales al año.\n",
    "* Lo más correcto es decir, en Chile se utilizan entre $10^8$ y $10^9$ pañales al año."
   ]
  },
  {
   "cell_type": "markdown",
   "metadata": {
    "slideshow": {
     "slide_type": "slide"
    }
   },
   "source": [
    "#### Conjeturas razonables\n",
    "##  Pañales utilizados en Chile al año\n",
    "\n",
    "* Conjetura Razonable: $7 · 10^8$ [pañales/año]\n",
    "* Valor correcto: No hay\n",
    "\n",
    "El INE cifra en $2.4 · 10^5$ nacimientos anuales, y nuestra estimación fue de $3.4 · 10^5$ nacimientos anuales.\n",
    "\n",
    "\n"
   ]
  },
  {
   "cell_type": "markdown",
   "metadata": {
    "slideshow": {
     "slide_type": "slide"
    }
   },
   "source": [
    "#### Conjeturas razonables\n",
    "##  Aplicación\n",
    "\n",
    "¿Para modelar el desgaste de un neumático, se debe utilizar mecánica de sólidos o mecánica de la ruptura?"
   ]
  },
  {
   "cell_type": "markdown",
   "metadata": {
    "slideshow": {
     "slide_type": "fragment"
    }
   },
   "source": [
    "¿Cuánto se desgasta un neumático al dar una vuelta?"
   ]
  },
  {
   "cell_type": "markdown",
   "metadata": {
    "slideshow": {
     "slide_type": "slide"
    }
   },
   "source": [
    "#### Conjeturas razonables\n",
    "##  Aplicación\n",
    "\n",
    "<img src=\"images/neumatico.jpg\" alt=\"\" height=\"100px\" align=\"right\"/>\n",
    "\n",
    "#### Conocimiento previo\n",
    "* En 50,000 [km] un neumático se gasta aproximadamente 5 [mm]. \n",
    "* Un atomo tiene un diámetro del orden de magnitud de $10^{-9}$ [m]\n",
    "* Un neumático tiene un radio de $\\sim 50$ [cm].\n",
    "\n",
    "#### Hipótesis razonables\n",
    "* El neumático gira sin deslizar (patinar).\n"
   ]
  },
  {
   "cell_type": "markdown",
   "metadata": {
    "slideshow": {
     "slide_type": "slide"
    }
   },
   "source": [
    "#### Conjeturas razonables\n",
    "##  Aplicación\n",
    "50,000 km equivalen al  siguiente número de giros:\n",
    "$$\\frac{50,000 \\cdot 10^3 [m]}{2*\\pi*0.5 [m]} \\approx 10^7$$\n",
    "Desgaste = $5$ milímetros / $10^7$ vueltas\n",
    "\n",
    "Es decir el desgaste es $\\approx 5 \\cdot 10^{-10}$ metros/vuelta.\n",
    "\n",
    "* Esto quiere decir que en cada vuelta se pierde un espesor menor al tamaño de un átomo ($10^{-9}$ [m]).\n",
    "* Esto indica que la pérdida de material en la rueda no es en continuo, sino en un proceso más complejo."
   ]
  },
  {
   "cell_type": "markdown",
   "metadata": {
    "slideshow": {
     "slide_type": "slide"
    }
   },
   "source": [
    "## Unidades y Dimensiones\n",
    "\n",
    "Para poder comparar 2 mediciones, éstas deben tener las mismas\n",
    "dimensiones y las mismas unidades.\n"
   ]
  },
  {
   "cell_type": "markdown",
   "metadata": {
    "slideshow": {
     "slide_type": "fragment"
    }
   },
   "source": [
    "#### Ejemplo trivial\n",
    "“*Sebastian mide 5.7 pies y Camilo mide 2.0 metros.\n",
    "Evidentemente Sebastian es mas alto, pues 5.7 > 2.0*”\n"
   ]
  },
  {
   "cell_type": "markdown",
   "metadata": {
    "slideshow": {
     "slide_type": "slide"
    }
   },
   "source": [
    "## Unidades y Dimensiones\n",
    "#### Ejemplo no trivial\n",
    "\"*In Nigeria, a relatively economically strong country, the GDP\n",
    "[gross domestic product] is USD 99 billion. The net worth of Exxon is\n",
    "USD 119 billion. When multi- nationals have a net worth higher than\n",
    "the GDP of the country in which they operate, what kind of\n",
    "power relationship are we talking about?*\" "
   ]
  },
  {
   "cell_type": "markdown",
   "metadata": {
    "slideshow": {
     "slide_type": "fragment"
    }
   },
   "source": [
    "* GDP (PIB) se mide anualmente, por lo que la unidad correcta sería en\n",
    "USD/año.\n",
    "* El valor neto de la compañía se mide en USD. \n",
    "\n",
    "Las unidades no son consistentes y la comparación es incorrecta."
   ]
  },
  {
   "cell_type": "markdown",
   "metadata": {
    "slideshow": {
     "slide_type": "slide"
    }
   },
   "source": [
    "## Análisis dimensional de fórmulas\n",
    "Podemos aplicar análisis dimensional para obtener estimaciones de fórmulas.\n",
    "\n",
    "#### Ejemplo motivador\n",
    "$$A_a = \\int_{-\\infty}^{+\\infty} e^{-ax^2} dx$$\n",
    "\n",
    "¿Qué relación es correcta?: \n",
    "* $A_a \\sim a$\n",
    "* $A_a \\sim \\sqrt{a} $\n",
    "* $A_a \\sim 1/\\sqrt{a} $ \n",
    "* $A_a \\sim 1/a$"
   ]
  },
  {
   "cell_type": "markdown",
   "metadata": {
    "slideshow": {
     "slide_type": "slide"
    }
   },
   "source": [
    "#### Análisis dimensional de fórmulas\n",
    "## Observación crucial\n",
    "Funciones tales como $e^x$, $\\sin(x)$, $log(x)$ sólo pueden aplicarse a variables adimensionales.\n",
    "\n",
    "**¿Porqué?**"
   ]
  },
  {
   "cell_type": "markdown",
   "metadata": {
    "slideshow": {
     "slide_type": "fragment"
    }
   },
   "source": [
    "Considere la expansión en Serie de Taylor de las funciones:\n",
    "\n",
    "$$e^x = 1 + x + \\frac{1}{2!}x^2 + \\frac{1}{3!} x^3 + ... $$\n",
    "\n",
    "$$\\sin(x) = x - \\frac{1}{3!}x^3 + \\frac{1}{5!} x^5 + ...$$\n",
    "\n",
    "$$log(1+x) = x - \\frac{1}{2!}x^2 + \\frac{1}{3!} x^3 - \\frac{1}{4!} x^4 + ... $$\n",
    "\n",
    "El lado derecho sólo puede tener sentido si $x$ es adimensional."
   ]
  },
  {
   "cell_type": "markdown",
   "metadata": {
    "slideshow": {
     "slide_type": "slide"
    }
   },
   "source": [
    "#### Análisis dimensional de fórmulas\n",
    "## Análisis dimensional del ejemplo\n",
    "\n",
    "$$A_a = \\int_{-\\infty}^{+\\infty} e^{-ax^2} dx$$\n",
    "\n",
    "* Supongamos que $x$ tiene una cierta unidad $u$.\n",
    "\n",
    "* $e^{-ax^2}$ es adimensional, por lo tanto $a$ tiene dimensiones de $1/u^2$.\n",
    "* $dx$ tiene unidades de $u$.\n",
    "* La integral representa sólo una suma infinitesimal, por lo que no cambia las unidades.\n",
    "* $A_a$ debe tener unidades de $1 \\times u$. \n",
    "\n",
    "Por lo tanto, $A_a$ debe ser proporcional a $1/\\sqrt{a}$.  Por supuesto, la respuesta exacta es $\\sqrt{\\pi/a}$"
   ]
  },
  {
   "cell_type": "markdown",
   "metadata": {
    "slideshow": {
     "slide_type": "slide"
    }
   },
   "source": [
    "#### Análisis dimensional de fórmulas\n",
    "## Ejemplo 2\n",
    "\n",
    "$$A_b = \\int_{0}^{+\\infty} e^{-bx} dx$$\n"
   ]
  },
  {
   "cell_type": "markdown",
   "metadata": {
    "slideshow": {
     "slide_type": "slide"
    }
   },
   "source": [
    "#### Análisis dimensional de fórmulas\n",
    "## Análisis dimensional del ejemplo\n",
    "\n",
    "$$A_b = \\int_{0}^{+\\infty} e^{-bx} dx$$\n",
    "\n",
    "* Supongamos que $x$ tiene una cierta unidad $u$.\n",
    "\n",
    "* $e^{-bx}$ es adimensional, por lo tanto $b$ tiene dimensiones de $1/u$.\n",
    "* $dx$ tiene unidades de $u$.\n",
    "* La integral representa sólo una suma infinitesimal, por lo que no cambia las unidades.\n",
    "* $A_b$ debe tener unidades de $1 \\times u$. \n",
    "\n",
    "Por lo tanto, $A_b$ debe ser proporcional a $1/b$. En este caso, la respuesta exacta es $1/b$"
   ]
  },
  {
   "cell_type": "markdown",
   "metadata": {
    "slideshow": {
     "slide_type": "slide"
    }
   },
   "source": [
    "## Análisis Dimensional\n",
    "\n",
    "#### Definición\n",
    "* Simplificación de un fenómeno al reducir las magnitudes físicas involucradas al mínimo número posible. "
   ]
  },
  {
   "cell_type": "markdown",
   "metadata": {
    "slideshow": {
     "slide_type": "fragment"
    }
   },
   "source": [
    "#### Casos\n",
    "* Si el fenómeno no tiene ecuacion(es) asociadas conocidas: utilizaremos el **Teorema Buckingham** (aka Teorema $\\Pi$) que entrega las posibles variables adimensionales, es decir, el espacio dimensional mínimo a estudiar.\n",
    "\n",
    "* Si el fenómeno si tiene ecuacion(es) asociadas conocidas: realizaremos la **Adimensionalización** de las ecuaciones permite expresarla de la  manera más compacta posible."
   ]
  },
  {
   "cell_type": "markdown",
   "metadata": {
    "slideshow": {
     "slide_type": "slide"
    }
   },
   "source": [
    "## 3. Teorema  $\\Pi$\n",
    "\n",
    "El análisis dimensional es parte esencial del estudio de un problema. \n",
    "Permite reducir un problema complejo a sus mínimos componentes."
   ]
  },
  {
   "cell_type": "markdown",
   "metadata": {
    "slideshow": {
     "slide_type": "slide"
    }
   },
   "source": [
    "## Pregunta crucial\n",
    "\n",
    "* ¿Porqué en física e ingeniería las potencias de las fórmulas son siempre números enteros? \n",
    "* ¿Porqué no existen formulas donde la potencia sea un número irracional?"
   ]
  },
  {
   "cell_type": "markdown",
   "metadata": {
    "slideshow": {
     "slide_type": "fragment"
    }
   },
   "source": [
    "Porque área y volumen tienen potencias enteras, y las leyes son conservativas. Al integrar sobre un área o volumen, se deben obtener constantes."
   ]
  },
  {
   "cell_type": "markdown",
   "metadata": {
    "slideshow": {
     "slide_type": "slide"
    }
   },
   "source": [
    "## Análisis Dimensional\n",
    "\n",
    "#### Definición\n",
    "Análisis Dimensional es una forma de\n",
    "simplificar un modelo físico utilizando la necesidad de homogeneidad\n",
    "dimensional para disminuir el número de variables."
   ]
  },
  {
   "cell_type": "markdown",
   "metadata": {
    "slideshow": {
     "slide_type": "slide"
    }
   },
   "source": [
    "## Análisis Dimensional\n",
    "\n",
    "#### Utilidad\n",
    "* Chequear las ecuaciones.\n",
    "* Analizar problemas que no admiten solución teórica directa.\n",
    "* Establecer la importancia relativa de distintos componentes de un fenómeno físico.\n",
    "* Presentar e interpretar datos experimentales\n",
    "* Diseñar experimentos de laboratorio o numéricos."
   ]
  },
  {
   "cell_type": "markdown",
   "metadata": {
    "slideshow": {
     "slide_type": "slide"
    }
   },
   "source": [
    "#### Análisis Dimensional\n",
    "\n",
    "## Dimensión vs Unidad\n",
    "#### Dimensión\n",
    "Tipo de cantidad física.\n",
    "\n",
    "#### Unidad\n",
    "Forma de asignar valor numérico a una cantidad de dimensión."
   ]
  },
  {
   "cell_type": "markdown",
   "metadata": {
    "slideshow": {
     "slide_type": "fragment"
    }
   },
   "source": [
    "#### Preguntas\n",
    "* ¿Cuántas dimensiones físicas existen?\n",
    "* ¿Cuántas unidades físicas existen?"
   ]
  },
  {
   "cell_type": "markdown",
   "metadata": {
    "slideshow": {
     "slide_type": "slide"
    }
   },
   "source": [
    "#### Análisis Dimensional\n",
    "## Dimensiones físicas\n",
    "Existen 7 dimensiones fundamentales, cuyas unidades básicas\n",
    "son definidas por el SI (Sistema Internacional de Unidades):\n",
    "\n",
    "* $L$ Longitud. \n",
    "  * Unidad: metro, [m].\n",
    "* $M$ Masa. \n",
    "  * Unidad: kilogramo, [kg].\n",
    "* $T$ Tiempo. \n",
    "  * Unidad: segundo, [s].\n",
    "* $\\theta$ Temperatura. \n",
    "  * Unidad: Kelvin, [K].\n",
    "\n"
   ]
  },
  {
   "cell_type": "markdown",
   "metadata": {
    "slideshow": {
     "slide_type": "slide"
    }
   },
   "source": [
    "#### Análisis Dimensional\n",
    "## Dimensiones físicas\n",
    "Existen 7 dimensiones fundamentales, cuyas unidades básicas\n",
    "son definidas por el SI (Sistema Internacional de Unidades):\n",
    "\n",
    "* $I$ Intensidad de Corriente Eléctrica. \n",
    "  * Unidad: Amperio, [A].\n",
    "* $\\mu$ Cantidad de Sustancia. \n",
    "  * Unidad: Mol, [mol].\n",
    "* $lv$ Intensidad Luminosa. \n",
    "  * Unidad: Candela, [cd].\n",
    "\n"
   ]
  },
  {
   "cell_type": "markdown",
   "metadata": {
    "slideshow": {
     "slide_type": "slide"
    }
   },
   "source": [
    "#### Análisis Dimensional\n",
    "## Repaso de FIS100\n",
    "\n",
    "¿Dimensiones de Fuerza? ¿Dimensiones de Torque?\n"
   ]
  },
  {
   "cell_type": "markdown",
   "metadata": {
    "slideshow": {
     "slide_type": "fragment"
    }
   },
   "source": [
    "#### Fuerza:\n",
    "* Unidades: $M L T^{-2}$\n",
    "* Recordar: Fuerza = masa $\\times$ aceleración\n",
    "\n",
    "#### Torque:\n",
    "* Unidades: $M L^2 T^{-2}$\n",
    "* Recordar: Torque = fuerza $\\times$ largo"
   ]
  },
  {
   "cell_type": "markdown",
   "metadata": {
    "slideshow": {
     "slide_type": "slide"
    }
   },
   "source": [
    "#### Análisis Dimensional\n",
    "## Repaso de FIS100\n",
    "¿Dimensiones de Energía? \n",
    "¿Dimensiones de Presión?\n",
    "\n"
   ]
  },
  {
   "cell_type": "markdown",
   "metadata": {
    "slideshow": {
     "slide_type": "fragment"
    }
   },
   "source": [
    "#### Energía:\n",
    "* Unidades: $M L^2 T^{-2}$\n",
    "* Recordar: Energia Cinética = masa $\\times$ velocidad al cuadrado\n",
    "\n",
    "#### Presión:\n",
    "* Unidades: $M L^{-1} T^{-2}$\n",
    "* Recordar: Presión = Fuerza sobre area\n",
    "\n"
   ]
  },
  {
   "cell_type": "markdown",
   "metadata": {
    "slideshow": {
     "slide_type": "slide"
    }
   },
   "source": [
    "#### Análisis Dimensional\n",
    "## Teorema $\\Pi$ o teorema Buckingham\n",
    "\n",
    "Si un problema requiere $n$ variables dimensionales con $k$ dimensiones independientes, entonces puede reducirse a una relación entre $n − k$ parámetros\n",
    "no dimensionales $\\Pi_1 ,\\Pi_2 , ..., \\Pi_{n-k}$\n",
    "\n",
    "\n",
    "$$\\Phi(\\Pi_1 ,\\Pi_2 , ..., \\Pi_{n-k}) = 0$$"
   ]
  },
  {
   "cell_type": "markdown",
   "metadata": {
    "slideshow": {
     "slide_type": "slide"
    }
   },
   "source": [
    "#### Teorema $\\Pi$ o teorema Buckingham\n",
    "\n",
    "Para construir estos parámetros no-dimensionales:\n",
    "1. Elegir $k$ variables de escalamiento que contengan en conjunto las $k$ dimensiones del problema: $s_1 , ..., s_k$.\n",
    "2. Para cada una de las restantes $n − k$ variables $v_i$ construir una\n",
    "variable adimensional $\\Pi_i$ de la forma\n",
    "$$\\Pi_i = v_i (s_1 )^{m_1} (s_2 )^{m_2} ...(s_k )^{m_k}$$\n",
    "donde $m_1$, $m_2$ , ... $m_k$ se resuelven para hacer cada $\\Pi_i$ adimensional."
   ]
  },
  {
   "cell_type": "markdown",
   "metadata": {
    "slideshow": {
     "slide_type": "slide"
    }
   },
   "source": [
    "#### Análisis Dimensional\n",
    "## Teorema $\\Pi$ o teorema Buckingham\n",
    "\n",
    "* La elección de la \"base\" $s_i$ no es única.\n",
    "* Una vez elegida la \"base\" $s_i$, los parámetros quedan únicamente definidos.\n",
    "* El teorema permite determinar cuales serán los parámetros adimensionales, a pesar que la ecuación sea todavía desconocida."
   ]
  },
  {
   "cell_type": "markdown",
   "metadata": {
    "slideshow": {
     "slide_type": "slide"
    }
   },
   "source": [
    "<img src=\"images/caida.png\" alt=\"\" height=\"300\" align=\"right\"/>\n",
    "\n",
    "## Ejemplo 1: Caída libre\n",
    "Consideremos el caso de la caída libre de un objeto. \n",
    "\n",
    "¿Cuales son las variables físicas involucradas?"
   ]
  },
  {
   "cell_type": "markdown",
   "metadata": {
    "slideshow": {
     "slide_type": "fragment"
    }
   },
   "source": [
    "* Masa del objeto: $m$\n",
    "* Altura de la caída: $h$\n",
    "* Tiempo de caída: $t$\n",
    "* Constante de gravedad: $g$"
   ]
  },
  {
   "cell_type": "markdown",
   "metadata": {
    "slideshow": {
     "slide_type": "slide"
    }
   },
   "source": [
    "#### Ejemplo 1: Caída libre\n",
    "## Dimensiones\n",
    "* Masa del objeto: $[m] = M$\n",
    "* Altura de la caída: $[h] = L$\n",
    "* Tiempo de caída: $[t] = T$\n",
    "* Constante de gravedad: $[g] = L/T^2$\n",
    "\n",
    "**Conclusión**: La masa no es importante en la caída libre: no puede relacionarse con las otras variables, pues no sería posible adimensionalizarla."
   ]
  },
  {
   "cell_type": "markdown",
   "metadata": {
    "slideshow": {
     "slide_type": "slide"
    }
   },
   "source": [
    "#### Ejemplo 1: Caída libre\n",
    "## Teorema $\\Pi$\n",
    "* Datos:\n",
    "  * 3 variables: $h$, $t$, $g$\n",
    "  * 2 dimensiones: $L$ y $T$\n",
    "\n",
    "* Se tiene $3-2=1$ variables adimensionales.\n",
    "\n",
    "* Elección de variables escalamiento: \n",
    "  * $g$, $t$\n"
   ]
  },
  {
   "cell_type": "markdown",
   "metadata": {
    "slideshow": {
     "slide_type": "slide"
    }
   },
   "source": [
    "#### Ejemplo 1: Caída libre\n",
    "## Teorema $\\Pi$\n",
    "Adimensionalizando tenemos:\n",
    "$$\\Pi_1 = h g^x t^y$$\n",
    "Luego se tiene la siguiente relación entre las dimensiones\n",
    "$$\\begin{align}[\\Pi_1] &= [h g^x t^y] = [h] [g]^x [t]^y \\\\ \n",
    "&= L \\ L^x \\ T^{-2x} \\ T^y = L^0 T^0\n",
    "\\end{align}$$\n",
    "Es decir, debemos resolver el sistema:\n",
    "$$\\begin{align} 1 + x & = 0 \\\\ −2x + y &= 0 \\end{align}$$"
   ]
  },
  {
   "cell_type": "markdown",
   "metadata": {
    "slideshow": {
     "slide_type": "fragment"
    }
   },
   "source": [
    "Se obtiene: $x = −1$ e $y = −2$, con lo cual\n",
    "$$ \\Pi_1 = h g^x t^y = \\frac{h}{gt^2}$$"
   ]
  },
  {
   "cell_type": "markdown",
   "metadata": {
    "slideshow": {
     "slide_type": "slide"
    }
   },
   "source": [
    "#### Ejemplo 1: Caída libre\n",
    "El teorema de Buckingham nos dice que existe por tanto una relación\n",
    "del tipo:\n",
    "$$\\Phi(\\Pi_1) = 0$$\n",
    "es decir, $\\Pi_1$ debe ser una constante:\n",
    "$$\\Pi_1 =\\frac{h}{gt^2} = c$$"
   ]
  },
  {
   "cell_type": "markdown",
   "metadata": {
    "slideshow": {
     "slide_type": "fragment"
    }
   },
   "source": [
    "A partir de eso, podemos establecer las siguientes relaciones:\n",
    "$$ \\begin{align}\n",
    "h &= c g t^2 \\\\\n",
    "g &= \\frac{1}{c} \\frac{h}{t^2} \\\\\n",
    "t &= \\sqrt{\\frac{1}{c}\\frac{h}{g}}\n",
    "\\end{align}$$\n",
    "Y todo eso **¡sin ningún conocimiento físico excepto las unidades!**"
   ]
  },
  {
   "cell_type": "markdown",
   "metadata": {
    "slideshow": {
     "slide_type": "slide"
    }
   },
   "source": [
    "## Ejemplo 2: Explosión Nuclear\n",
    "Consideremos la explosión de una bomba atómica.\n",
    "\n",
    "¿Cuales son las variables físicas involucradas?\n",
    "\n",
    "<img src=\"images/explosion.png\" alt=\"\" height=\"300px\" align=\"right\"/>\n"
   ]
  },
  {
   "cell_type": "markdown",
   "metadata": {
    "slideshow": {
     "slide_type": "fragment"
    }
   },
   "source": [
    "* Energía de la Bomba: $E$\n",
    "* Radio de la explosión: $r$\n",
    "* Tiempo : $t$\n",
    "* Densidad del medio: $\\rho$"
   ]
  },
  {
   "cell_type": "markdown",
   "metadata": {
    "slideshow": {
     "slide_type": "slide"
    }
   },
   "source": [
    "#### Ejemplo 2: Explosión Nuclear\n",
    "## Dimensiones\n",
    "* Energía de la Bomba: $[E] = ML^2 /T^2$\n",
    "* Radio de la explosión: $[r] = L$\n",
    "* Tiempo : $[t] = T$\n",
    "* Densidad del medio: $[\\rho] = M / L^3$\n",
    "\n",
    "**Conclusión**: Necesitamos la densidad pues de otra forma no podemos\n",
    "adimensionalizar la energía."
   ]
  },
  {
   "cell_type": "markdown",
   "metadata": {
    "slideshow": {
     "slide_type": "slide"
    }
   },
   "source": [
    "#### Ejemplo 2: Explosión Nuclear\n",
    "## Teorema $\\Pi$\n",
    "* Datos:\n",
    "  * 4 variables: $E$, $r$ , $t$ y $\\rho$\n",
    "  * 3 dimensiones: $M$, $L$ y $T$\n",
    "\n",
    "* Se tiene $4-3=1$ variables adimensionales.\n",
    "\n",
    "* Elección de variables escalamiento: \n",
    "  * $r$, $t$, $\\rho$\n"
   ]
  },
  {
   "cell_type": "markdown",
   "metadata": {
    "slideshow": {
     "slide_type": "slide"
    }
   },
   "source": [
    "#### Ejemplo 2: Caída libre\n",
    "\n",
    "Adimensionalizando la energía $E$ tenemos:\n",
    "$$\\Pi_1 = E r^x t^y \\rho^z$$\n",
    "Luego se tiene la siguiente relación entre las dimensiones\n",
    "$$\\begin{align}\n",
    "[\\Pi_1] &= [E r^x t^y \\rho^z] = [E] [r]^x [t]^y [\\rho]^y \\\\\n",
    "&= \\Big(M L^2/ T^2 \\Big) \\ L^x \\ T^y \\Big(M/ L^3 \\Big)^z= M^0 L^0 T^0\n",
    "\\end{align}$$\n",
    "Es decir, debemos resolver el sistema:\n",
    "$$\\begin{align} 1 + z & = 0 \\\\ 2 + x -3z &= 0 \\\\ -2 + y &= 0 \\end{align}$$"
   ]
  },
  {
   "cell_type": "markdown",
   "metadata": {
    "slideshow": {
     "slide_type": "fragment"
    }
   },
   "source": [
    "Se obtiene: $x = −5$, $y = 2$ y $z = −1$, con lo cual\n",
    "$$ \\Pi_1 = E r^x t^y \\rho^z = \\frac{E t^2}{r^5 \\rho}$$"
   ]
  },
  {
   "cell_type": "markdown",
   "metadata": {
    "slideshow": {
     "slide_type": "slide"
    }
   },
   "source": [
    "#### Ejemplo 2: Explosión Nuclear\n",
    "El teorema de Buckingham nos dice que existe por tanto una relación\n",
    "del tipo:\n",
    "$$\\Phi(\\Pi_1) = 0$$\n",
    "es decir, $\\Pi_1$ debe ser una constante:\n",
    "$$\\Pi_1 =\\frac{E t^2}{r^5 \\rho} = c$$"
   ]
  },
  {
   "cell_type": "markdown",
   "metadata": {
    "slideshow": {
     "slide_type": "fragment"
    }
   },
   "source": [
    "A partir de eso, podemos establecer las siguientes relaciones:\n",
    "$$ \\begin{align}\n",
    "E &= c_E \\frac{r^5\\rho}{t^2} \\\\\n",
    "r &= c_r \\sqrt[5]{\\frac{E t^2}{\\rho}}\n",
    "\\end{align}$$\n",
    "Y todo eso **¡sin ningún conocimiento físico excepto las unidades!**"
   ]
  },
  {
   "cell_type": "markdown",
   "metadata": {
    "slideshow": {
     "slide_type": "slide"
    }
   },
   "source": [
    "#### Ejemplo 2: Explosión Nuclear\n",
    "La anécdota cuenta que en 1945 Estados Unidos hizo explotar una bomba (nombre clave Trinity) en el desierto de Nuevo México. Luego en 1947, se liberó una secuencia de fotos de la explosión. Utilizando las fotos y el análisis dimensional, el científico británico Goeffrey Taylor estimó la energía liberarada con sólo un 10% de error."
   ]
  },
  {
   "cell_type": "markdown",
   "metadata": {
    "slideshow": {
     "slide_type": "slide"
    }
   },
   "source": [
    "## Ejemplo 3: Distancia de Detención\n",
    "Consideremos la distancia de detención de un vehículo en una carretera.\n",
    "\n",
    "¿Cuales son las variables físicas involucradas?\n",
    "\n",
    "<img src=\"images/frenado.png\" alt=\"\" height=\"300\" align=\"right\"/>"
   ]
  },
  {
   "cell_type": "markdown",
   "metadata": {
    "slideshow": {
     "slide_type": "fragment"
    }
   },
   "source": [
    "* Distancia de detención: $d$\n",
    "* Velocidad del vehículo: $v$\n",
    "* Masa del vehículo: $m$\n",
    "* Tiempo de reacción: $t$\n",
    "* Fuerza de frenado: $f$\n",
    "* Coeficiente de fricción de los frenos: $\\mu$"
   ]
  },
  {
   "cell_type": "markdown",
   "metadata": {
    "slideshow": {
     "slide_type": "slide"
    }
   },
   "source": [
    "#### Ejemplo 3 - Distancia de Detención\n",
    "## Dimensiones\n",
    "* Distancia de detención: $[d] = L$\n",
    "* Velocidad del vehículo: $[v] = L/T$\n",
    "* Masa del vehículo: $[m] = M$\n",
    "* Tiempo de reacción: $[t] = T$\n",
    "* Fuerza de frenado: $[f] = M L/T^2$\n",
    "* Coeficiente de fricción de los frenos: $[\\mu] = 1$\n",
    "\n",
    "**Conclusión**: Coeficiente de fricción ya es un coeficiente adimensional."
   ]
  },
  {
   "cell_type": "markdown",
   "metadata": {
    "slideshow": {
     "slide_type": "slide"
    }
   },
   "source": [
    "#### Ejemplo 3: Distancia de Detención\n",
    "## Teorema $\\Pi$\n",
    "* Datos:\n",
    "  * 6 variables: $d$, $v$ , $t$, $f$, $m$ y $\\mu$\n",
    "  * 3 dimensiones: $M$, $L$ y $T$\n",
    "\n",
    "* Se tiene $6-3=3$ variables adimensionales.\n",
    "\n",
    "* Elección de variables escalamiento: \n",
    "  * $m$, $t$, $v$"
   ]
  },
  {
   "cell_type": "markdown",
   "metadata": {
    "slideshow": {
     "slide_type": "slide"
    }
   },
   "source": [
    "#### Ejemplo 4: Distancia de Detención\n",
    "## Teorema $\\Pi$\n",
    "Adimensionalizando $\\mu$ tenemos:\n",
    "$$\\Pi_1 = \\mu $$"
   ]
  },
  {
   "cell_type": "markdown",
   "metadata": {
    "slideshow": {
     "slide_type": "slide"
    }
   },
   "source": [
    "#### Ejemplo 3: Distancia de Detención\n",
    "Adimensionalizando ***la distancia de detención $d$*** tenemos:\n",
    "$$\\Pi_2 = d m^x t^y v^z$$\n",
    "Luego se tiene la siguiente relación entre las dimensiones\n",
    "$$\\begin{align}\n",
    "[\\Pi_2] &= [d m^x t^y v^z] = [d] [m]^x [t]^y [v]^y \\\\\n",
    "&= L M^x \\ T^y \\Big(L/T\\Big)^z= M^0 L^0 T^0\n",
    "\\end{align}$$\n",
    "Es decir, debemos resolver el sistema:\n",
    "$$\\begin{align} x & = 0 \\\\ 1 + z &= 0 \\\\ y -z &= 0 \\end{align}$$"
   ]
  },
  {
   "cell_type": "markdown",
   "metadata": {
    "slideshow": {
     "slide_type": "fragment"
    }
   },
   "source": [
    "Se obtiene: $x = 0$, $y = z$ y $z = −1$, con lo cual\n",
    "$$ \\Pi_2 = d m^x t^y v^z = \\frac{d}{v t}$$"
   ]
  },
  {
   "cell_type": "markdown",
   "metadata": {
    "slideshow": {
     "slide_type": "slide"
    }
   },
   "source": [
    "#### Ejemplo 3: Distancia de Detención\n",
    "Adimensionalizando ***la fuerza de frenado $f$*** tenemos:\n",
    "$$\\Pi_3 = f m^x t^y v^z$$\n",
    "Luego se tiene la siguiente relación entre las dimensiones\n",
    "$$[\\Pi_3] = [f m^x t^y v^z] = [f] [m]^x [t]^y [v]^y = M L/T^2 M^x \\ T^y \\Big(L/T\\Big)^z= M^0 L^0 T^0$$\n",
    "Es decir, debemos resolver el sistema:\n",
    "$$\\begin{align} 1+x & = 0 \\\\ 1 + z &= 0 \\\\ y -z -2 &= 0 \\end{align}$$"
   ]
  },
  {
   "cell_type": "markdown",
   "metadata": {
    "slideshow": {
     "slide_type": "fragment"
    }
   },
   "source": [
    "Se obtiene: $x = -1$, $y = 1$ y $z = −1$, con lo cual\n",
    "$$ \\Pi_3 = f m^x t^y v^z = \\frac{f t}{mv}$$"
   ]
  },
  {
   "cell_type": "markdown",
   "metadata": {
    "slideshow": {
     "slide_type": "slide"
    }
   },
   "source": [
    "#### Ejemplo 3: Distancia de Detención\n",
    "## Teorema $\\Pi$\n",
    "El teorema de Buckingham nos dice que existe por tanto una relación\n",
    "del tipo:\n",
    "$$\\Phi(\\Pi_1,\\Pi_2,\\Pi_3) = 0$$\n",
    "es decir, podemos encontrar una relación para $\\Pi_2$ del tipo :\n",
    "$$\\Pi_2 =\\phi(\\Pi_1, \\Pi_3)$$\n",
    "Es decir\n",
    "$$\\frac{d}{vt} =\\phi(\\mu, \\frac{ft}{mv})$$\n",
    "por lo tanto\n",
    "$$ d= vt \\ \\phi(\\mu, \\frac{ft}{mv})$$"
   ]
  },
  {
   "cell_type": "markdown",
   "metadata": {
    "slideshow": {
     "slide_type": "slide"
    }
   },
   "source": [
    "#### Ejemplo 3: Distancia de Detención\n",
    "## Teorema $\\Pi$\n",
    "¿Cómo debería ser $\\phi$?\n",
    "$$ \\begin{align}\n",
    "\\phi(x,y) &= c_1 x + c_2 y \\\\\n",
    "\\phi(x,y) &= c x y \\\\\n",
    "\\phi(x,y) &= c_1 x + c_2 \\frac{1}{y} \\\\\n",
    "\\phi(x,y) &= c \\frac{x}{y} \\\\\n",
    "\\phi(x,y) &= c \\frac{x^n}{y^m} \\\\\n",
    "\\end{align}$$"
   ]
  },
  {
   "cell_type": "markdown",
   "metadata": {
    "slideshow": {
     "slide_type": "fragment"
    }
   },
   "source": [
    "***Análisis dimensional no nos dice nada más. ¡¡Necesitamos datos!!***"
   ]
  },
  {
   "cell_type": "markdown",
   "metadata": {
    "slideshow": {
     "slide_type": "slide"
    }
   },
   "source": [
    "## Ejemplo 5: Aplicación a modelamiento de datos\n",
    "\n",
    "Considere el clásico Cherry Tree Dataset, descargable desde http://www.statsci.org/data/general/cherry.html.\n",
    "\n",
    "#### Fuentes\n",
    "\n",
    "* Atkinson, A. C. (1982) Regression diagnostics, transformations and constructed variables (with discussion). Journal of the Royal Statistical Society, Series B, 44, 1-36.\n",
    "\n",
    "* Ryan, T. A. Jr., Joiner, B. L. and Ryan, B. F. (1985) The Minitab Student Handbook, Boston: Duxbury Press, 328-329.\n",
    "\n",
    "* Hand D. J., Daly F., Lunn A. D., McConway K. J., Ostrowski E. (1994) A Handbook of Small Data Sets. Chapman and Hall, London. Data set 210."
   ]
  },
  {
   "cell_type": "markdown",
   "metadata": {
    "slideshow": {
     "slide_type": "slide"
    }
   },
   "source": [
    "#### Ejemplo 5 : Cherry Tree Dataset\n",
    "## Descripción\n",
    "Los datos son:\n",
    "* volumen en pies cúbicos\n",
    "* Altura en pies\n",
    "* Diámetros en pulgadas.\n",
    "\n",
    "Los datos corresponden a una  muestra de 31 arboles de black cherry, en Allegheny National Forest, Pennsylvania. \n",
    "Los datos fueron recolectados para estimar el volumen de un árbol en función de su altura y diámetro."
   ]
  },
  {
   "cell_type": "markdown",
   "metadata": {
    "slideshow": {
     "slide_type": "slide"
    }
   },
   "source": [
    "#### Ejemplo 5 : Cherry Tree Dataset\n",
    "## Exploración de datos\n",
    "Miremos los datos utilizando el terminal de comandos (bash): head, tail, cat y wc."
   ]
  },
  {
   "cell_type": "code",
   "execution_count": 1,
   "metadata": {},
   "outputs": [
    {
     "name": "stdout",
     "output_type": "stream",
     "text": [
      "Diam\tHeight\tVolume\n",
      "8.3\t70\t10.3\n",
      "8.6\t65\t10.3\n",
      "8.8\t63\t10.2\n",
      "10.5\t72\t16.4\n",
      "10.7\t81\t18.8\n",
      "10.8\t83\t19.7\n",
      "11.0\t66\t15.6\n",
      "11.0\t75\t18.2\n",
      "11.1\t80\t22.6\n"
     ]
    }
   ],
   "source": [
    "%%bash\n",
    "head data/cherry.txt"
   ]
  },
  {
   "cell_type": "markdown",
   "metadata": {
    "slideshow": {
     "slide_type": "slide"
    }
   },
   "source": [
    "#### Ejemplo 5 : Cherry Tree Dataset\n",
    "## Exploracion de datos\n",
    "Miremos los datos graficando con matplotlib:"
   ]
  },
  {
   "cell_type": "code",
   "execution_count": 2,
   "metadata": {},
   "outputs": [],
   "source": [
    "%matplotlib inline"
   ]
  },
  {
   "cell_type": "code",
   "execution_count": 3,
   "metadata": {},
   "outputs": [
    {
     "name": "stderr",
     "output_type": "stream",
     "text": [
      "/home/alonsolml/miniconda3/envs/mat281_2018S2/lib/python3.6/site-packages/matplotlib/axes/_base.py:3604: MatplotlibDeprecationWarning: \n",
      "The `ymin` argument was deprecated in Matplotlib 3.0 and will be removed in 3.2. Use `bottom` instead.\n",
      "  alternative='`bottom`', obj_type='argument')\n"
     ]
    },
    {
     "data": {
      "image/png": "[encoded data removed]",
      "text/plain": [
       "<Figure size 1152x576 with 1 Axes>"
      ]
     },
     "metadata": {
      "needs_background": "light"
     },
     "output_type": "display_data"
    }
   ],
   "source": [
    "from matplotlib import pyplot as plt\n",
    "import numpy as np\n",
    "data = np.loadtxt(\"data/cherry.txt\", skiprows=1)\n",
    "D, H, V = data.T\n",
    "fig = plt.figure(figsize=(16,8))\n",
    "plt.plot(D,H,'o')\n",
    "plt.ylim(ymin=0)\n",
    "plt.show()"
   ]
  },
  {
   "cell_type": "code",
   "execution_count": 4,
   "metadata": {
    "scrolled": true,
    "slideshow": {
     "slide_type": "slide"
    }
   },
   "outputs": [
    {
     "data": {
      "image/png": "[encoded data removed]",
      "text/plain": [
       "<Figure size 1152x576 with 3 Axes>"
      ]
     },
     "metadata": {
      "needs_background": "light"
     },
     "output_type": "display_data"
    }
   ],
   "source": [
    "from matplotlib import pyplot as plt\n",
    "import numpy as np\n",
    "data = np.loadtxt(\"data/cherry.txt\", skiprows=1)\n",
    "D, H, V = data.T\n",
    "fig = plt.figure(figsize=(16,8))\n",
    "plt.subplot(3,1,1)\n",
    "plt.plot(D,V,'r>')\n",
    "plt.xlabel(\"Diametro\")\n",
    "plt.ylabel(\"Volumen\")\n",
    "plt.ylim(ymin=0)\n",
    "plt.subplot(3,1,2)\n",
    "plt.plot(H,V,'bo')\n",
    "plt.xlabel(\"Altura\")\n",
    "plt.ylabel(\"Volumen\")\n",
    "plt.ylim(ymin=0)\n",
    "plt.subplot(3,1,3)\n",
    "plt.plot(D,H,'bs')\n",
    "plt.xlabel(\"Diametro\")\n",
    "plt.ylabel(\"Altura\")\n",
    "plt.ylim(ymin=0)\n",
    "fig.tight_layout()\n",
    "plt.show()"
   ]
  },
  {
   "cell_type": "code",
   "execution_count": 5,
   "metadata": {
    "slideshow": {
     "slide_type": "slide"
    }
   },
   "outputs": [
    {
     "data": {
      "image/png": "[encoded data removed]",
      "text/plain": [
       "<Figure size 1152x576 with 1 Axes>"
      ]
     },
     "metadata": {
      "needs_background": "light"
     },
     "output_type": "display_data"
    }
   ],
   "source": [
    "from matplotlib import pyplot as plt\n",
    "from mpl_toolkits.mplot3d import Axes3D\n",
    "import numpy as np\n",
    "\n",
    "data = np.loadtxt(\"data/cherry.txt\", skiprows=1)\n",
    "D, H, V = data.T\n",
    "fig = plt.figure(figsize=(16,8))\n",
    "ax = fig.add_subplot(111, projection='3d')\n",
    "ax.scatter(D, H, V, s=60)\n",
    "plt.xlabel(\"Diametro [pulgadas]\")\n",
    "plt.ylabel(\"Altura [pies]\")\n",
    "plt.title(\"Volumen [pies cubicos]\")\n",
    "plt.show()"
   ]
  },
  {
   "cell_type": "markdown",
   "metadata": {
    "slideshow": {
     "slide_type": "slide"
    }
   },
   "source": [
    "#### Ejemplo 5 : Cherry Tree Dataset\n",
    "## Cherry Tree Dataset\n",
    "\n",
    "¿Qué tipo de modelamiento es posible realizar con los datos? \n",
    "\n",
    "$$¿v = c_0 + c_1 h^1 + c_2 h^2 + c_3 h^3 + c_4 d + c_5 d^2 + c_6 d^3 ?$$\n",
    "$$¿v = c_0 h d^2 ?$$\n",
    "$$¿v = c_0 h^2 d?$$\n",
    "$$¿v = c_0 h^3 d^3 ?$$\n",
    "$$¿v = c_0 + c_1 h^3 + c_2 d^3 ?$$\n",
    "$$¿v = c_0 d_3 h^0 + c_1 d^{5/2} h^{1/2} + ... + c_2 d^{1/2} h^{5/2} + c_3 d^0 h^3 ?$$"
   ]
  },
  {
   "cell_type": "markdown",
   "metadata": {
    "slideshow": {
     "slide_type": "slide"
    }
   },
   "source": [
    "#### Ejemplo 5 : Cherry Tree Dataset\n",
    "Utilizando el teorema $\\Pi$:\n",
    "* Volumen $v$, diámetro $d$ y altura $h$ tienen dimensiones de largo.\n",
    "* Se tienen 3 variables y 1 dimensión, por lo que se tendrán $3 − 1 = 2$ variables adimensionales.\n",
    "* Utilizaremos $h$ como la variable base de escalamiento.\n",
    "* Para que $\\Pi_1$ = $v h^x$ sea adimensional, $x = −3$.\n",
    "  *  Por tanto $\\Pi_1 = \\frac{v}{h^3}$\n",
    "* Para que $\\Pi_2 = dh^x$ sea adimensional, $x = −1$. \n",
    "  * Por tanto $\\Pi_2 = \\frac{d}{h}$\n",
    "\n",
    "El teorema de Buckingham permite por tanto establecer la siguiente relación:\n",
    "$$ \\Pi_1 = f(\\Pi_2)$$\n",
    "es decir\n",
    "$$ \\frac{v}{h^3} = f\\Big( \\frac{d}{h}\\Big)$$"
   ]
  },
  {
   "cell_type": "markdown",
   "metadata": {
    "slideshow": {
     "slide_type": "slide"
    }
   },
   "source": [
    "#### Ejemplo 5 : Cherry Tree Dataset\n",
    "\n",
    "El teorema de Buckingham establece:\n",
    "$$ \\Pi_1 = f(\\Pi_2)$$\n",
    "**PERO NADA MÁS**.\n",
    "\n",
    "* Podemos suponer que la relación es lineal, $f(x) = m x + b$, y buscar los coeficientes $m$ y $b$ utilizando los datos.\n",
    "* Podemos suponer que la relación es no lineal y de tipo potencia, $f(x) = k x^n$, y buscar los coeficientes $k$ y $n$ utilizando los datos.\n"
   ]
  },
  {
   "cell_type": "markdown",
   "metadata": {
    "slideshow": {
     "slide_type": "slide"
    }
   },
   "source": [
    "#### Ejemplo 5 : Cherry Tree Dataset\n",
    "## Exploración visual reducida\n",
    "\n",
    "Antes de proseguir, podemos graficar la relación. Como ahora estamos en 2D, resulta más fácil."
   ]
  },
  {
   "cell_type": "code",
   "execution_count": 6,
   "metadata": {},
   "outputs": [
    {
     "data": {
      "image/png": "[encoded data removed]",
      "text/plain": [
       "<Figure size 1152x576 with 1 Axes>"
      ]
     },
     "metadata": {
      "needs_background": "light"
     },
     "output_type": "display_data"
    }
   ],
   "source": [
    "from matplotlib import pyplot as plt\n",
    "import numpy as np\n",
    "data = np.loadtxt(\"data/cherry.txt\", skiprows=1)\n",
    "D, H, V = data.T\n",
    "Pi_1 = V/H**3\n",
    "Pi_2 = D/H\n",
    "fig = plt.figure(figsize=(16,8))\n",
    "plt.plot(Pi_2,Pi_1,'ob', alpha=0.5, ms=12)\n",
    "plt.ylim(ymin=0)\n",
    "plt.xlabel('$\\Pi_2$', fontsize=20)\n",
    "plt.ylabel('$\\Pi_1$', fontsize=20)\n",
    "plt.show()"
   ]
  },
  {
   "cell_type": "markdown",
   "metadata": {
    "slideshow": {
     "slide_type": "slide"
    }
   },
   "source": [
    "#### Ejemplo 5 : Aplicación a modelamiento de datos\n",
    "## Cherry Tree Dataset - Relación Lineal\n",
    "Aplicamos regresión lineal a los datos."
   ]
  },
  {
   "cell_type": "code",
   "execution_count": 7,
   "metadata": {},
   "outputs": [
    {
     "data": {
      "image/png": "[encoded data removed]",
      "text/plain": [
       "<Figure size 1152x576 with 1 Axes>"
      ]
     },
     "metadata": {
      "needs_background": "light"
     },
     "output_type": "display_data"
    }
   ],
   "source": [
    "from matplotlib import pyplot as plt\n",
    "import numpy as np\n",
    "data = np.loadtxt(\"data/cherry.txt\", skiprows=1)\n",
    "D, H, V = data.T\n",
    "Pi_1 = V/H**3\n",
    "Pi_2 = D/H\n",
    "# Regresion lineal\n",
    "m, b = np.polyfit(Pi_2, Pi_1, 1)\n",
    "# Plotting\n",
    "fig = plt.figure(figsize=(16,8))\n",
    "plt.plot(Pi_2,Pi_1,'ob', alpha=0.5, ms=12)\n",
    "x = np.sort(Pi_2)\n",
    "label = \"y = {0:.6f} + {1:.4} x\".format(b,m)\n",
    "plt.plot(x,m*x+b,'r', lw=2, label=label)\n",
    "plt.xlabel('$\\Pi_2$', fontsize=20)\n",
    "plt.ylabel('$\\Pi_1$', fontsize=20)\n",
    "plt.ylim(ymin=0)\n",
    "plt.legend()\n",
    "plt.show()"
   ]
  },
  {
   "cell_type": "markdown",
   "metadata": {
    "slideshow": {
     "slide_type": "slide"
    }
   },
   "source": [
    "#### Ejemplo 5 : Cherry Tree Dataset\n",
    "## Cherry Tree Dataset - Relación no Lineal\n",
    "Para obtener los coeficientes de la relación no lineal de tipo \"potencia\", utilizamos el clásico truco de laboratorio de física: tomar logaritmos y luego obtener los coeficientes de una relación lineal.\n",
    "Tomando logaritmo a:\n",
    "$$ \\Pi_1 = k (\\Pi_2)^n$$\n",
    "Obtenemos\n",
    "$$ \\log \\Pi_1 = \\log k + n \\log \\Pi_2$$\n",
    "\n",
    "Es decir, podemos realizar una regresión lineal a $\\log \\Pi_1$ y $\\log \\Pi_2$, de modo de encontrar\n",
    "$\\log \\Pi_1 = b + m \\log \\Pi_2$ y luego calcular $n=m$ y $k=e^b$."
   ]
  },
  {
   "cell_type": "code",
   "execution_count": 8,
   "metadata": {},
   "outputs": [
    {
     "data": {
      "image/png": "[encoded data removed]",
      "text/plain": [
       "<Figure size 1152x576 with 1 Axes>"
      ]
     },
     "metadata": {
      "needs_background": "light"
     },
     "output_type": "display_data"
    }
   ],
   "source": [
    "from matplotlib import pyplot as plt\n",
    "import numpy as np\n",
    "data = np.loadtxt(\"data/cherry.txt\", skiprows=1)\n",
    "D, H, V = data.T\n",
    "Pi_1 = V/H**3\n",
    "Pi_2 = D/H\n",
    "# Regresion de potencia\n",
    "x = np.log(Pi_2)\n",
    "cm, cb = np.polyfit(np.log(Pi_2), np.log(Pi_1), 1)\n",
    "n, k = cm, np.exp(cb)\n",
    "# Plotting\n",
    "fig = plt.figure(figsize=(16,8))\n",
    "plt.plot(Pi_2,Pi_1,'ob', alpha=0.5, ms=12)\n",
    "x = np.sort(Pi_2)\n",
    "label = \"y = {0:.6f} x^{1:.4}\".format(k,n)\n",
    "plt.plot(x,k*x**n,'r', lw=2, label=label)\n",
    "#plt.plot(x,b + m*x,'g', lw=2, label=label)\n",
    "plt.xlabel('$\\Pi_2$', fontsize=20)\n",
    "plt.ylabel('$\\Pi_1$', fontsize=20)\n",
    "plt.ylim(ymin=0)\n",
    "plt.legend()\n",
    "plt.show()"
   ]
  },
  {
   "cell_type": "markdown",
   "metadata": {
    "slideshow": {
     "slide_type": "slide"
    }
   },
   "source": [
    "#### Ejemplo 5 : Cherry Tree Dataset\n",
    "## Análisis del error\n",
    "¿Que relación modela mejor los datos?"
   ]
  },
  {
   "cell_type": "markdown",
   "metadata": {
    "slideshow": {
     "slide_type": "fragment"
    }
   },
   "source": [
    "Sólo podemos saberlo analizando el error de nuestro modelo.\n",
    "* Modelo lineal:\n",
    "$$ v_{lineal} = \\Big(b + m \\ \\frac{d}{h} \\Big) h^3$$\n",
    "* Modelo no lineal:\n",
    "$$ v_{potencia} = k \\ \\Big(\\frac{d}{h}\\Big)^n \\ h^3$$"
   ]
  },
  {
   "cell_type": "markdown",
   "metadata": {
    "slideshow": {
     "slide_type": "slide"
    }
   },
   "source": [
    "#### Ejemplo 5 : Cherry Tree Dataset\n",
    "## Análisis del error"
   ]
  },
  {
   "cell_type": "code",
   "execution_count": 9,
   "metadata": {
    "slideshow": {
     "slide_type": "fragment"
    }
   },
   "outputs": [
    {
     "name": "stdout",
     "output_type": "stream",
     "text": [
      "Predicción Lineal de Volumen\n",
      "\tError promedio: 2.0380736020137733\n",
      "\tError cuadrático medio: 0.4675684598739933\n",
      "\tError máximo: 5.340799633603723\n"
     ]
    }
   ],
   "source": [
    "# Error modelo lineal\n",
    "V_pred_lineal = (b + m*Pi_2) * H**3\n",
    "error_pred_lineal = V - V_pred_lineal\n",
    "print(\"Predicción Lineal de Volumen\")\n",
    "print(\"\\tError promedio:\", np.abs(error_pred_lineal).mean())\n",
    "print(\"\\tError cuadrático medio:\", (error_pred_lineal**2).sum()**(0.5)/len(error_pred_lineal))\n",
    "print(\"\\tError máximo:\", np.abs(error_pred_lineal).max())"
   ]
  },
  {
   "cell_type": "code",
   "execution_count": 10,
   "metadata": {
    "slideshow": {
     "slide_type": "-"
    }
   },
   "outputs": [
    {
     "name": "stdout",
     "output_type": "stream",
     "text": [
      "Predicción No Lineal de Volumen\n",
      "\tError promedio: 1.845659537583072\n",
      "\tError cuadrático medio: 0.4373365196105307\n",
      "\tError máximo: 4.7874579045882655\n"
     ]
    }
   ],
   "source": [
    "# Error modelo no lineal\n",
    "V_pred_potencia = (k*Pi_2**n) * H**3\n",
    "error_pred_potencia = V - V_pred_potencia\n",
    "print(\"Predicción No Lineal de Volumen\")\n",
    "print(\"\\tError promedio:\", np.abs(error_pred_potencia).mean())\n",
    "print(\"\\tError cuadrático medio:\", (error_pred_potencia**2).sum()**(0.5)/len(error_pred_potencia))\n",
    "print(\"\\tError máximo:\", np.abs(error_pred_potencia).max())"
   ]
  },
  {
   "cell_type": "markdown",
   "metadata": {
    "slideshow": {
     "slide_type": "slide"
    }
   },
   "source": [
    "#### Ejemplo 5: Cherry Tree Dataset\n",
    "## Cherry Tree Dataset - Conclusión\n",
    "Nuestro análisis indica que\n",
    "$$\\Pi_1 = k (\\Pi_2 )^n$$\n",
    "o equivalentemente\n",
    "$$ \\frac{v}{h^3}= k \\frac{d^n}{h^n}\n",
    "$$\n",
    "con $k=0.002059$ y $n=1.991$.\n",
    "\n",
    "Se tiene $v = k d^n h^{3-n} \\approx k d^2 h$\n",
    "lo cual a posteriori parece bastante obvio. "
   ]
  },
  {
   "cell_type": "markdown",
   "metadata": {
    "slideshow": {
     "slide_type": "slide"
    }
   },
   "source": [
    "## Resumen Teorema $\\Pi$:\n",
    "* Más simple, imposible.\n",
    "* Sólo require buen juicio y un poco de trabajo algebraico.\n",
    "* Permite pasar de un problema de $n$ variables y $k$ dimensiones, a un problema de $n-k$ variables adimensionales.\n",
    "* Reduce de manera sencilla las dimensiones de un problema físico."
   ]
  }
 ],
 "metadata": {
  "celltoolbar": "Slideshow",
  "kernelspec": {
   "display_name": "Python 3",
   "language": "python",
   "name": "python3"
  },
  "language_info": {
   "codemirror_mode": {
    "name": "ipython",
    "version": 3
   },
   "file_extension": ".py",
   "mimetype": "text/x-python",
   "name": "python",
   "nbconvert_exporter": "python",
   "pygments_lexer": "ipython3",
   "version": "3.6.7"
  },
  "livereveal": {
   "autolaunch": true,
   "enable_chalkboard": true
  }
 },
 "nbformat": 4,
 "nbformat_minor": 2
}
