{
 "cells": [
  {
   "cell_type": "code",
   "execution_count": null,
   "metadata": {
    "slideshow": {
     "slide_type": "skip"
    }
   },
   "outputs": [],
   "source": [
    "# Configuracion para recargar módulos y librerías \n",
    "%reload_ext autoreload\n",
    "%autoreload 2"
   ]
  },
  {
   "cell_type": "markdown",
   "metadata": {
    "slideshow": {
     "slide_type": "slide"
    }
   },
   "source": [
    "# MAT281\n",
    "\n",
    "## Aplicaciones de la Matemática en la Ingeniería\n",
    "\n",
    "Puedes ejecutar este jupyter notebook de manera interactiva:\n",
    "\n",
    "[![Binder](../shared/images/jupyter_binder.png)](https://mybinder.org/v2/gh/sebastiandres/mat281_m02_analisis_de_datos/master?filepath=03_formato_datos/03_formato_datos.ipynb)\n",
    "\n",
    "[![Colab](../shared/images/jupyter_colab.png)](https://colab.research.google.com/github/sebastiandres/mat281_m02_analisis_de_datos/blob/master/03_formato_datos/03_formato_datos.ipynb)"
   ]
  },
  {
   "cell_type": "markdown",
   "metadata": {
    "slideshow": {
     "slide_type": "slide"
    }
   },
   "source": [
    "## ¿Qué contenido aprenderemos?\n",
    "* Bases de Datos (SQL)\n",
    "* SQL-Pandas"
   ]
  },
  {
   "cell_type": "markdown",
   "metadata": {},
   "source": [
    "## Bases de datos (SQL)"
   ]
  },
  {
   "cell_type": "markdown",
   "metadata": {},
   "source": [
    "### ¿Qué es una base de datos?\n",
    "\n",
    "Es un conjunto de datos almacenados en una computadora (generalmente un servidor). Estos datos poseen una estructura con tal que sean de fácil acceso. "
   ]
  },
  {
   "cell_type": "markdown",
   "metadata": {},
   "source": [
    "### Base de Datos Relacional\n",
    "\n",
    "Es el tipo de base de datos más ampliamente utilizado, aunque existen otros tipos de bases de datos para fines específicos. Utiliza una estructura tal que es posible identificar y acceder a datos relacionados entre si. Generalmente una base de datos relacional está organizada en __tablas__.\n",
    "\n",
    "Las tablas están conformadas de filas y columnas. Cada columna posee un nombre y tiene un tipo de dato específico, mientras que las filas son registros almacenados. \n",
    "\n",
    "Por ejemplo, la siguiente tabla tiene tres columnas y cuatro registros. En particular, la columna ```age``` tiene tipo ```INTEGER``` y las otras dos tipo ```STRING```.\n",
    "\n",
    "![Tabla](https://s3.amazonaws.com/codecademy-content/courses/sql-intensive/table.jpg)"
   ]
  },
  {
   "cell_type": "markdown",
   "metadata": {},
   "source": [
    "### ¿Qué es SQL?\n",
    "\n",
    "Sus siglas significan _Structured Query Language_ (Lenguaje de Consulta Estructurada) es un lenguaje de programación utilizado para comunicarse con datos almacenados en un Sistema de Gestión de Bases de Datos Relacionales (_Relational Database Management System_ o RDBMS). Posee una sintaxis muy similar al idioma inglés, con lo cual se hace relativamente fácil de escribir, leer e interpretar.\n",
    "\n",
    "Hay distintos RDBMS entre los cuales la sintaxis de SQL difiere ligeramente. Los más populares son:\n",
    "\n",
    "- SQLite\n",
    "- MySQL / MariaDB\n",
    "- PostgreSQL\n",
    "- Oracle DB\n",
    "- SQL Server"
   ]
  },
  {
   "cell_type": "markdown",
   "metadata": {},
   "source": [
    "### ¿Y esto en qué afecta a un matemático?\n",
    "\n",
    "En una empresa de tecnología hay cargos especialmente destinados a todo lo que tenga que ver con bases de datos, por ejemplo: creación, mantención, actualización, obtención de datos, transformación, seguridad y un largo etc.\n",
    "\n",
    "Los matemáticos en la industria suelen tener cargos como _Data Scientist_, _Data Analyst_, _Data Statistician_, _Data X_ (reemplace _X_ con tal de formar un cargo que quede bien en Linkedin), en donde lo importante es otorgar valor a estos datos. Por ende, lo mínimo que deben satisfacer es:\n",
    "\n",
    "- Entendimiento casi total del modelo de datos (tablas, relaciones, tipos, etc.)\n",
    "- Seleccionar datos a medida (_queries_)."
   ]
  },
  {
   "cell_type": "markdown",
   "metadata": {},
   "source": [
    "### Modelo de datos\n",
    "\n",
    "Es la forma en que se organizan los datos. En las bases de datos incluso es posible conocer las relaciones entre tablas. A menudo se presentan gráficamente como en la imagen de abajo (esta será la base de datos que utilizaremos en los ejericios del día de \n",
    "\n",
    "![Data Model Example](http://www.sqlitetutorial.net/wp-content/uploads/2015/11/sqlite-sample-database-color.jpg)"
   ]
  },
  {
   "cell_type": "markdown",
   "metadata": {},
   "source": [
    "Esta base de datos se conoce con el nombre de _**chinook database**_. La descripción y las imágenes se pueden encontrar [aquí](http://www.sqlitetutorial.net/sqlite-sample-database/).\n",
    "\n",
    "En la figura anterior, existen algunas columnas _especiales_ con una llave al lado de su nombre. ¿Qué crees que significan?\n",
    "\n",
    "Las 11 tablas se definen de la siguiente forma (en inglés):\n",
    "\n",
    "- ```employees``` table stores employees data such as employee id, last name, first name, etc. It also has a field named ReportsTo to specify who reports to whom.\n",
    "- ```customers``` table stores customers data.\n",
    "- ```invoices``` & ```invoice_items``` tables: these two tables store invoice data. The ```invoices``` table stores invoice header data and the ```invoice_items``` table stores the invoice line items data.\n",
    "- ```artists``` table stores artists data. It is a simple table that contains only artist id and name.\n",
    "- ```albums``` table stores data about a list of tracks. Each album belongs to one artist. However, one artist may have multiple albums.\n",
    "- ```media_types``` table stores media types such as MPEG audio file, ACC audio file, etc.\n",
    "- ```genres``` table stores music types such as rock, jazz, metal, etc.\n",
    "- ```tracks``` table store the data of songs. Each track belongs to one album.\n",
    "- ```playlists``` & ```playlist_track tables```: ```playlists``` table store data about playlists. Each playlist contains a list of tracks. Each track may belong to multiple playlists. The relationship between the ```playlists``` table and ```tracks``` table is many-to-many. The ```playlist_track``` table is used to reflect this relationship."
   ]
  },
  {
   "cell_type": "markdown",
   "metadata": {},
   "source": [
    "### Queries\n",
    "\n",
    "Con las siguientes cuatro herramientas puedes obtener una infinidad de datos en el formato que (casi)-quieras:\n",
    "\n",
    "- Seleccionar tablas y columnas\n",
    "- Filtrar registros\n",
    "- Cruces de tablas"
   ]
  },
  {
   "cell_type": "markdown",
   "metadata": {},
   "source": [
    "Antes, definiremos una simple función con tal de recibir una _query_ en formato ```str``` de ```python``` y retorne el resultado de la _query_ en un dataframe de pandas."
   ]
  },
  {
   "cell_type": "code",
   "execution_count": null,
   "metadata": {},
   "outputs": [],
   "source": [
    "import os\n",
    "import pandas as pd\n",
    "import sqlite3\n",
    "\n",
    "def chinook_query(query):\n",
    "    conn = sqlite3.connect(os.path.join('data', 'chinook.db'))\n",
    "    return pd.read_sql_query(query, con=conn)"
   ]
  },
  {
   "cell_type": "code",
   "execution_count": null,
   "metadata": {},
   "outputs": [],
   "source": [
    "# Ver todas las tablas de la base de datos\n",
    "chinook_query(\"SELECT name FROM sqlite_master WHERE type='table'\")"
   ]
  },
  {
   "cell_type": "markdown",
   "metadata": {},
   "source": [
    "En el ejemplo anterior resulta muy importante no mezclar tipos de comillas distintos. Si se define un string comenzando y terminando con `\"` todas las comillas a usar en el interior deben de ser `'`, o viceversa. "
   ]
  },
  {
   "cell_type": "markdown",
   "metadata": {},
   "source": [
    "### Seleccionar tablas y columnas\n",
    "\n",
    "Aunque no lo creas, el comando para seleccionar es ```SELECT``` y su sintaxis es:\n",
    "\n",
    "```sql\n",
    "select column_name from table_name\n",
    "```"
   ]
  },
  {
   "cell_type": "markdown",
   "metadata": {},
   "source": [
    "#### Ejemplo 1\n",
    "\n",
    "Seleccionar todos los registros y columnas de la tabla ```albums```."
   ]
  },
  {
   "cell_type": "code",
   "execution_count": null,
   "metadata": {},
   "outputs": [],
   "source": [
    "albums_table_query = \"select * from albums\"\n",
    "chinook_query(albums_table_query).head(10)"
   ]
  },
  {
   "cell_type": "markdown",
   "metadata": {},
   "source": [
    "#### Ejemplo 2\n",
    "\n",
    "Seleccionar las columnas ```CustomerId```, ```Address``` y ```Country``` de la tabla ```customers```."
   ]
  },
  {
   "cell_type": "code",
   "execution_count": null,
   "metadata": {},
   "outputs": [],
   "source": [
    "customers_some_columns_query = \"\"\"\n",
    "select \n",
    "    CustomerId\n",
    "    , Address\n",
    "    , Country\n",
    "    from customers\"\"\"\n",
    "chinook_query(customers_some_columns_query).head(10)"
   ]
  },
  {
   "cell_type": "markdown",
   "metadata": {},
   "source": [
    "#### Ejemplo 3\n",
    "\n",
    "Seleccionar todos los ```GenreId``` distintos a partir de la columna ```tracks```."
   ]
  },
  {
   "cell_type": "code",
   "execution_count": null,
   "metadata": {},
   "outputs": [],
   "source": [
    "distinct_genres_query = \"\"\"\n",
    "select distinct\n",
    "    GenreId\n",
    "    from tracks\n",
    "\"\"\"\n",
    "chinook_query(distinct_genres_query).head(10)"
   ]
  },
  {
   "cell_type": "markdown",
   "metadata": {},
   "source": [
    "### Filtrar registros\n",
    "\n",
    "Aunque no lo creas, el comando para filtrar es ```where``` y su sintaxis es:\n",
    "\n",
    "```sql\n",
    "select column_name from table_name where some_condition\n",
    "```"
   ]
  },
  {
   "cell_type": "markdown",
   "metadata": {},
   "source": [
    "#### Ejemplo 4\n",
    "Obtener todos los álbumes del artista con id número 1."
   ]
  },
  {
   "cell_type": "code",
   "execution_count": null,
   "metadata": {},
   "outputs": [],
   "source": [
    "albums_artist_1 = \"\"\"\n",
    "select\n",
    "    *\n",
    "    from albums\n",
    "    where ArtistId = 1\n",
    "\"\"\"\n",
    "chinook_query(albums_artist_1)"
   ]
  },
  {
   "cell_type": "markdown",
   "metadata": {},
   "source": [
    "#### Ejemplo 5\n",
    "\n",
    "Filtrar la tabla ```tracks``` por aquellos registros que tienen una duración mayor a tres minutos y tengan identificador de género musical 2 o 3."
   ]
  },
  {
   "cell_type": "code",
   "execution_count": null,
   "metadata": {},
   "outputs": [],
   "source": [
    "where_and_example = \"\"\"\n",
    "select\n",
    "    *\n",
    "    from tracks\n",
    "    where Milliseconds >= 3 * 60 * 1000\n",
    "        and GenreId in (2, 3)\n",
    "\"\"\"\n",
    "chinook_query(where_and_example).head(10)"
   ]
  },
  {
   "cell_type": "markdown",
   "metadata": {},
   "source": [
    "### Cruces de Tablas\n",
    "\n",
    "Aunque no lo creas, el comando para cruzar es ```join``` y su sintaxis es:\n",
    "\n",
    "```sql\n",
    "select \n",
    "    A.column_name_1,\n",
    "    B.column_name_2\n",
    "    from table_A as A \n",
    "    join table_B as B\n",
    "        on A.common_column = B.common_column\n",
    "```"
   ]
  },
  {
   "cell_type": "markdown",
   "metadata": {},
   "source": [
    "#### Ejemplo 6\n",
    "\n",
    "Agregar a la tabla ```albums``` el nombre del artista, que se encuentra en la tabla `artists`."
   ]
  },
  {
   "cell_type": "code",
   "execution_count": null,
   "metadata": {},
   "outputs": [],
   "source": [
    "add_artist_name_to_album_query = \"\"\"\n",
    "select\n",
    "    al.*\n",
    "    , ar.Name as ArtistName\n",
    "    from albums al\n",
    "    left join artists ar\n",
    "        on al.ArtistId = ar.ArtistId\n",
    "\"\"\"\n",
    "chinook_query(add_artist_name_to_album_query).head(10)"
   ]
  },
  {
   "cell_type": "markdown",
   "metadata": {},
   "source": [
    "### ¿Te diste cuenta? \n",
    "\n",
    "El ejemplo anterior utiliza un ```left join```. En realidad existen cuatro tipos de cruces más comunes:\n",
    "\n",
    "- ```inner```: (_default_) Retorna aquellos registros donde los valors de columnas utilizadas para los cruces se encuentran en ambas tablas.\n",
    "- ```left```: Retorna todos los registros de la tabla colocada a la izquierda, aunque no tengan correspondencia en la tabla de la derecha.\n",
    "- ```right```: Retorna todos los registros de la tabla colocada a la derecha, aunque no tengan correspondencia en la tabla de la izquierda.\n",
    "- ```outer```: Retorna todos los valores de ambas tablas, tengan correspondencia o no.\n",
    "\n",
    "La siguiente imagen explica el resultado que se obtiene con los distintos tipos de cruces.\n",
    "\n",
    "![Joins](https://lukaseder.files.wordpress.com/2016/07/venn-join1.png?w=662&h=361)"
   ]
  },
  {
   "cell_type": "markdown",
   "metadata": {},
   "source": [
    "#### Ejemplo 7\n",
    "\n",
    "Agregar el nombre de ```genre``` y nombre de ```mediaType``` a la tabla ```tracks```."
   ]
  },
  {
   "cell_type": "code",
   "execution_count": null,
   "metadata": {},
   "outputs": [],
   "source": [
    "add_genre_and_media_type_name_to_album_query = \"\"\"\n",
    "select\n",
    "    tr.*\n",
    "    , ge.Name as GenreName\n",
    "    , mt.Name as MediaTypeName\n",
    "    from tracks tr\n",
    "    left join genres ge\n",
    "        on tr.GenreId = ge.GenreId\n",
    "    left join media_types mt\n",
    "        on tr.MediaTypeId = mt.MediaTypeId\n",
    "\"\"\"\n",
    "chinook_query(add_genre_and_media_type_name_to_album_query).head(10)"
   ]
  },
  {
   "cell_type": "markdown",
   "metadata": {},
   "source": [
    "#### Ejemplo 8\n",
    "\n",
    "Determinar los empleados que no realicen soporte a ningún cliente (```SupportRepId``` se relaciona con ```EmployeeId```)."
   ]
  },
  {
   "cell_type": "code",
   "execution_count": null,
   "metadata": {},
   "outputs": [],
   "source": [
    "join_employees_query = \"\"\"\n",
    "select\n",
    "    e.*\n",
    "    , c.*\n",
    "    from employees e\n",
    "    left join customers c\n",
    "        on e.EmployeeId = c.SupportRepId\n",
    "    where CustomerId is null\n",
    "\"\"\"\n",
    "chinook_query(join_employees_query).head(10)"
   ]
  },
  {
   "cell_type": "markdown",
   "metadata": {},
   "source": [
    "## Ejercicios Parte 1"
   ]
  },
  {
   "cell_type": "markdown",
   "metadata": {},
   "source": [
    "1.1 Escribir una query que retorne una tabla de una columna con todos los países distintos de los empleados."
   ]
  },
  {
   "cell_type": "code",
   "execution_count": null,
   "metadata": {},
   "outputs": [],
   "source": [
    "distinct_country_employees_query = \"\"\" FIX ME PLEASE \"\"\"\n",
    "chinook_query(distinct_country_employees_query)"
   ]
  },
  {
   "cell_type": "markdown",
   "metadata": {},
   "source": [
    "1.2 Escribir una query que retorne una tabla de dos columnas, nombre del artista y nombre del álbum solo para los artistas _Metallica_ e _Iron Maiden_."
   ]
  },
  {
   "cell_type": "code",
   "execution_count": null,
   "metadata": {},
   "outputs": [],
   "source": [
    "metallica_and_maiden_albums_query = \"\"\" FIX ME PLEASE \"\"\"\n",
    "chinook_query(metallica_and_maiden_albums_query)"
   ]
  },
  {
   "cell_type": "markdown",
   "metadata": {},
   "source": [
    "1.3 Escribir una query que retorne una tabla de una columna con el nombre de todas las canciones de _System of a Down_  "
   ]
  },
  {
   "cell_type": "code",
   "execution_count": null,
   "metadata": {},
   "outputs": [],
   "source": [
    "soad_all_tracks_query = \"\"\" FIX ME PLEASE\"\"\"\n",
    "chinook_query(soad_all_tracks_query)"
   ]
  },
  {
   "cell_type": "markdown",
   "metadata": {},
   "source": [
    "1.4 Escribir una query que retorne una tabla de cuatro columnas (PlaylistId, TrackId, AlbumId, GenreId) para todas las playlist con identificador menor que 10."
   ]
  },
  {
   "cell_type": "code",
   "execution_count": null,
   "metadata": {},
   "outputs": [],
   "source": [
    "playlist_track_album_genre_query = \"\"\" FIX ME PLEASE \"\"\"\n",
    "chinook_query(playlist_track_album_genre_query)"
   ]
  },
  {
   "cell_type": "markdown",
   "metadata": {},
   "source": [
    "## SQL - Pandas\n",
    "\n",
    "Como habrás notado, por simplicidad cargamos los resultados de las queries directamente en un DataFrame. La librería *Pandas*, en su afán de facilitar la manipulación y análisis de datos incluye algunas funcionalidades de SQL.\n",
    "\n",
    "| SQL    | pandas              |\n",
    "|--------|---------------------|\n",
    "| select | loc[:, column_name] |\n",
    "| where  | loc[condition, :]   |\n",
    "| join   | merge               |\n",
    "\n",
    "En el laboratorio anterior aprendimos a utilizar ```loc```, por lo que ahora introduciremos los cruces de dataframes utilizando la función/método ```merge```."
   ]
  },
  {
   "cell_type": "code",
   "execution_count": null,
   "metadata": {},
   "outputs": [],
   "source": [
    "# Función\n",
    "pd.merge?"
   ]
  },
  {
   "cell_type": "code",
   "execution_count": null,
   "metadata": {},
   "outputs": [],
   "source": [
    "# Método\n",
    "pd.DataFrame.merge?"
   ]
  },
  {
   "cell_type": "markdown",
   "metadata": {},
   "source": [
    "La lectura de queries se hace a través de la función ```pd.read_sql_query()```"
   ]
  },
  {
   "cell_type": "code",
   "execution_count": null,
   "metadata": {},
   "outputs": [],
   "source": [
    "pd.read_sql_query?"
   ]
  },
  {
   "cell_type": "markdown",
   "metadata": {},
   "source": [
    "Notar que ```pd.read_sql_query()``` posee dos argumentos obligatorios: ```sql``` y ```con```."
   ]
  },
  {
   "cell_type": "markdown",
   "metadata": {},
   "source": [
    "Crearemos un dataframe seleccionando todos los datos de la tabla ```tracks``` y lo llamaremos de la misma manera:"
   ]
  },
  {
   "cell_type": "code",
   "execution_count": null,
   "metadata": {},
   "outputs": [],
   "source": [
    "tracks = pd.read_sql_query(\"select * from tracks\", con=sqlite3.connect(os.path.join('data', 'chinook.db')))\n",
    "tracks.head()"
   ]
  },
  {
   "cell_type": "markdown",
   "metadata": {},
   "source": [
    "Lo mismo para la tabla ```albums```"
   ]
  },
  {
   "cell_type": "code",
   "execution_count": null,
   "metadata": {},
   "outputs": [],
   "source": [
    "albums = pd.read_sql_query(\"select * from albums\", con=sqlite3.connect(os.path.join('data', 'chinook.db')))\n",
    "albums.head()"
   ]
  },
  {
   "cell_type": "markdown",
   "metadata": {},
   "source": [
    "#### Ejemplo 9\n",
    "Agregar una nueva columna al dataframe ```tracks``` con el nombre ```AlbumName``` a partir del nombre del álbum contenido en el dataframe ```albums```."
   ]
  },
  {
   "cell_type": "markdown",
   "metadata": {},
   "source": [
    "Opción 1 (**y mala**): Usando una iteración"
   ]
  },
  {
   "cell_type": "code",
   "execution_count": null,
   "metadata": {},
   "outputs": [],
   "source": [
    "%%timeit\n",
    "track_copy_1 = tracks.copy()  # Creamos una copia del dataframe original\n",
    "for idx, row in track_copy_1.iterrows():\n",
    "    album_id = row['AlbumId']\n",
    "    album_name = albums.loc[lambda x: x['AlbumId'] == album_id, 'Title'].iloc[0]\n",
    "    track_copy_1.loc[idx, 'AlbumName'] = album_name"
   ]
  },
  {
   "cell_type": "code",
   "execution_count": null,
   "metadata": {},
   "outputs": [],
   "source": [
    "track_copy_1.head(10)"
   ]
  },
  {
   "cell_type": "markdown",
   "metadata": {},
   "source": [
    "Esta opción es mala puesto que resulta extensa, pudiendo introducir errores y tomando siendo ineficiente al tomar mucho tiempo."
   ]
  },
  {
   "cell_type": "markdown",
   "metadata": {},
   "source": [
    "Opción 2 (**y buena**): Usando un Merge"
   ]
  },
  {
   "cell_type": "code",
   "execution_count": null,
   "metadata": {},
   "outputs": [],
   "source": [
    "%%timeit\n",
    "tracks_merge = tracks.merge(albums, how='left', on='AlbumId')"
   ]
  },
  {
   "cell_type": "code",
   "execution_count": null,
   "metadata": {},
   "outputs": [],
   "source": [
    "tracks_merge = tracks.merge(albums, how='left', on='AlbumId')\n",
    "tracks_merge.head(10)"
   ]
  },
  {
   "cell_type": "code",
   "execution_count": null,
   "metadata": {},
   "outputs": [],
   "source": [
    "%%timeit\n",
    "tracks_merge_final = tracks.merge(albums[['AlbumId', 'Title']], how='left', on='AlbumId').rename(columns={'Title': 'AlbumName'})"
   ]
  },
  {
   "cell_type": "code",
   "execution_count": null,
   "metadata": {},
   "outputs": [],
   "source": [
    "tracks_merge_final = tracks.merge(albums[['AlbumId', 'Title']], how='left', on='AlbumId').rename(columns={'Title': 'AlbumName'})\n",
    "tracks_merge_final.head(10)"
   ]
  },
  {
   "cell_type": "markdown",
   "metadata": {},
   "source": [
    "#### Ejemplo 10\n",
    "¿Y si las columnas tienen nombres distintos? Utilicemos las tablas de empleados y clientes para cruzarlas por el empleado de soporte"
   ]
  },
  {
   "cell_type": "code",
   "execution_count": null,
   "metadata": {},
   "outputs": [],
   "source": [
    "employees = pd.read_sql_query(\"select * from employees\", con=sqlite3.connect(os.path.join('data', 'chinook.db')))\n",
    "employees.head()"
   ]
  },
  {
   "cell_type": "code",
   "execution_count": null,
   "metadata": {},
   "outputs": [],
   "source": [
    "customers = pd.read_sql_query(\"select * from customers\", con=sqlite3.connect(os.path.join('data', 'chinook.db')))\n",
    "customers.head()"
   ]
  },
  {
   "cell_type": "code",
   "execution_count": null,
   "metadata": {},
   "outputs": [],
   "source": [
    "customers.merge(employees, how='left', left_on='SupportRepId', right_on='EmployeeId').head()"
   ]
  },
  {
   "cell_type": "markdown",
   "metadata": {},
   "source": [
    "## Ejercicios Parte 2\n",
    "Replicar los ejercicios de la parte 1 utilizando las bondades de pandas, para ello primero se deben cargar las tablas de la base de datos en dataframes, utilizando la funcionalidad ```select * from table```. Por ejemplo:"
   ]
  },
  {
   "cell_type": "code",
   "execution_count": null,
   "metadata": {},
   "outputs": [],
   "source": [
    "tracks = pd.read_sql_query(\"select * from tracks\", con=sqlite3.connect(os.path.join('data', 'chinook.db')))\n",
    "albums = pd.read_sql_query(\"select * from albums\", con=sqlite3.connect(os.path.join('data', 'chinook.db')))\n",
    "employees = pd.read_sql_query(\"select * from employees\", con=sqlite3.connect(os.path.join('data', 'chinook.db')))\n",
    "customers = pd.read_sql_query(\"select * from customers\", con=sqlite3.connect(os.path.join('data', 'chinook.db')))"
   ]
  },
  {
   "cell_type": "markdown",
   "metadata": {},
   "source": [
    "Es tu turno, carga las tablas ```artist``` y ```playlist_track``` en los siguientes dataframes."
   ]
  },
  {
   "cell_type": "code",
   "execution_count": null,
   "metadata": {},
   "outputs": [],
   "source": [
    "artists = # FIX ME PLEASE #\n",
    "playlist_track = # FIX ME PLEASE #"
   ]
  },
  {
   "cell_type": "markdown",
   "metadata": {},
   "source": [
    "1.1 Crear un dataframe de una columna con todos los países distintos de los empleados."
   ]
  },
  {
   "cell_type": "code",
   "execution_count": null,
   "metadata": {},
   "outputs": [],
   "source": [
    "distinct_country_employees_df = # FIX ME PLEASE #\n",
    "distinct_country_employees_df.head(10)"
   ]
  },
  {
   "cell_type": "markdown",
   "metadata": {},
   "source": [
    "1.2 Crear un dataframe de dos columnas, nombre del artista y nombre del álbum solo para los artistas _Metallica_ e _Iron Maiden_."
   ]
  },
  {
   "cell_type": "code",
   "execution_count": null,
   "metadata": {},
   "outputs": [],
   "source": [
    "metallica_and_maiden_albums_df = # FIX ME PLEASE #\n",
    "metallica_and_maiden_albums_df.head(10)"
   ]
  },
  {
   "cell_type": "markdown",
   "metadata": {},
   "source": [
    "1.3 Crear un dataframe de una columna con el nombre de todas las canciones de _System of a Down_  "
   ]
  },
  {
   "cell_type": "code",
   "execution_count": null,
   "metadata": {},
   "outputs": [],
   "source": [
    "soad_all_tracks_df = # FIX ME PLEASE #\n",
    "soad_all_tracks_df.head(10)"
   ]
  },
  {
   "cell_type": "markdown",
   "metadata": {},
   "source": [
    "1.4 Crear un dataframe de cuatro columnas (PlaylistId, TrackId, AlbumId, GenreId) para todas las playlist con identificador menor que 10."
   ]
  },
  {
   "cell_type": "code",
   "execution_count": null,
   "metadata": {},
   "outputs": [],
   "source": [
    "playlist_track_album_genre_df = # FIX ME PLEASE #\n",
    "playlist_track_album_genre_df.head()"
   ]
  },
  {
   "cell_type": "markdown",
   "metadata": {},
   "source": [
    "## Datos Personales\n",
    "- Nombre:\n",
    "- Rol USM:"
   ]
  },
  {
   "cell_type": "markdown",
   "metadata": {
    "slideshow": {
     "slide_type": "slide"
    }
   },
   "source": [
    "## Instruciones\n",
    "- Pon tu nombre y rol en la celda superior.\n",
    "- Debes enviar este .ipynb con el siguiente formato de nombre: 03_formato_datos_NOMBRE_APELLIDO.ipynb con tus respuestas a alonso.ogueda@gmail.com y sebastian.flores@usm.cl .\n",
    "- Se evaluara tanto el código como la respuesta en una escala de 0 a 4 con valores enteros.\n",
    "- La entrega es al final de esta clase."
   ]
  }
 ],
 "metadata": {
  "celltoolbar": "Slideshow",
  "kernelspec": {
   "display_name": "Python 3",
   "language": "python",
   "name": "python3"
  },
  "language_info": {
   "codemirror_mode": {
    "name": "ipython",
    "version": 3
   },
   "file_extension": ".py",
   "mimetype": "text/x-python",
   "name": "python",
   "nbconvert_exporter": "python",
   "pygments_lexer": "ipython3",
   "version": "3.6.6"
  }
 },
 "nbformat": 4,
 "nbformat_minor": 2
}
