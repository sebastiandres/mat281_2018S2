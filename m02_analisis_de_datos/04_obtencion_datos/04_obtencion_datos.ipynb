{
 "cells": [
  {
   "cell_type": "code",
   "execution_count": null,
   "metadata": {
    "slideshow": {
     "slide_type": "skip"
    }
   },
   "outputs": [],
   "source": [
    "# Configuracion para recargar módulos y librerías \n",
    "%reload_ext autoreload\n",
    "%autoreload 2"
   ]
  },
  {
   "cell_type": "markdown",
   "metadata": {
    "slideshow": {
     "slide_type": "slide"
    }
   },
   "source": [
    "# MAT281 - Laboratorio 4\n",
    "\n",
    "## Aplicaciones de la Matemática en la Ingeniería\n",
    "\n",
    "Puedes ejecutar este jupyter notebook de manera interactiva:\n",
    "\n",
    "[![Binder](../shared/images/jupyter_binder.png)](https://mybinder.org/v2/gh/sebastiandres/mat281_m01_introduccion/master?filepath=00_template/00_template.ipynb)\n",
    "\n",
    "[![Colab](../shared/images/jupyter_colab.png)](https://colab.research.google.com/github/sebastiandres/mat281_m01_introduccion/blob/master//00_template/00_template.ipynb)"
   ]
  },
  {
   "cell_type": "markdown",
   "metadata": {},
   "source": [
    "## __Intrucciones__\n",
    "\n",
    "* Completa tus datos personales (nombre y rol USM).\n",
    "* Debes enviar este .ipynb con el siguiente formato de nombre: 03_formato_datos_NOMBRE_APELLIDO.ipynb con tus respuestas a alonso.ogueda@gmail.com y sebastian.flores@usm.cl .\n",
    "* Se evaluará:\n",
    "    - Soluciones\n",
    "    - Código\n",
    "    - Al presionar  `Kernel -> Restart Kernel and Run All Cells` deben ejecutarse todas las celdas sin error.\n",
    "    - La escala es de 0 a 4 considerando solo valores enteros.\n",
    "* __La entrega es al final de esta clase.__\n",
    "\n",
    "__Nombre__:\n",
    "\n",
    "__Rol__:"
   ]
  },
  {
   "cell_type": "markdown",
   "metadata": {
    "slideshow": {
     "slide_type": "slide"
    }
   },
   "source": [
    "## ¿Qué contenido aprenderemos?\n",
    "* Tipos de Datos Comunes\n",
    "* API (Data Chile)"
   ]
  },
  {
   "cell_type": "markdown",
   "metadata": {
    "slideshow": {
     "slide_type": "slide"
    }
   },
   "source": [
    "## Motivación\n",
    "\n",
    "Como ya hemos comentado en clases pasadas, hoy los datos son el centro de atención en el mundo tecnológico. Por lo mismo existe una amplia gama de tipos de datos lo cual conlleva a distintas formas de obtención y manipulación de estos datos. \n",
    "\n",
    "En el laboratorio de hoy nos comenzaremos conociendo los tipos más comunes de datos para luego centrarnos en la obtención de datos a través de __API__. Los ejemplos y ejercicios serán a partir de la API de Data Chile."
   ]
  },
  {
   "cell_type": "markdown",
   "metadata": {
    "slideshow": {
     "slide_type": "slide"
    }
   },
   "source": [
    "## Tipos de datos comunes"
   ]
  },
  {
   "cell_type": "markdown",
   "metadata": {},
   "source": [
    "### CSV\n",
    "\n",
    "Del inglés _Comma-Separated Values_, los archivos CSV utilizan comas (\",\") para separar valores y cada registro consiste de una fila. \n",
    "\n",
    "- Pros:\n",
    "    * Livianos.\n",
    "    * De fácil entendimiento.\n",
    "    * Editables usando un editor de texto.\n",
    "- Contras:\n",
    "    * No está totalmente estandarizado (e.g. ¿Qué pasa si un valor tiene comas?)\n",
    "    * Son sensible al _encoding_ (es la forma en que se codifica un carácter).\n",
    "    \n",
    "Pandas posee su propia función para leer csv: `pd.read_csv()`."
   ]
  },
  {
   "cell_type": "code",
   "execution_count": null,
   "metadata": {},
   "outputs": [],
   "source": [
    "import os\n",
    "import pandas as pd"
   ]
  },
  {
   "cell_type": "code",
   "execution_count": null,
   "metadata": {},
   "outputs": [],
   "source": [
    "# Documentación\n",
    "pd.read_csv?"
   ]
  },
  {
   "cell_type": "markdown",
   "metadata": {},
   "source": [
    "### Ejemplo de encoding incorrecto"
   ]
  },
  {
   "cell_type": "code",
   "execution_count": null,
   "metadata": {},
   "outputs": [],
   "source": [
    "pd.read_csv(os.path.join('data', 'encoding_example.csv'), sep=',', encoding='GBK')"
   ]
  },
  {
   "cell_type": "markdown",
   "metadata": {},
   "source": [
    "### Ejemplo de encoding correcto"
   ]
  },
  {
   "cell_type": "code",
   "execution_count": null,
   "metadata": {},
   "outputs": [],
   "source": [
    "pd.read_csv(os.path.join('data', 'encoding_example.csv'), sep=',', encoding='utf8')"
   ]
  },
  {
   "cell_type": "markdown",
   "metadata": {},
   "source": [
    "### JSON\n",
    "\n",
    "Acrónimo de _JavaScript Object Notation_, utilizado principalmente para intercambiar datos entre una aplicación web y un servidor.\n",
    "\n",
    "- Pros:\n",
    "    * Livianos.\n",
    "    * De fácil entendimiento.\n",
    "    * Editables usando un editor de texto.\n",
    "    * Formato estandarizado.\n",
    "- Contras:\n",
    "    * La lectura con pandas puede ser un poco complicada.\n",
    "    \n",
    "Pandas posee su propia función para leer JSON: `pd.read_json()`."
   ]
  },
  {
   "cell_type": "code",
   "execution_count": null,
   "metadata": {},
   "outputs": [],
   "source": [
    "pd.read_json?"
   ]
  },
  {
   "cell_type": "code",
   "execution_count": null,
   "metadata": {},
   "outputs": [],
   "source": [
    "pd.read_json(os.path.join('data', 'gasto_fiscal.json')).head()"
   ]
  },
  {
   "cell_type": "markdown",
   "metadata": {},
   "source": [
    "### Pickle"
   ]
  },
  {
   "cell_type": "markdown",
   "metadata": {},
   "source": [
    "Es un módulo que implementa protocolos binarios de serialización y des-serialización de objetos de Python.\n",
    "\n",
    "* Pros\n",
    "    - Puede representar una inmensa cantidad de tipos de objetos de python.\n",
    "    - En un contexto de seguridad, como no es legible por el ser humano (representación binaria) puede ser útil para almacenar datos sensibles.\n",
    "* Contras:\n",
    "    - Solo Python.\n",
    "    - Si viene de un tercero podría tener contenido malicioso.\n",
    "    \n",
    "Pandas posee su propia función para leer JSON: `pd.read_pickle()`."
   ]
  },
  {
   "cell_type": "code",
   "execution_count": null,
   "metadata": {},
   "outputs": [],
   "source": [
    "pd.read_pickle?"
   ]
  },
  {
   "cell_type": "code",
   "execution_count": null,
   "metadata": {},
   "outputs": [],
   "source": [
    "pd.read_pickle(os.path.join('data', 'nba.pkl')).head()"
   ]
  },
  {
   "cell_type": "markdown",
   "metadata": {},
   "source": [
    "### SQL\n",
    "\n",
    "Conocimos las bases de datos relacionales SQL en el laboratorio pasado y como recordarás existe la función `pd.read_sql()`."
   ]
  },
  {
   "cell_type": "code",
   "execution_count": null,
   "metadata": {},
   "outputs": [],
   "source": [
    "pd.read_sql?"
   ]
  },
  {
   "cell_type": "code",
   "execution_count": null,
   "metadata": {},
   "outputs": [],
   "source": [
    "import sqlite3\n",
    "connector = sqlite3.connect(os.path.join('data', 'chinook.db'))\n",
    "pd.read_sql_query(\"select * from albums\", con=connector).head()"
   ]
  },
  {
   "cell_type": "markdown",
   "metadata": {},
   "source": [
    "## Ejercicio Parte 1"
   ]
  },
  {
   "cell_type": "markdown",
   "metadata": {},
   "source": [
    "1. ¿Cuáles crees que son los formatos de archivo más utilizados en la industria?\n",
    "\n",
    "    * R1:\n",
    "\n",
    "2. ¿Encuentras utilidad a qué existan tantos formatos de arhivos?\n",
    "    \n",
    "    * R2"
   ]
  },
  {
   "cell_type": "markdown",
   "metadata": {},
   "source": [
    "## Obtención de datos"
   ]
  },
  {
   "cell_type": "markdown",
   "metadata": {},
   "source": [
    "¿Has escuchado el término __API__? Fuera de todo tecnicismo, las APIs (_Application Programming Interface_) permiten hacer uso de funciones ya existentes en otro software (o de la infraestructura ya existente en otras plataformas) para no estar reinventando la rueda constantemente, reutilizando así código que se sabe que está probado y que funciona correctamente. Por ejemplo, cuando haces una compra online y utilizas WebPay. ¡Hay APIs en todos lados!"
   ]
  },
  {
   "cell_type": "markdown",
   "metadata": {},
   "source": [
    "### Un buen ejemplo: Data Chile\n",
    "\n",
    "Desde la web de [Data Chile](https://es.datachile.io):\n",
    "\n",
    "- Ofrece una radiografía de las temáticas más importantes para el desarrollo del país.\n",
    "- Ayuda a conocer tendencias y necesidades para el diseño e implementación de políticas públicas, programas de la sociedad civil, oportunidades de negocios y estrategias de marketing del sector privado.\n",
    "- Colabora en la toma de decisiones tanto del sector público como privado.\n",
    "- Integra información de más de 15 fuentes distintas pertenecientes a más de 10 organismos de Gobierno.\n",
    "- Crea y combina visualizaciones interactivas.\n",
    "- Piensa los datos como historias y no como archivos.\n"
   ]
  },
  {
   "cell_type": "markdown",
   "metadata": {},
   "source": [
    "### Denme todos los datos!\n",
    "DataChile posee una API de datos que entrega la información para construir los gráficos y generar todos los textos del sitio. Todos los detalles en este [link](https://es.datachile.io/about/api)."
   ]
  },
  {
   "cell_type": "code",
   "execution_count": null,
   "metadata": {},
   "outputs": [],
   "source": [
    "# import pandas as pd  # Ya importada al principio del laboratorio\n",
    "from datachile import ChileCube\n",
    "\n",
    "client = ChileCube()  # Objeto con el que es posible la conexión a DataChile"
   ]
  },
  {
   "cell_type": "markdown",
   "metadata": {},
   "source": [
    "### Ejemplo 1\n",
    "\n",
    "Esperanza de vida, Mortalidad y número de registros desagragados por Año, Región y Sexo."
   ]
  },
  {
   "cell_type": "code",
   "execution_count": null,
   "metadata": {},
   "outputs": [],
   "source": [
    "life_expectancy = client.get(\n",
    "    \"life_expectancy\", \n",
    "    {\n",
    "        \"drilldowns\": [\n",
    "            [\"Date\", \"Date\", \"Year\"],\n",
    "            [\"Geography\", \"Geography\", \"Region\"],\n",
    "            ['Sex', 'Sex', 'Sex']\n",
    "        ],\n",
    "        \"measures\": [\"Number of records\",\n",
    "                     \"Life Expectancy AVG\",\n",
    "                     \"Mortality rate per 100 inhabitants AVG\"\n",
    "                    ]    \n",
    "    },\n",
    "    df=True\n",
    ")\n",
    "life_expectancy.head()"
   ]
  },
  {
   "cell_type": "markdown",
   "metadata": {},
   "source": [
    "### Si tu cara al leer el ejemplo fue esta no te preocupes."
   ]
  },
  {
   "cell_type": "markdown",
   "metadata": {},
   "source": [
    "![Cara](https://scontent.fscl11-2.fna.fbcdn.net/v/t1.0-9/43052413_335021240587929_8656323048250540032_n.jpg?_nc_cat=110&oh=0988b519de56303c0b83ea5560b75c07&oe=5C169332)"
   ]
  },
  {
   "cell_type": "markdown",
   "metadata": {},
   "source": [
    "## Entendiendo la API de Data Chile"
   ]
  },
  {
   "cell_type": "markdown",
   "metadata": {},
   "source": [
    "DataChile utiliza para su funcionamiento como capa lógica Mondrian-REST, que es un componente del lado del servidor que permite la creación de APIs HTTP para acceder a una base de datos especificando la estructura lógica de la información.\n",
    "\n",
    "Para utilizar la API de DataChile, es necesario conocer algunos conceptos que facilitarán su uso, los cuáles explicaremos a continuación.\n",
    "\n",
    "**Cubo**\n",
    "\n",
    "Un cubo es una colección de dimensions y measures.\n",
    "\n",
    "En DataChile, cada dataset está agrupado en un cubo. El diseño del lenguaje de consultas a la API está centrado en torno a 3 operaciones: Drilldown, Cut, Measure. Para ejemplificar los conceptos, se utilizará el dataset exports -que representa las exportaciones de Chile- como referencia.\n",
    "\n",
    "**Drilldown**\n",
    "\n",
    "Algunas definiciones previas:\n",
    "Un member es un valor dentro de una dimensión determinada por un set de valores. La jerarquía género tiene los miembros 'Masculino' y 'Femenino'. 'Concepción', 'Bío-Bío' y 'Chile' son todos miembros de la jerarquía Geográfica.\n",
    "Un level es un conjunto de miembros que se encuentran a la misma distancia del inicio de la jerarquía. Concepción, Tucapel, Arica, se encuentran en el mismo level.\n",
    "Una hierarchy es un conjunto de miembros organizados estructuradamente para su análisis. Por ejemplo, la jerarquía Geográfica consiste de nombre de comuna, regiones y país. La jerarquización permite obtener valores intermedios: Total de exportaciones de la región de Valparaíso es la suma de todas las exportaciones de las comunas de dicha región.\n",
    "Una dimension es un conjunto de jerarquías que discriminan el mismo atributo (Por ejemplo, el día que se produjo una exportación)\n",
    "Un drilldown permite pasar de un nivel de detalle al siguiente. La estructura de un drilldown para las consultas en el cubo es [Dimension].[Hierarchy].[Level]\n",
    "\n",
    "**Medición**\n",
    "\n",
    "Variable escalar asociada con un valor particular en los datos del cubo.\n",
    "\n",
    "**Corte**\n",
    "\n",
    "Permite al usuario especificar un filtro, que restringe las tuplas disponibles del cubo. Por ejemplo, en exports, cortar el cubo en torno al miembro [Region].[8] en la dimensión Geography, sólo considerará celdas de la región de Bío-Bío. Múltiples cortes pueden ser especificados en una simple consulta.\n",
    "\n",
    "[Fuente](https://es.datachile.io/about/api)\n"
   ]
  },
  {
   "cell_type": "code",
   "execution_count": null,
   "metadata": {},
   "outputs": [],
   "source": [
    "client.get(\n",
    "    \"life_expectancy\", \n",
    "    {\n",
    "        \"drilldowns\": [\n",
    "            [\"Date\", \"Date\", \"Year\"],\n",
    "            [\"Geography\", \"Geography\", \"Region\"],\n",
    "            ['Sex']\n",
    "        ],\n",
    "        \"measures\": [\"Number of records\",\n",
    "                     \"Life Expectancy AVG\",\n",
    "                     \"Mortality rate per 100 inhabitants AVG\"\n",
    "                    ]    },\n",
    "    df=True\n",
    ")"
   ]
  },
  {
   "cell_type": "markdown",
   "metadata": {},
   "source": [
    "### Destripando el ejemplo anterior:\n",
    "\n",
    "Para el ejemplo anterior básicamente se utilizó toda la información disponible de la esperanza de vida\n",
    "\n",
    "- Cube: life_expectancy\n",
    "- Drilldowns:\n",
    "    * Año (Dimensión: Date, Hierarchy: Date, Level: Year)\n",
    "    * Región (Dimensión: Geography, Hierarchy: Geography, Level: Region)\n",
    "    * Género (Dimensión: Sex, Hierarchy: Sex, Level: Sex)\n",
    "- Measures:\n",
    "    * Número de registros\n",
    "    * Promedio de esperanza de vida\n",
    "    * Promedio de tasa promedio de mortalidad por 100 habitantes"
   ]
  },
  {
   "cell_type": "markdown",
   "metadata": {},
   "source": [
    "### Ejemplo 2\n",
    "\n",
    "Pensemos que queremos la información de la tasa de mortalidad solo por region (sin importar el año y el género), la solicitud a la API debe ser de la siguiente forma:"
   ]
  },
  {
   "cell_type": "code",
   "execution_count": null,
   "metadata": {},
   "outputs": [],
   "source": [
    "mortality_region = client.get(\n",
    "    \"life_expectancy\", \n",
    "    {\n",
    "        \"drilldowns\": [\n",
    "            [\"Geography\", \"Geography\", \"Region\"],\n",
    "        ],\n",
    "        \"measures\": [\n",
    "                     \"Mortality rate per 100 inhabitants AVG\"\n",
    "                    ]    \n",
    "    },\n",
    "    df=True\n",
    ")\n",
    "mortality_region.head()"
   ]
  },
  {
   "cell_type": "markdown",
   "metadata": {},
   "source": [
    "### Veamos la documentación de la API de DataChile para Python"
   ]
  },
  {
   "cell_type": "code",
   "execution_count": null,
   "metadata": {},
   "outputs": [],
   "source": [
    "ChileCube??"
   ]
  },
  {
   "cell_type": "markdown",
   "metadata": {},
   "source": [
    "La información de la esperanza de vida se puede obtener de la siguiente forma:"
   ]
  },
  {
   "cell_type": "code",
   "execution_count": null,
   "metadata": {},
   "outputs": [],
   "source": [
    "client.get_cube(\"life_expectancy\")  # Es un JSON!"
   ]
  },
  {
   "cell_type": "markdown",
   "metadata": {},
   "source": [
    "Lo primero es tener una visión de todos los cubos."
   ]
  },
  {
   "cell_type": "code",
   "execution_count": null,
   "metadata": {},
   "outputs": [],
   "source": [
    "client.get_measures(\"life_expectancy\")  # Lista de dicctionarios "
   ]
  },
  {
   "cell_type": "markdown",
   "metadata": {},
   "source": [
    "ProTip: Como te diste cuenta, lo que entrega es un diccionario (\"\"\"JSON\"\"\") o una lista de diccionario, por lo que si quieres explorar con más detalle una buena idea es ver las llaves que tiene para así acceder con mayor facilidad."
   ]
  },
  {
   "cell_type": "code",
   "execution_count": null,
   "metadata": {},
   "outputs": [],
   "source": [
    "client.get_cube(\"life_expectancy\").keys()"
   ]
  },
  {
   "cell_type": "code",
   "execution_count": null,
   "metadata": {},
   "outputs": [],
   "source": [
    "client.get_cube(\"life_expectancy\")['measures']"
   ]
  },
  {
   "cell_type": "markdown",
   "metadata": {},
   "source": [
    "## Veamos otros cubos"
   ]
  },
  {
   "cell_type": "code",
   "execution_count": null,
   "metadata": {},
   "outputs": [],
   "source": [
    "cubes = client.get_cubes()  # Lista de diccionarios"
   ]
  },
  {
   "cell_type": "code",
   "execution_count": null,
   "metadata": {},
   "outputs": [],
   "source": [
    "for cube in cubes:\n",
    "    print(cube['name'])"
   ]
  },
  {
   "cell_type": "markdown",
   "metadata": {},
   "source": [
    "# Ejercicio 2\n",
    "\n",
    "Objetivo: Obtener la población por año y comuna."
   ]
  },
  {
   "cell_type": "code",
   "execution_count": null,
   "metadata": {},
   "outputs": [],
   "source": [
    "client.get_cube(\"population_estimate\")"
   ]
  },
  {
   "cell_type": "code",
   "execution_count": null,
   "metadata": {},
   "outputs": [],
   "source": [
    "population = client.get(\n",
    "    \"population_estimate\", \n",
    "    {\n",
    "        \"drilldowns\": [\n",
    "            [\"Date\", \"Date\", \"Year\"],\n",
    "            [\"Geography\", \"Geography\", \"Comuna\"],\n",
    "        ],\n",
    "        \"measures\": [\n",
    "            \"Population\",\n",
    "        ],\n",
    "    },\n",
    "    df=True\n",
    ")\n",
    "population.head()"
   ]
  },
  {
   "cell_type": "markdown",
   "metadata": {},
   "source": [
    "## Ejercicio Parte 2"
   ]
  },
  {
   "cell_type": "markdown",
   "metadata": {},
   "source": [
    "### Ejercicio 2.1\n",
    "Obtener la cantidad de electores habilitados y electores que votaron por Region total (considerando todos los años disponibles)"
   ]
  },
  {
   "cell_type": "code",
   "execution_count": null,
   "metadata": {},
   "outputs": [],
   "source": [
    "client.get_cube(\"election_participation\")"
   ]
  },
  {
   "cell_type": "code",
   "execution_count": null,
   "metadata": {},
   "outputs": [],
   "source": [
    "client.get_cube(\"election_participation\")['measures']"
   ]
  },
  {
   "cell_type": "code",
   "execution_count": null,
   "metadata": {},
   "outputs": [],
   "source": [
    "election = client.get(\n",
    "    # FIX ME PLEASE, \n",
    "    {\n",
    "        \"drilldowns\": [\n",
    "            # FIX ME PLEASE\n",
    "        ],\n",
    "        \"measures\": [\n",
    "            # FIX ME PLEASE,\n",
    "            # FIX ME PLEASE\n",
    "        ],\n",
    "    },\n",
    "    df=True\n",
    ")\n",
    "election.head()"
   ]
  },
  {
   "cell_type": "markdown",
   "metadata": {},
   "source": [
    "### Ejercicio 2.2\n",
    "Obtener el promedio de NEM y puntaje PSU por año y tipo de instituciónn (_Administración_) desde el cubo `education_performance_new`."
   ]
  },
  {
   "cell_type": "code",
   "execution_count": null,
   "metadata": {},
   "outputs": [],
   "source": [
    "client.get_cube(\"education_performance_new\")"
   ]
  },
  {
   "cell_type": "code",
   "execution_count": null,
   "metadata": {},
   "outputs": [],
   "source": [
    "client.get_cube(\"education_performance_new\")['dimensions']"
   ]
  },
  {
   "cell_type": "code",
   "execution_count": null,
   "metadata": {},
   "outputs": [],
   "source": [
    "client.get_cube(\"education_performance_new\")['measures']"
   ]
  },
  {
   "cell_type": "code",
   "execution_count": null,
   "metadata": {},
   "outputs": [],
   "source": [
    "psu_nem = client.get(\n",
    "    \"education_performance_new\", \n",
    "    {\n",
    "        \"drilldowns\": [\n",
    "            # FIX ME PLEASE,\n",
    "            # FIX ME PLEASE\n",
    "        ],\n",
    "        \"measures\": [\n",
    "            # FIX ME PLEASE,\n",
    "            # FIX ME PLEASE\n",
    "        ],\n",
    "    },\n",
    "    df=True\n",
    ")\n",
    "psu_nem.head()"
   ]
  }
 ],
 "metadata": {
  "celltoolbar": "Slideshow",
  "kernelspec": {
   "display_name": "Python 3",
   "language": "python",
   "name": "python3"
  },
  "language_info": {
   "codemirror_mode": {
    "name": "ipython",
    "version": 3
   },
   "file_extension": ".py",
   "mimetype": "text/x-python",
   "name": "python",
   "nbconvert_exporter": "python",
   "pygments_lexer": "ipython3",
   "version": "3.6.6"
  }
 },
 "nbformat": 4,
 "nbformat_minor": 2
}
