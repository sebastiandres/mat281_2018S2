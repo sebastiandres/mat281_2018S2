{
 "cells": [
  {
   "cell_type": "markdown",
   "metadata": {
    "slideshow": {
     "slide_type": "slide"
    }
   },
   "source": [
    "# MAT281\n",
    "\n",
    "## Aplicaciones de la Matemática en la Ingeniería\n",
    "\n",
    "### Tarea - Módulo 2"
   ]
  },
  {
   "cell_type": "markdown",
   "metadata": {
    "slideshow": {
     "slide_type": "slide"
    }
   },
   "source": [
    "La siguiente tarea debe realizarse de manera individual. No es posible copiar y pegar código de otros estudiantes. \n",
    "Pueden consultar referencias en internet (stackoverflow, por ejemplo), pero deben indicar sus fuentes cuando corresponda y evitar copiar y pegar texto y código.\n",
    "Todo el código debe ser ejecutable y las fórmulas en markdown y latex.\n",
    "\n",
    "Enviar solución por correo.\n",
    "\n",
    "**Nombre**: *[COLOCAR NOMBRE ACA]*\n",
    "\n",
    "**Rol**: *[COLOCAR ROL ACA]*\n",
    "\n",
    "**Fecha de entrega**: Martes 6 Noviembre 2018."
   ]
  },
  {
   "cell_type": "markdown",
   "metadata": {},
   "source": [
    "Esta tarea puede completarse en `jupyter notebook` o `jupyter lab`, y sólo requiere la librería `pandas`. Es posible utilizar el ambiente `mat281_modulo2`."
   ]
  },
  {
   "cell_type": "markdown",
   "metadata": {
    "slideshow": {
     "slide_type": "slide"
    }
   },
   "source": [
    "## Tema 1 - Educated Guessing - Evolución de medios de almacenamiento [20 puntos]\n",
    "\n",
    "![images/cd_dvd_bluray.jpg](images/cd_dvd_bluray.jpg)\n",
    "\n",
    "Imagen obtenida de `http://rodhzuniga.blogspot.com/2013/01/diferencias-entre-cddvd-y-blu-ray.html` (revisar después de completada la tarea) - algunos derechos probablemente reservados.\n",
    "\n",
    "Estime las siguientes cantidades aplicando la regla $1 - \\pi - 10$. \n",
    "\n",
    "Realice de manera honesta el ejercicio con una estimación con los conocimientos preliminares, obteniendo una primera estimación. ***A continuación***, busque información, indicando sus fuentes, para mejorar sus hipótesis. ¿Cuánto cambia su respuesta?\n",
    "\n",
    "En todos los casos, suponga el bit perfectamente cuadrado e indique el lado y el área. De ser posible y conocido, compare con algún objeto."
   ]
  },
  {
   "cell_type": "markdown",
   "metadata": {},
   "source": [
    "**Pregunta 1.1.- ¿Qué tamaño tiene un bit en un CD-ROM)?** [5 puntos]\n",
    "\n",
    "**R:** \n",
    "\n",
    "*RESPUESTA INICIAL.* \n",
    "\n",
    "*DISCUSIÓN DE DATOS EN BASE A MEJOR INFORMACIÓN.*\n",
    "\n",
    "*RESPUESTA FINAL.*"
   ]
  },
  {
   "cell_type": "markdown",
   "metadata": {},
   "source": [
    "**Pregunta 1.2.- ¿Qué tamaño tiene un bit en DVD?**  [5 puntos]\n",
    "\n",
    "Observación: un DVD tiene el mismo tamaño que un CD-ROM y considere la versión con una única capa de información. \n",
    "\n",
    "**R:** \n",
    "\n",
    "*RESPUESTA INICIAL.* \n",
    "\n",
    "*DISCUSIÓN DE DATOS EN BASE A MEJOR INFORMACIÓN.*\n",
    "\n",
    "*RESPUESTA FINAL.*"
   ]
  },
  {
   "cell_type": "markdown",
   "metadata": {},
   "source": [
    "**Pregunta 1.3.- ¿Qué tamaño tiene un bit en Blu-ray?** [5 puntos]\n",
    "\n",
    "Observación: un Blu-ray tiene el mismo tamaño que un DVD o CD-ROM y considere la versión con una única capa de información. \n",
    "\n",
    "**R:** \n",
    "\n",
    "*RESPUESTA INICIAL.* \n",
    "\n",
    "*DISCUSIÓN DE DATOS EN BASE A MEJOR INFORMACIÓN.*\n",
    "\n",
    "*RESPUESTA FINAL.*"
   ]
  },
  {
   "cell_type": "markdown",
   "metadata": {},
   "source": [
    "**Pregunta 1.4.- Conclusión** [5 puntos]\n",
    "\n",
    "Considerando los puntos anteriores: ¿Cuántos bits de blu-ray cabrían en un bit de DVD? ¿Cuántos bits de DVD cabrían en un bit de CD-ROM?\n",
    "\n",
    "**R:** \n",
    "\n",
    "*RESPUESTA.* "
   ]
  },
  {
   "cell_type": "markdown",
   "metadata": {},
   "source": [
    "## Tema 2 - Street Fighting Math meets Feynman [20 puntos]\n",
    "\n",
    "![images/feynman.jpg](images/feynman.jpg)\n",
    "\n",
    "Existe una anécdota relatada por Richard Feynman que ilustra su particular humor y su rapidez mental, relatada en el libro [Surely you're joking Mr. Feynman](http://buscador.usm.cl/Record/115966) que, por cierto, es completamente recomendable y que debería ser leído por todo ingeniero y científico. En el capítulo *\"Lucky numbers\"*, Feynamn menciona:\n",
    "\n",
    "*One day at Princeton I was sitting in the lounge and overheard some mathematicians talking about the series for $e^x$, which is $1 + x + x^2/2! + x^3/3!$ Each term you get by multiplying the preceding term by $x$ and dividing by the next number. For example, to get the next term after $x^4/4!$ you multiply that term by $x$ and divide by $5$. It’s very simple.\n",
    "When I was a kid I was excited by series, and had played with this thing. I had computed $e$ using that series, and had seen how quickly the new terms became very small.\n",
    "I mumbled something about how it was easy to calculate $e$ to any power using that series (you just substitute the power for x).*\n",
    "\n",
    "*“Oh yeah?” they said. “Well, then what’s $e^{3.3}$?” said some joker - I think it was Tukey.*\n",
    "\n",
    "*I say, “That’s easy. It’s $27.11$”*\n",
    "\n",
    "*Tukey knows it isn’t so easy to compute all that in your head. “Hey! How’d you do that?”*\n",
    "\n",
    "*Another guy says, “You know Feynman, he’s just faking it. It’s not really right.”*\n",
    "\n",
    "*They go to get a table, and while they’re doing that, I put on a few more figures.: $27.1126$ I say.\n",
    "They find it in the table. “It’s right! But how’d you do it!”*\n",
    "\n",
    "*“I just summed the series.”*\n",
    "\n",
    "*“Nobody can sum the series that fast. You must just happen to know that one. How about $e^3$?”\n",
    "“Look,” I say. “It’s hard work! Only one a day!”*\n",
    "\n",
    "*“Hah! It’s a fake!” they say, happily.*\n",
    "\n",
    "*“All right,” I say, “It’s $20.085$.”*\n",
    "\n",
    "*They look in the book as I put a few more figures on. They’re all excited now, because I got another one right.\n",
    "Here are these great mathematicians of the day, puzzled at how I can compute $e$ to any power! One of them says, “He just can’t be substituting and summing—it’s too hard. There’s some trick. You couldn’t do just any old number like $e^{1.4}$.”*\n",
    "\n",
    "*I say, “It’s hard work, but for you, OK. It’s $4.05$.”*\n",
    "\n",
    "*As they’re looking it up, I put on a few more digits and say, “And that’s the last one for the day!” and walk out.*\n",
    "\n",
    "*What happened was this: I happened to know three numbers—the logarithm of $10$ to the base $e$ (needed to convert numbers from base $10$ to base $e$), which is $2.3026$ (so I knew that $e$ to the $2.3$ is very close to $10$), and because of radioactivity (mean-life and half-life), I knew the $\\log$ of $2$ to the base $e$, which is $0.69315$ (so I also knew that $e^{0.7}$ is nearly equal to $2$). I also knew $e$ (to the 1), which is $2.71828$.*\n",
    "\n",
    "*The first number they gave me was $e^{3.3}$, which is $e^{2.3+1}$, that is, ten times $e$, or 27.18. While they were sweating about how I was doing it, I was correcting for the extra $.0026$, producing $2.3026$.*\n",
    "\n",
    "*I knew I couldn’t do another one; that was sheer luck. But then the guy said $e^3$: that’s $e^{2.3}$ times $e^{0.7}$, or ten times two. So I knew it was 20-something, and while they were worrying how I did it, I adjusted for the $0.693$.*\n",
    "\n",
    "*Now I was sure I couldn’t do another one, because the last one was again by sheer luck. But the guy said $e^{1.4}$, which is $e^{0.7}$ times itself. So all I had to do is fix up $4$ a little bit!*"
   ]
  },
  {
   "cell_type": "markdown",
   "metadata": {},
   "source": [
    "### Función exponencial truncada\n",
    "\n",
    "Proporcionaremos la siguiente función exponencial de $n$ términos para responder las siguientes preguntas."
   ]
  },
  {
   "cell_type": "code",
   "execution_count": null,
   "metadata": {},
   "outputs": [],
   "source": [
    "import math\n",
    "def exponential_n_terms(x, n):\n",
    "    \"\"\"\n",
    "    Calcula la exponencial considerando una serie finita de términos \n",
    "    de una manera directa.\n",
    "    inputs: \n",
    "    x: int or real number.\n",
    "    n: number of terms to consider in the series.\n",
    "    returns:\n",
    "    sx: 1 + x**1/1 + x**2/2! + ... + x**n/n!\n",
    "    \"\"\"\n",
    "    Sx = 1\n",
    "    px = 1\n",
    "    for i in range(1,n+1):\n",
    "        px = px * x / i\n",
    "        Sx += px\n",
    "    return Sx\n",
    "\n",
    "print(exponential_n_terms(1.0, 100))"
   ]
  },
  {
   "cell_type": "markdown",
   "metadata": {},
   "source": [
    "**Pregunta 2.1:** $e^{3.3} \\approx 27.1126$ [10 puntos]\n",
    "\n",
    "1.- ¿Cuántos términos habría que haber usado en la serie para llegar a ese resultado? ¿Cuántas operaciones serían necesarias considerando el \"truco\" mencionado por Feynman?\n",
    "\n",
    "**R:** *[Respuesta]*\n",
    "\n",
    "2.- ¿Cómo se realiza el cálculo mental, en su primera y segunda aproximación? Indique las ecuaciones de la manera más formal posible.\n",
    "\n",
    "**R:** *[Respuesta]*"
   ]
  },
  {
   "cell_type": "markdown",
   "metadata": {},
   "source": [
    "**Pregunta 2.2:** $e^{3} \\approx 20.085$ [10 puntos]\n",
    "\n",
    "1.- ¿Cuántos términos habría que haber usado en la serie para llegar a ese resultado?\n",
    "\n",
    "**R:** *[Respuesta]*\n",
    "\n",
    "2.- ¿Cómo se realiza el cálculo mental, en su primera y segunda aproximación? Indique las ecuaciones de la manera más formal posible.\n",
    "\n",
    "**R:** *[Respuesta]*\n"
   ]
  },
  {
   "cell_type": "markdown",
   "metadata": {},
   "source": [
    "**Pregunta 2.3:** $e^{1.4} \\approx 4.05$ [Opcional]\n",
    "\n",
    "1. ¿Cuántos términos habría que haber usado en la serie para llegar a ese resultado?\n",
    "\n",
    "**R:** *[Respuesta]*\n",
    "\n",
    "2.- ¿Cómo se realiza el cálculo mental, en su primera y segunda aproximación? Indique las ecuaciones de la manera más formal posible.\n",
    "\n",
    "**R:** *[Respuesta]*"
   ]
  },
  {
   "cell_type": "markdown",
   "metadata": {},
   "source": [
    "## Tema 3 - Análisis de Datos - de otra dimensión [60 puntos]\n",
    "\n",
    "![images/iwanttobelieve.jpg](images/iwanttobelieve.jpg)"
   ]
  },
  {
   "cell_type": "markdown",
   "metadata": {},
   "source": [
    "Realizaremos diversas técnicas de análisis sobre un curioso set de datos: una lista completa de avistamientos de OVNIS, que incluye el dia y hora del avistamiento, y la geolocalización. Este dataset no se encuentra muy actualizado y su procedencia puede resultar dudosa, además que contiene datos hasta el año 2014, pero resultará un buen conjunto de datos para analizar.\n",
    "\n",
    "El repositorio original se encuentra en la dirección https://github.com/planetsig/ufo-reports, aunque también se encuentra replicado en varios otros lugares, como por ejemplo [kaggle](https://www.kaggle.com/NUFORC/ufo-sightings/version/1). Usaremos el archivo que ya se encuentra procesado y limpiado, que hemos dejado en el directorio `/tarea/code/UFO-scrubber.csv`."
   ]
  },
  {
   "cell_type": "markdown",
   "metadata": {},
   "source": [
    "### A. Análisis inicial de la información\n",
    "\n",
    "Para conocer el dataset con el que trabajaremos, resulta natural usar los métodos `head()` y `describe`. Abriremos el dataset con todas las columnas de tipo `string` para poder realizar distintas operaciones de texto sobre ellas. "
   ]
  },
  {
   "cell_type": "code",
   "execution_count": null,
   "metadata": {},
   "outputs": [],
   "source": [
    "import pandas as pd\n",
    "# Avoid the warnings\n",
    "pd.options.mode.chained_assignment = None  # default='warn'\n",
    "\n",
    "# Open the file with separator \";\" and all columns as strings\n",
    "df_with_na = pd.read_csv(\"./data/UFO_scrubbed.csv\", sep=\",\", dtype=str)\n",
    "\n",
    "# Fill the Nans\n",
    "df = df_with_na.fillna(\"\")"
   ]
  },
  {
   "cell_type": "code",
   "execution_count": null,
   "metadata": {},
   "outputs": [],
   "source": [
    "# See the first rows\n",
    "df.head()"
   ]
  },
  {
   "cell_type": "code",
   "execution_count": null,
   "metadata": {},
   "outputs": [],
   "source": [
    "df.describe(include=\"all\").T"
   ]
  },
  {
   "cell_type": "markdown",
   "metadata": {},
   "source": [
    "Podemos observar fácilmente que el conjunto de datos se encuentra particularmente cargado a avistamientos en E.E.U.U.:"
   ]
  },
  {
   "cell_type": "code",
   "execution_count": null,
   "metadata": {},
   "outputs": [],
   "source": [
    "df[\"country\"].value_counts()"
   ]
  },
  {
   "cell_type": "markdown",
   "metadata": {},
   "source": [
    "Para producir estadísticas más realistas, en lo sucesivo sólo utilizaremos sólamente datos relativos a avistamientos en dicho país que probablemente se encuentran mucho mejor documentados que en los otros países del dataset."
   ]
  },
  {
   "cell_type": "markdown",
   "metadata": {},
   "source": [
    "Por otra parte, ¿Existen estados conocidos sin tener el país de eeuu?"
   ]
  },
  {
   "cell_type": "markdown",
   "metadata": {},
   "source": [
    "**1. Selección de datos**\n",
    "\n",
    "**Pregunta 4.1: ¿Cuáles son las 5 avistamientos de mayor duración (en EEUU)? ¿Cuantos días han durado dichos encuentros?** [5 puntos]\n",
    "\n",
    "Indique el código necesario para seleccionar únicamente los avistamientos ocurridos en EEUU, y que poseen un estado (state) distinto de vacío. Almacene el resultado en la variable `df_us`."
   ]
  },
  {
   "cell_type": "code",
   "execution_count": null,
   "metadata": {},
   "outputs": [],
   "source": [
    "# R: < < INDICAR CODIGO DE RESPUESTA >>\n",
    "#m_us = \n",
    "#m_st = \n",
    "#df_us = "
   ]
  },
  {
   "cell_type": "markdown",
   "metadata": {},
   "source": [
    "### B. Exploración simple de los datos"
   ]
  },
  {
   "cell_type": "markdown",
   "metadata": {},
   "source": [
    "**Pregunta 4.2: ¿Cuáles son las 5 mayores duraciones de avistamientos (en EEUU)? ¿Cuantos días han durado dichos encuentros?** [5 puntos]\n",
    "\n",
    "Indique el código necesario para responder la pregunta y comente al respecto.\n",
    "\n",
    "Observaciones:\n",
    "\n",
    "* En este caso se entiende que las 5 duraciones significa que se deben obtener 5 duraciones *distintas*.\n",
    "* La columna \"duration (seconds)\" proporciona una unidad común (segundos) pero en unos pocos casos tiene un carácter adicional innecesario (los casos, `2'` o `8'`).\n",
    "* Para poder obtener la mayor duración es necesario convertir la columna adecuadamente a float.\n",
    "\n",
    "Sugerencia: \n",
    "* Remueva el caracter innecesario usando `replace`:\n",
    "\n",
    "```python\n",
    "df_us[\"duration (seconds)\"].str.replace('`', '')\n",
    "```\n",
    "\n",
    "* Convierta la columna adecuada a `float`, y utilice `unique` and `sorted`."
   ]
  },
  {
   "cell_type": "code",
   "execution_count": null,
   "metadata": {},
   "outputs": [],
   "source": [
    "# R: < < INDICAR CODIGO DE RESPUESTA >>\n",
    "#t1_seconds = \n",
    "#t2_hours = \n",
    "#top_5 = "
   ]
  },
  {
   "cell_type": "markdown",
   "metadata": {},
   "source": [
    "**R**: < < COMENTAR RESPUESTA >>"
   ]
  },
  {
   "cell_type": "markdown",
   "metadata": {},
   "source": [
    "**Pregunta 4.3: ¿Donde han ocurrido los 5 encuentros que han durado más tiempo (en EEUU)?** [5 puntos]\n",
    "\n",
    "La pregunta anterior permitía obtener la duración de los eventos, pero no otras características. Para poder responder donde han ocurrido esos encuentros, resulta necesario agregar una nueva columna y ordenando apropiadamente el dataframe. En este caso se pregunta por los 5 encuentros que han durado más tiempo, por lo que podría (eventualmente) existir repetición en las duraciones de los eventos."
   ]
  },
  {
   "cell_type": "code",
   "execution_count": null,
   "metadata": {},
   "outputs": [],
   "source": [
    "df_us['duration_in_days'] = df_us[\"duration (seconds)\"].str.replace('`', '').astype(float)/(24*60*60)\n",
    "df_us.sort_values(\"duration_in_days\").tail(5)"
   ]
  },
  {
   "cell_type": "markdown",
   "metadata": {},
   "source": [
    "### C. Manipulación de strings\n",
    "Para realizar un análisis sobre los años del avistamiento, es necesario convertir la fecha `datetime` en un formato apropiado. En python existe un tipo propio llamado precisamente `datetime` que proporciona métodos para manipulación de fechas y horas, pero para nuestros fines pedagógicos seguiremos utilizando strings. Sin embargo, si lo deseas, puedes investigar y utilizar las funciones propias de dicha librería en esta tarea (pero representará probablemente mucho más trabajo).\n",
    "\n",
    "El formato de fecha utilizado es \"mm/dd/yyyy hh:mm\". Podemos extraer la información de manera sencilla utilizando las funciones de strings como se muestra a continuación:"
   ]
  },
  {
   "cell_type": "code",
   "execution_count": null,
   "metadata": {},
   "outputs": [],
   "source": [
    "# Split each row using the str method split and then assign to new columns\n",
    "df_us[\"date\"], df_us[\"time\"] = df_us[\"datetime\"].str.split(\" \").str"
   ]
  },
  {
   "cell_type": "code",
   "execution_count": null,
   "metadata": {},
   "outputs": [],
   "source": [
    "df_us[\"date\"].head()"
   ]
  },
  {
   "cell_type": "code",
   "execution_count": null,
   "metadata": {},
   "outputs": [],
   "source": [
    "df_us[\"time\"].head()"
   ]
  },
  {
   "cell_type": "markdown",
   "metadata": {},
   "source": [
    "Observación: Existe en el dataset una hora \"24:00\" que no queda completamente claro si es \"00:00\" del mismo día o \"00:00\" del día siguiente, por lo que simplemente lo dejaremos tal cual."
   ]
  },
  {
   "cell_type": "markdown",
   "metadata": {},
   "source": [
    "**Pregunta 4.4: Genera nuevas columnas year, month, day, hour y minute con el año, mes, día, hora y minuto del avistamiento.** [5 puntos]\n",
    "\n",
    "Indique el código necesario para responder las preguntas y comente al respecto."
   ]
  },
  {
   "cell_type": "code",
   "execution_count": null,
   "metadata": {},
   "outputs": [],
   "source": [
    "# R: < < INDICAR CODIGO DE RESPUESTA >>\n"
   ]
  },
  {
   "cell_type": "code",
   "execution_count": null,
   "metadata": {},
   "outputs": [],
   "source": [
    "# R: < < INDICAR CODIGO DE RESPUESTA >>\n"
   ]
  },
  {
   "cell_type": "markdown",
   "metadata": {},
   "source": [
    "### D. Agrupación y pivoteo de datos."
   ]
  },
  {
   "cell_type": "markdown",
   "metadata": {},
   "source": [
    "**Pregunta 4.5: ¿En qué año se observaron más avistamientos? ¿En qué mes se observan más avistamientos? ¿En qué hora se realizan más avistamientos?** [5 puntos] \n",
    "\n",
    "Indique el código necesario para responder las preguntas y comente al respecto."
   ]
  },
  {
   "cell_type": "code",
   "execution_count": null,
   "metadata": {},
   "outputs": [],
   "source": [
    "# Year with more sightings\n",
    "# R: < < INDICAR CODIGO DE RESPUESTA >>"
   ]
  },
  {
   "cell_type": "code",
   "execution_count": null,
   "metadata": {},
   "outputs": [],
   "source": [
    "# Month with more sightings\n",
    "# R: < < INDICAR CODIGO DE RESPUESTA >>"
   ]
  },
  {
   "cell_type": "code",
   "execution_count": null,
   "metadata": {},
   "outputs": [],
   "source": [
    "# Hour with more sightings\n",
    "# R: < < INDICAR CODIGO DE RESPUESTA >>"
   ]
  },
  {
   "cell_type": "markdown",
   "metadata": {},
   "source": [
    "**R**: < < COMENTAR RESPUESTA >>"
   ]
  },
  {
   "cell_type": "markdown",
   "metadata": {},
   "source": [
    "**Pregunta 4.6: ¿Cuántos avistamientos y qué porcentaje de avistamientos de tipo \"platillo volador clásico\" se observan por año en cada estado?** [5 puntos]\n",
    "\n",
    "Definamos como forma *\"platillo volador clásico\"* a los avistamientos que poseen forma triangular, circular, esferica, ovalada o disco (triangle, circle, sphere, disk u oval). ¿Cómo podemos calcular que porcentaje de avistamientos **por año** corresponden a este tipo?\n",
    "\n",
    "Los pasos a realizar los son siguientes:\n",
    "\n",
    "1.- Definir una variable que permita distinguir a los patillos voladores clásicos de los otros. En general, se recomienda usar 1 para \"platillo volador clasico\" y 0 para otro caso, para poder usar las funciones suma y count.\n",
    "\n",
    "2.- Realizar un groupby apropiado y realizar el conteo necesario.\n",
    "\n",
    "3.- Realizar la estadística respectiva."
   ]
  },
  {
   "cell_type": "code",
   "execution_count": null,
   "metadata": {},
   "outputs": [],
   "source": [
    "# 1. Definición de variable apropiada\n",
    "#df_us[\"is_flying_saucer\"] = \n",
    "#..."
   ]
  },
  {
   "cell_type": "code",
   "execution_count": null,
   "metadata": {},
   "outputs": [],
   "source": [
    "# 2. Groupby\n",
    "#df_count = "
   ]
  },
  {
   "cell_type": "code",
   "execution_count": null,
   "metadata": {},
   "outputs": [],
   "source": [
    "#df_count[\"percentage\"] = "
   ]
  },
  {
   "cell_type": "markdown",
   "metadata": {},
   "source": [
    "R: *< < RESPUESTA > >*"
   ]
  },
  {
   "cell_type": "markdown",
   "metadata": {},
   "source": [
    "**Pregunta 4.7: Pivotee la tabla anterior para que se indique en cada fila, un año con la cantidad de avistamientos de tipo platillo volador para cada estado.** [5 puntos]\n",
    "\n",
    "La tabla debería tener como columnas: `state`, `ak`, `al`, `az`, ..., `wi`, `wv`, `wy`. Utilice `fillna` para llenar con string vacío para facilitar la lectura de la tabla. \n",
    "\n",
    "Indique el código y comente."
   ]
  },
  {
   "cell_type": "code",
   "execution_count": null,
   "metadata": {},
   "outputs": [],
   "source": [
    "# R:\n",
    "#df_pt = "
   ]
  },
  {
   "cell_type": "markdown",
   "metadata": {},
   "source": [
    "R: *< < RESPUESTA > >*"
   ]
  },
  {
   "cell_type": "markdown",
   "metadata": {},
   "source": [
    "A continuación, realizaremos varios pasos para conocer cuál estado de EEUU tiene más avistamientos por persona por año, en los últimos 5 años?\n",
    "\n",
    "Inocentemente, uno podría pensar que el mejor lugar para realizar avistamientos de ovnis es el lugar donde existen más registros de avistamientos. Sin embargo, resulta natural que existan más avistamientos en los lugares donde existe un mayor asentamiento de personas. Un indicador más representativo de la posibilidad de realizar un avistamiento es el número de observaciones por cada 10,000 personas. Sin embargo, como no tenemos la población de cada estado en esta tabla tendremos que ¡mezclar distintas tablas!\n",
    "\n",
    "Lamentablemente no es posible conseguir fácilmente una tabla con la población de cada estado, a través de los años. Sin embargo, como nos interesan las estadísticas más recientes, podemos considerar que la proporción entre los distintos estados no ha cambiado mayormente en los últimos años, al menos en estas estadísticas iniciales. Por ende, las estadísticas proporcionadas por https://datamarket.com nos sirven como una buena referencia de población por estado. \n",
    "\n",
    "El archivo `data/us-population-by-state-and-count.csv` contiene la población por estado para el año 2012, el cual se encuentra en formato csv pero con separador `;`.\n",
    "\n",
    "Abramos el archivo en un dataframe llamado `df_pop`:"
   ]
  },
  {
   "cell_type": "code",
   "execution_count": null,
   "metadata": {},
   "outputs": [],
   "source": [
    "df_pop = pd.read_csv(\"data/us-population-by-state-and-count.csv\", sep=\";\")\n",
    "df_pop.head()"
   ]
  },
  {
   "cell_type": "markdown",
   "metadata": {},
   "source": [
    "¡Los estados aparecen con su nombre completo y no con la abreviación como en el archivo de los OVNIS!\n",
    "Afortunadamente, existe un tercer archivo que permite hacer la relación entre los archivos."
   ]
  },
  {
   "cell_type": "code",
   "execution_count": null,
   "metadata": {},
   "outputs": [],
   "source": [
    "df_abr = pd.read_csv(\"data/us-abbreviation.csv\", sep=\";\")\n",
    "df_abr.head()"
   ]
  },
  {
   "cell_type": "markdown",
   "metadata": {},
   "source": [
    "Realizaremos un merge entre los dataframes `df_pop` y `df_abr` para obtener un dataframe `df_pop_abr` con cuatro columnas: state_name, state_population, State Name,y State Abbreviation. "
   ]
  },
  {
   "cell_type": "code",
   "execution_count": null,
   "metadata": {},
   "outputs": [],
   "source": [
    "# Merge de nuestros dataframes\n",
    "df_pop_abr = df_pop.merge(df_abr, left_on=[\"state_name\"], right_on=[\"State Name\"], how=\"outer\").fillna(\"\")\n",
    "df_pop_abr"
   ]
  },
  {
   "cell_type": "markdown",
   "metadata": {},
   "source": [
    "**Pregunta 4.8:  Realice un poco de limpieza antes del segundo merge.**  [5 puntos]\n",
    "\n",
    "La columna con la que haremos el merge se llama `\"state\"` y tiene el código de los estados en minúsculas. Para que todo funcione más facil, resulta conveniente subseleccionar las columnas y usar minúsculas en un nuevo dataframe que llamaremos `df_r` y que debería verse así:\n",
    "\n",
    "```\n",
    "state    state_name    state_population\n",
    "al       Alabama       4777326\n",
    "...\n",
    "wy       Wyoming       562803\n",
    "```\n",
    "\n",
    "\n",
    "Indique el código necesario."
   ]
  },
  {
   "cell_type": "code",
   "execution_count": null,
   "metadata": {},
   "outputs": [],
   "source": [
    "# R: << CODIGO ACA >>\n",
    "#df_pop_abr[\"state\"] = \n",
    "#df_r = \n",
    "#df_r"
   ]
  },
  {
   "cell_type": "markdown",
   "metadata": {},
   "source": [
    "R: *< < COMENTAR AQUI > >*"
   ]
  },
  {
   "cell_type": "markdown",
   "metadata": {},
   "source": [
    "**Pregunta 4.9:  Calcule la cantidad de avistamientos en cada etado, durante los últimos 5 años, almacenandolo en un dataframe llamado `df_state_5y`** [5 puntos]\n",
    " \n",
    "Indique el código necesario para responder la pregunta y comente al respecto."
   ]
  },
  {
   "cell_type": "code",
   "execution_count": null,
   "metadata": {},
   "outputs": [],
   "source": [
    "#df_5y = \n",
    "#df_state_5y = \n",
    "#df_state_5y[\"sightings_in_5_years\"] = \n",
    "#df_state_5y"
   ]
  },
  {
   "cell_type": "markdown",
   "metadata": {},
   "source": [
    "**Pregunta 4.10:  Realice un segundo merge, entre los dataframes `df_state_5y` y `df_r` para obtener un dataframe `df_sight` en el cual se agregue la columna de population.**  [5 puntos]\n",
    "\n",
    "Indique el código necesario para responder la pregunta y comente al respecto."
   ]
  },
  {
   "cell_type": "code",
   "execution_count": null,
   "metadata": {},
   "outputs": [],
   "source": [
    "#df_sight = \n",
    "#df_sight"
   ]
  },
  {
   "cell_type": "markdown",
   "metadata": {},
   "source": [
    "R: *< < COMENTAR AQUI > >*"
   ]
  },
  {
   "cell_type": "markdown",
   "metadata": {},
   "source": [
    "**Pregunta 4.11:  Agregue una columna llamada `expected_sightings` indicando la cantidad de avistamientos esperados para 10,000 personas a lo largo de 5 años.**  [5 puntos]\n",
    "\n",
    "Indique el código necesario para responder la pregunta y comente al respecto."
   ]
  },
  {
   "cell_type": "code",
   "execution_count": null,
   "metadata": {},
   "outputs": [],
   "source": [
    "#df_sight[\"expected_sightings\"] "
   ]
  },
  {
   "cell_type": "markdown",
   "metadata": {},
   "source": [
    "R: *< < COMENTAR AQUI > >*"
   ]
  },
  {
   "cell_type": "markdown",
   "metadata": {},
   "source": [
    "**Pregunta 4.12: Ordenando por la columna `expected_sightings`, ¿cuáles son los 3 mejores estados de EEUU para avistar OVNIS?. ¿Cuál otro factor, a su juicio, hubiera sido importante a considerar?**  [5 puntos]\n",
    "\n",
    "Indique el código necesario para responder la pregunta y comente al respecto."
   ]
  },
  {
   "cell_type": "code",
   "execution_count": null,
   "metadata": {},
   "outputs": [],
   "source": [
    "#df_sight"
   ]
  },
  {
   "cell_type": "markdown",
   "metadata": {},
   "source": [
    "R: *< < COMENTAR AQUI > >*"
   ]
  },
  {
   "cell_type": "markdown",
   "metadata": {},
   "source": [
    "## Tema 4 - Retroalimentación sobre el curso [0 puntos]\n",
    "\n",
    "Esta sección **no será evaluada** pero nos permitirá obtener retroalimentación de las clases, tareas y laboratorios. Puedes ser completamente sincero, pues no será parte de la evaluación de esta tarea (ni de futuras).\n",
    "\n",
    "**1**. ¿Aproximadamente cuánto tiempo, en horas, te tomó terminar la tarea?\n",
    "\n",
    "*R: << RESPUESTA DEL ALUMNO >>*\n",
    "\n",
    "**2**. ¿Qué tan interesante es esta tarea (0-100)?\n",
    "\n",
    "*R: << RESPUESTA DEL ALUMNO >>*\n",
    "\n",
    "**3**. ¿Qué tan difícil fue esta tarea (0-100)? Siendo 0 complemente trivial, 100 completamente imposible y 50 siendo una complejidad apropiada.\n",
    "\n",
    "*R: << RESPUESTA DEL ALUMNO >>*\n",
    "\n",
    "**4**. Evalúa las siguientes clases del módulo 2, en escala 0 a 100 (siendo 0 completamente inútil y 100 información indispensable). Puedes incluir comentarios adicionales, si lo deseas.\n",
    "\n",
    "* **Clase 1**: Educated guessing, análisis dimensional, teorema Pi.\n",
    "    R: *[RESPUESTA DEL ESTUDIANTE]*\n",
    "\n",
    "* **Clase 2**: Datos tabulares: etiqueta, pivotear, despivotear.\n",
    "    R: *[RESPUESTA DEL ESTUDIANTE]*\n",
    "\n",
    "* **Clase 3**: Sobre formato de datos y SQL.\n",
    "    R: *[RESPUESTA DEL ESTUDIANTE]*\n",
    "\n",
    "* **Clase 4**: Sobre formatos de datos y APIs.\n",
    "    R: *[RESPUESTA DEL ESTUDIANTE]*\n",
    "\n",
    "* **Clase 5**: Agrupando datos y un análisis completo.\n",
    "    R: *[RESPUESTA DEL ESTUDIANTE]*\n",
    "        "
   ]
  }
 ],
 "metadata": {
  "celltoolbar": "Slideshow",
  "kernelspec": {
   "display_name": "Python 3",
   "language": "python",
   "name": "python3"
  },
  "language_info": {
   "codemirror_mode": {
    "name": "ipython",
    "version": 3
   },
   "file_extension": ".py",
   "mimetype": "text/x-python",
   "name": "python",
   "nbconvert_exporter": "python",
   "pygments_lexer": "ipython3",
   "version": "3.6.6"
  }
 },
 "nbformat": 4,
 "nbformat_minor": 2
}
