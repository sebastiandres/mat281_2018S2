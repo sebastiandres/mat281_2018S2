{
 "cells": [
  {
   "cell_type": "code",
   "execution_count": null,
   "metadata": {
    "slideshow": {
     "slide_type": "skip"
    }
   },
   "outputs": [],
   "source": [
    "# Configuracion para recargar módulos y librerías \n",
    "%reload_ext autoreload\n",
    "%autoreload 2"
   ]
  },
  {
   "cell_type": "markdown",
   "metadata": {
    "slideshow": {
     "slide_type": "slide"
    }
   },
   "source": [
    "# MAT281\n",
    "\n",
    "## Aplicaciones de la Matemática en la Ingeniería\n",
    "\n",
    "Puedes ejecutar este jupyter notebook de manera interactiva:\n",
    "\n",
    "[![Binder](../shared/images/jupyter_binder.png)](https://mybinder.org/v2/gh/sebastiandres/mat281_m03_visualizacion/master?filepath=01_landscape/01_landscape.ipynb)\n",
    "\n",
    "[![Colab](../shared/images/jupyter_colab.png)](https://colab.research.google.com/github/sebastiandres/mat281_m03_visualizacion/blob/master//01_landscape/01_landscape.ipynb)"
   ]
  },
  {
   "cell_type": "markdown",
   "metadata": {},
   "source": [
    "## Intrucciones\n",
    "\n",
    "- Completa tus datos personales (nombre y rol USM).\n",
    "- Debes enviar este .ipynb con el siguiente formato de nombre: 0X_filename_NOMBRE_APELLIDO.ipynb con tus respuestas a alonso.ogueda@gmail.com y sebastian.flores@usm.cl .\n",
    "- Se evaluará:\n",
    "    * Soluciones\n",
    "    * Código\n",
    "    * Al presionar  Kernel -> Restart Kernel and Run All Cells deben ejecutarse todas las celdas sin error.\n",
    "- La escala es de 0 a 4 considerando solo valores enteros.\n",
    "- __La entrega es al final de esta clase.__\n",
    "\n",
    "\n",
    "__Nombre:__\n",
    "\n",
    "__Rol:__"
   ]
  },
  {
   "cell_type": "markdown",
   "metadata": {
    "slideshow": {
     "slide_type": "slide"
    }
   },
   "source": [
    "## ¿Qué contenido aprenderemos?\n",
    "\n",
    "* Conocer librearías gráficas\n",
    "* Tipos de visualizaciones"
   ]
  },
  {
   "cell_type": "markdown",
   "metadata": {
    "slideshow": {
     "slide_type": "slide"
    }
   },
   "source": [
    "## Tema 1: Librerías gráficas\n",
    "\n",
    "La mayor parte de esta parte del laboratorio está basada en la charla *[The Python Visualization Landscape](https://us.pycon.org/2017/schedule/presentation/616/)* realizada por [Jake VanderPlas](http://vanderplas.com/) en la PyCon 2017."
   ]
  },
  {
   "cell_type": "markdown",
   "metadata": {},
   "source": [
    "### Landscape\n",
    "\n",
    "Estas eran algunas de las librerías gráficas relacionadas con Python más utilizadas en el año 2017 y que en realiadad no ha cambiado mucho a la fecha.  "
   ]
  },
  {
   "cell_type": "markdown",
   "metadata": {},
   "source": [
    "![image](https://yeonghoey.com/pycon-2017/_img/screenshot_2017-08-23_23-07-05.png)"
   ]
  },
  {
   "cell_type": "markdown",
   "metadata": {},
   "source": [
    "Cada una de estas librerías fueron creadas para satisfacer diferentes necesidades, algunas han ganado más adeptos que otras por uno u otro motivo. Tal como avanza la tecnología, estas librerías se actualizan o se crean nuevas, la importancia no recae en ser un experto en una, si no en saber adaptarse a las situaciones, tomar la mejor decicisión y escoger según nuestras necesidades y preferencias. Por ejemplo, `matplotlib` nació como una solución para imitar los gráficos de `MATLAB` (puedes ver la historia completa [aquí](https://matplotlib.org/users/history.html)), manteniendo una sintaxis similar y con ello poder crear gráficos __estáticos__ de muy buen nivel.\n",
    "\n",
    "Debido al éxito de `matplotlib` en la comunidad, naces librerías basadas ella. Algunos ejemplos son:\n",
    "\n",
    "- `pandas` posee métodos para sus objetos con tal de crear gráficos de manera muy rápida, e.g. `pandas.DataFrame.plot.bar()`\n",
    "- `seaborn` se basa en `matpĺotlib` pero su nicho corresponde a las visualizaciones estadísticas.\n",
    "- `ggpy` una suerte de copia a `ggplot2` perteneciente al lenguaje de programación `R`.\n",
    "- `networkx` visualizaciones de grafos.\n",
    "\n",
    "Por otro lado, con tal de crear visualizaciones __interactivas__ aparecen librerías basadas en `javascript`, algunas de las más conocidas en Python son:\n",
    "\n",
    "- `bokeh` tiene como objetivo proporcionar gráficos versátiles, elegantes e incluso interactivos, teniendo una gran performance con grandes datasets o incluso streaming de datos.\n",
    "- `plotly` visualizaciones interactivas que en conjunto a `Dash` (de la misma empresa) permite crear aplicaciones webs, similar a `shiny` de `R`.\n",
    "\n",
    "`D3.js` a pesar de estar basado en `javascript` se ha ganado un lugar en el corazón de toda la comunidad, debido a la ilimitada cantidad de visualizaciones que son posibles de hacer, por ejemplo, la [malla interactiva](https://mallas.labcomp.cl/) que hizo un estudiante de la UTFSM está hecha en `D3.js`. \n",
    "\n",
    "De las librerías más recientes está `Altair`, que consiste en visualizaciones declarativas (ya lo veremos en el próximo laboratorio). Construída sobre `Vega-Lite`, a su vez que esté está sobre `Vega` y este finalmente sobre `D3.js`. `Altair` permite crear visualizaciones estáticas e interactivas con pocas líneas de código, sin embargo, al ser relativamente nueva, aún existen funcionalidades en desarrollo o que simplemente aún no existen en esta librería pero en otras si."
   ]
  },
  {
   "cell_type": "markdown",
   "metadata": {},
   "source": [
    "#### Clasificación\n",
    "\n",
    "En lo concierne a nosotros, una de las principales clasificaciones para estas librerías es si crean visualizaciones __estática__ y/o __interactivas__. La interactividad es un plus que permite adentrarse en los datos en distintos niveles, si agregamos que ciertas librerías permiten crear _widgets_ (algo así como complementos a las visualizaciones) su potencial aumenta. Por ejemplo, un widget podría ser un filtro que permita escoger un país; en una librería estática tendrías que crear un gráfico por cada país (o combinación de países) lo cual no se hace escalable y cómodo para trabajar. "
   ]
  },
  {
   "cell_type": "markdown",
   "metadata": {},
   "source": [
    "## Ejercicios Parte 1"
   ]
  },
  {
   "cell_type": "markdown",
   "metadata": {},
   "source": [
    "1.1 Imagina que te encuentras trabajando en una empresa de la industria como Ingeniero Civil Matemático, día a día procesas una gran cantidad de datos, creas modelos matemáticos, implementas algoritmos y finalmente debes presentar/entregar resultados a los clientes, quienes quieren explorar tus resultados. ¿Cuál(es) librerías gráficas utilizarías?\n",
    "\n",
    "* __R:__"
   ]
  },
  {
   "cell_type": "markdown",
   "metadata": {},
   "source": [
    "1.2 Imagina que eres un académico de alguna universidad, has trabajado meses en un artículo y requieres agregar visualizaciones antes de enviarlo a alguna revista a revisión. ¿Cuál(es) librerías gráficas utilizarías?\n",
    "\n",
    "* __R:__"
   ]
  },
  {
   "cell_type": "markdown",
   "metadata": {},
   "source": [
    "## Tema 2: Tipos de visualizaciones"
   ]
  },
  {
   "cell_type": "markdown",
   "metadata": {},
   "source": [
    "Esta sección corresponde a un resumen de visualización en la práctica, considerando los tipos de gráficos, algunas reglas generales y tips. En esta ocasión nos apoyaremos en la librería `matplotlib` por ser una de las más populares y permitir crear un sin fin de gráficos distintos."
   ]
  },
  {
   "cell_type": "markdown",
   "metadata": {},
   "source": [
    "### Previos"
   ]
  },
  {
   "cell_type": "code",
   "execution_count": null,
   "metadata": {},
   "outputs": [],
   "source": [
    "import os\n",
    "import pandas as pd\n",
    "import matplotlib.pyplot as plt\n",
    "\n",
    "pd.set_option('display.max_columns', 500)  # Ver más columnas de los dataframes\n",
    "\n",
    "# Ver gráficos de matplotlib en jupyter notebook/lab\n",
    "%matplotlib inline"
   ]
  },
  {
   "cell_type": "markdown",
   "metadata": {},
   "source": [
    "Los datos a utilizar en este laboratorio corresponden al catálogo de todas las canciones de _Metallica_ desde 1983 a 2016. Las columnas son:\n",
    "\n",
    "| Type  | Column Name | Description |\n",
    "| ------|------------ | ----------- |  \n",
    "| Numeric | ID | SongID |\n",
    "| Numeric | AlbumID | Album ID |\n",
    "| String | Album | Album Name |\n",
    "| String | Song | Song Title |\n",
    "| Numeric | Disc | Disc Number |\n",
    "| Numeric | TrackNumber | Track Number |\n",
    "| Numeric | Year | Original release year |\n",
    "| Numeric | Yeahs | Number of times \"Yeah\" is sang |\n",
    "| Numeric | Minutes | Length minutes |\n",
    "| Numeric | Seconds | Length seconds (remainder) |\n",
    "| Numeric | LengthInSeconds | Total length in seconds |\n",
    "| Numeric | YeahsPerSecond | Yeahs per second |\n",
    "| Numeric | IsGold | Certified Gold (RIAA) |\n",
    "| Numeric | IsPlatinum | Certified Platinum (RIAA) |\n",
    "| Numeric | JamesHetfield | Writing Credits |\n",
    "| Numeric | LarsUlrich | Writing Credits |\n",
    "| Numeric | KirkHammett | Writing Credits |\n",
    "| Numeric | CliffBurton | Writing Credits |\n",
    "| Numeric | DaveMustaine | Writing Credits |\n",
    "| Numeric | JasonNewstead | Writing Credits |\n",
    "| Numeric | RobertTrujillo | Writing Credits |\n",
    "| Numeric | LouReed | Writing Credits |\n",
    "| Numeric | PlayedLive | Number of times played live (Metallica.com) |"
   ]
  },
  {
   "cell_type": "code",
   "execution_count": null,
   "metadata": {},
   "outputs": [],
   "source": [
    "metallica = pd.read_csv(os.path.join(\"data\", \"MetallicaData.csv\"), encoding=\"utf-8\")\n",
    "metallica.head()"
   ]
  },
  {
   "cell_type": "markdown",
   "metadata": {},
   "source": [
    "### Gráfico de Barras (o _Bar Plots_)\n",
    "\n",
    "Útiles cuando se quieren graficas dos variables, una de ellas categórica y la otra discreta o continua.\n",
    "\n",
    "Ejemplo: Cantidad de canciones por álbum"
   ]
  },
  {
   "cell_type": "code",
   "execution_count": null,
   "metadata": {},
   "outputs": [],
   "source": [
    "songs_by_album = metallica.groupby(\"Album\")[\"ID\"].nunique()\n",
    "albums = songs_by_album.index.values\n",
    "nm_songs = songs_by_album.values"
   ]
  },
  {
   "cell_type": "code",
   "execution_count": null,
   "metadata": {},
   "outputs": [],
   "source": [
    "fig, ax = plt.subplots(figsize=(10, 6))\n",
    "ax.barh(albums, nm_songs, align=\"center\")\n",
    "ax.set_xlabel(\"# Canciones\")\n",
    "ax.set_ylabel(\"Álbum\")\n",
    "ax.set_title(\"Cantidad de canciones por álbum de Metallica\")\n",
    "plt.show()"
   ]
  },
  {
   "cell_type": "markdown",
   "metadata": {},
   "source": [
    "Como comentamos en la sección 1, `pandas` tiene su propia forma de llamar a `matplotlib`. Pero en ocasiones el compoortamiento no es el deseado, lo que se traduce en tiempo invertido en leer la documentación de `pandas`. "
   ]
  },
  {
   "cell_type": "code",
   "execution_count": null,
   "metadata": {},
   "outputs": [],
   "source": [
    "metallica.groupby(\"Album\")[\"ID\"].nunique().plot.barh(figsize=(10, 6));"
   ]
  },
  {
   "cell_type": "markdown",
   "metadata": {},
   "source": [
    "Los ingredientes anteriormente utilizados fueron:\n",
    "\n",
    "- fig (figure): Objeto figura, aquí se guardará todo para luego mostrarlo.\n",
    "- ax (axis): Puedes pensar que son sub-gráficos dentro de la figura principal, en este caso solo hay uno.\n",
    "- ax.barh(): Método aplicado al objeto _axis_ con tal de \"dibujar\" un gŕafico de barras horizontales. Los argumentos son los valores de los ejes x e y (en orden!).\n",
    "- ax.set_??: Método para ir agregando elementos al objeto _axis_, tales como los labels de los ejes o el título,\n",
    "- plt.show(): Buena práctica para mostrar la figura creada."
   ]
  },
  {
   "cell_type": "markdown",
   "metadata": {},
   "source": [
    "### Importante! Evita los Gráficos de Torta (o _Pie Charts_)\n",
    "Los seres humanos somos mejores al dimensionar longitudes, no así áreas."
   ]
  },
  {
   "cell_type": "code",
   "execution_count": null,
   "metadata": {},
   "outputs": [],
   "source": [
    "fig1, ax1 = plt.subplots(figsize=(6, 6))\n",
    "ax1.pie(nm_songs, \n",
    "        labels=albums, \n",
    "        shadow=True, \n",
    "        startangle=90)\n",
    "ax1.axis('equal')\n",
    "\n",
    "plt.show()"
   ]
  },
  {
   "cell_type": "markdown",
   "metadata": {},
   "source": [
    "Con el anterior pie-chart, ¿Podrías determinar rápidamente el álbum con más canciones entre _St.Anger_ y _Reload_? Luego mira el barplot de arriba, la respuesta es inmediata"
   ]
  },
  {
   "cell_type": "markdown",
   "metadata": {},
   "source": [
    "### Gráfico de líneas (o _Line Plot_)"
   ]
  },
  {
   "cell_type": "markdown",
   "metadata": {},
   "source": [
    "Útiles cuando se quieren graficas dos variables, una de ellas discreta y la otra discreta o continua.\n",
    "\n",
    "Ejemplo: Cantidad de canciones por año. \n",
    "\n",
    "Nota que los años si tienen un orden, no así los álbumes (ejemplo anterior). Por lo mismo, es frecuente graficar las series de tiempo con line plots."
   ]
  },
  {
   "cell_type": "code",
   "execution_count": null,
   "metadata": {},
   "outputs": [],
   "source": [
    "songs_by_year = metallica.groupby(\"Year\")[\"ID\"].nunique()\n",
    "years = songs_by_year.index.values\n",
    "nm_songs = songs_by_year.values"
   ]
  },
  {
   "cell_type": "code",
   "execution_count": null,
   "metadata": {},
   "outputs": [],
   "source": [
    "fig, ax = plt.subplots(figsize=(10, 6))\n",
    "ax.plot(years, nm_songs)\n",
    "ax.grid()\n",
    "ax.set_xlabel(\"Año\")\n",
    "ax.set_ylabel(\"# Canciones\")\n",
    "ax.set_title(\"Cantidad de canciones por año\")\n",
    "plt.show()"
   ]
  },
  {
   "cell_type": "markdown",
   "metadata": {},
   "source": [
    "### Histogramas\n",
    "\n",
    "Útiles para ver la distribución de una variable numérica.\n",
    "\n",
    "Ejemplo: Histograma de la cantidad de minutos de las canciones"
   ]
  },
  {
   "cell_type": "code",
   "execution_count": null,
   "metadata": {},
   "outputs": [],
   "source": [
    "minutes = metallica[\"Minutes\"].values\n",
    "fig, ax = plt.subplots(figsize=(10, 6))\n",
    "ax.hist(minutes)\n",
    "plt.show()"
   ]
  },
  {
   "cell_type": "markdown",
   "metadata": {},
   "source": [
    "### Gráficos de puntos (_Scatter Plot_)\n",
    "\n",
    "Útiles cuando tienes por lo menos dos variables numéricas (con orden) e inclusive es posible agregar más variables, como color del punto (variable categórica), o tamaño del \"punto\" (variable numérica).\n",
    "\n",
    "Ejemplo: Scatter plot de las canciones según su cantidad año, cantidad de _yeahs_ diferenciando el color si es que son de platino o no."
   ]
  },
  {
   "cell_type": "code",
   "execution_count": null,
   "metadata": {},
   "outputs": [],
   "source": [
    "metallica[\"IsPlatinum\"].unique()"
   ]
  },
  {
   "cell_type": "code",
   "execution_count": null,
   "metadata": {},
   "outputs": [],
   "source": [
    "year_array = metallica[\"Year\"].values\n",
    "yeahs_array = metallica[\"Yeahs\"].values\n",
    "colors_array =metallica[\"IsPlatinum\"].values\n",
    "\n",
    "fig, ax = plt.subplots(figsize=(10, 6))\n",
    "ax.scatter(year_array, yeahs_array, c=colors_array)\n",
    "ax.set_xlabel(\"Año\")\n",
    "ax.set_ylabel(\"# Yeahs\")\n",
    "ax.set_title(\"Canciones por año y cantidad de yeahs, coloreados por ser de Platino o no\")\n",
    "ax.grid(True, alpha=0.75)\n",
    "plt.show()"
   ]
  },
  {
   "cell_type": "markdown",
   "metadata": {},
   "source": [
    "## Ejercicios Parte 2"
   ]
  },
  {
   "cell_type": "markdown",
   "metadata": {},
   "source": [
    "Consiste en escoger sabiamente el tipo de visualización, en preparar los ingredientes para crear finalmente crear las visualizaciones solicitadas a continuación. Recuerda poner los labels y títulos."
   ]
  },
  {
   "cell_type": "markdown",
   "metadata": {},
   "source": [
    "2.1 Crear un gráfico donde se visualice los álbumes y la cantidad total de segundos de cada uno de ellos."
   ]
  },
  {
   "cell_type": "code",
   "execution_count": null,
   "metadata": {},
   "outputs": [],
   "source": [
    "albums = # FIX-ME PLEASE\n",
    "total_seconds = # FIX-ME PLEASE\n",
    "\n",
    "fig, ax = plt.subplots(figsize=(10, 6))\n",
    "ax.# FIX-ME PLEASE\n",
    "# \n",
    "# FIX-ME PLEASE\n",
    "# \n",
    "plt.show()"
   ]
  },
  {
   "cell_type": "markdown",
   "metadata": {},
   "source": [
    "2.2 Crear un gráfico donde se visualice la cantidad de canciones por año en la que Dave Mustaine tiene créditos asociados (tip: debes filtrar el dataframe antes)."
   ]
  },
  {
   "cell_type": "code",
   "execution_count": null,
   "metadata": {},
   "outputs": [],
   "source": [
    "metallica_mustaine = metallica.loc[#FIX-ME PLEASE].copy()\n",
    "years_dm = # FIX-ME PLEASE\n",
    "nm_songs_dm = # FIX-ME PLEASE\n",
    "\n",
    "fig, ax = plt.subpax.# FIX-ME PLEASE\n",
    "# \n",
    "# FIX-ME PLEASE\n",
    "# \n",
    "plt.show()lots(figsize=(10, 6))\n"
   ]
  },
  {
   "cell_type": "markdown",
   "metadata": {},
   "source": [
    "2.3 Propón y crea tu propia visualización de este genialísimo set de datos! Explica porque es interesante y útil."
   ]
  },
  {
   "cell_type": "code",
   "execution_count": null,
   "metadata": {},
   "outputs": [],
   "source": [
    "# FIX-ME PLEASE!\n",
    "fig, ax = plt.subplots(figsize=(10, 6))\n",
    "ax.# FIX-ME PLEASE\n",
    "# \n",
    "# FIX-ME PLEASE\n",
    "# \n",
    "plt.show()"
   ]
  },
  {
   "cell_type": "markdown",
   "metadata": {},
   "source": [
    "__R:__ El gráfico que escogí es interesante porque...."
   ]
  },
  {
   "cell_type": "markdown",
   "metadata": {},
   "source": [
    "__Bonus!__ Si tienes tiempo y/o quieres, puedes proponer, crear y justificar una nueva visualización, de ser así tendrás un punto extra en un laboratorio a tu elección y en el que hayas estado presente."
   ]
  },
  {
   "cell_type": "code",
   "execution_count": null,
   "metadata": {},
   "outputs": [],
   "source": [
    "# FIX-ME PLEASE!\n",
    "fig, ax = plt.subplots(figsize=(10, 6))\n",
    "ax.# FIX-ME PLEASE\n",
    "# \n",
    "# FIX-ME PLEASE\n",
    "# \n",
    "plt.show()"
   ]
  },
  {
   "cell_type": "markdown",
   "metadata": {},
   "source": [
    "__R:__ El gráfico que escogí es interesante porque...."
   ]
  }
 ],
 "metadata": {
  "celltoolbar": "Slideshow",
  "kernelspec": {
   "display_name": "Python 3",
   "language": "python",
   "name": "python3"
  },
  "language_info": {
   "codemirror_mode": {
    "name": "ipython",
    "version": 3
   },
   "file_extension": ".py",
   "mimetype": "text/x-python",
   "name": "python",
   "nbconvert_exporter": "python",
   "pygments_lexer": "ipython3",
   "version": "3.6.6"
  }
 },
 "nbformat": 4,
 "nbformat_minor": 2
}
