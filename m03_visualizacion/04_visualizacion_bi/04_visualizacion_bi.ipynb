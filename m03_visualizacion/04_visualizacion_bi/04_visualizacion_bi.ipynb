{
 "cells": [
  {
   "cell_type": "code",
   "execution_count": null,
   "metadata": {
    "slideshow": {
     "slide_type": "skip"
    }
   },
   "outputs": [],
   "source": [
    "# Configuracion para recargar módulos y librerías \n",
    "%reload_ext autoreload\n",
    "%autoreload 2"
   ]
  },
  {
   "cell_type": "markdown",
   "metadata": {
    "slideshow": {
     "slide_type": "slide"
    }
   },
   "source": [
    "# MAT281\n",
    "\n",
    "## Aplicaciones de la Matemática en la Ingeniería\n",
    "\n",
    "Puedes ejecutar este jupyter notebook de manera interactiva:\n",
    "[![Binder](../shared/images/jupyter_binder.png)](https://mybinder.org/v2/gh/sebastiandres/mat281_m03_visualizacion/master?filepath=04_visualizacion_bi/04_visualizacion_bi.ipynb)\n",
    "\n",
    "[![Colab](../shared/images/jupyter_colab.png)](https://colab.research.google.com/github/sebastiandres/mat281_m03_visualizacion/blob/master//04_visualizacion_bi/04_visualizacion_bi.ipynb)"
   ]
  },
  {
   "cell_type": "markdown",
   "metadata": {
    "slideshow": {
     "slide_type": "slide"
    }
   },
   "source": [
    "## ¿Qué contenido aprenderemos?\n",
    "* BI Softwares\n",
    "* Un vistazo a Power BI."
   ]
  },
  {
   "cell_type": "markdown",
   "metadata": {
    "slideshow": {
     "slide_type": "slide"
    }
   },
   "source": [
    "## BI Software\n",
    "\n",
    "Un buen software de _Business Intelligence_ (BI) debe poseer como mínimo lo siguiente:\n",
    "\n",
    "* Visualización de Datos\n",
    "* _Analytics_\n",
    "* Fuentes de Datos\n",
    "* Compartir"
   ]
  },
  {
   "cell_type": "markdown",
   "metadata": {
    "slideshow": {
     "slide_type": "subslide"
    }
   },
   "source": [
    "## BI Software\n",
    "\n",
    "### Visualización de datos\n",
    "\n",
    "Representación gráfica de información y datos mediante el uso de __elementos visuales__ como gráficos y mapas. "
   ]
  },
  {
   "cell_type": "markdown",
   "metadata": {
    "slideshow": {
     "slide_type": "subslide"
    }
   },
   "source": [
    "## BI Software\n",
    "\n",
    "### Analytics\n",
    "\n",
    "Las herramientas de visualización proporcionan una forma accesible de ver y comprender __tendencias, valores atípicos y patrones__."
   ]
  },
  {
   "cell_type": "markdown",
   "metadata": {
    "slideshow": {
     "slide_type": "subslide"
    }
   },
   "source": [
    "## BI Software\n",
    "\n",
    "### Fuentes de Datos \n",
    "\n",
    "Con tal de ser útiles en contextos empresariales, es importante que pueda importar datos de distintas fuentes, incluso algunos permiten actualización de datos en tiempo real."
   ]
  },
  {
   "cell_type": "markdown",
   "metadata": {
    "slideshow": {
     "slide_type": "subslide"
    }
   },
   "source": [
    "## BI Software\n",
    "\n",
    "### Compartir \n",
    "\n",
    "De nada sirve un reporte o dashboard si no lo puedes compartir con el usuario final y que él pueda disfrutar de todas las funcionalidades."
   ]
  },
  {
   "cell_type": "markdown",
   "metadata": {
    "slideshow": {
     "slide_type": "subslide"
    }
   },
   "source": [
    "## BI Software\n",
    "\n",
    "### Ejemplos\n",
    "\n",
    "Algunos softwares de visualización que se encuentran disponibles al día de hoy;\n",
    "\n",
    "* Tableau\n",
    "* Power BI\n",
    "* Qlikview\n",
    "* Sisense\n",
    "* Dash (Plotly)\n",
    "* etc."
   ]
  },
  {
   "cell_type": "markdown",
   "metadata": {
    "slideshow": {
     "slide_type": "slide"
    }
   },
   "source": [
    "## Power BI\n",
    "\n",
    "#### ¿Por qué Power BI y no otro?\n",
    "\n",
    "Solo por comodidad, dado que es el software que se utiliza en la empresa en la cual trabajamos actualmente. \n",
    "\n",
    "Muchas veces la decisión de la herramienta a utilizar no es tuya, __adáptate!__. "
   ]
  },
  {
   "cell_type": "markdown",
   "metadata": {
    "slideshow": {
     "slide_type": "subslide"
    }
   },
   "source": [
    "## ¿Qué es Power BI?\n",
    "\n",
    "Power BI is a business analytics service that delivers insights to enable fast, informed decisions.\n",
    "\n",
    "* Transform data into stunning visuals and share them with colleagues on any device.\n",
    "* Visually explore and analyze data—on-premises and in the cloud—all in one view.\n",
    "* Collaborate on and share customized dashboards and interactive reports.\n",
    "* Scale across your organization with built-in governance and security.\n"
   ]
  },
  {
   "cell_type": "markdown",
   "metadata": {
    "slideshow": {
     "slide_type": "slide"
    }
   },
   "source": [
    "## Power BI\n",
    "\n",
    "Sus distintos servicios:\n",
    "\n",
    "* __Power BI Desktop__: Aplicación de escritorio (Windows).\n",
    "* __Power BI Service__: SaaS (Software as a Service).\n",
    "* __Power BI Mobile__: Aplicación smartphones (Android, iOS y Windows).\n",
    "* __Power BI Embedded__: Para \"incrustar\" reportes en applicaciones webs. "
   ]
  },
  {
   "cell_type": "markdown",
   "metadata": {
    "slideshow": {
     "slide_type": "subslide"
    }
   },
   "source": [
    "## Power BI\n",
    "\n",
    "![power_bi](https://docs.microsoft.com/es-es/power-bi/media/service-get-started/power-bi-components.png)"
   ]
  },
  {
   "cell_type": "markdown",
   "metadata": {
    "slideshow": {
     "slide_type": "subslide"
    }
   },
   "source": [
    "## Power BI\n",
    "\n",
    "![power_bi](https://f9fc8aedc6fd0938fa41de0d-a92zex06oapcizyuc.netdna-ssl.com/wp-content/uploads/2016/08/1.jpg)"
   ]
  },
  {
   "cell_type": "markdown",
   "metadata": {
    "slideshow": {
     "slide_type": "slide"
    }
   },
   "source": [
    "## Power BI\n",
    "\n",
    "Elementos principales:\n",
    "\n",
    "* Iconos\n",
    "* Reportes\n",
    "* Dashboard"
   ]
  },
  {
   "cell_type": "markdown",
   "metadata": {
    "slideshow": {
     "slide_type": "subslide"
    }
   },
   "source": [
    "## Power BI\n",
    "\n",
    "Además, permite crear un modelo de relaciones con lo cual se evita la duplicación de información y permite cálculos cruzados.\n",
    "\n",
    "![data-model](https://docs.microsoft.com/en-us/power-bi/media/desktop-relationship-view/relationshipview_fullscreen.png)"
   ]
  },
  {
   "cell_type": "markdown",
   "metadata": {
    "slideshow": {
     "slide_type": "subslide"
    }
   },
   "source": [
    "## Power BI\n",
    "\n",
    "Además, existen:\n",
    "\n",
    "* DAX: Colecxción de funciones, operadores y constantes que pueden ser usadas en fórmulas o expresiones, para calcular y retornar uno o más valores. Ayuda a crear nueva información desde los datos ya cargados en el modelo. \n",
    "\n",
    "* Power Query: Tecnología de conexión de datos que permite descubrir, conectar, combinar y refinar los orígenes de datos."
   ]
  },
  {
   "cell_type": "markdown",
   "metadata": {
    "slideshow": {
     "slide_type": "slide"
    }
   },
   "source": [
    "## Power BI\n",
    "\n",
    "A continuación un veremos algunas de sus funcionalidades."
   ]
  }
 ],
 "metadata": {
  "celltoolbar": "Slideshow",
  "kernelspec": {
   "display_name": "Python 3",
   "language": "python",
   "name": "python3"
  },
  "language_info": {
   "codemirror_mode": {
    "name": "ipython",
    "version": 3
   },
   "file_extension": ".py",
   "mimetype": "text/x-python",
   "name": "python",
   "nbconvert_exporter": "python",
   "pygments_lexer": "ipython3",
   "version": "3.6.6"
  }
 },
 "nbformat": 4,
 "nbformat_minor": 1
}
