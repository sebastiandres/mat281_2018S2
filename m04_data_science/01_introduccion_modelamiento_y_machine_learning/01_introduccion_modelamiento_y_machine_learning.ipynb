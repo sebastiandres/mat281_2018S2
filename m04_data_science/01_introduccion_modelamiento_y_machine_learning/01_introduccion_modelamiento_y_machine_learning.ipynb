{
 "cells": [
  {
   "cell_type": "markdown",
   "metadata": {
    "slideshow": {
     "slide_type": "slide"
    }
   },
   "source": [
    "# MAT281\n",
    "\n",
    "## Aplicaciones de la Matemática en la Ingeniería"
   ]
  },
  {
   "cell_type": "markdown",
   "metadata": {
    "slideshow": {
     "slide_type": "slide"
    }
   },
   "source": [
    "## Disclaimer\n",
    "\n",
    "Esta sección del curso se basa en los siguientes recursos:\n",
    "\n",
    "- Introduction to Data Science by Bill Howe, MOOC, Coursera.\n",
    "- Machine Learning by Andrew Ng, CS229, Stanford University (también disponible en coursera y youtube).\n",
    "- A Few Useful Things to Know about Machine Learning, Pedro Domingos (artículo).\n",
    "- http://machinelearningmastery.com/ y http://blog.bigml.com\n",
    "- Presentación de Joel Grus: [Learning (and teaching) Data Science from first principles](https://docs.google.com/presentation/d/1E3bUtUpDnexGOdnecwfA0IUGDfHAy4db-1o9N341T9M/edit#slide=id.p)\n",
    "- Como ser un data scientist y no morir en el intento, partes [1](https://medium.com/@carnby/c%C3%B3mo-ser-data-scientist-y-no-morir-en-el-intento-parte-1-8aba93d91152) y [2](https://medium.com/@carnby/c%C3%B3mo-ser-data-scientist-y-no-morir-en-el-intento-parte-2-de-4-b573ac5d0b41), por Eduardo Graells-Garrido"
   ]
  },
  {
   "cell_type": "markdown",
   "metadata": {
    "slideshow": {
     "slide_type": "slide"
    }
   },
   "source": [
    "## ¿Que aprenderemos?\n",
    "\n",
    "* Sobre error y modelamiento.\n",
    "* Sobre Machine Learning y Data Science.\n",
    "\n",
    "ML y DS entregan herramientas versátiles para entender, modelar y ***solucionar*** problemas."
   ]
  },
  {
   "cell_type": "markdown",
   "metadata": {
    "slideshow": {
     "slide_type": "slide"
    }
   },
   "source": [
    "## Sobre los errores\n",
    "### ¿Porqué no aprendemos de los errores?\n",
    "\n",
    "* ***Antes***: Modelo de publicación actual privilegia resultados exitosos, por sobre documentación de experimentos fallidos. Existe un sesgo de publicación (publication bias).\n",
    "\n",
    "* ***Durante***: Nunca hay tiempo suficiente. Priorización del tiempo a obtener más y mejores resultados, no a examinar casos fallidos.\n",
    "\n",
    "* ***Después***: Posible y fácil, pero rara vez realizado, puesto que es opcional y requiere disciplina. Común en la milicia, bajo el nombre de debriefing. "
   ]
  },
  {
   "cell_type": "markdown",
   "metadata": {
    "slideshow": {
     "slide_type": "slide"
    }
   },
   "source": [
    "### Debriefing\n",
    "\n",
    "El Debriefing es un proceso semi-estructurado, que permite analizar una cierta actividad que ha sido llevada a cabo. Se realiza una serie de preguntas que permite que los participantes refleccionen en lo\n",
    "ocurrido, los resultados y metas, para mejorar el desempeño futuro."
   ]
  },
  {
   "cell_type": "markdown",
   "metadata": {
    "slideshow": {
     "slide_type": "slide"
    }
   },
   "source": [
    "### Debriefing \n",
    "\n",
    "* Certámenes y Tareas:\n",
    " * ¿Cuál era la solución correcta?\n",
    " * ¿Porqué no llegué a la solución?\n",
    " * ¿Cómo debería haber estudiado para optimizar mi nota?\n",
    "\n",
    "* Proyectos en grupo:\n",
    "  * ¿Existieron problemas en el grupo?\n",
    "  * ¿Qué podría haberse hecho de mejor forma?\n",
    "  * ¿Cómo fue la interacción entre los integrantes?\n",
    "  * ¿Estamos conformes con el resultado dado el tiempo invertido?\n",
    "\n",
    "Debriefing no altera resultados pasados, pero permite mejorar incrementalmente y detectar errores metodológicos."
   ]
  },
  {
   "cell_type": "markdown",
   "metadata": {
    "slideshow": {
     "slide_type": "slide"
    }
   },
   "source": [
    "<img src=\"images/Modelamiento.png\" alt=\"\" width=\"800px\" align=\"middle\"/>"
   ]
  },
  {
   "cell_type": "markdown",
   "metadata": {
    "slideshow": {
     "slide_type": "slide"
    }
   },
   "source": [
    "### Comentario adicional: SAFe\n",
    "En las nuevas metodologías de trabajo, el debriefing forma parte de la estructura de desarrollo de los proyectos.\n",
    "En [SAFe](https://www.scaledagileframework.com/) (Scale Agile Framework), se planificaciones de 5 iteraciones de 2 semanas cada una.\n",
    "<img src=\"images/SAFe.png\" alt=\"\" width=\"800px\" align=\"middle\"/>"
   ]
  },
  {
   "cell_type": "markdown",
   "metadata": {
    "slideshow": {
     "slide_type": "slide"
    }
   },
   "source": [
    "### Comentario adicional: SAFe\n",
    "- Al final de la primera a la cuarta iteración de desarrollo, se realiza una \"iteración restrospectiva\" en la cual se evalúa de manera cualitativa y cuantitativa para buscar espacios de mejora en el corto plazo. \n",
    "- La quinta iteración se reserva para analizar que problemas sistémicos pueden removerse y planificar de mejor manera la próxima planificación de programa.\n",
    "\n",
    "El reservar tiempo para análisis retrospectivo permite detectar y solucionar problemas de eficiencia, que a largo plazo permiten tener equipos de trabajo altamente eficientes."
   ]
  },
  {
   "cell_type": "markdown",
   "metadata": {
    "slideshow": {
     "slide_type": "slide"
    }
   },
   "source": [
    "## Sobre las fuentes de Error\n",
    "\n",
    "Existen múltiples fuentes de error:\n",
    "* Humana\n",
    "* Instrumental\n",
    "\n",
    "Algo importante a considerar es que toda medición es siempre indirecta. Lo que se mide no es necesariamente lo que se necesita."
   ]
  },
  {
   "cell_type": "markdown",
   "metadata": {
    "slideshow": {
     "slide_type": "fragment"
    }
   },
   "source": [
    "* **Longitud**: comparación directa (regla), comparación indirecta (sensor laser).\n",
    "\n",
    "* **Temperatura**: mediante dilatación (termómetro tradicional), cambio de densidad ( termómetro de Galileo), o cambio de resistencia eléctrica (termómetro digital)."
   ]
  },
  {
   "cell_type": "markdown",
   "metadata": {
    "slideshow": {
     "slide_type": "slide"
    }
   },
   "source": [
    "## Fuentes de error: humana\n",
    "\n",
    "La definición del problema a resolver está dado por el cliente, y la respuesta contiene:\n",
    "* Deformación profesional.\n",
    "* Expectativas a priori.\n",
    "* Confianza infinita (o nula) en los métodos numéricos."
   ]
  },
  {
   "cell_type": "markdown",
   "metadata": {
    "slideshow": {
     "slide_type": "slide"
    }
   },
   "source": [
    "## Fuentes de error: incerteza en parámetros\n",
    "\n",
    "Los parámetros rara vez se conocen con buena precisión, incluso cuando el modelo físico-matemático ha sido bien definido. Por ello, siempre es necesario tomar un enfoque **conservador** en la incerteza de los parámetros involucrados dependiendo de la aplicación del modelo."
   ]
  },
  {
   "cell_type": "markdown",
   "metadata": {
    "slideshow": {
     "slide_type": "slide"
    }
   },
   "source": [
    "## Fuentes de error: incerteza en parámetros\n",
    "\n",
    "Por ejemplo, en el caso de minería subterránea:\n",
    "\n",
    "* Si el problema involucra seguridad en los túneles mineros, se  utiliza un modelo conservador que **subestima** los parámetros físicos de la roca: : la roca del modelo es menos resistente que en la realidad. Si el modelo indica que el túnel es resistente, tenemos confianza que en la realidad el tunel es seguro.\n",
    "\n",
    "* Si el problema involucra factibilidad de la técnica extractiva, se utiliza un modelo que **sobreestima** los parámetros físicos de la roca: la roca del modelo es más resistente que en la realidad. Si el modelo indica que la roca se quiebra adecuadamente durante el caving, tenemos confianza que la roca se quiebra durante el caving."
   ]
  },
  {
   "cell_type": "markdown",
   "metadata": {
    "slideshow": {
     "slide_type": "slide"
    }
   },
   "source": [
    "## Fuentes de error: incerteza en parámetros\n",
    "\n",
    "Otro tema a considerar es que los modelos nunca tienen precisión infinita. Por ejemplo, en minería:\n",
    "- Si consideramos que los parámetros físicos de la roca son constantes en todo el dominio en análisis, no se considera las variaciones que existen naturalmente.\n",
    "- Si consideramos que los parámetros físicos de la roca varían punto a punto en todo el dominio de análisis, es necesario conocer dicho valor, lo cual resulta imposible de mapear tridimensionalmente."
   ]
  },
  {
   "cell_type": "markdown",
   "metadata": {
    "slideshow": {
     "slide_type": "slide"
    }
   },
   "source": [
    "## Errores Humanos\n",
    "\n",
    "* **Medición**: Falta de apego a protocolos e imprecisión.\n",
    "* **Modelamiento Matemático**: Errores conceptuales, de unidades, de condiciones de frontera o características de la problemática. Para quien tiene un martillo, todo parece un clavo.\n",
    "* **Modelamiento Numérico**: La discretización de un sistema de ecuaciones introduce un error que suele olvidarse.\n",
    "* **Implementación Numérica**:  Testeo deficiente permite que bugs permanezcan ocultos en la implementación.\n",
    "* **Interpretación**: Confianza ciega en la caja negra."
   ]
  },
  {
   "cell_type": "markdown",
   "metadata": {
    "slideshow": {
     "slide_type": "slide"
    }
   },
   "source": [
    "## Un modelo es\n",
    "* Una representación abstracta y conveniente de un sistema.\n",
    "* Una simplificación del mundo real.\n",
    "* Un medio de exploración y de explicación para nuestro entendimiento de la realidad.\n",
    "\n",
    "## Un modelo NO es\n",
    "* Igual al mundo real.\n",
    "* Un sustituto para mediciones o experimentos."
   ]
  },
  {
   "cell_type": "markdown",
   "metadata": {
    "slideshow": {
     "slide_type": "slide"
    }
   },
   "source": [
    "## ¿Porqué utilizar modelos?\n",
    "\n",
    "Permiten reproducir escalas temporales o espaciales donde las mediciones o los experimentos son costosos, difíciles o imposibles.\n",
    "* **Ejemplo**: deriva continental, impacto de asteroides, evolución de enfermedades, etc."
   ]
  },
  {
   "cell_type": "markdown",
   "metadata": {
    "slideshow": {
     "slide_type": "slide"
    }
   },
   "source": [
    "## ¿Porqué utilizar modelos?\n",
    "\n",
    "Permiten reproducir experimentos donde factores no pueden ser fácilmente controlados.\n",
    "* **Ejemplo**: Comportamiento de cápsula lunar en gravedad cero y al atravesar atmósfera a gran velocidad."
   ]
  },
  {
   "cell_type": "markdown",
   "metadata": {
    "slideshow": {
     "slide_type": "slide"
    }
   },
   "source": [
    "## ¿Porqué utilizar modelos?\n",
    "\n",
    "Permiten simplificar el entendimiento de sistemas complejos, al permitir el análisis y exploración de cada componente del sistema por separado.\n",
    "* **Ejemplo**: Adelgazamiento de la capa de hielo polar por calentamiento global."
   ]
  },
  {
   "cell_type": "markdown",
   "metadata": {
    "slideshow": {
     "slide_type": "slide"
    }
   },
   "source": [
    "## ¿Porqué utilizar modelos?\n",
    "\n",
    "Es mejor que no hacer nada o confiar en juicios dudosos de terceros.\n",
    "\n",
    "* **Ejemplo**: Predicción meteorológica versus danza de la lluvia."
   ]
  },
  {
   "cell_type": "markdown",
   "metadata": {
    "slideshow": {
     "slide_type": "slide"
    }
   },
   "source": [
    "## Objetivos de Modelamiento\n",
    "* Ayudar al diseño de experimentos y mediciones.\n",
    "* Condensar entendimiento al forzar la abstracción, integración y formalización de ideas científicas.\n",
    "* Permitir la realización de experimentos virtuales.\n",
    "* Divulgar conocimiento científico a no-expertos.\n",
    "* Realizar predicciones.\n",
    "\n",
    "***El modelamiento nunca es un objetivo en sí mismo.***"
   ]
  },
  {
   "cell_type": "markdown",
   "metadata": {
    "slideshow": {
     "slide_type": "slide"
    }
   },
   "source": [
    "## Algunos principios básicos\n",
    "\n",
    "1. Un mismo fenómeno físico puede tener distintos modelos, cada uno apropiado para el estudio de un cierto aspecto del fenómeno.\n",
    "2. Modelamiento require tiempo: es necesario determinar el nivel de complejidad en función los resultados deseados y del tiempo disponible.\n",
    "3. GIGO: Garbage In = Garbage Out: Un buen modelo no compensa malos datos de entrada."
   ]
  },
  {
   "cell_type": "markdown",
   "metadata": {
    "slideshow": {
     "slide_type": "slide"
    }
   },
   "source": [
    "## Algunos principios básicos\n",
    "1. El mundo es demasiado complejo para poder modelarlo perfectamente.\n",
    "2. Todo modelo es una simplificación de la realidad.\n",
    "3. Modelos complementan otras formas de conocimiento (experimentos, mediciones)\n",
    "4. Que algo se pueda simular, no significa que se corresponda con la realidad.\n",
    "5. Validación completa del un modelo es imposible, al igual que cualquier teoría."
   ]
  },
  {
   "cell_type": "markdown",
   "metadata": {
    "slideshow": {
     "slide_type": "slide"
    }
   },
   "source": [
    "\n",
    "    \"All models are wrong, \n",
    "    some are useful\" - George Box"
   ]
  },
  {
   "cell_type": "markdown",
   "metadata": {
    "slideshow": {
     "slide_type": "slide"
    }
   },
   "source": [
    "##  Etapas del Modelamiento:\n",
    "1. ***Meta***: Definir el propósito del modelo.\n",
    "2. ***Modelar***: Desarrollar el modelo conceptual.\n",
    "3. ***Afinar***: Seleccionar el tipo de modelo y la escala. \n",
    "4. ***Implementar***: Realizar la implementación numérica del modelo conceptual.\n",
    "5. ***Calibrar***: Estimar los parámetros requeridos por el modelo.\n",
    "6. ***Analizar***: Evaluar el modelo con análisis de sensitividad e incertidumbre.\n",
    "7. ***Validar***: Comparar las predicciones del modelo con mediciones reales. Requiere parámetros y mediciones reales.\n",
    "8. ***Utilizar***: Aplicar el modelo al propósito. Requiere parámetros reales."
   ]
  },
  {
   "cell_type": "markdown",
   "metadata": {
    "slideshow": {
     "slide_type": "slide"
    }
   },
   "source": [
    "<img src=\"images/ModelComplexity1.png\" alt=\"\" width=\"800px\" align=\"middle\"/>"
   ]
  },
  {
   "cell_type": "markdown",
   "metadata": {
    "slideshow": {
     "slide_type": "slide"
    }
   },
   "source": [
    "    \"Everyone believes the recorded data, \n",
    "    except the scientist that record it.\n",
    "    No one believes the model, \n",
    "    except for the scientist that created it.\" \n",
    "    - Unknown\n"
   ]
  },
  {
   "cell_type": "markdown",
   "metadata": {
    "slideshow": {
     "slide_type": "slide"
    }
   },
   "source": [
    "    \"If you're doing an experiment, \n",
    "    you should report everything \n",
    "    that you think might make it invalid — \n",
    "    not only what you think is right about it;\n",
    "    other causes that could possibly explain\n",
    "    your results; and things you thought \n",
    "    of that you've eliminated by some \n",
    "    other experiment, and how they worked — \n",
    "    to make sure the other fellow \n",
    "    can tell they have been eliminated.\"\n",
    "    - Richard Feynman."
   ]
  },
  {
   "cell_type": "markdown",
   "metadata": {
    "slideshow": {
     "slide_type": "slide"
    }
   },
   "source": [
    "## Problemas típicos de Machine Learning\n",
    "\n",
    "Revisaremos 10 problemas clásicos de Machine Learning."
   ]
  },
  {
   "cell_type": "markdown",
   "metadata": {
    "slideshow": {
     "slide_type": "slide"
    }
   },
   "source": [
    "#### Problemas típicos\n",
    "## 1 Detección de Spam\n",
    "A partir de correos previamente clasificados como spam y no-spam,\n",
    "identificar futuros correos en spam de aquellos que no son spam.\n",
    "\n",
    "<img src=\"images/spam.jpg\" alt=\"\" width=\"400\" align=\"middle\"/>\n",
    "\n",
    "¿Sobre qué tipo de datos opera? ¿Cuál es el objetivo?"
   ]
  },
  {
   "cell_type": "markdown",
   "metadata": {
    "slideshow": {
     "slide_type": "slide"
    }
   },
   "source": [
    "#### Problemas típicos\n",
    "## 2 Detección de Fraude con Tarjeta de crédito\n",
    "\n",
    "Dado el historial de transacciones de un cliente en un mes, identificar\n",
    "transacciones que realizadas por el cliente y transacciones fraudulentas\n",
    "realizadas por terceros.\n",
    "\n",
    "<img src=\"images/creditcard.jpg\" alt=\"\" width=\"400\" align=\"middle\"/>\n",
    "\n",
    "¿Sobre qué tipo de datos opera? ¿Cuál es el objetivo?"
   ]
  },
  {
   "cell_type": "markdown",
   "metadata": {
    "slideshow": {
     "slide_type": "slide"
    }
   },
   "source": [
    "#### Problemas típicos\n",
    "## 3 Reconocimiento de dígitos\n",
    "\n",
    "Dado un código zip escrito en un sobre, identificar cada dígito\n",
    "manuscrito para automatizar la clasificación y despacho de correo.\n",
    "\n",
    "<img src=\"images/digits.png\" alt=\"\" width=\"400\" align=\"middle\"/>\n",
    "\n",
    "¿Sobre qué tipo de datos opera? ¿Cuál es el objetivo?"
   ]
  },
  {
   "cell_type": "markdown",
   "metadata": {
    "slideshow": {
     "slide_type": "slide"
    }
   },
   "source": [
    "#### Problemas típicos\n",
    "## 4 Reconocimiento de Voz\n",
    "\n",
    "Dada una orden vocal de un usuario, idenficar el requerimiento específico realizado.\n",
    "\n",
    "<img src=\"images/speechrecognition.png\" alt=\"\" width=\"600\" align=\"middle\"/>\n",
    "\n",
    "¿Sobre qué tipo de datos opera? ¿Cuál es el objetivo?"
   ]
  },
  {
   "cell_type": "markdown",
   "metadata": {
    "slideshow": {
     "slide_type": "slide"
    }
   },
   "source": [
    "#### Problemas típicos\n",
    "## 5 Detección de Caras\n",
    "\n",
    "Dada una colección de fotos digitales, identificar en cuáles fotos y en\n",
    "qué sectores aparece una persona. Más difícil, dada una colección de\n",
    "fotos etiquetadas para una cierta persona, identificar en cuales fotos\n",
    "aparece esa persona.\n",
    "\n",
    "<img src=\"images/facedetection.jpg\" alt=\"\" width=\"400\" align=\"middle\"/>\n",
    "\n",
    "¿Sobre qué tipo de datos opera? ¿Cuál es el objetivo?"
   ]
  },
  {
   "cell_type": "markdown",
   "metadata": {
    "slideshow": {
     "slide_type": "slide"
    }
   },
   "source": [
    "#### Problemas típicos\n",
    "## 6 Recomendación de Productos \n",
    "\n",
    "Dado un historial de compra para un cliente y un largo inventario de\n",
    "productos, identificar cuáles productos pueden interesarle al cliente en\n",
    "su próxima compra.\n",
    "\n",
    "<img src=\"images/productrecommendation.png\" alt=\"\" width=\"800\" align=\"middle\"/>\n",
    "\n",
    "¿Sobre qué tipo de datos opera? ¿Cuál es el objetivo?"
   ]
  },
  {
   "cell_type": "markdown",
   "metadata": {
    "slideshow": {
     "slide_type": "slide"
    }
   },
   "source": [
    "#### Problemas típicos\n",
    "## 7 Diagnóstico médico\n",
    "\n",
    "Dado un conjunto de síntomas exhibidos por un paciente y una base de\n",
    "casos anónima, predecir si el paciente tiene una enfermedad (y cuál).\n",
    "\n",
    "<img src=\"images/medicaldiagnosis.jpg\" alt=\"\" width=\"600\" align=\"middle\"/>\n",
    "\n",
    "¿Sobre qué tipo de datos opera? ¿Cuál es el objetivo?"
   ]
  },
  {
   "cell_type": "markdown",
   "metadata": {
    "slideshow": {
     "slide_type": "slide"
    }
   },
   "source": [
    "#### Problemas típicos\n",
    "## 8 Mercado de acciones\n",
    "\n",
    "Dadas las fluctuaciones pasadas y presentes de una cierta acción,\n",
    "predecir si la acción debe comprarse, mantenerse o venderse.\n",
    "\n",
    "<img src=\"images/stocktrading.jpg\" alt=\"\" width=\"400\" align=\"middle\"/>\n",
    "\n",
    "¿Sobre qué tipo de datos opera? ¿Cuál es el objetivo?"
   ]
  },
  {
   "cell_type": "markdown",
   "metadata": {
    "slideshow": {
     "slide_type": "slide"
    }
   },
   "source": [
    "#### Problemas típicos\n",
    "## 9  Segmentación de Mercado\n",
    "\n",
    "Dado un historial de comportamientos pasados de clientes, identificar\n",
    "cuáles clientes exhibirán un cierto comportamiento (de compra) en el\n",
    "futuro.\n",
    "\n",
    "<img src=\"images/customersegmentation.jpg\" alt=\"\" width=\"400\" align=\"middle\"/>\n",
    "\n",
    "¿Sobre qué tipo de datos opera? ¿Cuál es el objetivo?"
   ]
  },
  {
   "cell_type": "markdown",
   "metadata": {
    "slideshow": {
     "slide_type": "slide"
    }
   },
   "source": [
    "#### Problemas típicos\n",
    "## 10 Detección de Formas\n",
    "\n",
    "Reconocer una forma (2D o 3D) a partir de una muestra 2D de baja calidad.\n",
    "\n",
    "<img src=\"images/shapedetection.jpg\" alt=\"\" width=\"400\" align=\"middle\"/>\n",
    "\n",
    "¿Sobre qué tipo de datos opera? ¿Cuál es el objetivo?"
   ]
  },
  {
   "cell_type": "markdown",
   "metadata": {
    "slideshow": {
     "slide_type": "slide"
    }
   },
   "source": [
    "## Problemas típicos\n",
    "¿Qué otros problemas conocen?\n",
    "\n",
    "¿Sobre qué tipo de datos opera? ¿Cuál es el objetivo?"
   ]
  },
  {
   "cell_type": "markdown",
   "metadata": {
    "slideshow": {
     "slide_type": "slide"
    }
   },
   "source": [
    "## Algunas definiciones\n",
    "\n",
    "¿Qué es Machine Learning? ¿Data Science? ¿Big Data?"
   ]
  },
  {
   "cell_type": "markdown",
   "metadata": {
    "slideshow": {
     "slide_type": "fragment"
    }
   },
   "source": [
    "Machine Learning, Big Data y Data Science tienen fronteras difusas y permeables, al igual que Probabilidad y Estadística."
   ]
  },
  {
   "cell_type": "markdown",
   "metadata": {
    "slideshow": {
     "slide_type": "slide"
    }
   },
   "source": [
    "#### Definiciones\n",
    "\n",
    "## Machine Learning\n",
    "\n",
    "-   Estudia y construye sistemas que pueden aprender de los datos, más\n",
    "    que seguir instrucciones explícitamente programadas.\n",
    "\n",
    "-   Machine Learning es un conjunto de técnicas y modelos que permiten\n",
    "    el modelamiento predictivo de datos, reunidas a partir de la\n",
    "    intersección de elementos de probabilidad, estadística e\n",
    "    inteligencia artificial.\n",
    "\n",
    "-   Típicamente, alguien que trabaja en Machine Learning está en la Academia y busca realizar investigación y publicar artículos.\n",
    "\n",
    "-   Pregunta fundamental:\n",
    "    ¿Qué conocimiento emerge a partir de los datos? ¿Qué modelo/técnica\n",
    "    otorga la mejor predicción para estos datos?\n",
    "    \n"
   ]
  },
  {
   "cell_type": "markdown",
   "metadata": {
    "slideshow": {
     "slide_type": "slide"
    }
   },
   "source": [
    "#### Definiciones\n",
    "\n",
    "## Data Science\n",
    "\n",
    "-   Se preocupa de la practicidad de resolver problemas complejos\n",
    "    utilizando datos.\n",
    "\n",
    "-   Data Science es la aplicación de diversas técnicas de modelamiento con un fin específico. También se conoce como eScience.\n",
    "\n",
    "-   La base de datos a utilizar no ha sido necesariamente creada.\n",
    "\n",
    "-   Típicamente, un data scientist se encuentra en la industria, buscando automatizar un análisis complejo para un cliente (interno o externo).\n",
    "\n",
    "-   Pregunta fundamental:\n",
    "    ¿Qué puedo decir de **X** a partir de los datos?"
   ]
  },
  {
   "cell_type": "markdown",
   "metadata": {
    "slideshow": {
     "slide_type": "slide"
    }
   },
   "source": [
    "#### Definiciones\n",
    "\n",
    "## Big Data\n",
    "- Caracterizado por 4 V:\n",
    "    * **Volumen**: ¿Cuántos datos se requiere procesar? ¿Terabytes, Exabytes, Zettabytes?\n",
    "    * **Variedad**: ¿Qué patrón siguen los datos? ¿SQL o noSQL?\n",
    "    * **Velocidad**: ¿Con que velocidad podemos procesar los datos? ¿A qué velocidad se generan?\n",
    "    * **Veracidad**: ¿Qué tan confiables son los datos? \n",
    "-   Pregunta fundamental:\n",
    "    ¿Cómo proceso esta monstruosidad de datos?"
   ]
  },
  {
   "cell_type": "markdown",
   "metadata": {
    "slideshow": {
     "slide_type": "slide"
    }
   },
   "source": [
    "#### Definiciones\n",
    "\n",
    "<img src=\"images/ML.png\" alt=\"\" width=\"800\" align=\"middle\"/>"
   ]
  },
  {
   "cell_type": "markdown",
   "metadata": {
    "slideshow": {
     "slide_type": "slide"
    }
   },
   "source": [
    "#### Definiciones\n",
    "\n",
    "<img src=\"images/DS1.png\" alt=\"\" width=\"600\" align=\"middle\"/>"
   ]
  },
  {
   "cell_type": "markdown",
   "metadata": {
    "slideshow": {
     "slide_type": "slide"
    }
   },
   "source": [
    "#### Definiciones\n",
    "\n",
    "<img src=\"images/DS2.png\" alt=\"\" width=\"800\" align=\"middle\"/>"
   ]
  },
  {
   "cell_type": "markdown",
   "metadata": {
    "slideshow": {
     "slide_type": "slide"
    }
   },
   "source": [
    "#### 2. Definiciones\n",
    "\n",
    "<img src=\"images/BD2.jpg\" alt=\"\" width=\"900\" align=\"middle\"/>"
   ]
  },
  {
   "cell_type": "markdown",
   "metadata": {
    "slideshow": {
     "slide_type": "slide"
    }
   },
   "source": [
    "*\"Data science is the discipline of making data useful.\"*"
   ]
  },
  {
   "cell_type": "markdown",
   "metadata": {
    "slideshow": {
     "slide_type": "slide"
    }
   },
   "source": [
    "## Algoritmos\n",
    "\n",
    "Hay 4 grandes familias de problemas en Machine Learning:\n",
    "\n",
    "-   Clasificación\n",
    "\n",
    "-   Regresión\n",
    "\n",
    "-   Clustering\n",
    "\n",
    "-   Extracción de Reglas"
   ]
  },
  {
   "cell_type": "markdown",
   "metadata": {
    "slideshow": {
     "slide_type": "slide"
    }
   },
   "source": [
    "#### Algoritmos\n",
    "## Algoritmos de Clasificación\n",
    "\n",
    "Se conocen como están etiquetados (asignados a una clase) algunos de los elementos.\n",
    "\n",
    "El desafío es asignar la etiqueta correcta a datos sin etiquetar.\n",
    "\n",
    "Ejemplos:\n",
    "\n",
    "1.  Clasificación de Spam.\n",
    "\n",
    "2.  Clasificación de Fraudes.\n",
    "\n",
    "3.  Reconocimiento de Dígitos\n",
    "\n",
    "4.  Diágnostico Médico."
   ]
  },
  {
   "cell_type": "markdown",
   "metadata": {
    "slideshow": {
     "slide_type": "slide"
    }
   },
   "source": [
    "#### Algoritmos\n",
    "## Algoritmos de Regresión\n",
    "\n",
    "Similar a clustering, pero donde los datos están etiquetados con un valor real. \n",
    "\n",
    "El desafío es asignar la etiqueta correcta a datos sin etiquetar.\n",
    "\n",
    "Ejemplos:\n",
    "\n",
    "1.  Predicción de precio en mercado de acciones.\n",
    "\n",
    "2.  Predicción de precio de casa/departamento basado en características.\n",
    "\n",
    "¡Existe un sitio con una animación increíble!: [http://www.r2d3.us/](http://www.r2d3.us/una-introduccion-visual-al-machine-learning-1/)"
   ]
  },
  {
   "cell_type": "markdown",
   "metadata": {
    "slideshow": {
     "slide_type": "slide"
    }
   },
   "source": [
    "#### Algoritmos\n",
    "## Algoritmos de Clustering\n",
    "\n",
    "Los datos no se encuentran etiquetados (no existe un valor $y$ para\n",
    "predecir), pero se busca dividir el conjunto de datos basados en alguna\n",
    "medida de similaridad o estructura de los datos.\n",
    "El desafío es encontrar cómo se podrían separar los datos a partir de\n",
    "sus datos sin saber cómo ni porqué se podrían separar.\n",
    "\n",
    "Ejemplos:\n",
    "\n",
    "1.  Ordenar fotos según persona que aparece en rostros.\n",
    "\n",
    "2.  Segmentación de mercados.\n",
    "\n",
    "3.  Compresión de información."
   ]
  },
  {
   "cell_type": "markdown",
   "metadata": {
    "slideshow": {
     "slide_type": "slide"
    }
   },
   "source": [
    "#### 3. Algoritmos\n",
    "## Algoritmos de Extracción de Reglas\n",
    "\n",
    "Los datos se usan para la extracción de reglas o relaciones previamente\n",
    "desconocidas entre los datos. A menudo no existe una relación predictiva\n",
    "entre los datos, sino que simplemente existe una relación no causal\n",
    "entre los atributos de los datos. \n",
    "El desafío es encontrar las relaciones no predictivas entre los datos,\n",
    "sin conocerlas a priori.\n",
    "\n",
    "Ejemplos:\n",
    "\n",
    "1.  Reconocimiento de Voz.\n",
    "\n",
    "2.  Recomendación de Productos."
   ]
  },
  {
   "cell_type": "markdown",
   "metadata": {
    "slideshow": {
     "slide_type": "slide"
    }
   },
   "source": [
    "## 4. Consejos\n",
    "\n",
    "Excelente artículo de Pedro Domingos: [A Few Useful Things to Know about Machine Learning](https://homes.cs.washington.edu/~pedrod/papers/cacm12.pdf).\n",
    "\n",
    "1. Learning = Representation + Evaluation + Optimization\n",
    "2. La meta fundamental es generalizar a partir de los ejemplos.\n",
    "3. Sólo tener datos no es suficiente.\n",
    "4. Cuidado con overfitting en el modelo.\n",
    "5. La intuición es difícil en grandes dimensiones."
   ]
  }
 ],
 "metadata": {
  "celltoolbar": "Slideshow",
  "kernelspec": {
   "display_name": "Python 3",
   "language": "python",
   "name": "python3"
  },
  "language_info": {
   "codemirror_mode": {
    "name": "ipython",
    "version": 3
   },
   "file_extension": ".py",
   "mimetype": "text/x-python",
   "name": "python",
   "nbconvert_exporter": "python",
   "pygments_lexer": "ipython3",
   "version": "3.6.7"
  }
 },
 "nbformat": 4,
 "nbformat_minor": 2
}
