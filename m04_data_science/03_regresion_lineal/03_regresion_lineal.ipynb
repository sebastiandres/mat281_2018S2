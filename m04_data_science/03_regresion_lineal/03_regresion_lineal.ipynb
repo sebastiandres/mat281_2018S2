{
 "cells": [
  {
   "cell_type": "markdown",
   "metadata": {
    "slideshow": {
     "slide_type": "slide"
    }
   },
   "source": [
    "# MAT281\n",
    "\n",
    "## Aplicaciones de la Matemática en la Ingeniería"
   ]
  },
  {
   "cell_type": "markdown",
   "metadata": {},
   "source": [
    "## Intrucciones\n",
    "Completa tus datos personales (nombre y rol USM).\n",
    "Debes enviar este .ipynb con el siguiente formato de nombre: 0X_filename_NOMBRE_APELLIDO.ipynb con tus respuestas a alonso.ogueda@gmail.com y sebastian.flores@usm.cl .\n",
    "\n",
    "__Se evaluará:__\n",
    "- Soluciones\n",
    "- Código\n",
    "- Al presionar Kernel -> Restart Kernel and Run All Cells deben ejecutarse todas las celdas sin error.\n",
    "- La escala es de 0 a 4 considerando solo valores enteros.\n",
    "- La entrega es al final de esta clase.\n",
    "\n",
    "__Nombre:__\n",
    "\n",
    "__Rol:__"
   ]
  },
  {
   "cell_type": "markdown",
   "metadata": {
    "slideshow": {
     "slide_type": "slide"
    }
   },
   "source": [
    "## ¿Qué contenido aprenderemos?\n",
    "\n",
    "Regresión Lineal"
   ]
  },
  {
   "cell_type": "markdown",
   "metadata": {
    "slideshow": {
     "slide_type": "slide"
    }
   },
   "source": [
    "## Regresión Lineal\n",
    "\n",
    "Técnica universalmente utilizada y a pesar de su simpletaza, la derivación de este método entrega importantes consideraciones sobre su implementación, sus hipótesis y sus posibles extensiones."
   ]
  },
  {
   "cell_type": "markdown",
   "metadata": {},
   "source": [
    "### Motivación"
   ]
  },
  {
   "cell_type": "markdown",
   "metadata": {},
   "source": [
    "Por motivos pedagógicos utilizaremos un set de datos que ha sido testeado a lo largo de los años en la literatura, el que consiste en registros de peso del cerebro y cuerpo de distintos mamíferos."
   ]
  },
  {
   "cell_type": "code",
   "execution_count": 1,
   "metadata": {},
   "outputs": [
    {
     "name": "stdout",
     "output_type": "stream",
     "text": [
      "#  x01.txt\n",
      "#\n",
      "#  Reference:\n",
      "#\n",
      "#    Helmut Spaeth,\n",
      "#    Mathematical Algorithms for Linear Regression,\n",
      "#    Academic Press, 1991, page 304,\n",
      "#    ISBN 0-12-656460-4.\n",
      "#\n",
      "#    S Weisberg,\n",
      "#    Applied Linear Regression,\n",
      "#    Wiley, 1980, pages 128-129.\n",
      "#\n",
      "#  Discussion:\n",
      "#\n",
      "#    The data records the average weight of the brain and body for\n",
      "#    a number of mammal species.  \n",
      "#\n",
      "#    There are 62 rows of data.  The 3 data columns include:\n",
      "#\n",
      "#      I,  the index,\n",
      "#      A1, the brain weight;\n",
      "#      B,  the body weight.\n",
      "#\n",
      "#    We seek a model of the form:\n",
      "#\n",
      "#      B = A1 * X1.\n",
      "#\n",
      "3 columns\n",
      "62 rows\n",
      "Index\n",
      "Brain Weight\n",
      "Body Weight\n",
      " 1     3.385    44.500\n",
      " 2     0.480    15.500\n",
      " 3     1.350     8.100\n",
      " 4   465.000   423.000\n",
      " 5    36.330   119.500\n",
      " 6    27.660   115.000\n",
      " 7    14.830    98.200\n",
      " 8     1.040     5.500\n",
      " 9     4.190    58.000\n",
      "10     0.425     6.400\n",
      "11     0.101     4.000\n",
      "12     0.920     5.700\n",
      "13     1.000     6.600\n",
      "14     0.005     0.140\n",
      "15     0.060     1.000\n",
      "16     3.500    10.800\n",
      "17     2.000    12.300\n",
      "18     1.700     6.300\n",
      "19  2547.000  4603.000\n",
      "20     0.023     0.300\n",
      "21   187.100   419.000\n",
      "22   521.000   655.000\n",
      "23     0.785     3.500\n",
      "24    10.000   115.000\n",
      "25     3.300    25.600\n",
      "26     0.200     5.000\n",
      "27     1.410    17.500\n"
     ]
    }
   ],
   "source": [
    "%%bash\n",
    "head data/brain_and_body_weight.txt -n 60"
   ]
  },
  {
   "cell_type": "code",
   "execution_count": 2,
   "metadata": {},
   "outputs": [],
   "source": [
    "import numpy as np\n",
    "import pandas as pd\n",
    "import altair as alt"
   ]
  },
  {
   "cell_type": "code",
   "execution_count": 3,
   "metadata": {},
   "outputs": [
    {
     "data": {
      "text/html": [
       "<div>\n",
       "<style scoped>\n",
       "    .dataframe tbody tr th:only-of-type {\n",
       "        vertical-align: middle;\n",
       "    }\n",
       "\n",
       "    .dataframe tbody tr th {\n",
       "        vertical-align: top;\n",
       "    }\n",
       "\n",
       "    .dataframe thead th {\n",
       "        text-align: right;\n",
       "    }\n",
       "</style>\n",
       "<table border=\"1\" class=\"dataframe\">\n",
       "  <thead>\n",
       "    <tr style=\"text-align: right;\">\n",
       "      <th></th>\n",
       "      <th>wgt_brain</th>\n",
       "      <th>wgt_body</th>\n",
       "    </tr>\n",
       "  </thead>\n",
       "  <tbody>\n",
       "    <tr>\n",
       "      <th>1</th>\n",
       "      <td>3.385</td>\n",
       "      <td>44.5</td>\n",
       "    </tr>\n",
       "    <tr>\n",
       "      <th>2</th>\n",
       "      <td>0.480</td>\n",
       "      <td>15.5</td>\n",
       "    </tr>\n",
       "    <tr>\n",
       "      <th>3</th>\n",
       "      <td>1.350</td>\n",
       "      <td>8.1</td>\n",
       "    </tr>\n",
       "    <tr>\n",
       "      <th>4</th>\n",
       "      <td>465.000</td>\n",
       "      <td>423.0</td>\n",
       "    </tr>\n",
       "    <tr>\n",
       "      <th>5</th>\n",
       "      <td>36.330</td>\n",
       "      <td>119.5</td>\n",
       "    </tr>\n",
       "  </tbody>\n",
       "</table>\n",
       "</div>"
      ],
      "text/plain": [
       "   wgt_brain  wgt_body\n",
       "1      3.385      44.5\n",
       "2      0.480      15.5\n",
       "3      1.350       8.1\n",
       "4    465.000     423.0\n",
       "5     36.330     119.5"
      ]
     },
     "execution_count": 3,
     "metadata": {},
     "output_type": "execute_result"
    }
   ],
   "source": [
    "# Read data\n",
    "data_txt = np.loadtxt(\"data/brain_and_body_weight.txt\", skiprows=33)\n",
    "brain_body_df = pd.DataFrame(data_txt[:, [1, 2]], index=data_txt[:, 0].astype(int), columns=[\"wgt_brain\", \"wgt_body\"])\n",
    "brain_body_df.head()"
   ]
  },
  {
   "cell_type": "markdown",
   "metadata": {},
   "source": [
    "### Exploración"
   ]
  },
  {
   "cell_type": "code",
   "execution_count": 4,
   "metadata": {},
   "outputs": [
    {
     "data": {
      "application/vnd.vegalite.v2+json": {
       "$schema": "https://vega.github.io/schema/vega-lite/v2.6.0.json",
       "config": {
        "view": {
         "height": 300,
         "width": 400
        }
       },
       "data": {
        "name": "data-48846aca9b32b33836fb792fa73ab9d5"
       },
       "datasets": {
        "data-48846aca9b32b33836fb792fa73ab9d5": [
         {
          "wgt_body": 44.5,
          "wgt_brain": 3.385
         },
         {
          "wgt_body": 15.5,
          "wgt_brain": 0.48
         },
         {
          "wgt_body": 8.1,
          "wgt_brain": 1.35
         },
         {
          "wgt_body": 423,
          "wgt_brain": 465
         },
         {
          "wgt_body": 119.5,
          "wgt_brain": 36.33
         },
         {
          "wgt_body": 115,
          "wgt_brain": 27.66
         },
         {
          "wgt_body": 98.2,
          "wgt_brain": 14.83
         },
         {
          "wgt_body": 5.5,
          "wgt_brain": 1.04
         },
         {
          "wgt_body": 58,
          "wgt_brain": 4.19
         },
         {
          "wgt_body": 6.4,
          "wgt_brain": 0.425
         },
         {
          "wgt_body": 4,
          "wgt_brain": 0.101
         },
         {
          "wgt_body": 5.7,
          "wgt_brain": 0.92
         },
         {
          "wgt_body": 6.6,
          "wgt_brain": 1
         },
         {
          "wgt_body": 0.14,
          "wgt_brain": 0.005
         },
         {
          "wgt_body": 1,
          "wgt_brain": 0.06
         },
         {
          "wgt_body": 10.8,
          "wgt_brain": 3.5
         },
         {
          "wgt_body": 12.3,
          "wgt_brain": 2
         },
         {
          "wgt_body": 6.3,
          "wgt_brain": 1.7
         },
         {
          "wgt_body": 4603,
          "wgt_brain": 2547
         },
         {
          "wgt_body": 0.3,
          "wgt_brain": 0.023
         },
         {
          "wgt_body": 419,
          "wgt_brain": 187.1
         },
         {
          "wgt_body": 655,
          "wgt_brain": 521
         },
         {
          "wgt_body": 3.5,
          "wgt_brain": 0.785
         },
         {
          "wgt_body": 115,
          "wgt_brain": 10
         },
         {
          "wgt_body": 25.6,
          "wgt_brain": 3.3
         },
         {
          "wgt_body": 5,
          "wgt_brain": 0.2
         },
         {
          "wgt_body": 17.5,
          "wgt_brain": 1.41
         },
         {
          "wgt_body": 680,
          "wgt_brain": 529
         },
         {
          "wgt_body": 406,
          "wgt_brain": 207
         },
         {
          "wgt_body": 325,
          "wgt_brain": 85
         },
         {
          "wgt_body": 12.3,
          "wgt_brain": 0.75
         },
         {
          "wgt_body": 1320,
          "wgt_brain": 62
         },
         {
          "wgt_body": 5712,
          "wgt_brain": 6654
         },
         {
          "wgt_body": 3.9,
          "wgt_brain": 3.5
         },
         {
          "wgt_body": 179,
          "wgt_brain": 6.8
         },
         {
          "wgt_body": 56,
          "wgt_brain": 35
         },
         {
          "wgt_body": 17,
          "wgt_brain": 4.05
         },
         {
          "wgt_body": 1,
          "wgt_brain": 0.12
         },
         {
          "wgt_body": 0.4,
          "wgt_brain": 0.023
         },
         {
          "wgt_body": 0.25,
          "wgt_brain": 0.01
         },
         {
          "wgt_body": 12.5,
          "wgt_brain": 1.4
         },
         {
          "wgt_body": 490,
          "wgt_brain": 250
         },
         {
          "wgt_body": 12.1,
          "wgt_brain": 2.5
         },
         {
          "wgt_body": 175,
          "wgt_brain": 55.5
         },
         {
          "wgt_body": 157,
          "wgt_brain": 100
         },
         {
          "wgt_body": 440,
          "wgt_brain": 52.16
         },
         {
          "wgt_body": 179.5,
          "wgt_brain": 10.55
         },
         {
          "wgt_body": 2.4,
          "wgt_brain": 0.55
         },
         {
          "wgt_body": 81,
          "wgt_brain": 60
         },
         {
          "wgt_body": 21,
          "wgt_brain": 3.6
         },
         {
          "wgt_body": 39.2,
          "wgt_brain": 4.288
         },
         {
          "wgt_body": 1.9,
          "wgt_brain": 0.28
         },
         {
          "wgt_body": 1.2,
          "wgt_brain": 0.075
         },
         {
          "wgt_body": 3,
          "wgt_brain": 0.122
         },
         {
          "wgt_body": 0.33,
          "wgt_brain": 0.048
         },
         {
          "wgt_body": 180,
          "wgt_brain": 192
         },
         {
          "wgt_body": 25,
          "wgt_brain": 3
         },
         {
          "wgt_body": 169,
          "wgt_brain": 160
         },
         {
          "wgt_body": 2.6,
          "wgt_brain": 0.9
         },
         {
          "wgt_body": 11.4,
          "wgt_brain": 1.62
         },
         {
          "wgt_body": 2.5,
          "wgt_brain": 0.104
         },
         {
          "wgt_body": 50.4,
          "wgt_brain": 4.235
         }
        ]
       },
       "encoding": {
        "x": {
         "field": "wgt_brain",
         "type": "quantitative"
        },
        "y": {
         "field": "wgt_body",
         "type": "quantitative"
        }
       },
       "height": 400,
       "mark": {
        "opacity": 0.5,
        "size": 75,
        "type": "circle"
       },
       "width": 600
      },
      "image/png": "[encoded data removed]",
      "text/plain": [
       "<VegaLite 2 object>\n",
       "\n",
       "If you see this message, it means the renderer has not been properly enabled\n",
       "for the frontend that you are using. For more information, see\n",
       "https://altair-viz.github.io/user_guide/troubleshooting.html\n"
      ]
     },
     "execution_count": 4,
     "metadata": {},
     "output_type": "execute_result"
    }
   ],
   "source": [
    "alt.Chart(brain_body_df).mark_circle(size=75, opacity=0.5).encode(\n",
    "    x=\"wgt_brain:Q\",\n",
    "    y=\"wgt_body:Q\"\n",
    ").properties(\n",
    "    width=600,\n",
    "    height=400\n",
    ")"
   ]
  },
  {
   "cell_type": "code",
   "execution_count": 5,
   "metadata": {},
   "outputs": [
    {
     "data": {
      "application/vnd.vegalite.v2+json": {
       "$schema": "https://vega.github.io/schema/vega-lite/v2.6.0.json",
       "config": {
        "view": {
         "height": 300,
         "width": 400
        }
       },
       "data": {
        "name": "data-48846aca9b32b33836fb792fa73ab9d5"
       },
       "datasets": {
        "data-48846aca9b32b33836fb792fa73ab9d5": [
         {
          "wgt_body": 44.5,
          "wgt_brain": 3.385
         },
         {
          "wgt_body": 15.5,
          "wgt_brain": 0.48
         },
         {
          "wgt_body": 8.1,
          "wgt_brain": 1.35
         },
         {
          "wgt_body": 423,
          "wgt_brain": 465
         },
         {
          "wgt_body": 119.5,
          "wgt_brain": 36.33
         },
         {
          "wgt_body": 115,
          "wgt_brain": 27.66
         },
         {
          "wgt_body": 98.2,
          "wgt_brain": 14.83
         },
         {
          "wgt_body": 5.5,
          "wgt_brain": 1.04
         },
         {
          "wgt_body": 58,
          "wgt_brain": 4.19
         },
         {
          "wgt_body": 6.4,
          "wgt_brain": 0.425
         },
         {
          "wgt_body": 4,
          "wgt_brain": 0.101
         },
         {
          "wgt_body": 5.7,
          "wgt_brain": 0.92
         },
         {
          "wgt_body": 6.6,
          "wgt_brain": 1
         },
         {
          "wgt_body": 0.14,
          "wgt_brain": 0.005
         },
         {
          "wgt_body": 1,
          "wgt_brain": 0.06
         },
         {
          "wgt_body": 10.8,
          "wgt_brain": 3.5
         },
         {
          "wgt_body": 12.3,
          "wgt_brain": 2
         },
         {
          "wgt_body": 6.3,
          "wgt_brain": 1.7
         },
         {
          "wgt_body": 4603,
          "wgt_brain": 2547
         },
         {
          "wgt_body": 0.3,
          "wgt_brain": 0.023
         },
         {
          "wgt_body": 419,
          "wgt_brain": 187.1
         },
         {
          "wgt_body": 655,
          "wgt_brain": 521
         },
         {
          "wgt_body": 3.5,
          "wgt_brain": 0.785
         },
         {
          "wgt_body": 115,
          "wgt_brain": 10
         },
         {
          "wgt_body": 25.6,
          "wgt_brain": 3.3
         },
         {
          "wgt_body": 5,
          "wgt_brain": 0.2
         },
         {
          "wgt_body": 17.5,
          "wgt_brain": 1.41
         },
         {
          "wgt_body": 680,
          "wgt_brain": 529
         },
         {
          "wgt_body": 406,
          "wgt_brain": 207
         },
         {
          "wgt_body": 325,
          "wgt_brain": 85
         },
         {
          "wgt_body": 12.3,
          "wgt_brain": 0.75
         },
         {
          "wgt_body": 1320,
          "wgt_brain": 62
         },
         {
          "wgt_body": 5712,
          "wgt_brain": 6654
         },
         {
          "wgt_body": 3.9,
          "wgt_brain": 3.5
         },
         {
          "wgt_body": 179,
          "wgt_brain": 6.8
         },
         {
          "wgt_body": 56,
          "wgt_brain": 35
         },
         {
          "wgt_body": 17,
          "wgt_brain": 4.05
         },
         {
          "wgt_body": 1,
          "wgt_brain": 0.12
         },
         {
          "wgt_body": 0.4,
          "wgt_brain": 0.023
         },
         {
          "wgt_body": 0.25,
          "wgt_brain": 0.01
         },
         {
          "wgt_body": 12.5,
          "wgt_brain": 1.4
         },
         {
          "wgt_body": 490,
          "wgt_brain": 250
         },
         {
          "wgt_body": 12.1,
          "wgt_brain": 2.5
         },
         {
          "wgt_body": 175,
          "wgt_brain": 55.5
         },
         {
          "wgt_body": 157,
          "wgt_brain": 100
         },
         {
          "wgt_body": 440,
          "wgt_brain": 52.16
         },
         {
          "wgt_body": 179.5,
          "wgt_brain": 10.55
         },
         {
          "wgt_body": 2.4,
          "wgt_brain": 0.55
         },
         {
          "wgt_body": 81,
          "wgt_brain": 60
         },
         {
          "wgt_body": 21,
          "wgt_brain": 3.6
         },
         {
          "wgt_body": 39.2,
          "wgt_brain": 4.288
         },
         {
          "wgt_body": 1.9,
          "wgt_brain": 0.28
         },
         {
          "wgt_body": 1.2,
          "wgt_brain": 0.075
         },
         {
          "wgt_body": 3,
          "wgt_brain": 0.122
         },
         {
          "wgt_body": 0.33,
          "wgt_brain": 0.048
         },
         {
          "wgt_body": 180,
          "wgt_brain": 192
         },
         {
          "wgt_body": 25,
          "wgt_brain": 3
         },
         {
          "wgt_body": 169,
          "wgt_brain": 160
         },
         {
          "wgt_body": 2.6,
          "wgt_brain": 0.9
         },
         {
          "wgt_body": 11.4,
          "wgt_brain": 1.62
         },
         {
          "wgt_body": 2.5,
          "wgt_brain": 0.104
         },
         {
          "wgt_body": 50.4,
          "wgt_brain": 4.235
         }
        ]
       },
       "encoding": {
        "x": {
         "field": "wgt_brain",
         "scale": {
          "type": "log"
         },
         "type": "quantitative"
        },
        "y": {
         "field": "wgt_body",
         "scale": {
          "type": "log"
         },
         "type": "quantitative"
        }
       },
       "height": 400,
       "mark": {
        "opacity": 0.5,
        "size": 75,
        "type": "circle"
       },
       "width": 600
      },
      "image/png": "[encoded data removed]",
      "text/plain": [
       "<VegaLite 2 object>\n",
       "\n",
       "If you see this message, it means the renderer has not been properly enabled\n",
       "for the frontend that you are using. For more information, see\n",
       "https://altair-viz.github.io/user_guide/troubleshooting.html\n"
      ]
     },
     "execution_count": 5,
     "metadata": {},
     "output_type": "execute_result"
    }
   ],
   "source": [
    "# Logarithmic Scale\n",
    "alt.Chart(brain_body_df).mark_circle(size=75, opacity=0.5).encode(\n",
    "    x=alt.X(\"wgt_brain:Q\", \n",
    "          scale=alt.Scale(type=\"log\")),\n",
    "    y=alt.Y(\"wgt_body:Q\", scale=alt.Scale(type=\"log\"))\n",
    ").properties(\n",
    "    width=600,\n",
    "    height=400\n",
    ")"
   ]
  },
  {
   "cell_type": "markdown",
   "metadata": {
    "slideshow": {
     "slide_type": "slide"
    }
   },
   "source": [
    "## Los datos\n",
    "\n",
    "Supondremos que tenemos $m$ datos. \n",
    "Cada dato $x^{(i)}$, $i=1,\\dots,$ $m$ tiene $n$ componentes,\n",
    "$x^{(i)} = (x^{(i)}_1, ..., x^{(i)}_n)$. \n",
    "\n",
    "Conocemos además el valor (etiqueta) asociado a $x^{(i)}$ que llamaremos $y^{(i)}$, $i=1,\\dots, m$ ."
   ]
  },
  {
   "cell_type": "markdown",
   "metadata": {
    "slideshow": {
     "slide_type": "slide"
    }
   },
   "source": [
    "## Modelo\n",
    "\n",
    "Nuestra hipótesis de modelo lineal puede escribirse como\n",
    "\n",
    "$$\\begin{aligned}\n",
    "h_{\\theta}(x) &= \\theta_0 + \\theta_1 x_1 + \\theta_2 x_2 + ... + \\theta_n x_n \\\\\n",
    "          &= \\begin{bmatrix}\\theta_0 & \\theta_1 & \\theta_2 & \\dots & \\theta_n\\end{bmatrix} \\begin{bmatrix}1 \\\\ x_1 \\\\x_2 \\\\ \\vdots \\\\ x_n\\end{bmatrix} \\\\\n",
    "          &= \\theta^T \\begin{bmatrix}1\\\\x\\end{bmatrix} = \\begin{bmatrix}1 & x^T\\end{bmatrix} \\theta \\end{aligned}$$\n"
   ]
  },
  {
   "cell_type": "markdown",
   "metadata": {
    "slideshow": {
     "slide_type": "slide"
    }
   },
   "source": [
    "Definiremos $x^{(i)}_0 =1$, de modo que\n",
    "$h_{\\theta}(x^{(i)}) = (x^{(i)})^T \\theta $ y buscamos el vector de parámetros\n",
    "$$\\theta = \\begin{bmatrix}\\theta_0 \\\\ \\theta_1 \\\\ \\theta_2 \\\\ \\vdots \\\\ \\theta_n\\end{bmatrix}$$\n"
   ]
  },
  {
   "cell_type": "markdown",
   "metadata": {
    "slideshow": {
     "slide_type": "slide"
    }
   },
   "source": [
    "Definamos las matrices\n",
    "\n",
    "$$\\begin{aligned}\n",
    "Y &= \\begin{bmatrix}y^{(1)} \\\\ y^{(2)} \\\\ \\vdots \\\\ y^{(m)}\\end{bmatrix}\\end{aligned}$$\n",
    "\n",
    "y\n",
    "\n",
    "$$\\begin{aligned}\n",
    "X = \n",
    "\\begin{bmatrix} \n",
    "1 & x^{(1)}_1 & \\dots & x^{(1)}_n \\\\ \n",
    "1 & x^{(2)}_1 & \\dots & x^{(2)}_n \\\\\n",
    "\\vdots & \\vdots & & \\vdots \\\\\n",
    "1 & x^{(m)}_1 & \\dots & x^{(m)}_n \\\\\n",
    "\\end{bmatrix}\n",
    "= \n",
    "\\begin{bmatrix} \n",
    "- (x^{(1)})^T - \\\\ \n",
    "- (x^{(2)})^T - \\\\\n",
    "\\vdots \\\\\n",
    "- (x^{(m)})^T - \\\\\n",
    "\\end{bmatrix}\\end{aligned}$$\n"
   ]
  },
  {
   "cell_type": "markdown",
   "metadata": {
    "slideshow": {
     "slide_type": "slide"
    }
   },
   "source": [
    "Luego la evaluación\n",
    "de todos los datos puede escribirse matricialmente como\n",
    "\n",
    "$$\\begin{aligned}\n",
    "X \\theta &= \n",
    "\\begin{bmatrix}\n",
    "1 & x_1^{(1)} & ... & x_n^{(1)} \\\\\n",
    "\\vdots & \\vdots & & \\vdots \\\\\n",
    "1 & x_1^{(m)} & ... & x_n^{(m)} \\\\\n",
    "\\end{bmatrix}\n",
    "\\begin{bmatrix}\\theta_0 \\\\ \\theta_1 \\\\ \\vdots \\\\ \\theta_n\\end{bmatrix} \\\\\n",
    "& = \n",
    "\\begin{bmatrix}\n",
    "1 \\theta_0 + x^{(1)}_1 \\theta_1 + ... + x^{(1)}_n \\theta_n \\\\\n",
    "\\vdots \\\\\n",
    "1 \\theta_0 + x^{(m)}_1 \\theta_1 + ... + x^{(m)}_n \\theta_n \\\\\n",
    "\\end{bmatrix} \\\\\n",
    "& = \n",
    "\\begin{bmatrix}\n",
    "h(x^{(1)}) \\\\\n",
    "\\vdots \\\\\n",
    "h(x^{(m)})\n",
    "\\end{bmatrix}\\end{aligned}$$\n"
   ]
  },
  {
   "cell_type": "markdown",
   "metadata": {
    "slideshow": {
     "slide_type": "slide"
    }
   },
   "source": [
    "Nuestro problema es\n",
    "encontrar un “buen” conjunto de valores $\\theta$ de modo que\n",
    "\n",
    "$$\\begin{aligned}\n",
    "\\begin{bmatrix}\n",
    "h(x^{(1)}) \\\\\n",
    "h(x^{(2)}) \\\\\n",
    "\\vdots \\\\\n",
    "h(x^{(m)})\n",
    "\\end{bmatrix}\n",
    "\\approx\n",
    "\\begin{bmatrix}y^{(1)} \\\\ y^{(2)} \\\\ \\vdots \\\\ y^{(m)}\\end{bmatrix}\\end{aligned}$$\n",
    "\n",
    "es decir, que $$X \\theta \\approx Y$$"
   ]
  },
  {
   "cell_type": "markdown",
   "metadata": {
    "slideshow": {
     "slide_type": "slide"
    }
   },
   "source": [
    "Para encontrar el mejor vector $\\theta$ podríamos definir una función de costo $J(\\theta)$ de la siguiente manera:\n",
    "\n",
    "$$J(\\theta) = \\frac{1}{2} \\sum_{i=1}^{m} \\left( h_{\\theta}(x^{(i)}) - y^{(i)}\\right)^2$$\n",
    "\n",
    "El mejor vector $\\theta$ sería aquel que permite minimizar la norma 2 entre la predicción y el valor real."
   ]
  },
  {
   "cell_type": "markdown",
   "metadata": {
    "slideshow": {
     "slide_type": "slide"
    }
   },
   "source": [
    "## Aproximación Ingenieril\n",
    "\n",
    "¿Cómo podemos resolver el problema\n",
    "en el menor número de pasos?\n",
    "\n",
    "Deseamos resolver el sistema $$A \\theta = b$$ con\n",
    "$A \\in \\mathbb{R}^{m \\times n}$ y $m > n$ (La matrix $A$ es skinny).\n",
    "\n",
    "¿Cómo resolvemos?"
   ]
  },
  {
   "cell_type": "markdown",
   "metadata": {
    "slideshow": {
     "slide_type": "slide"
    }
   },
   "source": [
    "Bueno,\n",
    "si $A \\in \\mathbb{R}^{m \\times n}$, entonces\n",
    "$A^T \\in \\mathbb{R}^{n \\times m}$ y la multiplicación está bien definida\n",
    "y obtengo un sistema lineal $n \\times n$. $$(A^T A) \\  \\theta = A^T b$$ Si la\n",
    "matriz $A^T A$ es invertible, el sistema se puede solucionar “sin mayor\n",
    "reparo”. $$\\theta = (A^T A)^{-1} A^T b$$"
   ]
  },
  {
   "cell_type": "markdown",
   "metadata": {
    "slideshow": {
     "slide_type": "slide"
    }
   },
   "source": [
    "En nuestro caso, obtendríamos $$\\theta = (X^T X)^{-1} X^T Y$$ Esta\n",
    "respuesta, aunque correcta, no admite interpretaciones y no permite\n",
    "generalizar a otros casos más generales.\n",
    "\n",
    "En particular...\n",
    "\n",
    "-   ¿Qué relación tiene con la función de costo (no) utilizada?\n",
    "\n",
    "-   ¿Qué pasa si $A^T A$ no es invertible?\n"
   ]
  },
  {
   "cell_type": "markdown",
   "metadata": {
    "slideshow": {
     "slide_type": "slide"
    }
   },
   "source": [
    "## Aproximación Machine Learning\n",
    "\n",
    "¿Cómo podemos obtener una\n",
    "buena aproximación para $\\theta$?\n",
    "\n",
    "Queremos encontrar $\\theta^*$ que minimice $J(\\theta)$.\n",
    "\n",
    "Basta con utilizar una buena rutina de optimización para cumplir con\n",
    "dicho objetivo.\n",
    "\n",
    "En particular, una elección natural es tomar la dirección de mayor\n",
    "descenso, es decir, el método del máximo descenso (gradient descent).\n",
    "$$\\theta^{(n+1)} = \\theta^{(n)} - \\alpha \\nabla_{\\theta} J(\\theta^{(n)})$$\n",
    "donde $\\alpha >0$ es la tasa de aprendizaje.\n"
   ]
  },
  {
   "cell_type": "markdown",
   "metadata": {
    "slideshow": {
     "slide_type": "slide"
    }
   },
   "source": [
    "En\n",
    "nuestro caso, puesto que tenemos\n",
    "$$J(\\theta) = \\frac{1}{2} \\sum_{i=1}^{m} \\left( h_{\\theta}(x^{(i)}) - y^{(i)}\\right)^2$$\n",
    "se tiene que\n",
    "\n",
    "$$\\begin{aligned}\n",
    "\\frac{\\partial J(\\theta)}{\\partial \\theta_k} &=\n",
    "\\frac{\\partial }{\\partial \\theta_k} \\frac{1}{2} \\sum_{i=1}^{m} \\left( h_{\\theta}(x^{(i)}) - y^{(i)}\\right)^2 \\\\\n",
    "&= \\frac{1}{2} \\sum_{i=1}^{m}  2 \\left( h_{\\theta}(x^{(i)}) - y^{(i)}\\right) \\frac{\\partial h_{\\theta}(x^{(i)})}{\\partial \\theta_k}  \\\\\n",
    "&= \\sum_{i=1}^{m} \\left( h_{\\theta}(x^{(i)}) - y^{(i)}\\right) x^{(i)}_k\\end{aligned}$$\n"
   ]
  },
  {
   "cell_type": "markdown",
   "metadata": {
    "slideshow": {
     "slide_type": "slide"
    }
   },
   "source": [
    "Este\n",
    "algoritmo se llama Least Mean Squares\n",
    "\n",
    "$$\\begin{aligned}\n",
    "\\theta^{(n+1)} & = \\theta^{(n)} - \\alpha \\nabla_{\\theta} J(\\theta^{(n)}) \\\\\n",
    "\\frac{\\partial J(\\theta)}{\\partial \\theta_k}\n",
    "&= \\sum_{i=1}^{m} \\left( h_{\\theta}(x^{(i)}) - y^{(i)}\\right) x^{(i)}_k\\end{aligned}$$\n",
    "\n",
    "OBS: La elección de $\\alpha$ es crucial para la convergencia. En\n",
    "particular, $0.01/m$ funciona bien."
   ]
  },
  {
   "cell_type": "code",
   "execution_count": 6,
   "metadata": {
    "collapsed": false,
    "slideshow": {
     "slide_type": "slide"
    }
   },
   "outputs": [
    {
     "name": "stdout",
     "output_type": "stream",
     "text": [
      "[[199.39672176]\n",
      " [ 50.19457286]]\n"
     ]
    }
   ],
   "source": [
    "import numpy as np\n",
    "from numpy.linalg import norm\n",
    "def lms_regression_slow(X, Y, theta, tol=1E-6):\n",
    "    converged = False\n",
    "    alpha = 0.01/len(Y)\n",
    "    while not converged:\n",
    "        gradient = 0.\n",
    "        for xiT, yi in zip(X,Y):\n",
    "            hi = np.dot(theta, xiT)\n",
    "            gradient += (hi - yi)*xiT.T\n",
    "        new_theta = theta - alpha * gradient\n",
    "        converged = norm(theta-new_theta) < tol * norm(theta)\n",
    "        theta = new_theta\n",
    "    return theta\n",
    "\n",
    "def lms_regression_fast(X, Y, theta, tol=1E-6):\n",
    "    converged = False\n",
    "    alpha = 0.01/len(Y)\n",
    "    theta = theta.reshape(X.shape[1], 1)\n",
    "    A = np.dot(X.T,X)\n",
    "    b = np.dot(X.T, Y)\n",
    "    while not converged:\n",
    "        gradient = np.dot(A, theta) - b\n",
    "        new_theta = theta - alpha * gradient\n",
    "        converged = norm(theta-new_theta) < tol * norm(theta)\n",
    "        theta = new_theta\n",
    "    return theta\n",
    "\n",
    "m = 1000\n",
    "t = np.linspace(0,1,m)\n",
    "x = 2 + 2*t\n",
    "y = 300 + 100*t\n",
    "X = np.array([np.ones(m), x]).T\n",
    "Y = y.reshape(m,1)\n",
    "theta_0 = np.array([[0.0,0.0]])\n",
    "theta = lms_regression_fast(X, Y, theta_0)\n",
    "print(theta)"
   ]
  },
  {
   "cell_type": "code",
   "execution_count": 7,
   "metadata": {},
   "outputs": [
    {
     "data": {
      "text/plain": [
       "array([0.])"
      ]
     },
     "execution_count": 7,
     "metadata": {},
     "output_type": "execute_result"
    }
   ],
   "source": [
    "np.dot(theta_0, next(zip(X, Y))[0])"
   ]
  },
  {
   "cell_type": "markdown",
   "metadata": {
    "slideshow": {
     "slide_type": "slide"
    }
   },
   "source": [
    "### Least Mean Squares\n",
    "\n",
    "Resultados:\n",
    "\n",
    "-   Tarda del orden de 4 segundos para un problema ridículamente\n",
    "    pequeño.\n",
    "\n",
    "-   Precisión no es tan buena como esperábamos $\\theta=(199.40, \\, 50.19)$\n",
    "    en vez de $(200, \\, 50)$.\n",
    "\n",
    "-   ¿Hay algo mejor que se pueda hacer?\n"
   ]
  },
  {
   "cell_type": "markdown",
   "metadata": {
    "slideshow": {
     "slide_type": "slide"
    }
   },
   "source": [
    "## Interpretación Matemática\n",
    "**¿Cómo podemos obtener una\n",
    "justificación para la ecuación normal?**\n",
    "\n",
    "Necesitamos los siguientes ingredientes:\n",
    "\n",
    "$$\\begin{aligned}\n",
    "\\nabla_x &(x^T A x) = A x + A^T x \\\\ \n",
    "\\nabla_x &(b^T x) = b \\end{aligned}$$"
   ]
  },
  {
   "cell_type": "markdown",
   "metadata": {
    "slideshow": {
     "slide_type": "slide"
    }
   },
   "source": [
    "Se tiene\n",
    "\n",
    "$$\\begin{aligned}\n",
    "J(\\theta) \n",
    "&= \\frac{1}{2} \\sum_{i=1}^{m} \\left( h_{\\theta}(x^{(i)}) - y^{(i)}\\right)^2 \\\\\n",
    "&= \\frac{1}{2} \\sum_{i=1}^{m} \\left( h_{\\theta}(x^{(i)}) - y^{(i)}\\right) \\left( h_{\\theta}(x^{(i)}) - y^{(i)}\\right) \\\\\n",
    "&= \\frac{1}{2} \\left( X \\theta - Y \\right)^T \\left( X \\theta - Y \\right) \\\\\n",
    "&= \\frac{1}{2} \\left( \\theta^T X^T - Y^T \\right) \\left( X \\theta - Y \\right) \\\\\n",
    "&= \\frac{1}{2} \\left( \\theta^T X^T X \\theta - \\theta^T X^T Y - Y^T X \\theta + Y^T Y \\right) \\\\\n",
    "&= \\frac{1}{2} \\left( \\theta^T X^T X \\theta - 2 (Y^T X) \\theta + Y^T Y \\right)\\end{aligned}$$"
   ]
  },
  {
   "cell_type": "markdown",
   "metadata": {
    "slideshow": {
     "slide_type": "slide"
    }
   },
   "source": [
    "Aplicando a cada uno de los términos, obtenemos:\n",
    "\n",
    "$$\\begin{aligned}\n",
    "\\nabla_\\theta ( \\theta^T X^T X \\theta ) &= X^T X \\theta + (X^T X)^T \\theta \\\\\n",
    "& = 2 X^T X \\theta\\end{aligned}$$\n",
    "\n",
    "también se tiene\n",
    "\n",
    "$$\\begin{aligned}\n",
    "\\nabla_\\theta ( Y^T X \\theta  ) &= (Y^T X) ^T\\\\\n",
    "&= X^T Y\\end{aligned}$$\n",
    "\n",
    "y por último\n",
    "\n",
    "$$\\begin{aligned}\n",
    "\\nabla_\\theta ( Y^T Y  ) = 0\\end{aligned}$$"
   ]
  },
  {
   "cell_type": "markdown",
   "metadata": {
    "slideshow": {
     "slide_type": "slide"
    }
   },
   "source": [
    "Por lo tanto se tiene que\n",
    "\n",
    "$$\\begin{aligned}\n",
    "\\nabla_\\theta J(\\theta) \n",
    "& = \\nabla_\\theta  \\frac{1}{2} \\left( \\theta^T X^T X \\theta - 2 (Y^T X) \\theta + Y^T Y \\right) \\\\\n",
    "&= \\frac{1}{2} ( 2 X^T X \\theta - 2 X^T Y + 0 ) \\\\\n",
    "&= X^T X \\theta - X^T Y \\end{aligned}$$\n"
   ]
  },
  {
   "cell_type": "markdown",
   "metadata": {
    "slideshow": {
     "slide_type": "slide"
    }
   },
   "source": [
    "Esto significa que el problema $$\\min_\\theta J(\\theta)$$ se resuelve al\n",
    "hacer todas las derivadas parciales iguales a cero (ie, gradiente igual\n",
    "a cero) $$\\nabla_\\theta J(\\theta) = 0$$ lo cual en nuestro caso se\n",
    "convierte convenientemente a la ecuación normal $$X^T X \\theta = X^T Y$$\n",
    "y se tiene $$\\theta = (X^T X)^{-1} X^T Y$$\n"
   ]
  },
  {
   "cell_type": "code",
   "execution_count": 8,
   "metadata": {
    "collapsed": false,
    "slideshow": {
     "slide_type": "slide"
    }
   },
   "outputs": [
    {
     "name": "stdout",
     "output_type": "stream",
     "text": [
      "[200.  50.]\n"
     ]
    }
   ],
   "source": [
    "import numpy as np\n",
    "from numpy.linalg import norm\n",
    "def matrix_regression(X, Y, theta, tol=1E-6):\n",
    "    A = np.dot(X.T,X)\n",
    "    b = np.dot(X.T,Y)\n",
    "    sol = np.linalg.solve(A,b)\n",
    "    return sol.flatten()\n",
    "\n",
    "m = 100\n",
    "t = np.linspace(0,1,m)\n",
    "x = 2 + 2*t\n",
    "y = 300 + 100*t\n",
    "X = np.array([np.ones(m), x]).T\n",
    "Y = y.reshape(m,1)\n",
    "theta_0 = np.array([[0.0,0.0]])\n",
    "theta = matrix_regression(X, Y, theta_0)\n",
    "print(theta)"
   ]
  },
  {
   "cell_type": "markdown",
   "metadata": {
    "slideshow": {
     "slide_type": "slide"
    }
   },
   "source": [
    "Resultados:\n",
    "\n",
    "-   Tarda mucho menos que LMS para un problema pequeño.\n",
    "\n",
    "-   Precisión es buena: $(200, 50)$.\n",
    "\n",
    "-   Problema potencial es tener suficiente memoria RAM: $X^T X$ puede ser una matriz costosa de conseguir, aunque es sólo de tamaño $n\\times n$, con $n$ el tamaño del vector $\\theta$. \n"
   ]
  },
  {
   "cell_type": "markdown",
   "metadata": {
    "slideshow": {
     "slide_type": "slide"
    }
   },
   "source": [
    "## Interpretación Probabilística\n",
    "\n",
    "#### ¿Porqué la función de costo $J(\\theta)$ en norma $2$ resulta adecuada?\n",
    "\n",
    "Asumamos que outputs e inputs están relacionados mediante\n",
    "$$y^{(i)}= \\theta^T x^{(i)}+ \\varepsilon^{(i)}$$ donde\n",
    "$\\varepsilon^{(i)}$ es un error que captura efectos sin modelar o ruido\n",
    "de medición. \n",
    "\n",
    "Supongamos que los $\\varepsilon^{(i)}$ se distribuyen\n",
    "de manera idéntica e independientemente de acuerdo a una distribución\n",
    "gausiana de media $0$ y varianza $\\sigma^2$.\n",
    "$$\\varepsilon^{(i)}\\sim \\mathcal{N}(0, \\sigma^2)$$\n",
    "\n"
   ]
  },
  {
   "cell_type": "markdown",
   "metadata": {
    "slideshow": {
     "slide_type": "slide"
    }
   },
   "source": [
    "Cabe destacar que:\n",
    "\n",
    "-   $\\theta$ no es una variable aleatoria, es un parámetro\n",
    "    (desconocido).\n",
    "\n",
    "-   $\\varepsilon^{(i)}$, $x^{(i)}$ y $y^{(i)}$ son variables aleatorias.\n",
    "\n",
    "-   $\\varepsilon^{(i)}\\sim \\mathcal{N}(0, \\sigma^2)$\n",
    "\n",
    "-   $y^{(i)} \\ | \\ x^{(i)}; \\theta \\sim \\mathcal{N}(\\theta^T x^{(i)}, \\sigma^2)$\n",
    "    pues $y^{(i)}= \\theta^T x^{(i)}+ \\varepsilon^{(i)}$\n"
   ]
  },
  {
   "cell_type": "markdown",
   "metadata": {
    "slideshow": {
     "slide_type": "slide"
    }
   },
   "source": [
    "Tenemos entonces que\n",
    "$$\\mathbb{P}[\\varepsilon^{(i)}] = \\frac{1}{\\sqrt{2\\pi}\\sigma} \\exp\\left( -\\frac{(\\varepsilon^{(i)})^2}{2\\sigma^2} \\right)$$\n",
    "y por tanto\n",
    "$$\\mathbb{P}[y^{(i)}\\ | \\ x^{(i)}; \\theta ] = \\frac{1}{\\sqrt{2\\pi}\\sigma} \\exp\\left( -\\frac{(y^{(i)}- \\theta^T x^{(i)})^2}{2\\sigma^2} \\right)$$\n"
   ]
  },
  {
   "cell_type": "markdown",
   "metadata": {
    "slideshow": {
     "slide_type": "slide"
    }
   },
   "source": [
    "La función de verosimilitud $L(\\theta)$ nos\n",
    "permite entender que tan probable es encontrar los datos observados,\n",
    "para una elección del parámetro $\\theta$.\n",
    "\n",
    "$$\\begin{aligned}\n",
    "L(\\theta) \n",
    "&= \\prod_{i=1}^{m} \\mathbb{P}[y^{(i)}| x^{(i)}; \\theta ] \\\\\n",
    "&= \\prod_{i=1}^{m} \\frac{1}{\\sqrt{2\\pi}\\sigma} \\exp\\left( -\\frac{(y^{(i)}- \\theta^T x^{(i)})^2}{2\\sigma^2} \\right) \\\\\n",
    "&= \\frac{1}{(\\sqrt{2\\pi}\\sigma)^{m}} \\exp\\left( - \\sum_{i=1}^{m}  \\frac{(y^{(i)}- \\theta^T x^{(i)})^2}{2\\sigma^2} \\right)\\end{aligned}$$\n",
    "\n",
    "Nos gustaría encontrar el parámetro $\\theta$ que más probablemente haya\n",
    "generado los datos observados, es decir, el parámetro $\\theta$ que\n",
    "maximiza la función de verosimilitud."
   ]
  },
  {
   "cell_type": "markdown",
   "metadata": {
    "slideshow": {
     "slide_type": "slide"
    }
   },
   "source": [
    "-   Maximizar la verosimilitud $L(\\theta)$ es lo mismo que maximizar la\n",
    "    función de log-verosimitud $l(\\theta)=\\log(L(\\theta))$ puesto que\n",
    "    $\\log$ es una función monótonamente creciente.\n",
    "\n",
    "-   Maximizar $f(\\theta)$ es lo mismo que minimizar $-f(\\theta)$.\n",
    "\n"
   ]
  },
  {
   "cell_type": "markdown",
   "metadata": {
    "slideshow": {
     "slide_type": "slide"
    }
   },
   "source": [
    "$$\\begin{aligned}\n",
    "l(\\theta) \n",
    "&= \\log( L(\\theta) \\\\\n",
    "&= \\log\\left[ \\frac{1}{(\\sqrt{2\\pi}\\sigma)^{m}} \\exp\\left( - \\sum_{i=1}^{m}  \\frac{(y^{(i)}- \\theta^T x^{(i)})^2}{2\\sigma^2} \\right) \\right] \\\\\n",
    "&= - m \\log (\\sqrt{2\\pi} \\sigma) - \\frac{1}{\\sigma^2} \\frac{1}{2} \\sum_{i=1}^{m} \\left( y^{(i)} - \\theta^T x^{(i)}\\right)^2 \\end{aligned}$$\n",
    "\n",
    "Es decir, la función costo $J(\\theta)$ cuadrática puede interpretarse\n",
    "como un intento por encontrar el parámetro $\\theta$ más probable bajo la\n",
    "hipótesis que el error en $y$ es gaussiano.\n"
   ]
  },
  {
   "cell_type": "markdown",
   "metadata": {
    "slideshow": {
     "slide_type": "slide"
    }
   },
   "source": [
    "## Aspectos Prácticos\n",
    "\n",
    "#### ¿Cómo se aplica regresión en realidad?\n",
    "\n",
    "Al realizar regresión, conviene normalizar/estandarizar los datos, es\n",
    "decir transformarlos para que tengan una escala común:\n",
    "\n",
    "-   Utilizando la media y la desviación estándar\n",
    "    $$\\frac{x_i-\\overline{x_i}}{\\sigma_{x_i}}$$\n",
    "\n",
    "-   Utilizando mínimos y máximos\n",
    "    $$\\frac{x_i-\\min{x_i}}{\\max{x_i} - \\min{x_i}}$$"
   ]
  },
  {
   "cell_type": "markdown",
   "metadata": {
    "slideshow": {
     "slide_type": "slide"
    }
   },
   "source": [
    "#### ¿Porqué normalizar?\n",
    "\n",
    "-   Los valores numéricos poseen escalas de magnitud distintas.\n",
    "\n",
    "-   Las variables tienen distintos significados físicos.\n",
    "\n",
    "-   Algoritmos funcionan mejor.\n",
    "\n",
    "-   Interpretación de resultados es más sencilla.\n"
   ]
  },
  {
   "cell_type": "markdown",
   "metadata": {},
   "source": [
    "## Ejercicio"
   ]
  },
  {
   "cell_type": "markdown",
   "metadata": {},
   "source": [
    "Utilizaremos la siguiente data para ajustar un modelo de regresión lineal."
   ]
  },
  {
   "cell_type": "code",
   "execution_count": 9,
   "metadata": {},
   "outputs": [],
   "source": [
    "import os\n",
    "import pandas as pd"
   ]
  },
  {
   "cell_type": "code",
   "execution_count": 10,
   "metadata": {},
   "outputs": [
    {
     "data": {
      "text/html": [
       "<div>\n",
       "<style scoped>\n",
       "    .dataframe tbody tr th:only-of-type {\n",
       "        vertical-align: middle;\n",
       "    }\n",
       "\n",
       "    .dataframe tbody tr th {\n",
       "        vertical-align: top;\n",
       "    }\n",
       "\n",
       "    .dataframe thead th {\n",
       "        text-align: right;\n",
       "    }\n",
       "</style>\n",
       "<table border=\"1\" class=\"dataframe\">\n",
       "  <thead>\n",
       "    <tr style=\"text-align: right;\">\n",
       "      <th></th>\n",
       "      <th>age</th>\n",
       "      <th>sex</th>\n",
       "      <th>bmi</th>\n",
       "      <th>children</th>\n",
       "      <th>smoker</th>\n",
       "      <th>region</th>\n",
       "      <th>charges</th>\n",
       "    </tr>\n",
       "  </thead>\n",
       "  <tbody>\n",
       "    <tr>\n",
       "      <th>0</th>\n",
       "      <td>19</td>\n",
       "      <td>female</td>\n",
       "      <td>27.900</td>\n",
       "      <td>0</td>\n",
       "      <td>yes</td>\n",
       "      <td>southwest</td>\n",
       "      <td>16884.92400</td>\n",
       "    </tr>\n",
       "    <tr>\n",
       "      <th>1</th>\n",
       "      <td>18</td>\n",
       "      <td>male</td>\n",
       "      <td>33.770</td>\n",
       "      <td>1</td>\n",
       "      <td>no</td>\n",
       "      <td>southeast</td>\n",
       "      <td>1725.55230</td>\n",
       "    </tr>\n",
       "    <tr>\n",
       "      <th>2</th>\n",
       "      <td>28</td>\n",
       "      <td>male</td>\n",
       "      <td>33.000</td>\n",
       "      <td>3</td>\n",
       "      <td>no</td>\n",
       "      <td>southeast</td>\n",
       "      <td>4449.46200</td>\n",
       "    </tr>\n",
       "    <tr>\n",
       "      <th>3</th>\n",
       "      <td>33</td>\n",
       "      <td>male</td>\n",
       "      <td>22.705</td>\n",
       "      <td>0</td>\n",
       "      <td>no</td>\n",
       "      <td>northwest</td>\n",
       "      <td>21984.47061</td>\n",
       "    </tr>\n",
       "    <tr>\n",
       "      <th>4</th>\n",
       "      <td>32</td>\n",
       "      <td>male</td>\n",
       "      <td>28.880</td>\n",
       "      <td>0</td>\n",
       "      <td>no</td>\n",
       "      <td>northwest</td>\n",
       "      <td>3866.85520</td>\n",
       "    </tr>\n",
       "  </tbody>\n",
       "</table>\n",
       "</div>"
      ],
      "text/plain": [
       "   age     sex     bmi  children smoker     region      charges\n",
       "0   19  female  27.900         0    yes  southwest  16884.92400\n",
       "1   18    male  33.770         1     no  southeast   1725.55230\n",
       "2   28    male  33.000         3     no  southeast   4449.46200\n",
       "3   33    male  22.705         0     no  northwest  21984.47061\n",
       "4   32    male  28.880         0     no  northwest   3866.85520"
      ]
     },
     "execution_count": 10,
     "metadata": {},
     "output_type": "execute_result"
    }
   ],
   "source": [
    "insurance = pd.read_csv(os.path.join(\"data\", \"insurance.csv\"))\n",
    "insurance.head()"
   ]
  },
  {
   "cell_type": "markdown",
   "metadata": {},
   "source": [
    "La data corresponde a los costos por seguros médicos, donde: \n",
    "\n",
    "* __age__: Edad de quien contrata el seguro (en años).\n",
    "* __sex__: Género de quien contrata el seguro (hombre, mujer).\n",
    "* __bmi__: Índice de masa corporal (_body mass index_), razón entre el peso (kg) y el cuadrado de la altura (m^2).\n",
    "* __children__: Cantidad de niños cubiertos por el seguro médico.\n",
    "* __smoker__: Si quien contrata es fumador (yes, no).\n",
    "* __region__: Área de los EEUU donde vive quien contrata el seguro (northeast, southeast, southwest, northwes).\n",
    "* __charges__: Costo individual del seguro de salud (\\$).\n",
    "\n",
    "El desafío consiste en predecir el costo individual del seguro a partir de las otras variables."
   ]
  },
  {
   "cell_type": "markdown",
   "metadata": {},
   "source": [
    "### Parte 1: _Label Encoding_\n",
    "\n",
    "Como es necesario que la matriz de diseño ($X$) tenga entradas numéricas se debe transformar las variables categóricas en numéricas. `sklearn` nos provee una herramienta llamada `Label Encoding`."
   ]
  },
  {
   "cell_type": "code",
   "execution_count": 11,
   "metadata": {},
   "outputs": [],
   "source": [
    "from sklearn.preprocessing import LabelEncoder"
   ]
  },
  {
   "cell_type": "code",
   "execution_count": 12,
   "metadata": {},
   "outputs": [
    {
     "name": "stdout",
     "output_type": "stream",
     "text": [
      "['female' 'male']\n"
     ]
    }
   ],
   "source": [
    "sex_label_encoding = LabelEncoder()  # Create encoder\n",
    "sex_label_encoding.fit(insurance[\"sex\"].unique())  # Fit with unique values\n",
    "print(sex_label_encoding.classes_)"
   ]
  },
  {
   "cell_type": "markdown",
   "metadata": {},
   "source": [
    "Como el género es una variable binaria se encodearon como 0-1. Ahora se procede a transformar el dataframe."
   ]
  },
  {
   "cell_type": "code",
   "execution_count": 13,
   "metadata": {},
   "outputs": [
    {
     "data": {
      "text/html": [
       "<div>\n",
       "<style scoped>\n",
       "    .dataframe tbody tr th:only-of-type {\n",
       "        vertical-align: middle;\n",
       "    }\n",
       "\n",
       "    .dataframe tbody tr th {\n",
       "        vertical-align: top;\n",
       "    }\n",
       "\n",
       "    .dataframe thead th {\n",
       "        text-align: right;\n",
       "    }\n",
       "</style>\n",
       "<table border=\"1\" class=\"dataframe\">\n",
       "  <thead>\n",
       "    <tr style=\"text-align: right;\">\n",
       "      <th></th>\n",
       "      <th>age</th>\n",
       "      <th>sex</th>\n",
       "      <th>bmi</th>\n",
       "      <th>children</th>\n",
       "      <th>smoker</th>\n",
       "      <th>region</th>\n",
       "      <th>charges</th>\n",
       "    </tr>\n",
       "  </thead>\n",
       "  <tbody>\n",
       "    <tr>\n",
       "      <th>0</th>\n",
       "      <td>19</td>\n",
       "      <td>0</td>\n",
       "      <td>27.900</td>\n",
       "      <td>0</td>\n",
       "      <td>yes</td>\n",
       "      <td>southwest</td>\n",
       "      <td>16884.92400</td>\n",
       "    </tr>\n",
       "    <tr>\n",
       "      <th>1</th>\n",
       "      <td>18</td>\n",
       "      <td>1</td>\n",
       "      <td>33.770</td>\n",
       "      <td>1</td>\n",
       "      <td>no</td>\n",
       "      <td>southeast</td>\n",
       "      <td>1725.55230</td>\n",
       "    </tr>\n",
       "    <tr>\n",
       "      <th>2</th>\n",
       "      <td>28</td>\n",
       "      <td>1</td>\n",
       "      <td>33.000</td>\n",
       "      <td>3</td>\n",
       "      <td>no</td>\n",
       "      <td>southeast</td>\n",
       "      <td>4449.46200</td>\n",
       "    </tr>\n",
       "    <tr>\n",
       "      <th>3</th>\n",
       "      <td>33</td>\n",
       "      <td>1</td>\n",
       "      <td>22.705</td>\n",
       "      <td>0</td>\n",
       "      <td>no</td>\n",
       "      <td>northwest</td>\n",
       "      <td>21984.47061</td>\n",
       "    </tr>\n",
       "    <tr>\n",
       "      <th>4</th>\n",
       "      <td>32</td>\n",
       "      <td>1</td>\n",
       "      <td>28.880</td>\n",
       "      <td>0</td>\n",
       "      <td>no</td>\n",
       "      <td>northwest</td>\n",
       "      <td>3866.85520</td>\n",
       "    </tr>\n",
       "  </tbody>\n",
       "</table>\n",
       "</div>"
      ],
      "text/plain": [
       "   age  sex     bmi  children smoker     region      charges\n",
       "0   19    0  27.900         0    yes  southwest  16884.92400\n",
       "1   18    1  33.770         1     no  southeast   1725.55230\n",
       "2   28    1  33.000         3     no  southeast   4449.46200\n",
       "3   33    1  22.705         0     no  northwest  21984.47061\n",
       "4   32    1  28.880         0     no  northwest   3866.85520"
      ]
     },
     "execution_count": 13,
     "metadata": {},
     "output_type": "execute_result"
    }
   ],
   "source": [
    "insurance[\"sex\"] = sex_label_encoding.transform(insurance[\"sex\"])  # Assign to dataframe\n",
    "insurance.head()"
   ]
  },
  {
   "cell_type": "markdown",
   "metadata": {},
   "source": [
    "Note que es posible volver a los valores originales mediante:"
   ]
  },
  {
   "cell_type": "code",
   "execution_count": 14,
   "metadata": {},
   "outputs": [
    {
     "data": {
      "text/plain": [
       "array(['female', 'male', 'male'], dtype=object)"
      ]
     },
     "execution_count": 14,
     "metadata": {},
     "output_type": "execute_result"
    }
   ],
   "source": [
    "sex_label_encoding.inverse_transform(np.array([0, 1, 1]))"
   ]
  },
  {
   "cell_type": "markdown",
   "metadata": {},
   "source": [
    "Ojo: Ignora el Warning, es un issue de sklearn."
   ]
  },
  {
   "cell_type": "markdown",
   "metadata": {},
   "source": [
    "#### Tu turno! \n",
    "Haz el label encoding a las variables __smoker__ y __region__."
   ]
  },
  {
   "cell_type": "code",
   "execution_count": null,
   "metadata": {},
   "outputs": [],
   "source": [
    "smoker_label_encoding = LabelEncoder()\n",
    "smoker_label_encoding.fit(# FIX ME PLEASE) \n",
    "insurance[\"smoker\"] = smoker_label_encoding.transform(# FIX ME PLEASE)  "
   ]
  },
  {
   "cell_type": "code",
   "execution_count": null,
   "metadata": {},
   "outputs": [],
   "source": [
    "region_label_encoding = # FIX ME PLEASE\n",
    "region_label_encoding.fit(# FIX ME PLEASE) \n",
    "insurance[\"region\"] = # FIX ME PLEASE"
   ]
  },
  {
   "cell_type": "code",
   "execution_count": null,
   "metadata": {},
   "outputs": [],
   "source": [
    "insurance.head()"
   ]
  },
  {
   "cell_type": "markdown",
   "metadata": {},
   "source": [
    "### Train & Test sets"
   ]
  },
  {
   "cell_type": "markdown",
   "metadata": {},
   "source": [
    "* Crea la matrix de diseño $X$ correspondiente a el dataframe `insurance`sin la columna `charges`, que es la que se desea estimar. Ojo que puede ser un dataframe."
   ]
  },
  {
   "cell_type": "code",
   "execution_count": null,
   "metadata": {},
   "outputs": [],
   "source": [
    "X = insurance.drop(# FIX ME PLEASE)"
   ]
  },
  {
   "cell_type": "markdown",
   "metadata": {},
   "source": [
    "* Crea el vector de observaciones $Y$. Ojo que puede ser una serie."
   ]
  },
  {
   "cell_type": "code",
   "execution_count": null,
   "metadata": {},
   "outputs": [],
   "source": [
    "Y = insurance[\"charges\"]"
   ]
  },
  {
   "cell_type": "markdown",
   "metadata": {},
   "source": [
    "* Crea los sets de entrenamiento y test con `sklearn.model_selection.train_test_split()`. \n",
    "    - Considera el 25% de las observaciones para el conjunto de test.\n",
    "    - Utiliza `random_state` = 42.\n",
    "    - Ojo que se pueden desempaquetar los cuatro objetos en una línea, tal como indica la documentación."
   ]
  },
  {
   "cell_type": "code",
   "execution_count": null,
   "metadata": {},
   "outputs": [],
   "source": [
    "from sklearn.model_selection import train_test_split"
   ]
  },
  {
   "cell_type": "code",
   "execution_count": null,
   "metadata": {},
   "outputs": [],
   "source": [
    "train_test_split?"
   ]
  },
  {
   "cell_type": "code",
   "execution_count": null,
   "metadata": {},
   "outputs": [],
   "source": [
    "X_train, X_test, Y_train, Y_test = train_test_split(# FIX ME PLEASE)"
   ]
  },
  {
   "cell_type": "markdown",
   "metadata": {},
   "source": [
    "### Entrenamiento del modelo"
   ]
  },
  {
   "cell_type": "code",
   "execution_count": null,
   "metadata": {},
   "outputs": [],
   "source": [
    "from sklearn import linear_model\n",
    "from sklearn.metrics import mean_squared_error"
   ]
  },
  {
   "cell_type": "code",
   "execution_count": null,
   "metadata": {},
   "outputs": [],
   "source": [
    "# Create linear regression object\n",
    "lr = linear_model.LinearRegression()\n",
    "# Train the model using the training sets\n",
    "lr.fit(X_train, Y_train)\n",
    "# Make predictions using the testing set\n",
    "Y_predict = lr.predict(X_test)"
   ]
  },
  {
   "cell_type": "code",
   "execution_count": null,
   "metadata": {},
   "outputs": [],
   "source": [
    "# The coefficients\n",
    "print('Coefficients: \\n {} \\n'.format(lr.coef_))\n",
    "print('Intercept: \\n {} \\n'.format(lr.intercept_))\n",
    "# The mean squared error\n",
    "print(\"Mean squared error: {0:.2f}\\n\".format(mean_squared_error(Y_test, Y_predict)))\n",
    "# Explained variance score: 1 is perfect prediction\n",
    "print('Coefficient of fetermination R^2: {0:.2f}'.format(lr.score(X_test, Y_test)))"
   ]
  },
  {
   "cell_type": "markdown",
   "metadata": {},
   "source": [
    "#### Ahora es tu turno!\n",
    "\n",
    "Ajusta un modelo sin itercepto."
   ]
  },
  {
   "cell_type": "code",
   "execution_count": null,
   "metadata": {},
   "outputs": [],
   "source": [
    "# linear_model.LinearRegression?"
   ]
  },
  {
   "cell_type": "code",
   "execution_count": null,
   "metadata": {},
   "outputs": [],
   "source": [
    "# Create linear regression object\n",
    "lr_center = linear_model.LinearRegression(# FIX ME PLEASE)\n",
    "# Train the model using the training sets\n",
    "lr_center.fit(# FIX ME PLEASE)\n",
    "# Make predictions using the testing set\n",
    "Y_predict_center = lr_center.predict(# FIX ME PLEASE)"
   ]
  },
  {
   "cell_type": "code",
   "execution_count": null,
   "metadata": {},
   "outputs": [],
   "source": [
    "# The coefficients\n",
    "print('Coefficients: \\n {} \\n'.format(lr_center.coef_))\n",
    "print('Intercept: \\n {} \\n'.format(lr_center.intercept_))\n",
    "# The mean squared error\n",
    "print(\"Mean squared error: {0:.2f}\\n\".format(mean_squared_error(Y_test, Y_predict_center)))\n",
    "# Explained variance score: 1 is perfect prediction\n",
    "print('Coefficient of fetermination R^2: {0:.2f}'.format(lr_center.score(X_test, Y_test)))"
   ]
  },
  {
   "cell_type": "markdown",
   "metadata": {},
   "source": [
    "### Pregunta\n",
    "\n",
    "¿Mejoró la predicción? ¿Por qué?"
   ]
  }
 ],
 "metadata": {
  "celltoolbar": "Slideshow",
  "kernelspec": {
   "display_name": "Python 3",
   "language": "python",
   "name": "python3"
  },
  "language_info": {
   "codemirror_mode": {
    "name": "ipython",
    "version": 3
   },
   "file_extension": ".py",
   "mimetype": "text/x-python",
   "name": "python",
   "nbconvert_exporter": "python",
   "pygments_lexer": "ipython3",
   "version": "3.6.7"
  }
 },
 "nbformat": 4,
 "nbformat_minor": 2
}
