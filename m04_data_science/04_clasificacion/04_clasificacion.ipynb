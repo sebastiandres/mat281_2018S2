{
 "cells": [
  {
   "cell_type": "markdown",
   "metadata": {
    "slideshow": {
     "slide_type": "slide"
    }
   },
   "source": [
    "# MAT281\n",
    "\n",
    "## Aplicaciones de la Matemática en la Ingeniería"
   ]
  },
  {
   "cell_type": "markdown",
   "metadata": {
    "slideshow": {
     "slide_type": "slide"
    }
   },
   "source": [
    "## ¿Qué contenido aprenderemos?\n",
    "* Clasificación\n",
    "* Regresión Logística"
   ]
  },
  {
   "cell_type": "markdown",
   "metadata": {},
   "source": [
    "## Motivación\n",
    "* La __clasificación__ es un problema muy común puesto que permite la toma de decisiones. \n",
    "- __Regresión logística__ es un algoritmo que surge naturalmente como extensión de regresión lineal pero en el contexto de clasificación."
   ]
  },
  {
   "cell_type": "markdown",
   "metadata": {
    "slideshow": {
     "slide_type": "slide"
    }
   },
   "source": [
    "## Clasficación\n",
    "### Wine Dataset\n",
    "<img src=\"images/wine.jpg\" alt=\"\" width=\"600px\" align=\"middle\"/>"
   ]
  },
  {
   "cell_type": "markdown",
   "metadata": {
    "slideshow": {
     "slide_type": "slide"
    }
   },
   "source": [
    "Los datos corresponden a 3 cultivos diferentes de vinos de la misma región de Italia, y que han sido identificados con las etiquetas 1, 2 y 3. Para cada tipo de vino se realizado 13 análisis químicos:\n",
    "\n",
    "1. Alcohol \n",
    "2.  Malic acid \n",
    "3. Ash \n",
    "4. Alcalinity of ash \n",
    "5. Magnesium \n",
    "6. Total phenols \n",
    "7. Flavanoids \n",
    "8. Nonflavanoid phenols \n",
    "9. Proanthocyanins \n",
    "10. Color intensity \n",
    "11. Hue \n",
    "12. OD280/OD315 of diluted wines \n",
    "13. Proline \n",
    "\n",
    "\n",
    "La base de datos contiene 178 muestras distintas en total."
   ]
  },
  {
   "cell_type": "markdown",
   "metadata": {
    "slideshow": {
     "slide_type": "slide"
    }
   },
   "source": [
    "Conocemos los valores y las etiquetas, y se desea obtener la etiqueta de una muestra sin etiquetar, por lo que el problema es de __clasificación__:\n",
    "* Tenemos $ X \\in R^{n \\times m} \\textrm{ y } Y \\in N^m $  y buscamos las etiquetas de $ x \\in R^n$.\n",
    "* ¿A qué grupo pertenece este nuevo dato?"
   ]
  },
  {
   "cell_type": "markdown",
   "metadata": {
    "slideshow": {
     "slide_type": "slide"
    }
   },
   "source": [
    "## Regresión Lineal\n",
    "Se buscaba entrenar una función lineal\n",
    "$$h_{\\theta}(x) = \\theta_0 + \\theta_1 x_1 + ... + \\theta_n x_n$$ de\n",
    "forma que se minimice\n",
    "$$J(\\theta) = \\frac{1}{2} \\sum_{i=1}^{m} \\left( h_{\\theta}(x^{(i)}) - y^{(i)}\\right)^2$$\n"
   ]
  },
  {
   "cell_type": "markdown",
   "metadata": {
    "slideshow": {
     "slide_type": "slide"
    }
   },
   "source": [
    "## Regresión Logística\n",
    "Buscaremos entrenar una función\n",
    "logística\n",
    "$$h_{\\theta}(x) = \\frac{1}{1 + e^{-(\\theta_0 + \\theta_1 x_1 + ... + \\theta_n x_n)}}$$\n",
    "\n",
    "de forma que se minimice\n",
    "\n",
    "$$J(\\theta) = \\frac{1}{2} \\sum_{i=1}^{m} \\left( h_{\\theta}(x^{(i)}) - y^{(i)}\\right)^2$$\n"
   ]
  },
  {
   "cell_type": "markdown",
   "metadata": {
    "slideshow": {
     "slide_type": "slide"
    }
   },
   "source": [
    "## Ejemplo 2D\n",
    "¿Conocen el accidente del Space Shuttle Challeger?\n",
    "\n",
    "28 Junio 1986. A pesar de existir evidencia de funcionamiento defectuoso, se da luz verde al lanzamiento.\n",
    "\n",
    "<img src=\"images/Challenger1.gif\" alt=\"\" width=\"600px\" align=\"middle\"/>"
   ]
  },
  {
   "cell_type": "markdown",
   "metadata": {
    "slideshow": {
     "slide_type": "slide"
    }
   },
   "source": [
    "A los 73 segundos de vuelo, el transbordador espacial explota, matando a los 7 pasajeros.\n",
    "\n",
    "<img src=\"images/Challenger2.jpg\" alt=\"\" width=\"600px\" align=\"middle\"/>"
   ]
  },
  {
   "cell_type": "markdown",
   "metadata": {
    "slideshow": {
     "slide_type": "slide"
    }
   },
   "source": [
    "## Ejemplo 2D\n",
    "Como parte del debriefing del accidente, se obtuvieron los siguientes datos"
   ]
  },
  {
   "cell_type": "code",
   "execution_count": 1,
   "metadata": {},
   "outputs": [
    {
     "name": "stdout",
     "output_type": "stream",
     "text": [
      "\"Temp\"\t\"BadRings\"\n",
      "53\t3\n",
      "56\t1\n",
      "57\t1\n",
      "63\t0\n",
      "66\t0\n",
      "67\t0\n",
      "67\t0\n",
      "67\t0\n",
      "68\t0\n",
      "69\t0\n",
      "70\t0\n",
      "70\t1\n",
      "70\t1\n",
      "70\t1\n",
      "72\t0\n",
      "73\t0\n",
      "75\t0\n",
      "75\t2\n",
      "76\t0\n",
      "76\t0\n",
      "78\t0\n",
      "79\t0\n",
      "80\t0\n",
      "81\t0\n"
     ]
    }
   ],
   "source": [
    "%%bash\n",
    "cat data/Challenger.txt"
   ]
  },
  {
   "cell_type": "markdown",
   "metadata": {
    "slideshow": {
     "slide_type": "slide"
    }
   },
   "source": [
    "Grafiquemos los datos"
   ]
  },
  {
   "cell_type": "code",
   "execution_count": 2,
   "metadata": {},
   "outputs": [
    {
     "data": {
      "text/html": [
       "<div>\n",
       "<style scoped>\n",
       "    .dataframe tbody tr th:only-of-type {\n",
       "        vertical-align: middle;\n",
       "    }\n",
       "\n",
       "    .dataframe tbody tr th {\n",
       "        vertical-align: top;\n",
       "    }\n",
       "\n",
       "    .dataframe thead th {\n",
       "        text-align: right;\n",
       "    }\n",
       "</style>\n",
       "<table border=\"1\" class=\"dataframe\">\n",
       "  <thead>\n",
       "    <tr style=\"text-align: right;\">\n",
       "      <th></th>\n",
       "      <th>temp_f</th>\n",
       "      <th>nm_bad_rings</th>\n",
       "    </tr>\n",
       "  </thead>\n",
       "  <tbody>\n",
       "    <tr>\n",
       "      <th>0</th>\n",
       "      <td>53</td>\n",
       "      <td>3</td>\n",
       "    </tr>\n",
       "    <tr>\n",
       "      <th>1</th>\n",
       "      <td>56</td>\n",
       "      <td>1</td>\n",
       "    </tr>\n",
       "    <tr>\n",
       "      <th>2</th>\n",
       "      <td>57</td>\n",
       "      <td>1</td>\n",
       "    </tr>\n",
       "    <tr>\n",
       "      <th>3</th>\n",
       "      <td>63</td>\n",
       "      <td>0</td>\n",
       "    </tr>\n",
       "    <tr>\n",
       "      <th>4</th>\n",
       "      <td>66</td>\n",
       "      <td>0</td>\n",
       "    </tr>\n",
       "  </tbody>\n",
       "</table>\n",
       "</div>"
      ],
      "text/plain": [
       "   temp_f  nm_bad_rings\n",
       "0      53             3\n",
       "1      56             1\n",
       "2      57             1\n",
       "3      63             0\n",
       "4      66             0"
      ]
     },
     "execution_count": 2,
     "metadata": {},
     "output_type": "execute_result"
    }
   ],
   "source": [
    "import numpy as np\n",
    "import pandas as pd\n",
    "import altair as alt\n",
    "challenger = pd.DataFrame(np.loadtxt(\"data/Challenger.txt\", skiprows=1).astype(int), columns=[\"temp_f\", \"nm_bad_rings\"])\n",
    "challenger.head()"
   ]
  },
  {
   "cell_type": "code",
   "execution_count": 3,
   "metadata": {},
   "outputs": [
    {
     "name": "stderr",
     "output_type": "stream",
     "text": [
      "/home/alonsolml/miniconda3/envs/mat281_2018S2/lib/python3.6/site-packages/altair/utils/core.py:284: FutureWarning: A future version of pandas will default to `skipna=True`. To silence this warning, pass `skipna=True|False` explicitly.\n",
      "  attrs['type'] = infer_vegalite_type(data[attrs['field']])\n"
     ]
    },
    {
     "data": {
      "application/vnd.vegalite.v2+json": {
       "$schema": "https://vega.github.io/schema/vega-lite/v2.6.0.json",
       "config": {
        "view": {
         "height": 300,
         "width": 400
        }
       },
       "data": {
        "name": "data-c79cf2c25bd14165cc6f25652029fa9f"
       },
       "datasets": {
        "data-c79cf2c25bd14165cc6f25652029fa9f": [
         {
          "nm_bad_rings": 3,
          "temp_f": 53
         },
         {
          "nm_bad_rings": 1,
          "temp_f": 56
         },
         {
          "nm_bad_rings": 1,
          "temp_f": 57
         },
         {
          "nm_bad_rings": 0,
          "temp_f": 63
         },
         {
          "nm_bad_rings": 0,
          "temp_f": 66
         },
         {
          "nm_bad_rings": 0,
          "temp_f": 67
         },
         {
          "nm_bad_rings": 0,
          "temp_f": 67
         },
         {
          "nm_bad_rings": 0,
          "temp_f": 67
         },
         {
          "nm_bad_rings": 0,
          "temp_f": 68
         },
         {
          "nm_bad_rings": 0,
          "temp_f": 69
         },
         {
          "nm_bad_rings": 0,
          "temp_f": 70
         },
         {
          "nm_bad_rings": 1,
          "temp_f": 70
         },
         {
          "nm_bad_rings": 1,
          "temp_f": 70
         },
         {
          "nm_bad_rings": 1,
          "temp_f": 70
         },
         {
          "nm_bad_rings": 0,
          "temp_f": 72
         },
         {
          "nm_bad_rings": 0,
          "temp_f": 73
         },
         {
          "nm_bad_rings": 0,
          "temp_f": 75
         },
         {
          "nm_bad_rings": 2,
          "temp_f": 75
         },
         {
          "nm_bad_rings": 0,
          "temp_f": 76
         },
         {
          "nm_bad_rings": 0,
          "temp_f": 76
         },
         {
          "nm_bad_rings": 0,
          "temp_f": 78
         },
         {
          "nm_bad_rings": 0,
          "temp_f": 79
         },
         {
          "nm_bad_rings": 0,
          "temp_f": 80
         },
         {
          "nm_bad_rings": 0,
          "temp_f": 81
         }
        ]
       },
       "encoding": {
        "x": {
         "field": "temp_f",
         "scale": {
          "zero": false
         },
         "title": "Temperature [F]",
         "type": "quantitative"
        },
        "y": {
         "field": "nm_bad_rings",
         "title": "# Bad Rings",
         "type": "quantitative"
        }
       },
       "height": 500,
       "mark": {
        "size": 100,
        "type": "circle"
       },
       "title": "Exito o Falla en lanzamiento de Challenger",
       "width": 800
      },
      "image/png": "[encoded data removed]",
      "text/plain": [
       "<VegaLite 2 object>\n",
       "\n",
       "If you see this message, it means the renderer has not been properly enabled\n",
       "for the frontend that you are using. For more information, see\n",
       "https://altair-viz.github.io/user_guide/troubleshooting.html\n"
      ]
     },
     "execution_count": 3,
     "metadata": {},
     "output_type": "execute_result"
    }
   ],
   "source": [
    "alt.Chart(challenger).mark_circle(size=100).encode(\n",
    "    x=alt.X(\"temp_f\", scale=alt.Scale(zero=False), title=\"Temperature [F]\"),\n",
    "    y=alt.Y(\"nm_bad_rings\", title=\"# Bad Rings\")\n",
    ").properties(\n",
    "    title=\"Exito o Falla en lanzamiento de Challenger\",\n",
    "    width=800,\n",
    "    height=500\n",
    ")"
   ]
  },
  {
   "cell_type": "markdown",
   "metadata": {
    "slideshow": {
     "slide_type": "slide"
    }
   },
   "source": [
    "Nos gustaría saber en qué condiciones se produce accidente. No nos importa el número de fallas, sólo si existe falla o no."
   ]
  },
  {
   "cell_type": "code",
   "execution_count": 4,
   "metadata": {},
   "outputs": [],
   "source": [
    "challenger = challenger.assign(temp_c=lambda x: ((x[\"temp_f\"] - 32.) / 1.8).round(2),\n",
    "                               is_failure=lambda x: x[\"nm_bad_rings\"].apply(lambda y: 1 if y==0 else 0),\n",
    "                               ds_failure=lambda x: x[\"is_failure\"].apply(lambda y: \"Falla\" if y==0 else \"Éxito\")\n",
    "                              )"
   ]
  },
  {
   "cell_type": "code",
   "execution_count": 5,
   "metadata": {},
   "outputs": [
    {
     "data": {
      "application/vnd.vegalite.v2+json": {
       "$schema": "https://vega.github.io/schema/vega-lite/v2.6.0.json",
       "config": {
        "view": {
         "height": 300,
         "width": 400
        }
       },
       "data": {
        "name": "data-b94e39780e6758f116d868e224411c05"
       },
       "datasets": {
        "data-b94e39780e6758f116d868e224411c05": [
         {
          "ds_failure": "Falla",
          "is_failure": 0,
          "nm_bad_rings": 3,
          "temp_c": 11.67,
          "temp_f": 53
         },
         {
          "ds_failure": "Falla",
          "is_failure": 0,
          "nm_bad_rings": 1,
          "temp_c": 13.33,
          "temp_f": 56
         },
         {
          "ds_failure": "Falla",
          "is_failure": 0,
          "nm_bad_rings": 1,
          "temp_c": 13.89,
          "temp_f": 57
         },
         {
          "ds_failure": "Éxito",
          "is_failure": 1,
          "nm_bad_rings": 0,
          "temp_c": 17.22,
          "temp_f": 63
         },
         {
          "ds_failure": "Éxito",
          "is_failure": 1,
          "nm_bad_rings": 0,
          "temp_c": 18.89,
          "temp_f": 66
         },
         {
          "ds_failure": "Éxito",
          "is_failure": 1,
          "nm_bad_rings": 0,
          "temp_c": 19.44,
          "temp_f": 67
         },
         {
          "ds_failure": "Éxito",
          "is_failure": 1,
          "nm_bad_rings": 0,
          "temp_c": 19.44,
          "temp_f": 67
         },
         {
          "ds_failure": "Éxito",
          "is_failure": 1,
          "nm_bad_rings": 0,
          "temp_c": 19.44,
          "temp_f": 67
         },
         {
          "ds_failure": "Éxito",
          "is_failure": 1,
          "nm_bad_rings": 0,
          "temp_c": 20,
          "temp_f": 68
         },
         {
          "ds_failure": "Éxito",
          "is_failure": 1,
          "nm_bad_rings": 0,
          "temp_c": 20.56,
          "temp_f": 69
         },
         {
          "ds_failure": "Éxito",
          "is_failure": 1,
          "nm_bad_rings": 0,
          "temp_c": 21.11,
          "temp_f": 70
         },
         {
          "ds_failure": "Falla",
          "is_failure": 0,
          "nm_bad_rings": 1,
          "temp_c": 21.11,
          "temp_f": 70
         },
         {
          "ds_failure": "Falla",
          "is_failure": 0,
          "nm_bad_rings": 1,
          "temp_c": 21.11,
          "temp_f": 70
         },
         {
          "ds_failure": "Falla",
          "is_failure": 0,
          "nm_bad_rings": 1,
          "temp_c": 21.11,
          "temp_f": 70
         },
         {
          "ds_failure": "Éxito",
          "is_failure": 1,
          "nm_bad_rings": 0,
          "temp_c": 22.22,
          "temp_f": 72
         },
         {
          "ds_failure": "Éxito",
          "is_failure": 1,
          "nm_bad_rings": 0,
          "temp_c": 22.78,
          "temp_f": 73
         },
         {
          "ds_failure": "Éxito",
          "is_failure": 1,
          "nm_bad_rings": 0,
          "temp_c": 23.89,
          "temp_f": 75
         },
         {
          "ds_failure": "Falla",
          "is_failure": 0,
          "nm_bad_rings": 2,
          "temp_c": 23.89,
          "temp_f": 75
         },
         {
          "ds_failure": "Éxito",
          "is_failure": 1,
          "nm_bad_rings": 0,
          "temp_c": 24.44,
          "temp_f": 76
         },
         {
          "ds_failure": "Éxito",
          "is_failure": 1,
          "nm_bad_rings": 0,
          "temp_c": 24.44,
          "temp_f": 76
         },
         {
          "ds_failure": "Éxito",
          "is_failure": 1,
          "nm_bad_rings": 0,
          "temp_c": 25.56,
          "temp_f": 78
         },
         {
          "ds_failure": "Éxito",
          "is_failure": 1,
          "nm_bad_rings": 0,
          "temp_c": 26.11,
          "temp_f": 79
         },
         {
          "ds_failure": "Éxito",
          "is_failure": 1,
          "nm_bad_rings": 0,
          "temp_c": 26.67,
          "temp_f": 80
         },
         {
          "ds_failure": "Éxito",
          "is_failure": 1,
          "nm_bad_rings": 0,
          "temp_c": 27.22,
          "temp_f": 81
         }
        ]
       },
       "encoding": {
        "color": {
         "field": "ds_failure",
         "type": "nominal"
        },
        "x": {
         "field": "temp_c",
         "scale": {
          "zero": false
         },
         "title": "Temperature [C]",
         "type": "quantitative"
        },
        "y": {
         "field": "is_failure",
         "scale": {
          "padding": 0.5
         },
         "title": "Success/Failure",
         "type": "quantitative"
        }
       },
       "height": 500,
       "mark": {
        "size": 100,
        "type": "circle"
       },
       "title": "Exito o Falla en lanzamiento de Challenger",
       "width": 800
      },
      "image/png": "[encoded data removed]",
      "text/plain": [
       "<VegaLite 2 object>\n",
       "\n",
       "If you see this message, it means the renderer has not been properly enabled\n",
       "for the frontend that you are using. For more information, see\n",
       "https://altair-viz.github.io/user_guide/troubleshooting.html\n"
      ]
     },
     "execution_count": 5,
     "metadata": {},
     "output_type": "execute_result"
    }
   ],
   "source": [
    "failure_chart = alt.Chart(challenger).mark_circle(size=100).encode(\n",
    "    x=alt.X(\"temp_c:Q\", scale=alt.Scale(zero=False), title=\"Temperature [C]\"),\n",
    "    y=alt.Y(\"is_failure:Q\", scale=alt.Scale(padding=0.5), title=\"Success/Failure\"),\n",
    "    color=\"ds_failure:N\"\n",
    ").properties(\n",
    "    title=\"Exito o Falla en lanzamiento de Challenger\",\n",
    "    width=800,\n",
    "    height=500\n",
    ")\n",
    "failure_chart"
   ]
  },
  {
   "cell_type": "markdown",
   "metadata": {
    "slideshow": {
     "slide_type": "slide"
    }
   },
   "source": [
    "## Modelo\n",
    "\n",
    "Definimos como\n",
    "antes\n",
    "\n",
    "$$\\begin{aligned}\n",
    "Y &= \\begin{bmatrix}y^{(1)} \\\\ y^{(2)} \\\\ \\vdots \\\\ y^{(m)}\\end{bmatrix}\\end{aligned}$$\n",
    "\n",
    "y\n",
    "\n",
    "$$\\begin{aligned}\n",
    "X = \n",
    "\\begin{bmatrix} \n",
    "1 & x^{(1)}_1 & \\dots & x^{(1)}_n \\\\ \n",
    "1 & x^{(2)}_1 & \\dots & x^{(2)}_n \\\\\n",
    "\\vdots & \\vdots & & \\vdots \\\\\n",
    "1 & x^{(m)}_1 & \\dots & x^{(m)}_n \\\\\n",
    "\\end{bmatrix}\\end{aligned}$$\n"
   ]
  },
  {
   "cell_type": "markdown",
   "metadata": {
    "slideshow": {
     "slide_type": "slide"
    }
   },
   "source": [
    "Luego la\n",
    "evaluación de todos los datos puede escribirse matricialmente como\n",
    "\n",
    "$$\\begin{aligned}\n",
    "X \\theta &= \n",
    "\\begin{bmatrix}\n",
    "1 & x_1^{(1)} & ... & x_n^{(1)} \\\\\n",
    "\\vdots & \\vdots & & \\vdots \\\\\n",
    "1 & x_1^{(m)} & ... & x_n^{(m)} \\\\\n",
    "\\end{bmatrix}\n",
    "\\begin{bmatrix}\\theta_0 \\\\ \\theta_1 \\\\ \\vdots \\\\ \\theta_n\\end{bmatrix} \\\\\n",
    "& = \n",
    "\\begin{bmatrix}\n",
    "1 \\theta_0 + x^{(1)}_1 \\theta_1 + ... + x^{(1)}_n \\theta_n \\\\\n",
    "\\vdots \\\\\n",
    "1 \\theta_0 + x^{(m)}_1 \\theta_1 + ... + x^{(m)}_n \\theta_n \\\\\n",
    "\\end{bmatrix}\\end{aligned}$$\n"
   ]
  },
  {
   "cell_type": "markdown",
   "metadata": {
    "slideshow": {
     "slide_type": "slide"
    }
   },
   "source": [
    "Nuestro problema\n",
    "es encontrar un “buen” conjunto de valores $\\theta$ \n",
    "de modo que\n",
    "\n",
    "$$\\begin{aligned}\n",
    "g(X\\theta)\n",
    "\\approx\n",
    "Y\\end{aligned}$$\n",
    "\n",
    "donde $g(z)$ es la función sigmoide (en. sigmoid function).\n",
    "$$g(z) = \\frac{1}{1+e^{-z}}$$\n"
   ]
  },
  {
   "cell_type": "markdown",
   "metadata": {
    "slideshow": {
     "slide_type": "slide"
    }
   },
   "source": [
    "## Interpretación gráfica"
   ]
  },
  {
   "cell_type": "code",
   "execution_count": 6,
   "metadata": {},
   "outputs": [],
   "source": [
    "def sigmoid(z):\n",
    "    return 1. / (1 + np.exp(-z))"
   ]
  },
  {
   "cell_type": "code",
   "execution_count": 7,
   "metadata": {},
   "outputs": [
    {
     "data": {
      "text/html": [
       "<div>\n",
       "<style scoped>\n",
       "    .dataframe tbody tr th:only-of-type {\n",
       "        vertical-align: middle;\n",
       "    }\n",
       "\n",
       "    .dataframe tbody tr th {\n",
       "        vertical-align: top;\n",
       "    }\n",
       "\n",
       "    .dataframe thead th {\n",
       "        text-align: right;\n",
       "    }\n",
       "</style>\n",
       "<table border=\"1\" class=\"dataframe\">\n",
       "  <thead>\n",
       "    <tr style=\"text-align: right;\">\n",
       "      <th></th>\n",
       "      <th>z</th>\n",
       "      <th>sigmoid_function</th>\n",
       "      <th>value</th>\n",
       "    </tr>\n",
       "  </thead>\n",
       "  <tbody>\n",
       "    <tr>\n",
       "      <th>0</th>\n",
       "      <td>-5.00000</td>\n",
       "      <td>sigmoid(z)</td>\n",
       "      <td>0.006693</td>\n",
       "    </tr>\n",
       "    <tr>\n",
       "      <th>1</th>\n",
       "      <td>-4.89899</td>\n",
       "      <td>sigmoid(z)</td>\n",
       "      <td>0.007399</td>\n",
       "    </tr>\n",
       "    <tr>\n",
       "      <th>2</th>\n",
       "      <td>-4.79798</td>\n",
       "      <td>sigmoid(z)</td>\n",
       "      <td>0.008179</td>\n",
       "    </tr>\n",
       "    <tr>\n",
       "      <th>3</th>\n",
       "      <td>-4.69697</td>\n",
       "      <td>sigmoid(z)</td>\n",
       "      <td>0.009040</td>\n",
       "    </tr>\n",
       "    <tr>\n",
       "      <th>4</th>\n",
       "      <td>-4.59596</td>\n",
       "      <td>sigmoid(z)</td>\n",
       "      <td>0.009992</td>\n",
       "    </tr>\n",
       "  </tbody>\n",
       "</table>\n",
       "</div>"
      ],
      "text/plain": [
       "         z sigmoid_function     value\n",
       "0 -5.00000       sigmoid(z)  0.006693\n",
       "1 -4.89899       sigmoid(z)  0.007399\n",
       "2 -4.79798       sigmoid(z)  0.008179\n",
       "3 -4.69697       sigmoid(z)  0.009040\n",
       "4 -4.59596       sigmoid(z)  0.009992"
      ]
     },
     "execution_count": 7,
     "metadata": {},
     "output_type": "execute_result"
    }
   ],
   "source": [
    "z = np.linspace(-5,5,100)\n",
    "sigmoid_df = pd.DataFrame({\"z\": z,\n",
    "                           \"sigmoid(z)\": sigmoid(z),\n",
    "                           \"sigmoid(z*2)\": sigmoid(z * 2),\n",
    "                           \"sigmoid(z-2)\": sigmoid(z - 2),\n",
    "                          })\n",
    "sigmoid_df = pd.melt(sigmoid_df, id_vars=\"z\", value_vars=[\"sigmoid(z)\", \"sigmoid(z*2)\", \"sigmoid(z-2)\"], var_name=\"sigmoid_function\", value_name=\"value\")\n",
    "sigmoid_df.head()"
   ]
  },
  {
   "cell_type": "code",
   "execution_count": 8,
   "metadata": {},
   "outputs": [
    {
     "data": {
      "application/vnd.vegalite.v2+json": {
       "$schema": "https://vega.github.io/schema/vega-lite/v2.6.0.json",
       "config": {
        "view": {
         "height": 300,
         "width": 400
        }
       },
       "data": {
        "name": "data-2649995b7caa889141db384fa65b2ea5"
       },
       "datasets": {
        "data-2649995b7caa889141db384fa65b2ea5": [
         {
          "sigmoid_function": "sigmoid(z)",
          "value": 0.0066928509242848554,
          "z": -5
         },
         {
          "sigmoid_function": "sigmoid(z)",
          "value": 0.007398956049719674,
          "z": -4.898989898989899
         },
         {
          "sigmoid_function": "sigmoid(z)",
          "value": 0.008178942856282161,
          "z": -4.797979797979798
         },
         {
          "sigmoid_function": "sigmoid(z)",
          "value": 0.009040405808933128,
          "z": -4.696969696969697
         },
         {
          "sigmoid_function": "sigmoid(z)",
          "value": 0.009991689936208048,
          "z": -4.595959595959596
         },
         {
          "sigmoid_function": "sigmoid(z)",
          "value": 0.011041958337494755,
          "z": -4.494949494949495
         },
         {
          "sigmoid_function": "sigmoid(z)",
          "value": 0.012201264260636085,
          "z": -4.393939393939394
         },
         {
          "sigmoid_function": "sigmoid(z)",
          "value": 0.013480627700845831,
          "z": -4.292929292929293
         },
         {
          "sigmoid_function": "sigmoid(z)",
          "value": 0.01489211636326034,
          "z": -4.191919191919192
         },
         {
          "sigmoid_function": "sigmoid(z)",
          "value": 0.016448930693417962,
          "z": -4.090909090909091
         },
         {
          "sigmoid_function": "sigmoid(z)",
          "value": 0.01816549250715569,
          "z": -3.9898989898989896
         },
         {
          "sigmoid_function": "sigmoid(z)",
          "value": 0.02005753653785041,
          "z": -3.888888888888889
         },
         {
          "sigmoid_function": "sigmoid(z)",
          "value": 0.022142203958132125,
          "z": -3.787878787878788
         },
         {
          "sigmoid_function": "sigmoid(z)",
          "value": 0.024438136618332742,
          "z": -3.686868686868687
         },
         {
          "sigmoid_function": "sigmoid(z)",
          "value": 0.026965570368090237,
          "z": -3.5858585858585856
         },
         {
          "sigmoid_function": "sigmoid(z)",
          "value": 0.029746425384074206,
          "z": -3.484848484848485
         },
         {
          "sigmoid_function": "sigmoid(z)",
          "value": 0.03280439090994282,
          "z": -3.383838383838384
         },
         {
          "sigmoid_function": "sigmoid(z)",
          "value": 0.03616500122018774,
          "z": -3.282828282828283
         },
         {
          "sigmoid_function": "sigmoid(z)",
          "value": 0.039855698945889695,
          "z": -3.1818181818181817
         },
         {
          "sigmoid_function": "sigmoid(z)",
          "value": 0.043905881149939006,
          "z": -3.080808080808081
         },
         {
          "sigmoid_function": "sigmoid(z)",
          "value": 0.04834692271989779,
          "z": -2.9797979797979797
         },
         {
          "sigmoid_function": "sigmoid(z)",
          "value": 0.05321217077391106,
          "z": -2.878787878787879
         },
         {
          "sigmoid_function": "sigmoid(z)",
          "value": 0.0585369028743679,
          "z": -2.7777777777777777
         },
         {
          "sigmoid_function": "sigmoid(z)",
          "value": 0.06435824095339865,
          "z": -2.676767676767677
         },
         {
          "sigmoid_function": "sigmoid(z)",
          "value": 0.07071501202714367,
          "z": -2.5757575757575757
         },
         {
          "sigmoid_function": "sigmoid(z)",
          "value": 0.07764754608342478,
          "z": -2.474747474747475
         },
         {
          "sigmoid_function": "sigmoid(z)",
          "value": 0.08519740106158838,
          "z": -2.3737373737373737
         },
         {
          "sigmoid_function": "sigmoid(z)",
          "value": 0.09340700471683215,
          "z": -2.272727272727273
         },
         {
          "sigmoid_function": "sigmoid(z)",
          "value": 0.10231920350807018,
          "z": -2.1717171717171717
         },
         {
          "sigmoid_function": "sigmoid(z)",
          "value": 0.11197670961974694,
          "z": -2.070707070707071
         },
         {
          "sigmoid_function": "sigmoid(z)",
          "value": 0.12242143898621305,
          "z": -1.9696969696969697
         },
         {
          "sigmoid_function": "sigmoid(z)",
          "value": 0.13369373589385355,
          "z": -1.868686868686869
         },
         {
          "sigmoid_function": "sigmoid(z)",
          "value": 0.14583148353491507,
          "z": -1.7676767676767677
         },
         {
          "sigmoid_function": "sigmoid(z)",
          "value": 0.15886910488091516,
          "z": -1.6666666666666665
         },
         {
          "sigmoid_function": "sigmoid(z)",
          "value": 0.17283646446618905,
          "z": -1.5656565656565657
         },
         {
          "sigmoid_function": "sigmoid(z)",
          "value": 0.18775768905482057,
          "z": -1.4646464646464645
         },
         {
          "sigmoid_function": "sigmoid(z)",
          "value": 0.20364993350221924,
          "z": -1.3636363636363638
         },
         {
          "sigmoid_function": "sigmoid(z)",
          "value": 0.2205221270455694,
          "z": -1.2626262626262625
         },
         {
          "sigmoid_function": "sigmoid(z)",
          "value": 0.23837374421039675,
          "z": -1.1616161616161618
         },
         {
          "sigmoid_function": "sigmoid(z)",
          "value": 0.2571936527643822,
          "z": -1.0606060606060606
         },
         {
          "sigmoid_function": "sigmoid(z)",
          "value": 0.27695909778815886,
          "z": -0.9595959595959593
         },
         {
          "sigmoid_function": "sigmoid(z)",
          "value": 0.29763488497442225,
          "z": -0.858585858585859
         },
         {
          "sigmoid_function": "sigmoid(z)",
          "value": 0.31917282672147035,
          "z": -0.7575757575757578
         },
         {
          "sigmoid_function": "sigmoid(z)",
          "value": 0.34151151059747936,
          "z": -0.6565656565656566
         },
         {
          "sigmoid_function": "sigmoid(z)",
          "value": 0.3645764407416393,
          "z": -0.5555555555555554
         },
         {
          "sigmoid_function": "sigmoid(z)",
          "value": 0.3882805885928385,
          "z": -0.45454545454545503
         },
         {
          "sigmoid_function": "sigmoid(z)",
          "value": 0.4125253704018182,
          "z": -0.3535353535353538
         },
         {
          "sigmoid_function": "sigmoid(z)",
          "value": 0.43720204630561754,
          "z": -0.2525252525252526
         },
         {
          "sigmoid_function": "sigmoid(z)",
          "value": 0.462193510926849,
          "z": -0.15151515151515138
         },
         {
          "sigmoid_function": "sigmoid(z)",
          "value": 0.4873764205699251,
          "z": -0.050505050505050164
         },
         {
          "sigmoid_function": "sigmoid(z)",
          "value": 0.512623579430075,
          "z": 0.050505050505050164
         },
         {
          "sigmoid_function": "sigmoid(z)",
          "value": 0.537806489073151,
          "z": 0.15151515151515138
         },
         {
          "sigmoid_function": "sigmoid(z)",
          "value": 0.5627979536943825,
          "z": 0.2525252525252526
         },
         {
          "sigmoid_function": "sigmoid(z)",
          "value": 0.5874746295981818,
          "z": 0.3535353535353538
         },
         {
          "sigmoid_function": "sigmoid(z)",
          "value": 0.6117194114071612,
          "z": 0.45454545454545414
         },
         {
          "sigmoid_function": "sigmoid(z)",
          "value": 0.6354235592583607,
          "z": 0.5555555555555554
         },
         {
          "sigmoid_function": "sigmoid(z)",
          "value": 0.6584884894025207,
          "z": 0.6565656565656566
         },
         {
          "sigmoid_function": "sigmoid(z)",
          "value": 0.6808271732785297,
          "z": 0.7575757575757578
         },
         {
          "sigmoid_function": "sigmoid(z)",
          "value": 0.7023651150255775,
          "z": 0.8585858585858581
         },
         {
          "sigmoid_function": "sigmoid(z)",
          "value": 0.7230409022118411,
          "z": 0.9595959595959593
         },
         {
          "sigmoid_function": "sigmoid(z)",
          "value": 0.7428063472356178,
          "z": 1.0606060606060606
         },
         {
          "sigmoid_function": "sigmoid(z)",
          "value": 0.7616262557896033,
          "z": 1.1616161616161618
         },
         {
          "sigmoid_function": "sigmoid(z)",
          "value": 0.7794778729544305,
          "z": 1.262626262626262
         },
         {
          "sigmoid_function": "sigmoid(z)",
          "value": 0.7963500664977807,
          "z": 1.3636363636363633
         },
         {
          "sigmoid_function": "sigmoid(z)",
          "value": 0.8122423109451795,
          "z": 1.4646464646464645
         },
         {
          "sigmoid_function": "sigmoid(z)",
          "value": 0.8271635355338108,
          "z": 1.5656565656565657
         },
         {
          "sigmoid_function": "sigmoid(z)",
          "value": 0.8411308951190849,
          "z": 1.666666666666667
         },
         {
          "sigmoid_function": "sigmoid(z)",
          "value": 0.854168516465085,
          "z": 1.7676767676767673
         },
         {
          "sigmoid_function": "sigmoid(z)",
          "value": 0.8663062641061464,
          "z": 1.8686868686868685
         },
         {
          "sigmoid_function": "sigmoid(z)",
          "value": 0.877578561013787,
          "z": 1.9696969696969697
         },
         {
          "sigmoid_function": "sigmoid(z)",
          "value": 0.888023290380253,
          "z": 2.070707070707071
         },
         {
          "sigmoid_function": "sigmoid(z)",
          "value": 0.8976807964919297,
          "z": 2.1717171717171713
         },
         {
          "sigmoid_function": "sigmoid(z)",
          "value": 0.9065929952831678,
          "z": 2.2727272727272725
         },
         {
          "sigmoid_function": "sigmoid(z)",
          "value": 0.9148025989384116,
          "z": 2.3737373737373737
         },
         {
          "sigmoid_function": "sigmoid(z)",
          "value": 0.9223524539165752,
          "z": 2.474747474747475
         },
         {
          "sigmoid_function": "sigmoid(z)",
          "value": 0.9292849879728562,
          "z": 2.5757575757575752
         },
         {
          "sigmoid_function": "sigmoid(z)",
          "value": 0.9356417590466013,
          "z": 2.6767676767676765
         },
         {
          "sigmoid_function": "sigmoid(z)",
          "value": 0.941463097125632,
          "z": 2.7777777777777777
         },
         {
          "sigmoid_function": "sigmoid(z)",
          "value": 0.946787829226089,
          "z": 2.878787878787879
         },
         {
          "sigmoid_function": "sigmoid(z)",
          "value": 0.9516530772801021,
          "z": 2.9797979797979792
         },
         {
          "sigmoid_function": "sigmoid(z)",
          "value": 0.9560941188500611,
          "z": 3.0808080808080813
         },
         {
          "sigmoid_function": "sigmoid(z)",
          "value": 0.9601443010541102,
          "z": 3.1818181818181817
         },
         {
          "sigmoid_function": "sigmoid(z)",
          "value": 0.9638349987798124,
          "z": 3.282828282828282
         },
         {
          "sigmoid_function": "sigmoid(z)",
          "value": 0.9671956090900572,
          "z": 3.383838383838384
         },
         {
          "sigmoid_function": "sigmoid(z)",
          "value": 0.9702535746159258,
          "z": 3.4848484848484844
         },
         {
          "sigmoid_function": "sigmoid(z)",
          "value": 0.9730344296319098,
          "z": 3.5858585858585865
         },
         {
          "sigmoid_function": "sigmoid(z)",
          "value": 0.9755618633816672,
          "z": 3.686868686868687
         },
         {
          "sigmoid_function": "sigmoid(z)",
          "value": 0.977857796041868,
          "z": 3.787878787878787
         },
         {
          "sigmoid_function": "sigmoid(z)",
          "value": 0.9799424634621495,
          "z": 3.8888888888888893
         },
         {
          "sigmoid_function": "sigmoid(z)",
          "value": 0.9818345074928443,
          "z": 3.9898989898989896
         },
         {
          "sigmoid_function": "sigmoid(z)",
          "value": 0.9835510693065821,
          "z": 4.09090909090909
         },
         {
          "sigmoid_function": "sigmoid(z)",
          "value": 0.9851078836367397,
          "z": 4.191919191919192
         },
         {
          "sigmoid_function": "sigmoid(z)",
          "value": 0.9865193722991542,
          "z": 4.292929292929292
         },
         {
          "sigmoid_function": "sigmoid(z)",
          "value": 0.9877987357393639,
          "z": 4.3939393939393945
         },
         {
          "sigmoid_function": "sigmoid(z)",
          "value": 0.9889580416625052,
          "z": 4.494949494949495
         },
         {
          "sigmoid_function": "sigmoid(z)",
          "value": 0.990008310063792,
          "z": 4.595959595959595
         },
         {
          "sigmoid_function": "sigmoid(z)",
          "value": 0.9909595941910669,
          "z": 4.696969696969697
         },
         {
          "sigmoid_function": "sigmoid(z)",
          "value": 0.9918210571437178,
          "z": 4.797979797979798
         },
         {
          "sigmoid_function": "sigmoid(z)",
          "value": 0.9926010439502804,
          "z": 4.8989898989899
         },
         {
          "sigmoid_function": "sigmoid(z)",
          "value": 0.9933071490757153,
          "z": 5
         },
         {
          "sigmoid_function": "sigmoid(z*2)",
          "value": 4.5397868702434395e-05,
          "z": -5
         },
         {
          "sigmoid_function": "sigmoid(z*2)",
          "value": 5.556064893935847e-05,
          "z": -4.898989898989899
         },
         {
          "sigmoid_function": "sigmoid(z*2)",
          "value": 6.7998317442358e-05,
          "z": -4.797979797979798
         },
         {
          "sigmoid_function": "sigmoid(z*2)",
          "value": 8.322001972209245e-05,
          "z": -4.696969696969697
         },
         {
          "sigmoid_function": "sigmoid(z*2)",
          "value": 0.00010184881542721271,
          "z": -4.595959595959596
         },
         {
          "sigmoid_function": "sigmoid(z*2)",
          "value": 0.00012464714594414533,
          "z": -4.494949494949495
         },
         {
          "sigmoid_function": "sigmoid(z*2)",
          "value": 0.00015254798624649647,
          "z": -4.393939393939394
         },
         {
          "sigmoid_function": "sigmoid(z*2)",
          "value": 0.00018669294496130814,
          "z": -4.292929292929293
         },
         {
          "sigmoid_function": "sigmoid(z*2)",
          "value": 0.00022847885532128418,
          "z": -4.191919191919192
         },
         {
          "sigmoid_function": "sigmoid(z*2)",
          "value": 0.0002796147386491923,
          "z": -4.090909090909091
         },
         {
          "sigmoid_function": "sigmoid(z*2)",
          "value": 0.00034219143371662803,
          "z": -3.9898989898989896
         },
         {
          "sigmoid_function": "sigmoid(z*2)",
          "value": 0.0004187666844443735,
          "z": -3.888888888888889
         },
         {
          "sigmoid_function": "sigmoid(z*2)",
          "value": 0.0005124690821944584,
          "z": -3.787878787878788
         },
         {
          "sigmoid_function": "sigmoid(z*2)",
          "value": 0.0006271249872756847,
          "z": -3.686868686868687
         },
         {
          "sigmoid_function": "sigmoid(z*2)",
          "value": 0.000767413429918266,
          "z": -3.5858585858585856
         },
         {
          "sigmoid_function": "sigmoid(z*2)",
          "value": 0.0009390550390618305,
          "z": -3.484848484848485
         },
         {
          "sigmoid_function": "sigmoid(z*2)",
          "value": 0.001149042294880872,
          "z": -3.383838383838384
         },
         {
          "sigmoid_function": "sigmoid(z*2)",
          "value": 0.0014059198755086322,
          "z": -3.282828282828283
         },
         {
          "sigmoid_function": "sigmoid(z*2)",
          "value": 0.0017201255952192596,
          "z": -3.1818181818181817
         },
         {
          "sigmoid_function": "sigmoid(z*2)",
          "value": 0.0021044044291184333,
          "z": -3.080808080808081
         },
         {
          "sigmoid_function": "sigmoid(z*2)",
          "value": 0.0025743103931375314,
          "z": -2.9797979797979797
         },
         {
          "sigmoid_function": "sigmoid(z*2)",
          "value": 0.0031488135776798513,
          "z": -2.878787878787879
         },
         {
          "sigmoid_function": "sigmoid(z*2)",
          "value": 0.003851032355930255,
          "z": -2.7777777777777777
         },
         {
          "sigmoid_function": "sigmoid(z*2)",
          "value": 0.004709113572114011,
          "z": -2.676767676767677
         },
         {
          "sigmoid_function": "sigmoid(z*2)",
          "value": 0.0057572861219081835,
          "z": -2.5757575757575757
         },
         {
          "sigmoid_function": "sigmoid(z*2)",
          "value": 0.007037115364564376,
          "z": -2.474747474747475
         },
         {
          "sigmoid_function": "sigmoid(z*2)",
          "value": 0.008598986610189428,
          "z": -2.3737373737373737
         },
         {
          "sigmoid_function": "sigmoid(z*2)",
          "value": 0.010503844513285416,
          "z": -2.272727272727273
         },
         {
          "sigmoid_function": "sigmoid(z*2)",
          "value": 0.012825210092764685,
          "z": -2.1717171717171717
         },
         {
          "sigmoid_function": "sigmoid(z*2)",
          "value": 0.015651486142818367,
          "z": -2.070707070707071
         },
         {
          "sigmoid_function": "sigmoid(z*2)",
          "value": 0.019088541989923387,
          "z": -1.9696969696969697
         },
         {
          "sigmoid_function": "sigmoid(z*2)",
          "value": 0.0232625358308855,
          "z": -1.868686868686869
         },
         {
          "sigmoid_function": "sigmoid(z*2)",
          "value": 0.0283228820443032,
          "z": -1.7676767676767677
         },
         {
          "sigmoid_function": "sigmoid(z*2)",
          "value": 0.03444519566621118,
          "z": -1.6666666666666665
         },
         {
          "sigmoid_function": "sigmoid(z*2)",
          "value": 0.04183394000551971,
          "z": -1.5656565656565657
         },
         {
          "sigmoid_function": "sigmoid(z*2)",
          "value": 0.05072436056205437,
          "z": -1.4646464646464645
         },
         {
          "sigmoid_function": "sigmoid(z*2)",
          "value": 0.06138310740349217,
          "z": -1.3636363636363638
         },
         {
          "sigmoid_function": "sigmoid(z*2)",
          "value": 0.07410673632504733,
          "z": -1.2626262626262625
         },
         {
          "sigmoid_function": "sigmoid(z*2)",
          "value": 0.08921706025119844,
          "z": -1.1616161616161618
         },
         {
          "sigmoid_function": "sigmoid(z*2)",
          "value": 0.10705214621417715,
          "z": -1.0606060606060606
         },
         {
          "sigmoid_function": "sigmoid(z*2)",
          "value": 0.12795170492445268,
          "z": -0.9595959595959593
         },
         {
          "sigmoid_function": "sigmoid(z*2)",
          "value": 0.15223582314389053,
          "z": -0.858585858585859
         },
         {
          "sigmoid_function": "sigmoid(z*2)",
          "value": 0.18017659335766972,
          "z": -0.7575757575757578
         },
         {
          "sigmoid_function": "sigmoid(z*2)",
          "value": 0.21196333386923713,
          "z": -0.6565656565656566
         },
         {
          "sigmoid_function": "sigmoid(z*2)",
          "value": 0.2476638011390717,
          "z": -0.5555555555555554
         },
         {
          "sigmoid_function": "sigmoid(z*2)",
          "value": 0.28718590138250244,
          "z": -0.45454545454545503
         },
         {
          "sigmoid_function": "sigmoid(z*2)",
          "value": 0.33024642963181144,
          "z": -0.3535353535353538
         },
         {
          "sigmoid_function": "sigmoid(z*2)",
          "value": 0.37635451749670706,
          "z": -0.2525252525252526
         },
         {
          "sigmoid_function": "sigmoid(z*2)",
          "value": 0.42481686806284763,
          "z": -0.15151515151515138
         },
         {
          "sigmoid_function": "sigmoid(z*2)",
          "value": 0.4747689239079115,
          "z": -0.050505050505050164
         },
         {
          "sigmoid_function": "sigmoid(z*2)",
          "value": 0.5252310760920885,
          "z": 0.050505050505050164
         },
         {
          "sigmoid_function": "sigmoid(z*2)",
          "value": 0.5751831319371523,
          "z": 0.15151515151515138
         },
         {
          "sigmoid_function": "sigmoid(z*2)",
          "value": 0.623645482503293,
          "z": 0.2525252525252526
         },
         {
          "sigmoid_function": "sigmoid(z*2)",
          "value": 0.6697535703681886,
          "z": 0.3535353535353538
         },
         {
          "sigmoid_function": "sigmoid(z*2)",
          "value": 0.7128140986174972,
          "z": 0.45454545454545414
         },
         {
          "sigmoid_function": "sigmoid(z*2)",
          "value": 0.7523361988609284,
          "z": 0.5555555555555554
         },
         {
          "sigmoid_function": "sigmoid(z*2)",
          "value": 0.7880366661307628,
          "z": 0.6565656565656566
         },
         {
          "sigmoid_function": "sigmoid(z*2)",
          "value": 0.8198234066423302,
          "z": 0.7575757575757578
         },
         {
          "sigmoid_function": "sigmoid(z*2)",
          "value": 0.8477641768561092,
          "z": 0.8585858585858581
         },
         {
          "sigmoid_function": "sigmoid(z*2)",
          "value": 0.8720482950755473,
          "z": 0.9595959595959593
         },
         {
          "sigmoid_function": "sigmoid(z*2)",
          "value": 0.8929478537858229,
          "z": 1.0606060606060606
         },
         {
          "sigmoid_function": "sigmoid(z*2)",
          "value": 0.9107829397488015,
          "z": 1.1616161616161618
         },
         {
          "sigmoid_function": "sigmoid(z*2)",
          "value": 0.9258932636749527,
          "z": 1.262626262626262
         },
         {
          "sigmoid_function": "sigmoid(z*2)",
          "value": 0.9386168925965077,
          "z": 1.3636363636363633
         },
         {
          "sigmoid_function": "sigmoid(z*2)",
          "value": 0.9492756394379457,
          "z": 1.4646464646464645
         },
         {
          "sigmoid_function": "sigmoid(z*2)",
          "value": 0.9581660599944802,
          "z": 1.5656565656565657
         },
         {
          "sigmoid_function": "sigmoid(z*2)",
          "value": 0.9655548043337889,
          "z": 1.666666666666667
         },
         {
          "sigmoid_function": "sigmoid(z*2)",
          "value": 0.9716771179556968,
          "z": 1.7676767676767673
         },
         {
          "sigmoid_function": "sigmoid(z*2)",
          "value": 0.9767374641691144,
          "z": 1.8686868686868685
         },
         {
          "sigmoid_function": "sigmoid(z*2)",
          "value": 0.9809114580100765,
          "z": 1.9696969696969697
         },
         {
          "sigmoid_function": "sigmoid(z*2)",
          "value": 0.9843485138571816,
          "z": 2.070707070707071
         },
         {
          "sigmoid_function": "sigmoid(z*2)",
          "value": 0.9871747899072354,
          "z": 2.1717171717171713
         },
         {
          "sigmoid_function": "sigmoid(z*2)",
          "value": 0.9894961554867145,
          "z": 2.2727272727272725
         },
         {
          "sigmoid_function": "sigmoid(z*2)",
          "value": 0.9914010133898106,
          "z": 2.3737373737373737
         },
         {
          "sigmoid_function": "sigmoid(z*2)",
          "value": 0.9929628846354357,
          "z": 2.474747474747475
         },
         {
          "sigmoid_function": "sigmoid(z*2)",
          "value": 0.9942427138780918,
          "z": 2.5757575757575752
         },
         {
          "sigmoid_function": "sigmoid(z*2)",
          "value": 0.995290886427886,
          "z": 2.6767676767676765
         },
         {
          "sigmoid_function": "sigmoid(z*2)",
          "value": 0.9961489676440697,
          "z": 2.7777777777777777
         },
         {
          "sigmoid_function": "sigmoid(z*2)",
          "value": 0.9968511864223202,
          "z": 2.878787878787879
         },
         {
          "sigmoid_function": "sigmoid(z*2)",
          "value": 0.9974256896068625,
          "z": 2.9797979797979792
         },
         {
          "sigmoid_function": "sigmoid(z*2)",
          "value": 0.9978955955708816,
          "z": 3.0808080808080813
         },
         {
          "sigmoid_function": "sigmoid(z*2)",
          "value": 0.9982798744047808,
          "z": 3.1818181818181817
         },
         {
          "sigmoid_function": "sigmoid(z*2)",
          "value": 0.9985940801244912,
          "z": 3.282828282828282
         },
         {
          "sigmoid_function": "sigmoid(z*2)",
          "value": 0.9988509577051191,
          "z": 3.383838383838384
         },
         {
          "sigmoid_function": "sigmoid(z*2)",
          "value": 0.9990609449609381,
          "z": 3.4848484848484844
         },
         {
          "sigmoid_function": "sigmoid(z*2)",
          "value": 0.9992325865700818,
          "z": 3.5858585858585865
         },
         {
          "sigmoid_function": "sigmoid(z*2)",
          "value": 0.9993728750127243,
          "z": 3.686868686868687
         },
         {
          "sigmoid_function": "sigmoid(z*2)",
          "value": 0.9994875309178055,
          "z": 3.787878787878787
         },
         {
          "sigmoid_function": "sigmoid(z*2)",
          "value": 0.9995812333155556,
          "z": 3.8888888888888893
         },
         {
          "sigmoid_function": "sigmoid(z*2)",
          "value": 0.9996578085662833,
          "z": 3.9898989898989896
         },
         {
          "sigmoid_function": "sigmoid(z*2)",
          "value": 0.9997203852613508,
          "z": 4.09090909090909
         },
         {
          "sigmoid_function": "sigmoid(z*2)",
          "value": 0.9997715211446788,
          "z": 4.191919191919192
         },
         {
          "sigmoid_function": "sigmoid(z*2)",
          "value": 0.9998133070550387,
          "z": 4.292929292929292
         },
         {
          "sigmoid_function": "sigmoid(z*2)",
          "value": 0.9998474520137535,
          "z": 4.3939393939393945
         },
         {
          "sigmoid_function": "sigmoid(z*2)",
          "value": 0.9998753528540559,
          "z": 4.494949494949495
         },
         {
          "sigmoid_function": "sigmoid(z*2)",
          "value": 0.9998981511845727,
          "z": 4.595959595959595
         },
         {
          "sigmoid_function": "sigmoid(z*2)",
          "value": 0.999916779980278,
          "z": 4.696969696969697
         },
         {
          "sigmoid_function": "sigmoid(z*2)",
          "value": 0.9999320016825577,
          "z": 4.797979797979798
         },
         {
          "sigmoid_function": "sigmoid(z*2)",
          "value": 0.9999444393510606,
          "z": 4.8989898989899
         },
         {
          "sigmoid_function": "sigmoid(z*2)",
          "value": 0.9999546021312976,
          "z": 5
         },
         {
          "sigmoid_function": "sigmoid(z-2)",
          "value": 0.0009110511944006454,
          "z": -5
         },
         {
          "sigmoid_function": "sigmoid(z-2)",
          "value": 0.0010077872487099253,
          "z": -4.898989898989899
         },
         {
          "sigmoid_function": "sigmoid(z-2)",
          "value": 0.0011147833441199496,
          "z": -4.797979797979798
         },
         {
          "sigmoid_function": "sigmoid(z-2)",
          "value": 0.0012331251210586601,
          "z": -4.696969696969697
         },
         {
          "sigmoid_function": "sigmoid(z-2)",
          "value": 0.0013640125215336378,
          "z": -4.595959595959596
         },
         {
          "sigmoid_function": "sigmoid(z-2)",
          "value": 0.0015087716953255067,
          "z": -4.494949494949495
         },
         {
          "sigmoid_function": "sigmoid(z-2)",
          "value": 0.0016688681177159349,
          "z": -4.393939393939394
         },
         {
          "sigmoid_function": "sigmoid(z-2)",
          "value": 0.0018459210355774146,
          "z": -4.292929292929293
         },
         {
          "sigmoid_function": "sigmoid(z-2)",
          "value": 0.0020417193684422754,
          "z": -4.191919191919192
         },
         {
          "sigmoid_function": "sigmoid(z-2)",
          "value": 0.0022582392014275205,
          "z": -4.090909090909091
         },
         {
          "sigmoid_function": "sigmoid(z-2)",
          "value": 0.00249766301754779,
          "z": -3.9898989898989896
         },
         {
          "sigmoid_function": "sigmoid(z-2)",
          "value": 0.0027624008278954197,
          "z": -3.888888888888889
         },
         {
          "sigmoid_function": "sigmoid(z-2)",
          "value": 0.003055113369257324,
          "z": -3.787878787878788
         },
         {
          "sigmoid_function": "sigmoid(z-2)",
          "value": 0.003378737549774165,
          "z": -3.686868686868687
         },
         {
          "sigmoid_function": "sigmoid(z-2)",
          "value": 0.0037365143339650794,
          "z": -3.5858585858585856
         },
         {
          "sigmoid_function": "sigmoid(z-2)",
          "value": 0.004132019268498481,
          "z": -3.484848484848485
         },
         {
          "sigmoid_function": "sigmoid(z-2)",
          "value": 0.004569195859047453,
          "z": -3.383838383838384
         },
         {
          "sigmoid_function": "sigmoid(z-2)",
          "value": 0.005052392015870149,
          "z": -3.282828282828283
         },
         {
          "sigmoid_function": "sigmoid(z-2)",
          "value": 0.005586399790702615,
          "z": -3.1818181818181817
         },
         {
          "sigmoid_function": "sigmoid(z-2)",
          "value": 0.006176498629274528,
          "z": -3.080808080808081
         },
         {
          "sigmoid_function": "sigmoid(z-2)",
          "value": 0.006828502361184376,
          "z": -2.9797979797979797
         },
         {
          "sigmoid_function": "sigmoid(z-2)",
          "value": 0.007548810140686255,
          "z": -2.878787878787879
         },
         {
          "sigmoid_function": "sigmoid(z-2)",
          "value": 0.008344461536550052,
          "z": -2.7777777777777777
         },
         {
          "sigmoid_function": "sigmoid(z-2)",
          "value": 0.009223195944633751,
          "z": -2.676767676767677
         },
         {
          "sigmoid_function": "sigmoid(z-2)",
          "value": 0.010193516460848633,
          "z": -2.5757575757575757
         },
         {
          "sigmoid_function": "sigmoid(z-2)",
          "value": 0.011264758302067756,
          "z": -2.474747474747475
         },
         {
          "sigmoid_function": "sigmoid(z-2)",
          "value": 0.012447161795007164,
          "z": -2.3737373737373737
         },
         {
          "sigmoid_function": "sigmoid(z-2)",
          "value": 0.013751949864444812,
          "z": -2.272727272727273
         },
         {
          "sigmoid_function": "sigmoid(z-2)",
          "value": 0.015191409838007068,
          "z": -2.1717171717171717
         },
         {
          "sigmoid_function": "sigmoid(z-2)",
          "value": 0.01677897924021968,
          "z": -2.070707070707071
         },
         {
          "sigmoid_function": "sigmoid(z-2)",
          "value": 0.01852933506806215,
          "z": -1.9696969696969697
         },
         {
          "sigmoid_function": "sigmoid(z-2)",
          "value": 0.020458485817786212,
          "z": -1.868686868686869
         },
         {
          "sigmoid_function": "sigmoid(z-2)",
          "value": 0.022583865261700576,
          "z": -1.7676767676767677
         },
         {
          "sigmoid_function": "sigmoid(z-2)",
          "value": 0.02492442664711404,
          "z": -1.6666666666666665
         },
         {
          "sigmoid_function": "sigmoid(z-2)",
          "value": 0.027500735600776583,
          "z": -1.5656565656565657
         },
         {
          "sigmoid_function": "sigmoid(z-2)",
          "value": 0.030335059564448208,
          "z": -1.4646464646464645
         },
         {
          "sigmoid_function": "sigmoid(z-2)",
          "value": 0.03345145105511817,
          "z": -1.3636363636363638
         },
         {
          "sigmoid_function": "sigmoid(z-2)",
          "value": 0.03687582143313014,
          "z": -1.2626262626262625
         },
         {
          "sigmoid_function": "sigmoid(z-2)",
          "value": 0.04063600117212708,
          "z": -1.1616161616161618
         },
         {
          "sigmoid_function": "sigmoid(z-2)",
          "value": 0.044761781859634225,
          "z": -1.0606060606060606
         },
         {
          "sigmoid_function": "sigmoid(z-2)",
          "value": 0.04928493432551884,
          "z": -0.9595959595959593
         },
         {
          "sigmoid_function": "sigmoid(z-2)",
          "value": 0.054239196414809246,
          "z": -0.858585858585859
         },
         {
          "sigmoid_function": "sigmoid(z-2)",
          "value": 0.059660223019174806,
          "z": -0.7575757575757578
         },
         {
          "sigmoid_function": "sigmoid(z-2)",
          "value": 0.06558549009863611,
          "z": -0.6565656565656566
         },
         {
          "sigmoid_function": "sigmoid(z-2)",
          "value": 0.07205414361856402,
          "z": -0.5555555555555554
         },
         {
          "sigmoid_function": "sigmoid(z-2)",
          "value": 0.07910678367200667,
          "z": -0.45454545454545503
         },
         {
          "sigmoid_function": "sigmoid(z-2)",
          "value": 0.0867851736496764,
          "z": -0.3535353535353538
         },
         {
          "sigmoid_function": "sigmoid(z-2)",
          "value": 0.09513186427677887,
          "z": -0.2525252525252526
         },
         {
          "sigmoid_function": "sigmoid(z-2)",
          "value": 0.10418972279494806,
          "z": -0.15151515151515138
         },
         {
          "sigmoid_function": "sigmoid(z-2)",
          "value": 0.11400135868312064,
          "z": -0.050505050505050164
         },
         {
          "sigmoid_function": "sigmoid(z-2)",
          "value": 0.12460843924642248,
          "z": 0.050505050505050164
         },
         {
          "sigmoid_function": "sigmoid(z-2)",
          "value": 0.13605089131658663,
          "z": 0.15151515151515138
         },
         {
          "sigmoid_function": "sigmoid(z-2)",
          "value": 0.14836598933874684,
          "z": 0.2525252525252526
         },
         {
          "sigmoid_function": "sigmoid(z-2)",
          "value": 0.16158733535923847,
          "z": 0.3535353535353538
         },
         {
          "sigmoid_function": "sigmoid(z-2)",
          "value": 0.17574374289308,
          "z": 0.45454545454545414
         },
         {
          "sigmoid_function": "sigmoid(z-2)",
          "value": 0.19085804424486544,
          "z": 0.5555555555555554
         },
         {
          "sigmoid_function": "sigmoid(z-2)",
          "value": 0.20694584934715762,
          "z": 0.6565656565656566
         },
         {
          "sigmoid_function": "sigmoid(z-2)",
          "value": 0.22401429315989183,
          "z": 0.7575757575757578
         },
         {
          "sigmoid_function": "sigmoid(z-2)",
          "value": 0.24206081755024075,
          "z": 0.8585858585858581
         },
         {
          "sigmoid_function": "sigmoid(z-2)",
          "value": 0.26107204157108393,
          "z": 0.9595959595959593
         },
         {
          "sigmoid_function": "sigmoid(z-2)",
          "value": 0.28102278025633637,
          "z": 1.0606060606060606
         },
         {
          "sigmoid_function": "sigmoid(z-2)",
          "value": 0.3018752754526367,
          "z": 1.1616161616161618
         },
         {
          "sigmoid_function": "sigmoid(z-2)",
          "value": 0.3235787018345793,
          "z": 1.262626262626262
         },
         {
          "sigmoid_function": "sigmoid(z-2)",
          "value": 0.346069006291123,
          "z": 1.3636363636363633
         },
         {
          "sigmoid_function": "sigmoid(z-2)",
          "value": 0.36926912882296675,
          "z": 1.4646464646464645
         },
         {
          "sigmoid_function": "sigmoid(z-2)",
          "value": 0.39308963791176027,
          "z": 1.5656565656565657
         },
         {
          "sigmoid_function": "sigmoid(z-2)",
          "value": 0.41742979353768545,
          "z": 1.666666666666667
         },
         {
          "sigmoid_function": "sigmoid(z-2)",
          "value": 0.4421790277715518,
          "z": 1.7676767676767673
         },
         {
          "sigmoid_function": "sigmoid(z-2)",
          "value": 0.46721880785976294,
          "z": 1.8686868686868685
         },
         {
          "sigmoid_function": "sigmoid(z-2)",
          "value": 0.492424822089224,
          "z": 1.9696969696969697
         },
         {
          "sigmoid_function": "sigmoid(z-2)",
          "value": 0.5176694067884358,
          "z": 2.070707070707071
         },
         {
          "sigmoid_function": "sigmoid(z-2)",
          "value": 0.5428241158086663,
          "z": 2.1717171717171713
         },
         {
          "sigmoid_function": "sigmoid(z-2)",
          "value": 0.5677623235383434,
          "z": 2.2727272727272725
         },
         {
          "sigmoid_function": "sigmoid(z-2)",
          "value": 0.5923617500568721,
          "z": 2.3737373737373737
         },
         {
          "sigmoid_function": "sigmoid(z-2)",
          "value": 0.6165068027011174,
          "z": 2.474747474747475
         },
         {
          "sigmoid_function": "sigmoid(z-2)",
          "value": 0.6400906414750341,
          "z": 2.5757575757575752
         },
         {
          "sigmoid_function": "sigmoid(z-2)",
          "value": 0.663016894958972,
          "z": 2.6767676767676765
         },
         {
          "sigmoid_function": "sigmoid(z-2)",
          "value": 0.6852009766653157,
          "z": 2.7777777777777777
         },
         {
          "sigmoid_function": "sigmoid(z-2)",
          "value": 0.706570976843413,
          "z": 2.878787878787879
         },
         {
          "sigmoid_function": "sigmoid(z-2)",
          "value": 0.7270681292782007,
          "z": 2.9797979797979792
         },
         {
          "sigmoid_function": "sigmoid(z-2)",
          "value": 0.7466468746662198,
          "z": 3.0808080808080813
         },
         {
          "sigmoid_function": "sigmoid(z-2)",
          "value": 0.7652745601971698,
          "z": 3.1818181818181817
         },
         {
          "sigmoid_function": "sigmoid(z-2)",
          "value": 0.7829308281250582,
          "z": 3.282828282828282
         },
         {
          "sigmoid_function": "sigmoid(z-2)",
          "value": 0.7996067540917198,
          "z": 3.383838383838384
         },
         {
          "sigmoid_function": "sigmoid(z-2)",
          "value": 0.8153037990090656,
          "z": 3.4848484848484844
         },
         {
          "sigmoid_function": "sigmoid(z-2)",
          "value": 0.8300326370593409,
          "z": 3.5858585858585865
         },
         {
          "sigmoid_function": "sigmoid(z-2)",
          "value": 0.8438119177307318,
          "z": 3.686868686868687
         },
         {
          "sigmoid_function": "sigmoid(z-2)",
          "value": 0.8566670127685516,
          "z": 3.787878787878787
         },
         {
          "sigmoid_function": "sigmoid(z-2)",
          "value": 0.8686287904691933,
          "z": 3.8888888888888893
         },
         {
          "sigmoid_function": "sigmoid(z-2)",
          "value": 0.8797324507435984,
          "z": 3.9898989898989896
         },
         {
          "sigmoid_function": "sigmoid(z-2)",
          "value": 0.8900164455326726,
          "z": 4.09090909090909
         },
         {
          "sigmoid_function": "sigmoid(z-2)",
          "value": 0.8995215009861548,
          "z": 4.191919191919192
         },
         {
          "sigmoid_function": "sigmoid(z-2)",
          "value": 0.908289750654218,
          "z": 4.292929292929292
         },
         {
          "sigmoid_function": "sigmoid(z-2)",
          "value": 0.9163639829624134,
          "z": 4.3939393939393945
         },
         {
          "sigmoid_function": "sigmoid(z-2)",
          "value": 0.9237870014910294,
          "z": 4.494949494949495
         },
         {
          "sigmoid_function": "sigmoid(z-2)",
          "value": 0.9306010930095497,
          "z": 4.595959595959595
         },
         {
          "sigmoid_function": "sigmoid(z-2)",
          "value": 0.9368475957123458,
          "z": 4.696969696969697
         },
         {
          "sigmoid_function": "sigmoid(z-2)",
          "value": 0.94256655851407,
          "z": 4.797979797979798
         },
         {
          "sigmoid_function": "sigmoid(z-2)",
          "value": 0.9477964814295412,
          "z": 4.8989898989899
         },
         {
          "sigmoid_function": "sigmoid(z-2)",
          "value": 0.9525741268224334,
          "z": 5
         }
        ]
       },
       "encoding": {
        "color": {
         "field": "sigmoid_function",
         "type": "nominal"
        },
        "x": {
         "field": "z",
         "type": "quantitative"
        },
        "y": {
         "field": "value",
         "type": "quantitative"
        }
       },
       "height": 500,
       "mark": "line",
       "title": "Sigmoid functions",
       "width": 800
      },
      "image/png": "[encoded data removed]",
      "text/plain": [
       "<VegaLite 2 object>\n",
       "\n",
       "If you see this message, it means the renderer has not been properly enabled\n",
       "for the frontend that you are using. For more information, see\n",
       "https://altair-viz.github.io/user_guide/troubleshooting.html\n"
      ]
     },
     "execution_count": 8,
     "metadata": {},
     "output_type": "execute_result"
    }
   ],
   "source": [
    "alt.Chart(sigmoid_df).mark_line().encode(\n",
    "    x=\"z:Q\",\n",
    "    y=\"value:Q\",\n",
    "    color=\"sigmoid_function:N\"\n",
    ").properties(\n",
    "    title=\"Sigmoid functions\",\n",
    "    width=800,\n",
    "    height=500\n",
    ")"
   ]
  },
  {
   "cell_type": "markdown",
   "metadata": {
    "slideshow": {
     "slide_type": "slide"
    }
   },
   "source": [
    "#### Modelo\n",
    "## Función Sigmoide\n",
    "\n",
    "La función\n",
    "sigmoide $g(z) = (1+e^{-z})^{-1}$ tiene la siguiente propiedad:\n",
    "$$g'(z) =  g(z)(1-g(z))$$"
   ]
  },
  {
   "cell_type": "markdown",
   "metadata": {
    "slideshow": {
     "slide_type": "slide"
    }
   },
   "source": [
    "$g(z) = (1+e^{-z})^{-1}$ y $g'(z) =  g(z)(1-g(z))$.\n",
    "\n",
    "Demostración:\n",
    "\n",
    "$$\\begin{aligned}\n",
    "g'(z) &= \\frac{-1}{(1+e^{-z})^2} (-e^{-z}) \\\\\n",
    "      &= \\frac{e^{-z}}{(1+e^{-z})^2} \\\\\n",
    "      &= \\frac{1}{1+e^{-z}} \\frac{e^{-z}}{1+e^{-z}} \\\\\n",
    "      &= \\frac{1}{1+e^{-z}} \\left(1 - \\frac{1}{1+e^{-z}} \\right) \\\\\n",
    "      &= g(z)(1-g(z))\\end{aligned}$$"
   ]
  },
  {
   "cell_type": "markdown",
   "metadata": {
    "slideshow": {
     "slide_type": "slide"
    }
   },
   "source": [
    "## Interpretación gráfica"
   ]
  },
  {
   "cell_type": "code",
   "execution_count": 9,
   "metadata": {},
   "outputs": [
    {
     "data": {
      "text/html": [
       "<div>\n",
       "<style scoped>\n",
       "    .dataframe tbody tr th:only-of-type {\n",
       "        vertical-align: middle;\n",
       "    }\n",
       "\n",
       "    .dataframe tbody tr th {\n",
       "        vertical-align: top;\n",
       "    }\n",
       "\n",
       "    .dataframe thead th {\n",
       "        text-align: right;\n",
       "    }\n",
       "</style>\n",
       "<table border=\"1\" class=\"dataframe\">\n",
       "  <thead>\n",
       "    <tr style=\"text-align: right;\">\n",
       "      <th></th>\n",
       "      <th>z</th>\n",
       "      <th>function</th>\n",
       "      <th>value</th>\n",
       "    </tr>\n",
       "  </thead>\n",
       "  <tbody>\n",
       "    <tr>\n",
       "      <th>0</th>\n",
       "      <td>-5.00000</td>\n",
       "      <td>sigmoid(z)</td>\n",
       "      <td>0.006693</td>\n",
       "    </tr>\n",
       "    <tr>\n",
       "      <th>1</th>\n",
       "      <td>-4.89899</td>\n",
       "      <td>sigmoid(z)</td>\n",
       "      <td>0.007399</td>\n",
       "    </tr>\n",
       "    <tr>\n",
       "      <th>2</th>\n",
       "      <td>-4.79798</td>\n",
       "      <td>sigmoid(z)</td>\n",
       "      <td>0.008179</td>\n",
       "    </tr>\n",
       "    <tr>\n",
       "      <th>3</th>\n",
       "      <td>-4.69697</td>\n",
       "      <td>sigmoid(z)</td>\n",
       "      <td>0.009040</td>\n",
       "    </tr>\n",
       "    <tr>\n",
       "      <th>4</th>\n",
       "      <td>-4.59596</td>\n",
       "      <td>sigmoid(z)</td>\n",
       "      <td>0.009992</td>\n",
       "    </tr>\n",
       "  </tbody>\n",
       "</table>\n",
       "</div>"
      ],
      "text/plain": [
       "         z    function     value\n",
       "0 -5.00000  sigmoid(z)  0.006693\n",
       "1 -4.89899  sigmoid(z)  0.007399\n",
       "2 -4.79798  sigmoid(z)  0.008179\n",
       "3 -4.69697  sigmoid(z)  0.009040\n",
       "4 -4.59596  sigmoid(z)  0.009992"
      ]
     },
     "execution_count": 9,
     "metadata": {},
     "output_type": "execute_result"
    }
   ],
   "source": [
    "def d_sigmoid(z):\n",
    "    return sigmoid(z) * (1 - sigmoid(z))\n",
    "\n",
    "sigmoid_dz_df = pd.DataFrame({\"z\": z,\n",
    "                              \"sigmoid(z)\": sigmoid(z),\n",
    "                              \"d_sigmoid(z)/dz\": d_sigmoid(z)\n",
    "                             }).melt(id_vars=\"z\", value_vars=[\"sigmoid(z)\", \"d_sigmoid(z)/dz\"], var_name=\"function\")\n",
    "sigmoid_dz_df.head()"
   ]
  },
  {
   "cell_type": "code",
   "execution_count": 10,
   "metadata": {},
   "outputs": [
    {
     "data": {
      "application/vnd.vegalite.v2+json": {
       "$schema": "https://vega.github.io/schema/vega-lite/v2.6.0.json",
       "config": {
        "view": {
         "height": 300,
         "width": 400
        }
       },
       "data": {
        "name": "data-74d19d1b308958684d31ff006b7d4240"
       },
       "datasets": {
        "data-74d19d1b308958684d31ff006b7d4240": [
         {
          "function": "sigmoid(z)",
          "value": 0.0066928509242848554,
          "z": -5
         },
         {
          "function": "sigmoid(z)",
          "value": 0.007398956049719674,
          "z": -4.898989898989899
         },
         {
          "function": "sigmoid(z)",
          "value": 0.008178942856282161,
          "z": -4.797979797979798
         },
         {
          "function": "sigmoid(z)",
          "value": 0.009040405808933128,
          "z": -4.696969696969697
         },
         {
          "function": "sigmoid(z)",
          "value": 0.009991689936208048,
          "z": -4.595959595959596
         },
         {
          "function": "sigmoid(z)",
          "value": 0.011041958337494755,
          "z": -4.494949494949495
         },
         {
          "function": "sigmoid(z)",
          "value": 0.012201264260636085,
          "z": -4.393939393939394
         },
         {
          "function": "sigmoid(z)",
          "value": 0.013480627700845831,
          "z": -4.292929292929293
         },
         {
          "function": "sigmoid(z)",
          "value": 0.01489211636326034,
          "z": -4.191919191919192
         },
         {
          "function": "sigmoid(z)",
          "value": 0.016448930693417962,
          "z": -4.090909090909091
         },
         {
          "function": "sigmoid(z)",
          "value": 0.01816549250715569,
          "z": -3.9898989898989896
         },
         {
          "function": "sigmoid(z)",
          "value": 0.02005753653785041,
          "z": -3.888888888888889
         },
         {
          "function": "sigmoid(z)",
          "value": 0.022142203958132125,
          "z": -3.787878787878788
         },
         {
          "function": "sigmoid(z)",
          "value": 0.024438136618332742,
          "z": -3.686868686868687
         },
         {
          "function": "sigmoid(z)",
          "value": 0.026965570368090237,
          "z": -3.5858585858585856
         },
         {
          "function": "sigmoid(z)",
          "value": 0.029746425384074206,
          "z": -3.484848484848485
         },
         {
          "function": "sigmoid(z)",
          "value": 0.03280439090994282,
          "z": -3.383838383838384
         },
         {
          "function": "sigmoid(z)",
          "value": 0.03616500122018774,
          "z": -3.282828282828283
         },
         {
          "function": "sigmoid(z)",
          "value": 0.039855698945889695,
          "z": -3.1818181818181817
         },
         {
          "function": "sigmoid(z)",
          "value": 0.043905881149939006,
          "z": -3.080808080808081
         },
         {
          "function": "sigmoid(z)",
          "value": 0.04834692271989779,
          "z": -2.9797979797979797
         },
         {
          "function": "sigmoid(z)",
          "value": 0.05321217077391106,
          "z": -2.878787878787879
         },
         {
          "function": "sigmoid(z)",
          "value": 0.0585369028743679,
          "z": -2.7777777777777777
         },
         {
          "function": "sigmoid(z)",
          "value": 0.06435824095339865,
          "z": -2.676767676767677
         },
         {
          "function": "sigmoid(z)",
          "value": 0.07071501202714367,
          "z": -2.5757575757575757
         },
         {
          "function": "sigmoid(z)",
          "value": 0.07764754608342478,
          "z": -2.474747474747475
         },
         {
          "function": "sigmoid(z)",
          "value": 0.08519740106158838,
          "z": -2.3737373737373737
         },
         {
          "function": "sigmoid(z)",
          "value": 0.09340700471683215,
          "z": -2.272727272727273
         },
         {
          "function": "sigmoid(z)",
          "value": 0.10231920350807018,
          "z": -2.1717171717171717
         },
         {
          "function": "sigmoid(z)",
          "value": 0.11197670961974694,
          "z": -2.070707070707071
         },
         {
          "function": "sigmoid(z)",
          "value": 0.12242143898621305,
          "z": -1.9696969696969697
         },
         {
          "function": "sigmoid(z)",
          "value": 0.13369373589385355,
          "z": -1.868686868686869
         },
         {
          "function": "sigmoid(z)",
          "value": 0.14583148353491507,
          "z": -1.7676767676767677
         },
         {
          "function": "sigmoid(z)",
          "value": 0.15886910488091516,
          "z": -1.6666666666666665
         },
         {
          "function": "sigmoid(z)",
          "value": 0.17283646446618905,
          "z": -1.5656565656565657
         },
         {
          "function": "sigmoid(z)",
          "value": 0.18775768905482057,
          "z": -1.4646464646464645
         },
         {
          "function": "sigmoid(z)",
          "value": 0.20364993350221924,
          "z": -1.3636363636363638
         },
         {
          "function": "sigmoid(z)",
          "value": 0.2205221270455694,
          "z": -1.2626262626262625
         },
         {
          "function": "sigmoid(z)",
          "value": 0.23837374421039675,
          "z": -1.1616161616161618
         },
         {
          "function": "sigmoid(z)",
          "value": 0.2571936527643822,
          "z": -1.0606060606060606
         },
         {
          "function": "sigmoid(z)",
          "value": 0.27695909778815886,
          "z": -0.9595959595959593
         },
         {
          "function": "sigmoid(z)",
          "value": 0.29763488497442225,
          "z": -0.858585858585859
         },
         {
          "function": "sigmoid(z)",
          "value": 0.31917282672147035,
          "z": -0.7575757575757578
         },
         {
          "function": "sigmoid(z)",
          "value": 0.34151151059747936,
          "z": -0.6565656565656566
         },
         {
          "function": "sigmoid(z)",
          "value": 0.3645764407416393,
          "z": -0.5555555555555554
         },
         {
          "function": "sigmoid(z)",
          "value": 0.3882805885928385,
          "z": -0.45454545454545503
         },
         {
          "function": "sigmoid(z)",
          "value": 0.4125253704018182,
          "z": -0.3535353535353538
         },
         {
          "function": "sigmoid(z)",
          "value": 0.43720204630561754,
          "z": -0.2525252525252526
         },
         {
          "function": "sigmoid(z)",
          "value": 0.462193510926849,
          "z": -0.15151515151515138
         },
         {
          "function": "sigmoid(z)",
          "value": 0.4873764205699251,
          "z": -0.050505050505050164
         },
         {
          "function": "sigmoid(z)",
          "value": 0.512623579430075,
          "z": 0.050505050505050164
         },
         {
          "function": "sigmoid(z)",
          "value": 0.537806489073151,
          "z": 0.15151515151515138
         },
         {
          "function": "sigmoid(z)",
          "value": 0.5627979536943825,
          "z": 0.2525252525252526
         },
         {
          "function": "sigmoid(z)",
          "value": 0.5874746295981818,
          "z": 0.3535353535353538
         },
         {
          "function": "sigmoid(z)",
          "value": 0.6117194114071612,
          "z": 0.45454545454545414
         },
         {
          "function": "sigmoid(z)",
          "value": 0.6354235592583607,
          "z": 0.5555555555555554
         },
         {
          "function": "sigmoid(z)",
          "value": 0.6584884894025207,
          "z": 0.6565656565656566
         },
         {
          "function": "sigmoid(z)",
          "value": 0.6808271732785297,
          "z": 0.7575757575757578
         },
         {
          "function": "sigmoid(z)",
          "value": 0.7023651150255775,
          "z": 0.8585858585858581
         },
         {
          "function": "sigmoid(z)",
          "value": 0.7230409022118411,
          "z": 0.9595959595959593
         },
         {
          "function": "sigmoid(z)",
          "value": 0.7428063472356178,
          "z": 1.0606060606060606
         },
         {
          "function": "sigmoid(z)",
          "value": 0.7616262557896033,
          "z": 1.1616161616161618
         },
         {
          "function": "sigmoid(z)",
          "value": 0.7794778729544305,
          "z": 1.262626262626262
         },
         {
          "function": "sigmoid(z)",
          "value": 0.7963500664977807,
          "z": 1.3636363636363633
         },
         {
          "function": "sigmoid(z)",
          "value": 0.8122423109451795,
          "z": 1.4646464646464645
         },
         {
          "function": "sigmoid(z)",
          "value": 0.8271635355338108,
          "z": 1.5656565656565657
         },
         {
          "function": "sigmoid(z)",
          "value": 0.8411308951190849,
          "z": 1.666666666666667
         },
         {
          "function": "sigmoid(z)",
          "value": 0.854168516465085,
          "z": 1.7676767676767673
         },
         {
          "function": "sigmoid(z)",
          "value": 0.8663062641061464,
          "z": 1.8686868686868685
         },
         {
          "function": "sigmoid(z)",
          "value": 0.877578561013787,
          "z": 1.9696969696969697
         },
         {
          "function": "sigmoid(z)",
          "value": 0.888023290380253,
          "z": 2.070707070707071
         },
         {
          "function": "sigmoid(z)",
          "value": 0.8976807964919297,
          "z": 2.1717171717171713
         },
         {
          "function": "sigmoid(z)",
          "value": 0.9065929952831678,
          "z": 2.2727272727272725
         },
         {
          "function": "sigmoid(z)",
          "value": 0.9148025989384116,
          "z": 2.3737373737373737
         },
         {
          "function": "sigmoid(z)",
          "value": 0.9223524539165752,
          "z": 2.474747474747475
         },
         {
          "function": "sigmoid(z)",
          "value": 0.9292849879728562,
          "z": 2.5757575757575752
         },
         {
          "function": "sigmoid(z)",
          "value": 0.9356417590466013,
          "z": 2.6767676767676765
         },
         {
          "function": "sigmoid(z)",
          "value": 0.941463097125632,
          "z": 2.7777777777777777
         },
         {
          "function": "sigmoid(z)",
          "value": 0.946787829226089,
          "z": 2.878787878787879
         },
         {
          "function": "sigmoid(z)",
          "value": 0.9516530772801021,
          "z": 2.9797979797979792
         },
         {
          "function": "sigmoid(z)",
          "value": 0.9560941188500611,
          "z": 3.0808080808080813
         },
         {
          "function": "sigmoid(z)",
          "value": 0.9601443010541102,
          "z": 3.1818181818181817
         },
         {
          "function": "sigmoid(z)",
          "value": 0.9638349987798124,
          "z": 3.282828282828282
         },
         {
          "function": "sigmoid(z)",
          "value": 0.9671956090900572,
          "z": 3.383838383838384
         },
         {
          "function": "sigmoid(z)",
          "value": 0.9702535746159258,
          "z": 3.4848484848484844
         },
         {
          "function": "sigmoid(z)",
          "value": 0.9730344296319098,
          "z": 3.5858585858585865
         },
         {
          "function": "sigmoid(z)",
          "value": 0.9755618633816672,
          "z": 3.686868686868687
         },
         {
          "function": "sigmoid(z)",
          "value": 0.977857796041868,
          "z": 3.787878787878787
         },
         {
          "function": "sigmoid(z)",
          "value": 0.9799424634621495,
          "z": 3.8888888888888893
         },
         {
          "function": "sigmoid(z)",
          "value": 0.9818345074928443,
          "z": 3.9898989898989896
         },
         {
          "function": "sigmoid(z)",
          "value": 0.9835510693065821,
          "z": 4.09090909090909
         },
         {
          "function": "sigmoid(z)",
          "value": 0.9851078836367397,
          "z": 4.191919191919192
         },
         {
          "function": "sigmoid(z)",
          "value": 0.9865193722991542,
          "z": 4.292929292929292
         },
         {
          "function": "sigmoid(z)",
          "value": 0.9877987357393639,
          "z": 4.3939393939393945
         },
         {
          "function": "sigmoid(z)",
          "value": 0.9889580416625052,
          "z": 4.494949494949495
         },
         {
          "function": "sigmoid(z)",
          "value": 0.990008310063792,
          "z": 4.595959595959595
         },
         {
          "function": "sigmoid(z)",
          "value": 0.9909595941910669,
          "z": 4.696969696969697
         },
         {
          "function": "sigmoid(z)",
          "value": 0.9918210571437178,
          "z": 4.797979797979798
         },
         {
          "function": "sigmoid(z)",
          "value": 0.9926010439502804,
          "z": 4.8989898989899
         },
         {
          "function": "sigmoid(z)",
          "value": 0.9933071490757153,
          "z": 5
         },
         {
          "function": "d_sigmoid(z)/dz",
          "value": 0.006648056670790155,
          "z": -5
         },
         {
          "function": "d_sigmoid(z)/dz",
          "value": 0.007344211499093991,
          "z": -4.898989898989899
         },
         {
          "function": "d_sigmoid(z)/dz",
          "value": 0.008112047750035833,
          "z": -4.797979797979798
         },
         {
          "function": "d_sigmoid(z)/dz",
          "value": 0.008958676871742937,
          "z": -4.696969696969697
         },
         {
          "function": "d_sigmoid(z)/dz",
          "value": 0.009891856068426727,
          "z": -4.595959595959596
         },
         {
          "function": "d_sigmoid(z)/dz",
          "value": 0.010920033493567785,
          "z": -4.494949494949495
         },
         {
          "function": "d_sigmoid(z)/dz",
          "value": 0.012052393411078211,
          "z": -4.393939393939394
         },
         {
          "function": "d_sigmoid(z)/dz",
          "value": 0.01329890037763702,
          "z": -4.292929292929293
         },
         {
          "function": "d_sigmoid(z)/dz",
          "value": 0.014670341233483453,
          "z": -4.191919191919192
         },
         {
          "function": "d_sigmoid(z)/dz",
          "value": 0.016178363372461094,
          "z": -4.090909090909091
         },
         {
          "function": "d_sigmoid(z)/dz",
          "value": 0.01783550738912816,
          "z": -3.9898989898989896
         },
         {
          "function": "d_sigmoid(z)/dz",
          "value": 0.019655231765883206,
          "z": -3.888888888888889
         },
         {
          "function": "d_sigmoid(z)/dz",
          "value": 0.021651926762008604,
          "z": -3.787878787878788
         },
         {
          "function": "d_sigmoid(z)/dz",
          "value": 0.023840914096956448,
          "z": -3.686868686868687
         },
         {
          "function": "d_sigmoid(z)/dz",
          "value": 0.02623842838281381,
          "z": -3.5858585858585856
         },
         {
          "function": "d_sigmoid(z)/dz",
          "value": 0.02886157556094391,
          "z": -3.484848484848485
         },
         {
          "function": "d_sigmoid(z)/dz",
          "value": 0.03172826284697048,
          "z": -3.383838383838384
         },
         {
          "function": "d_sigmoid(z)/dz",
          "value": 0.034857093906931556,
          "z": -3.282828282828283
         },
         {
          "function": "d_sigmoid(z)/dz",
          "value": 0.038267222207424303,
          "z": -3.1818181818181817
         },
         {
          "function": "d_sigmoid(z)/dz",
          "value": 0.04197815475038644,
          "z": -3.080808080808081
         },
         {
          "function": "d_sigmoid(z)/dz",
          "value": 0.04600949778341402,
          "z": -2.9797979797979797
         },
         {
          "function": "d_sigmoid(z)/dz",
          "value": 0.05038063565543919,
          "z": -2.878787878787879
         },
         {
          "function": "d_sigmoid(z)/dz",
          "value": 0.05511033387624472,
          "z": -2.7777777777777777
         },
         {
          "function": "d_sigmoid(z)/dz",
          "value": 0.06021625777478293,
          "z": -2.676767676767677
         },
         {
          "function": "d_sigmoid(z)/dz",
          "value": 0.0657143991011446,
          "z": -2.5757575757575757
         },
         {
          "function": "d_sigmoid(z)/dz",
          "value": 0.07161840467064721,
          "z": -2.474747474747475
         },
         {
          "function": "d_sigmoid(z)/dz",
          "value": 0.07793880391393924,
          "z": -2.3737373737373737
         },
         {
          "function": "d_sigmoid(z)/dz",
          "value": 0.08468213618666184,
          "z": -2.272727272727273
         },
         {
          "function": "d_sigmoid(z)/dz",
          "value": 0.0918499841015443,
          "z": -2.1717171717171717
         },
         {
          "function": "d_sigmoid(z)/dz",
          "value": 0.09943792612248181,
          "z": -2.070707070707071
         },
         {
          "function": "d_sigmoid(z)/dz",
          "value": 0.10743443026275797,
          "z": -1.9696969696969697
         },
         {
          "function": "d_sigmoid(z)/dz",
          "value": 0.11581972087659809,
          "z": -1.868686868686869
         },
         {
          "function": "d_sigmoid(z)/dz",
          "value": 0.12456466194492087,
          "z": -1.7676767676767677
         },
         {
          "function": "d_sigmoid(z)/dz",
          "value": 0.13362971239525193,
          "z": -1.6666666666666665
         },
         {
          "function": "d_sigmoid(z)/dz",
          "value": 0.14296402101701683,
          "z": -1.5656565656565657
         },
         {
          "function": "d_sigmoid(z)/dz",
          "value": 0.15250473925561386,
          "z": -1.4646464646464645
         },
         {
          "function": "d_sigmoid(z)/dz",
          "value": 0.16217663808676092,
          "z": -1.3636363636363638
         },
         {
          "function": "d_sigmoid(z)/dz",
          "value": 0.17189211852886715,
          "z": -1.2626262626262625
         },
         {
          "function": "d_sigmoid(z)/dz",
          "value": 0.18155170228151307,
          "z": -1.1616161616161618
         },
         {
          "function": "d_sigmoid(z)/dz",
          "value": 0.19104507774209661,
          "z": -1.0606060606060606
         },
         {
          "function": "d_sigmoid(z)/dz",
          "value": 0.2002527559405279,
          "z": -0.9595959595959593
         },
         {
          "function": "d_sigmoid(z)/dz",
          "value": 0.20904836022068468,
          "z": -0.858585858585859
         },
         {
          "function": "d_sigmoid(z)/dz",
          "value": 0.21730153340409658,
          "z": -0.7575757575757578
         },
         {
          "function": "d_sigmoid(z)/dz",
          "value": 0.22488139872690713,
          "z": -0.6565656565656566
         },
         {
          "function": "d_sigmoid(z)/dz",
          "value": 0.23166045959779727,
          "z": -0.5555555555555554
         },
         {
          "function": "d_sigmoid(z)/dz",
          "value": 0.2375187731148374,
          "z": -0.45454545454545503
         },
         {
          "function": "d_sigmoid(z)/dz",
          "value": 0.24234818917666093,
          "z": -0.3535353535353538
         },
         {
          "function": "d_sigmoid(z)/dz",
          "value": 0.2460564170117982,
          "z": -0.2525252525252526
         },
         {
          "function": "d_sigmoid(z)/dz",
          "value": 0.24857066938396172,
          "z": -0.15151515151515138
         },
         {
          "function": "d_sigmoid(z)/dz",
          "value": 0.24984064524237257,
          "z": -0.050505050505050164
         },
         {
          "function": "d_sigmoid(z)/dz",
          "value": 0.2498406452423726,
          "z": 0.050505050505050164
         },
         {
          "function": "d_sigmoid(z)/dz",
          "value": 0.24857066938396172,
          "z": 0.15151515151515138
         },
         {
          "function": "d_sigmoid(z)/dz",
          "value": 0.2460564170117982,
          "z": 0.2525252525252526
         },
         {
          "function": "d_sigmoid(z)/dz",
          "value": 0.2423481891766609,
          "z": 0.3535353535353538
         },
         {
          "function": "d_sigmoid(z)/dz",
          "value": 0.23751877311483746,
          "z": 0.45454545454545414
         },
         {
          "function": "d_sigmoid(z)/dz",
          "value": 0.23166045959779727,
          "z": 0.5555555555555554
         },
         {
          "function": "d_sigmoid(z)/dz",
          "value": 0.22488139872690707,
          "z": 0.6565656565656566
         },
         {
          "function": "d_sigmoid(z)/dz",
          "value": 0.21730153340409658,
          "z": 0.7575757575757578
         },
         {
          "function": "d_sigmoid(z)/dz",
          "value": 0.20904836022068476,
          "z": 0.8585858585858581
         },
         {
          "function": "d_sigmoid(z)/dz",
          "value": 0.2002527559405279,
          "z": 0.9595959595959593
         },
         {
          "function": "d_sigmoid(z)/dz",
          "value": 0.19104507774209661,
          "z": 1.0606060606060606
         },
         {
          "function": "d_sigmoid(z)/dz",
          "value": 0.18155170228151307,
          "z": 1.1616161616161618
         },
         {
          "function": "d_sigmoid(z)/dz",
          "value": 0.1718921185288672,
          "z": 1.262626262626262
         },
         {
          "function": "d_sigmoid(z)/dz",
          "value": 0.16217663808676094,
          "z": 1.3636363636363633
         },
         {
          "function": "d_sigmoid(z)/dz",
          "value": 0.15250473925561384,
          "z": 1.4646464646464645
         },
         {
          "function": "d_sigmoid(z)/dz",
          "value": 0.14296402101701688,
          "z": 1.5656565656565657
         },
         {
          "function": "d_sigmoid(z)/dz",
          "value": 0.1336297123952519,
          "z": 1.666666666666667
         },
         {
          "function": "d_sigmoid(z)/dz",
          "value": 0.12456466194492084,
          "z": 1.7676767676767673
         },
         {
          "function": "d_sigmoid(z)/dz",
          "value": 0.11581972087659811,
          "z": 1.8686868686868685
         },
         {
          "function": "d_sigmoid(z)/dz",
          "value": 0.10743443026275797,
          "z": 1.9696969696969697
         },
         {
          "function": "d_sigmoid(z)/dz",
          "value": 0.0994379261224819,
          "z": 2.070707070707071
         },
         {
          "function": "d_sigmoid(z)/dz",
          "value": 0.09184998410154442,
          "z": 2.1717171717171713
         },
         {
          "function": "d_sigmoid(z)/dz",
          "value": 0.08468213618666186,
          "z": 2.2727272727272725
         },
         {
          "function": "d_sigmoid(z)/dz",
          "value": 0.07793880391393922,
          "z": 2.3737373737373737
         },
         {
          "function": "d_sigmoid(z)/dz",
          "value": 0.07161840467064726,
          "z": 2.474747474747475
         },
         {
          "function": "d_sigmoid(z)/dz",
          "value": 0.06571439910114471,
          "z": 2.5757575757575752
         },
         {
          "function": "d_sigmoid(z)/dz",
          "value": 0.060216257774782976,
          "z": 2.6767676767676765
         },
         {
          "function": "d_sigmoid(z)/dz",
          "value": 0.05511033387624478,
          "z": 2.7777777777777777
         },
         {
          "function": "d_sigmoid(z)/dz",
          "value": 0.050380635655439175,
          "z": 2.878787878787879
         },
         {
          "function": "d_sigmoid(z)/dz",
          "value": 0.04600949778341415,
          "z": 2.9797979797979792
         },
         {
          "function": "d_sigmoid(z)/dz",
          "value": 0.04197815475038632,
          "z": 3.0808080808080813
         },
         {
          "function": "d_sigmoid(z)/dz",
          "value": 0.03826722220742441,
          "z": 3.1818181818181817
         },
         {
          "function": "d_sigmoid(z)/dz",
          "value": 0.034857093906931445,
          "z": 3.282828282828282
         },
         {
          "function": "d_sigmoid(z)/dz",
          "value": 0.031728262846970466,
          "z": 3.383838383838384
         },
         {
          "function": "d_sigmoid(z)/dz",
          "value": 0.02886157556094394,
          "z": 3.4848484848484844
         },
         {
          "function": "d_sigmoid(z)/dz",
          "value": 0.026238428382813792,
          "z": 3.5858585858585865
         },
         {
          "function": "d_sigmoid(z)/dz",
          "value": 0.023840914096956527,
          "z": 3.686868686868687
         },
         {
          "function": "d_sigmoid(z)/dz",
          "value": 0.021651926762008528,
          "z": 3.787878787878787
         },
         {
          "function": "d_sigmoid(z)/dz",
          "value": 0.019655231765883265,
          "z": 3.8888888888888893
         },
         {
          "function": "d_sigmoid(z)/dz",
          "value": 0.01783550738912818,
          "z": 3.9898989898989896
         },
         {
          "function": "d_sigmoid(z)/dz",
          "value": 0.016178363372461042,
          "z": 4.09090909090909
         },
         {
          "function": "d_sigmoid(z)/dz",
          "value": 0.014670341233483382,
          "z": 4.191919191919192
         },
         {
          "function": "d_sigmoid(z)/dz",
          "value": 0.013298900377636981,
          "z": 4.292929292929292
         },
         {
          "function": "d_sigmoid(z)/dz",
          "value": 0.012052393411078183,
          "z": 4.3939393939393945
         },
         {
          "function": "d_sigmoid(z)/dz",
          "value": 0.010920033493567802,
          "z": 4.494949494949495
         },
         {
          "function": "d_sigmoid(z)/dz",
          "value": 0.009891856068426704,
          "z": 4.595959595959595
         },
         {
          "function": "d_sigmoid(z)/dz",
          "value": 0.00895867687174287,
          "z": 4.696969696969697
         },
         {
          "function": "d_sigmoid(z)/dz",
          "value": 0.00811204775003585,
          "z": 4.797979797979798
         },
         {
          "function": "d_sigmoid(z)/dz",
          "value": 0.0073442114990939465,
          "z": 4.8989898989899
         },
         {
          "function": "d_sigmoid(z)/dz",
          "value": 0.006648056670790033,
          "z": 5
         }
        ]
       },
       "encoding": {
        "color": {
         "field": "function",
         "type": "nominal"
        },
        "x": {
         "field": "z",
         "type": "quantitative"
        },
        "y": {
         "field": "value",
         "type": "quantitative"
        }
       },
       "height": 500,
       "mark": "line",
       "title": "Sigmoid and her derivate function",
       "width": 800
      },
      "image/png": "[encoded data removed]",
      "text/plain": [
       "<VegaLite 2 object>\n",
       "\n",
       "If you see this message, it means the renderer has not been properly enabled\n",
       "for the frontend that you are using. For more information, see\n",
       "https://altair-viz.github.io/user_guide/troubleshooting.html\n"
      ]
     },
     "execution_count": 10,
     "metadata": {},
     "output_type": "execute_result"
    }
   ],
   "source": [
    "alt.Chart(sigmoid_dz_df).mark_line().encode(\n",
    "    x=\"z:Q\",\n",
    "    y=\"value:Q\",\n",
    "    color=\"function:N\"\n",
    ").properties(\n",
    "    title=\"Sigmoid and her derivate function\",\n",
    "    width=800,\n",
    "    height=500\n",
    ")"
   ]
  },
  {
   "cell_type": "markdown",
   "metadata": {
    "slideshow": {
     "slide_type": "slide"
    }
   },
   "source": [
    "## Aproximación Ingenieril\n",
    "\n",
    "¿Cómo podemos reutilizar lo que conocemos de regresión lineal?\n",
    "\n",
    "Si buscamos minimizar\n",
    "$$J(\\theta) = \\frac{1}{2} \\sum_{i=1}^{m} \\left( h_{\\theta}(x^{(i)}) - y^{(i)}\\right)^2$$\n",
    "Podemos calcular el gradiente y luego utilizar el método del máximo\n",
    "descenso para obtener $\\theta$.\n",
    "\n"
   ]
  },
  {
   "cell_type": "markdown",
   "metadata": {
    "slideshow": {
     "slide_type": "slide"
    }
   },
   "source": [
    "El cálculo del gradiente es directo:\n",
    "\n",
    "$$\\begin{aligned}\n",
    "\\frac{\\partial J(\\theta)}{\\partial \\theta_k}\n",
    "&= \\sum_{i=1}^{m} \\left( h_{\\theta}(x^{(i)}) - y^{(i)}\\right) \\frac{\\partial}{\\partial \\theta_k} h_{\\theta}(x^{(i)}) \\\\\n",
    "&= \\sum_{i=1}^{m} \\left( h_{\\theta}(x^{(i)}) - y^{(i)}\\right) \\frac{\\partial}{\\partial \\theta_k} g(\\theta^T x^{(i)}) \\\\\n",
    "&= \\sum_{i=1}^{m} \\left( h_{\\theta}(x^{(i)}) - y^{(i)}\\right) h_{\\theta}(x^{(i)}) \\left(1-h_{\\theta}(x^{(i)})\\right) \\frac{\\partial}{\\partial \\theta_k} (\\theta^T x^{(i)}) \\\\\n",
    "&= \\sum_{i=1}^{m} \\left( h_{\\theta}(x^{(i)}) - y^{(i)}\\right) h_{\\theta}(x^{(i)}) \\left(1-h_{\\theta}(x^{(i)})\\right) x^{(i)}_k\\end{aligned}$$\n"
   ]
  },
  {
   "cell_type": "markdown",
   "metadata": {
    "slideshow": {
     "slide_type": "slide"
    }
   },
   "source": [
    "¿Hay alguna forma de escribir todo esto de manera matricial? Recordemos\n",
    "que si las componentes eran\n",
    "\n",
    "$$\\begin{aligned}\n",
    "\\sum_{i=1}^{m} \\left( h_{\\theta}(x^{(i)}) - y^{(i)}\\right) x^{(i)}_k = \\sum_{i=1}^{m}  x^{(i)}_k \\left( h_{\\theta}(x^{(i)}) - y^{(i)}\\right)\\end{aligned}$$\n",
    "\n",
    "podíamos escribirlo vectorialmente como $$X^T (X\\theta - Y)$$\n",
    "\n"
   ]
  },
  {
   "cell_type": "markdown",
   "metadata": {
    "slideshow": {
     "slide_type": "slide"
    }
   },
   "source": [
    "Luego, para\n",
    "\n",
    "$$\\begin{aligned}\n",
    "\\frac{\\partial J(\\theta)}{\\partial \\theta_k}\n",
    "&= \\sum_{i=1}^{m} \\left( h_{\\theta}(x^{(i)}) - y^{(i)}\\right) h_{\\theta}(x^{(i)}) \\left(1-h_{\\theta}(x^{(i)})\\right) x^{(i)}_k \\\\\n",
    "&= \\sum_{i=1}^{m}  x^{(i)}_k \\left( h_{\\theta}(x^{(i)}) - y^{(i)}\\right) h_{\\theta}(x^{(i)}) \\left(1-h_{\\theta}(x^{(i)})\\right)\\end{aligned}$$\n",
    "\n",
    "podemos escribirlo vectorialmente como\n",
    "$$\\nabla_{\\theta} J(\\theta) = X^T  \\Big[ (g(X\\theta) - Y) \\odot g(X\\theta) \\odot (1-g(X\\theta)) \\Big]$$\n",
    "donde $\\odot$ es la multiplicación elemento a elemento (element-wise)."
   ]
  },
  {
   "cell_type": "markdown",
   "metadata": {
    "slideshow": {
     "slide_type": "slide"
    }
   },
   "source": [
    "**Observación crucial:**\n",
    "$$\\nabla_{\\theta} J(\\theta) = X^T  \\Big[ (g(X\\theta) - Y) \\odot g(X\\theta) \\odot (1-g(X\\theta)) \\Big]$$\n",
    "no permite construir un sistema lineal para $\\theta$, por lo cual sólo\n",
    "podemos resolver iterativamente.\n"
   ]
  },
  {
   "cell_type": "markdown",
   "metadata": {
    "slideshow": {
     "slide_type": "slide"
    }
   },
   "source": [
    "Por\n",
    "lo tanto tenemos el algoritmo\n",
    "\n",
    "$$\\begin{aligned}\n",
    "\\theta^{(n+1)} & = \\theta^{(n)} - \\alpha \\nabla_{\\theta} J(\\theta^{(n)}) \\\\\n",
    "\\nabla_{\\theta} J(\\theta) &= X^T  \\Big[ (g(X\\theta) - Y) \\odot g(X\\theta) \\odot (1-g(X\\theta)) \\Big]\\end{aligned}$$\n",
    "\n"
   ]
  },
  {
   "cell_type": "markdown",
   "metadata": {
    "slideshow": {
     "slide_type": "slide"
    }
   },
   "source": [
    "El código sería el siguiente:"
   ]
  },
  {
   "cell_type": "code",
   "execution_count": 11,
   "metadata": {},
   "outputs": [],
   "source": [
    "def norm2_error_logistic_regression(X, Y, theta0, tol=1E-6):\n",
    "    converged = False\n",
    "    alpha = 0.01/len(Y)\n",
    "    theta = theta0\n",
    "    while not converged:\n",
    "        H = sigmoid(np.dot(X, theta))\n",
    "        gradient = np.dot(X.T, (H-Y)*H*(1-H))\n",
    "        new_theta = theta - alpha * gradient\n",
    "        converged = np.linalg.norm(theta-new_theta) < tol * np.linalg.norm(theta) \n",
    "        theta = new_theta\n",
    "    return theta\n",
    "\n",
    "# def sigmoid(z):\n",
    "#     return 1./(1+np.exp(-z))"
   ]
  },
  {
   "cell_type": "markdown",
   "metadata": {
    "slideshow": {
     "slide_type": "slide"
    }
   },
   "source": [
    "## Interpretación Probabilística\n",
    "\n",
    "¿Es la derivación anterior\n",
    "probabilísticamente correcta?\n",
    "\n",
    "Asumamos que la pertenencia a los grupos está dado por\n",
    "\n",
    "$$\\begin{aligned}\n",
    "\\mathbb{P}[y = 1| \\ x ; \\theta ] & = h_\\theta(x) \\\\\n",
    "\\mathbb{P}[y = 0| \\ x ; \\theta ] & = 1 - h_\\theta(x)\\end{aligned}$$\n",
    "\n",
    "Esto es, una distribución de Bernoulli con $p=h_\\theta(x)$.\\\n",
    "Las expresiones anteriores pueden escribirse de manera más compacta como\n",
    "\n",
    "$$\\begin{aligned}\n",
    "\\mathbb{P}[y | \\ x ; \\theta ] & = (h_\\theta(x))^y (1 - h_\\theta(x))^{(1-y)} \\\\\\end{aligned}$$\n"
   ]
  },
  {
   "cell_type": "markdown",
   "metadata": {
    "slideshow": {
     "slide_type": "slide"
    }
   },
   "source": [
    "La función de verosimilitud $L(\\theta)$ nos\n",
    "permite entender que tan probable es encontrar los datos observados,\n",
    "para una elección del parámetro $\\theta$.\n",
    "\n",
    "$$\\begin{aligned}\n",
    "L(\\theta) \n",
    "&= \\prod_{i=1}^{m} \\mathbb{P}[y^{(i)}| x^{(i)}; \\theta ] \\\\\n",
    "&= \\prod_{i=1}^{m} \\Big(h_{\\theta}(x^{(i)})\\Big)^{y^{(i)}} \\Big(1 - h_\\theta(x^{(i)})\\Big)^{(1-y^{(i)})}\\end{aligned}$$\n",
    "\n",
    "Nos gustaría encontrar el parámetro $\\theta$ que más probablemente haya\n",
    "generado los datos observados, es decir, el parámetro $\\theta$ que\n",
    "maximiza la función de verosimilitud.\n"
   ]
  },
  {
   "cell_type": "markdown",
   "metadata": {
    "slideshow": {
     "slide_type": "slide"
    }
   },
   "source": [
    "Calculamos la log-verosimilitud:\n",
    "\n",
    "$$\\begin{aligned}\n",
    "l(\\theta) \n",
    "&= \\log L(\\theta) \\\\\n",
    "&= \\log \\prod_{i=1}^{m} (h_\\theta(x^{(i)}))^{y^{(i)}} (1 - h_\\theta(x^{(i)}))^{(1-y^{(i)})} \\\\\n",
    "&= \\sum_{i=1}^{m} y^{(i)}\\log (h_\\theta(x^{(i)})) + (1-y^{(i)}) \\log (1 - h_\\theta(x^{(i)}))\\end{aligned}$$\n",
    "\n",
    "No existe una fórmula cerrada que nos permita obtener el máximo de la\n",
    "log-verosimitud. Pero podemos utilizar nuevamente el método del\n",
    "gradiente máximo.\n"
   ]
  },
  {
   "cell_type": "markdown",
   "metadata": {
    "slideshow": {
     "slide_type": "slide"
    }
   },
   "source": [
    "Recordemos que si\n",
    "\n",
    "$$\\begin{aligned}\n",
    "g(z) = \\frac{1}{1+e^{-z}}\\end{aligned}$$\n",
    "\n",
    "Entonces\n",
    "\n",
    "$$\\begin{aligned}\n",
    "g'(z) &= g(z)(1-g(z))\\end{aligned}$$\n",
    "\n",
    "y luego tenemos que\n",
    "\n",
    "$$\\begin{aligned}\n",
    "\\frac{\\partial}{\\partial \\theta_k} h_\\theta(x) &= h_\\theta(x) (1-h_\\theta(x)) x_k\\end{aligned}$$\n"
   ]
  },
  {
   "cell_type": "markdown",
   "metadata": {
    "slideshow": {
     "slide_type": "slide"
    }
   },
   "source": [
    "$$\\begin{aligned}\n",
    "\\frac{\\partial}{\\partial \\theta_k} l(\\theta) &=\n",
    "\\frac{\\partial}{\\partial \\theta_k}  \\sum_{i=1}^{m} y^{(i)}\\log (h_\\theta(x^{(i)})) + (1-y^{(i)}) \\log (1 - h_\\theta(x^{(i)})) \\\\\n",
    "&= \\sum_{i=1}^{m} y^{(i)}\\frac{\\partial}{\\partial \\theta_k}   \\log (h_\\theta(x^{(i)})) + (1-y^{(i)}) \\frac{\\partial}{\\partial \\theta_k}  \\log (1 - h_\\theta(x^{(i)})) \\\\\n",
    "&= \\sum_{i=1}^{m} y^{(i)}\\frac{1}{h_\\theta(x^{(i)})}\\frac{\\partial h_\\theta(x^{(i)})}{\\partial \\theta_k} \n",
    "+ (1-y^{(i)}) \\frac{1}{1 - h_\\theta(x^{(i)})} \\frac{\\partial (1-h_\\theta(x^{(i)}))}{\\partial \\theta_k} \\\\\n",
    "&= \\sum_{i=1}^{m} y^{(i)}(1-h_\\theta(x^{(i)})) x^{(i)}- (1-y^{(i)}) h_\\theta(x^{(i)}) x^{(i)}\\\\\n",
    "&= \\sum_{i=1}^{m} y^{(i)}x^{(i)}- y^{(i)}h_\\theta(x^{(i)}) x^{(i)}- h_\\theta(x^{(i)}) x^{(i)}+ y^{(i)}h_\\theta(x^{(i)}) x^{(i)}\\\\\n",
    "&= \\sum_{i=1}^{m} (y^{(i)}-h_\\theta(x^{(i)})) x^{(i)}\\end{aligned}$$\n"
   ]
  },
  {
   "cell_type": "markdown",
   "metadata": {
    "slideshow": {
     "slide_type": "slide"
    }
   },
   "source": [
    "Es decir, para maximizar la log-verosimilitud\n",
    "obtenemos igual que para la regresión lineal:\n",
    "\n",
    "$$\\begin{aligned}\n",
    "\\theta^{(n+1)} & = \\theta^{(n)} - \\alpha \\nabla_{\\theta} l(\\theta^{(n)}) \\\\\n",
    "\\frac{\\partial l(\\theta)}{\\partial \\theta_k}\n",
    "&= \\sum_{i=1}^{m} \\left( h_{\\theta}(x^{(i)}) - y^{(i)}\\right) x^{(i)}_k\\end{aligned}$$\n",
    "\n",
    "Aunque, en el caso de regresión logística, se tiene\n",
    "$h_\\theta(x)=1/(1+e^{-x^T\\theta})$\n",
    "\n",
    "OBS: La elección de $\\alpha$ es crucial para la convergencia. En\n",
    "particular, $0.01/m$ funciona bien.\n",
    "\n"
   ]
  },
  {
   "cell_type": "markdown",
   "metadata": {
    "slideshow": {
     "slide_type": "slide"
    }
   },
   "source": [
    "## Recuerdo de la aproximación Ingenieril\n",
    "\n",
    "Por\n",
    "lo tanto tenemos el algoritmo\n",
    "\n",
    "$$\\begin{aligned}\n",
    "\\theta^{(n+1)} & = \\theta^{(n)} - \\alpha \\nabla_{\\theta} J(\\theta^{(n)}) \\\\\n",
    "\\nabla_{\\theta} J(\\theta) &= X^T  \\Big[ (g(X\\theta) - Y) \\odot g(X\\theta) \\odot (1-g(X\\theta)) \\Big]\\end{aligned}$$\n",
    "\n"
   ]
  },
  {
   "cell_type": "markdown",
   "metadata": {
    "slideshow": {
     "slide_type": "slide"
    }
   },
   "source": [
    "## Interpretación Probabilística\n",
    "\n",
    "Es decir, para maximizar la log-verosimilitud\n",
    "obtenemos igual que para la regresión lineal:\n",
    "\n",
    "$$\\begin{aligned}\n",
    "\\theta^{(n+1)} & = \\theta^{(n)} - \\alpha \\nabla_{\\theta} l(\\theta^{(n)}) \\\\\n",
    "\\frac{\\partial l(\\theta)}{\\partial \\theta_k}\n",
    "&= \\sum_{i=1}^{m} \\left( h_{\\theta}(x^{(i)}) - y^{(i)}\\right) x^{(i)}_k\\end{aligned}$$\n",
    "\n",
    "Aunque, en el caso de regresión logística, se tiene\n",
    "$h_\\theta(x)=1/(1+e^{-x^T\\theta})$\n",
    "\n",
    "OBS: La elección de $\\alpha$ es crucial para la convergencia. En\n",
    "particular, $0.01/m$ funciona bien.\n",
    "\n"
   ]
  },
  {
   "cell_type": "code",
   "execution_count": 12,
   "metadata": {
    "slideshow": {
     "slide_type": "slide"
    }
   },
   "outputs": [],
   "source": [
    "def likelihood_logistic_regression(X, Y, theta0, tol=1E-6):\n",
    "    converged = False\n",
    "    alpha = 0.01/len(Y)\n",
    "    theta = theta0\n",
    "    while not converged:\n",
    "        H = sigmoid(np.dot(X, theta))\n",
    "        gradient = np.dot(X.T, H-Y)\n",
    "        new_theta = theta - alpha * gradient\n",
    "        converged = np.linalg.norm(theta-new_theta) < tol * np.linalg.norm(theta) \n",
    "        theta = new_theta\n",
    "    return theta\n",
    "\n",
    "# def sigmoid(z):\n",
    "#     return 1. / (1 + np.exp(-z))"
   ]
  },
  {
   "cell_type": "markdown",
   "metadata": {
    "slideshow": {
     "slide_type": "slide"
    }
   },
   "source": [
    "## Interpretación del resultado\n",
    "\n",
    "* ¿Qué significa el parámetro obtenido $\\theta$?\n",
    "* ¿Cómo relacionamos la pertenencia a una clase (discreto) con la hipótesis $h_{\\theta}(x)$ (continuo)."
   ]
  },
  {
   "cell_type": "markdown",
   "metadata": {
    "slideshow": {
     "slide_type": "slide"
    }
   },
   "source": [
    "## 1. Aplicación a Datos del Challenger\n",
    "\n",
    "Apliquemos lo anterior a los datos que tenemos del Challenger."
   ]
  },
  {
   "cell_type": "code",
   "execution_count": 13,
   "metadata": {},
   "outputs": [
    {
     "data": {
      "text/html": [
       "<div>\n",
       "<style scoped>\n",
       "    .dataframe tbody tr th:only-of-type {\n",
       "        vertical-align: middle;\n",
       "    }\n",
       "\n",
       "    .dataframe tbody tr th {\n",
       "        vertical-align: top;\n",
       "    }\n",
       "\n",
       "    .dataframe thead th {\n",
       "        text-align: right;\n",
       "    }\n",
       "</style>\n",
       "<table border=\"1\" class=\"dataframe\">\n",
       "  <thead>\n",
       "    <tr style=\"text-align: right;\">\n",
       "      <th></th>\n",
       "      <th>temp_f</th>\n",
       "      <th>nm_bad_rings</th>\n",
       "      <th>temp_c</th>\n",
       "      <th>is_failure</th>\n",
       "      <th>ds_failure</th>\n",
       "    </tr>\n",
       "  </thead>\n",
       "  <tbody>\n",
       "    <tr>\n",
       "      <th>0</th>\n",
       "      <td>53</td>\n",
       "      <td>3</td>\n",
       "      <td>11.67</td>\n",
       "      <td>0</td>\n",
       "      <td>Falla</td>\n",
       "    </tr>\n",
       "    <tr>\n",
       "      <th>1</th>\n",
       "      <td>56</td>\n",
       "      <td>1</td>\n",
       "      <td>13.33</td>\n",
       "      <td>0</td>\n",
       "      <td>Falla</td>\n",
       "    </tr>\n",
       "    <tr>\n",
       "      <th>2</th>\n",
       "      <td>57</td>\n",
       "      <td>1</td>\n",
       "      <td>13.89</td>\n",
       "      <td>0</td>\n",
       "      <td>Falla</td>\n",
       "    </tr>\n",
       "    <tr>\n",
       "      <th>3</th>\n",
       "      <td>63</td>\n",
       "      <td>0</td>\n",
       "      <td>17.22</td>\n",
       "      <td>1</td>\n",
       "      <td>Éxito</td>\n",
       "    </tr>\n",
       "    <tr>\n",
       "      <th>4</th>\n",
       "      <td>66</td>\n",
       "      <td>0</td>\n",
       "      <td>18.89</td>\n",
       "      <td>1</td>\n",
       "      <td>Éxito</td>\n",
       "    </tr>\n",
       "  </tbody>\n",
       "</table>\n",
       "</div>"
      ],
      "text/plain": [
       "   temp_f  nm_bad_rings  temp_c  is_failure ds_failure\n",
       "0      53             3   11.67           0      Falla\n",
       "1      56             1   13.33           0      Falla\n",
       "2      57             1   13.89           0      Falla\n",
       "3      63             0   17.22           1      Éxito\n",
       "4      66             0   18.89           1      Éxito"
      ]
     },
     "execution_count": 13,
     "metadata": {},
     "output_type": "execute_result"
    }
   ],
   "source": [
    "challenger.head()"
   ]
  },
  {
   "cell_type": "code",
   "execution_count": 14,
   "metadata": {},
   "outputs": [
    {
     "name": "stdout",
     "output_type": "stream",
     "text": [
      "theta_0 = [0.70833333 0.03362741]\n",
      "theta_J = [-4.47224705  0.26847226]\n",
      "theta_l = [-5.27415194  0.30262315]\n"
     ]
    }
   ],
   "source": [
    "X = challenger.loc[:, [\"temp_c\"]].assign(intercept=1)[[\"intercept\", \"temp_c\"]].values\n",
    "y = challenger[\"is_failure\"].values\n",
    "theta_0 = y.mean() / X.mean(axis=0)\n",
    "print(f\"theta_0 = {theta_0}\")\n",
    "theta_J = norm2_error_logistic_regression(X, y, theta_0)\n",
    "print(f\"theta_J = {theta_J}\")\n",
    "theta_l = likelihood_logistic_regression(X, y, theta_0)\n",
    "print(f\"theta_l = {theta_l}\")"
   ]
  },
  {
   "cell_type": "markdown",
   "metadata": {
    "slideshow": {
     "slide_type": "slide"
    }
   },
   "source": [
    "Visualización de resultados"
   ]
  },
  {
   "cell_type": "code",
   "execution_count": 15,
   "metadata": {},
   "outputs": [
    {
     "data": {
      "text/html": [
       "<div>\n",
       "<style scoped>\n",
       "    .dataframe tbody tr th:only-of-type {\n",
       "        vertical-align: middle;\n",
       "    }\n",
       "\n",
       "    .dataframe tbody tr th {\n",
       "        vertical-align: top;\n",
       "    }\n",
       "\n",
       "    .dataframe thead th {\n",
       "        text-align: right;\n",
       "    }\n",
       "</style>\n",
       "<table border=\"1\" class=\"dataframe\">\n",
       "  <thead>\n",
       "    <tr style=\"text-align: right;\">\n",
       "      <th></th>\n",
       "      <th>temp_c</th>\n",
       "      <th>prediction</th>\n",
       "      <th>value</th>\n",
       "    </tr>\n",
       "  </thead>\n",
       "  <tbody>\n",
       "    <tr>\n",
       "      <th>0</th>\n",
       "      <td>11.67</td>\n",
       "      <td>norm_2_error_prediction</td>\n",
       "      <td>0.207646</td>\n",
       "    </tr>\n",
       "    <tr>\n",
       "      <th>1</th>\n",
       "      <td>13.33</td>\n",
       "      <td>norm_2_error_prediction</td>\n",
       "      <td>0.290386</td>\n",
       "    </tr>\n",
       "    <tr>\n",
       "      <th>2</th>\n",
       "      <td>13.89</td>\n",
       "      <td>norm_2_error_prediction</td>\n",
       "      <td>0.322312</td>\n",
       "    </tr>\n",
       "    <tr>\n",
       "      <th>3</th>\n",
       "      <td>17.22</td>\n",
       "      <td>norm_2_error_prediction</td>\n",
       "      <td>0.537640</td>\n",
       "    </tr>\n",
       "    <tr>\n",
       "      <th>4</th>\n",
       "      <td>18.89</td>\n",
       "      <td>norm_2_error_prediction</td>\n",
       "      <td>0.645472</td>\n",
       "    </tr>\n",
       "  </tbody>\n",
       "</table>\n",
       "</div>"
      ],
      "text/plain": [
       "   temp_c               prediction     value\n",
       "0   11.67  norm_2_error_prediction  0.207646\n",
       "1   13.33  norm_2_error_prediction  0.290386\n",
       "2   13.89  norm_2_error_prediction  0.322312\n",
       "3   17.22  norm_2_error_prediction  0.537640\n",
       "4   18.89  norm_2_error_prediction  0.645472"
      ]
     },
     "execution_count": 15,
     "metadata": {},
     "output_type": "execute_result"
    }
   ],
   "source": [
    "predict_df = pd.DataFrame({\"temp_c\": X[:, 1],\n",
    "                           \"norm_2_error_prediction\": sigmoid(np.dot(X, theta_J)),\n",
    "                           \"likelihood_prediction\": sigmoid(np.dot(X, theta_l))\n",
    "                          }).melt(id_vars=\"temp_c\", value_vars=[\"norm_2_error_prediction\", \"likelihood_prediction\"], var_name=\"prediction\")\n",
    "predict_df.head()"
   ]
  },
  {
   "cell_type": "code",
   "execution_count": 16,
   "metadata": {},
   "outputs": [
    {
     "data": {
      "application/vnd.vegalite.v2+json": {
       "$schema": "https://vega.github.io/schema/vega-lite/v2.6.0.json",
       "config": {
        "view": {
         "height": 300,
         "width": 400
        }
       },
       "datasets": {
        "data-726a0a84a3aa57462e455441d7f71c23": [
         {
          "prediction": "norm_2_error_prediction",
          "temp_c": 11.67,
          "value": 0.20764564050505896
         },
         {
          "prediction": "norm_2_error_prediction",
          "temp_c": 13.33,
          "value": 0.29038565056532617
         },
         {
          "prediction": "norm_2_error_prediction",
          "temp_c": 13.89,
          "value": 0.32231192751299914
         },
         {
          "prediction": "norm_2_error_prediction",
          "temp_c": 17.22,
          "value": 0.5376399841384412
         },
         {
          "prediction": "norm_2_error_prediction",
          "temp_c": 18.89,
          "value": 0.645471884019057
         },
         {
          "prediction": "norm_2_error_prediction",
          "temp_c": 19.44,
          "value": 0.6784927592963386
         },
         {
          "prediction": "norm_2_error_prediction",
          "temp_c": 19.44,
          "value": 0.6784927592963386
         },
         {
          "prediction": "norm_2_error_prediction",
          "temp_c": 19.44,
          "value": 0.6784927592963386
         },
         {
          "prediction": "norm_2_error_prediction",
          "temp_c": 20,
          "value": 0.7103733937402671
         },
         {
          "prediction": "norm_2_error_prediction",
          "temp_c": 20.56,
          "value": 0.7403027465893517
         },
         {
          "prediction": "norm_2_error_prediction",
          "temp_c": 21.11,
          "value": 0.7676702216921811
         },
         {
          "prediction": "norm_2_error_prediction",
          "temp_c": 21.11,
          "value": 0.7676702216921811
         },
         {
          "prediction": "norm_2_error_prediction",
          "temp_c": 21.11,
          "value": 0.7676702216921811
         },
         {
          "prediction": "norm_2_error_prediction",
          "temp_c": 21.11,
          "value": 0.7676702216921811
         },
         {
          "prediction": "norm_2_error_prediction",
          "temp_c": 22.22,
          "value": 0.8165590829481922
         },
         {
          "prediction": "norm_2_error_prediction",
          "temp_c": 22.78,
          "value": 0.8380175572690866
         },
         {
          "prediction": "norm_2_error_prediction",
          "temp_c": 23.89,
          "value": 0.8745229113659404
         },
         {
          "prediction": "norm_2_error_prediction",
          "temp_c": 23.89,
          "value": 0.8745229113659404
         },
         {
          "prediction": "norm_2_error_prediction",
          "temp_c": 24.44,
          "value": 0.8898505117370193
         },
         {
          "prediction": "norm_2_error_prediction",
          "temp_c": 24.44,
          "value": 0.8898505117370193
         },
         {
          "prediction": "norm_2_error_prediction",
          "temp_c": 25.56,
          "value": 0.9160541854301861
         },
         {
          "prediction": "norm_2_error_prediction",
          "temp_c": 26.11,
          "value": 0.9267335798914986
         },
         {
          "prediction": "norm_2_error_prediction",
          "temp_c": 26.67,
          "value": 0.9363093529253705
         },
         {
          "prediction": "norm_2_error_prediction",
          "temp_c": 27.22,
          "value": 0.9445678592495259
         },
         {
          "prediction": "likelihood_prediction",
          "temp_c": 11.67,
          "value": 0.14899061734626529
         },
         {
          "prediction": "likelihood_prediction",
          "temp_c": 13.33,
          "value": 0.22440371612905116
         },
         {
          "prediction": "likelihood_prediction",
          "temp_c": 13.89,
          "value": 0.25526686165099205
         },
         {
          "prediction": "likelihood_prediction",
          "temp_c": 17.22,
          "value": 0.4842598626666697
         },
         {
          "prediction": "likelihood_prediction",
          "temp_c": 18.89,
          "value": 0.6088305857902669
         },
         {
          "prediction": "likelihood_prediction",
          "temp_c": 19.44,
          "value": 0.6476766069970044
         },
         {
          "prediction": "likelihood_prediction",
          "temp_c": 19.44,
          "value": 0.6476766069970044
         },
         {
          "prediction": "likelihood_prediction",
          "temp_c": 19.44,
          "value": 0.6476766069970044
         },
         {
          "prediction": "likelihood_prediction",
          "temp_c": 20,
          "value": 0.6853159787217908
         },
         {
          "prediction": "likelihood_prediction",
          "temp_c": 20.56,
          "value": 0.7206684885846014
         },
         {
          "prediction": "likelihood_prediction",
          "temp_c": 21.11,
          "value": 0.7529155108387289
         },
         {
          "prediction": "likelihood_prediction",
          "temp_c": 21.11,
          "value": 0.7529155108387289
         },
         {
          "prediction": "likelihood_prediction",
          "temp_c": 21.11,
          "value": 0.7529155108387289
         },
         {
          "prediction": "likelihood_prediction",
          "temp_c": 21.11,
          "value": 0.7529155108387289
         },
         {
          "prediction": "likelihood_prediction",
          "temp_c": 22.22,
          "value": 0.8100191129168822
         },
         {
          "prediction": "likelihood_prediction",
          "temp_c": 22.78,
          "value": 0.8347404172633671
         },
         {
          "prediction": "likelihood_prediction",
          "temp_c": 23.89,
          "value": 0.8760467550062282
         },
         {
          "prediction": "likelihood_prediction",
          "temp_c": 23.89,
          "value": 0.8760467550062282
         },
         {
          "prediction": "likelihood_prediction",
          "temp_c": 24.44,
          "value": 0.8930191095349682
         },
         {
          "prediction": "likelihood_prediction",
          "temp_c": 24.44,
          "value": 0.8930191095349682
         },
         {
          "prediction": "likelihood_prediction",
          "temp_c": 25.56,
          "value": 0.921354588494619
         },
         {
          "prediction": "likelihood_prediction",
          "temp_c": 26.11,
          "value": 0.9326004426862397
         },
         {
          "prediction": "likelihood_prediction",
          "temp_c": 26.67,
          "value": 0.9425030564248079
         },
         {
          "prediction": "likelihood_prediction",
          "temp_c": 27.22,
          "value": 0.9508860021668478
         }
        ],
        "data-b94e39780e6758f116d868e224411c05": [
         {
          "ds_failure": "Falla",
          "is_failure": 0,
          "nm_bad_rings": 3,
          "temp_c": 11.67,
          "temp_f": 53
         },
         {
          "ds_failure": "Falla",
          "is_failure": 0,
          "nm_bad_rings": 1,
          "temp_c": 13.33,
          "temp_f": 56
         },
         {
          "ds_failure": "Falla",
          "is_failure": 0,
          "nm_bad_rings": 1,
          "temp_c": 13.89,
          "temp_f": 57
         },
         {
          "ds_failure": "Éxito",
          "is_failure": 1,
          "nm_bad_rings": 0,
          "temp_c": 17.22,
          "temp_f": 63
         },
         {
          "ds_failure": "Éxito",
          "is_failure": 1,
          "nm_bad_rings": 0,
          "temp_c": 18.89,
          "temp_f": 66
         },
         {
          "ds_failure": "Éxito",
          "is_failure": 1,
          "nm_bad_rings": 0,
          "temp_c": 19.44,
          "temp_f": 67
         },
         {
          "ds_failure": "Éxito",
          "is_failure": 1,
          "nm_bad_rings": 0,
          "temp_c": 19.44,
          "temp_f": 67
         },
         {
          "ds_failure": "Éxito",
          "is_failure": 1,
          "nm_bad_rings": 0,
          "temp_c": 19.44,
          "temp_f": 67
         },
         {
          "ds_failure": "Éxito",
          "is_failure": 1,
          "nm_bad_rings": 0,
          "temp_c": 20,
          "temp_f": 68
         },
         {
          "ds_failure": "Éxito",
          "is_failure": 1,
          "nm_bad_rings": 0,
          "temp_c": 20.56,
          "temp_f": 69
         },
         {
          "ds_failure": "Éxito",
          "is_failure": 1,
          "nm_bad_rings": 0,
          "temp_c": 21.11,
          "temp_f": 70
         },
         {
          "ds_failure": "Falla",
          "is_failure": 0,
          "nm_bad_rings": 1,
          "temp_c": 21.11,
          "temp_f": 70
         },
         {
          "ds_failure": "Falla",
          "is_failure": 0,
          "nm_bad_rings": 1,
          "temp_c": 21.11,
          "temp_f": 70
         },
         {
          "ds_failure": "Falla",
          "is_failure": 0,
          "nm_bad_rings": 1,
          "temp_c": 21.11,
          "temp_f": 70
         },
         {
          "ds_failure": "Éxito",
          "is_failure": 1,
          "nm_bad_rings": 0,
          "temp_c": 22.22,
          "temp_f": 72
         },
         {
          "ds_failure": "Éxito",
          "is_failure": 1,
          "nm_bad_rings": 0,
          "temp_c": 22.78,
          "temp_f": 73
         },
         {
          "ds_failure": "Éxito",
          "is_failure": 1,
          "nm_bad_rings": 0,
          "temp_c": 23.89,
          "temp_f": 75
         },
         {
          "ds_failure": "Falla",
          "is_failure": 0,
          "nm_bad_rings": 2,
          "temp_c": 23.89,
          "temp_f": 75
         },
         {
          "ds_failure": "Éxito",
          "is_failure": 1,
          "nm_bad_rings": 0,
          "temp_c": 24.44,
          "temp_f": 76
         },
         {
          "ds_failure": "Éxito",
          "is_failure": 1,
          "nm_bad_rings": 0,
          "temp_c": 24.44,
          "temp_f": 76
         },
         {
          "ds_failure": "Éxito",
          "is_failure": 1,
          "nm_bad_rings": 0,
          "temp_c": 25.56,
          "temp_f": 78
         },
         {
          "ds_failure": "Éxito",
          "is_failure": 1,
          "nm_bad_rings": 0,
          "temp_c": 26.11,
          "temp_f": 79
         },
         {
          "ds_failure": "Éxito",
          "is_failure": 1,
          "nm_bad_rings": 0,
          "temp_c": 26.67,
          "temp_f": 80
         },
         {
          "ds_failure": "Éxito",
          "is_failure": 1,
          "nm_bad_rings": 0,
          "temp_c": 27.22,
          "temp_f": 81
         }
        ]
       },
       "layer": [
        {
         "data": {
          "name": "data-726a0a84a3aa57462e455441d7f71c23"
         },
         "encoding": {
          "color": {
           "field": "prediction",
           "type": "nominal"
          },
          "x": {
           "field": "temp_c",
           "scale": {
            "zero": false
           },
           "title": "Temperature [C]",
           "type": "quantitative"
          },
          "y": {
           "field": "value",
           "scale": {
            "padding": 0.5
           },
           "type": "quantitative"
          }
         },
         "mark": "line"
        },
        {
         "data": {
          "name": "data-b94e39780e6758f116d868e224411c05"
         },
         "encoding": {
          "color": {
           "field": "ds_failure",
           "type": "nominal"
          },
          "x": {
           "field": "temp_c",
           "scale": {
            "zero": false
           },
           "title": "Temperature [C]",
           "type": "quantitative"
          },
          "y": {
           "field": "is_failure",
           "scale": {
            "padding": 0.5
           },
           "title": "Success/Failure",
           "type": "quantitative"
          }
         },
         "height": 500,
         "mark": {
          "size": 100,
          "type": "circle"
         },
         "title": "Exito o Falla en lanzamiento de Challenger",
         "width": 800
        }
       ],
       "title": "Data and Prediction Failure"
      },
      "image/png": "[encoded data removed]",
      "text/plain": [
       "<VegaLite 2 object>\n",
       "\n",
       "If you see this message, it means the renderer has not been properly enabled\n",
       "for the frontend that you are using. For more information, see\n",
       "https://altair-viz.github.io/user_guide/troubleshooting.html\n"
      ]
     },
     "execution_count": 16,
     "metadata": {},
     "output_type": "execute_result"
    }
   ],
   "source": [
    "prediction_chart = alt.Chart(predict_df).mark_line().encode(\n",
    "    x=alt.X(\"temp_c:Q\", scale=alt.Scale(zero=False), title=\"Temperature [C]\"),\n",
    "    y=alt.Y(\"value:Q\", scale=alt.Scale(padding=0.5)),\n",
    "    color=\"prediction:N\"\n",
    ")\n",
    "(prediction_chart + failure_chart).properties(title=\"Data and Prediction Failure\")"
   ]
  },
  {
   "cell_type": "markdown",
   "metadata": {
    "slideshow": {
     "slide_type": "slide"
    }
   },
   "source": [
    "## 2. Aplicación al Iris Dataset\n",
    "\n",
    "Hay\n",
    "definidas $3$ clases, pero nosotros sólo podemos clasificar en $2$ clases. ¿Qué hacer?"
   ]
  },
  {
   "cell_type": "code",
   "execution_count": 17,
   "metadata": {},
   "outputs": [
    {
     "name": "stdout",
     "output_type": "stream",
     "text": [
      "['setosa' 'versicolor' 'virginica']\n",
      "[5.1 3.5 1.4 0.2] 0\n",
      "[4.9 3.  1.4 0.2] 0\n",
      "[4.7 3.2 1.3 0.2] 0\n",
      "[4.6 3.1 1.5 0.2] 0\n",
      "[5.  3.6 1.4 0.2] 0\n",
      "[5.4 3.9 1.7 0.4] 0\n",
      "[4.6 3.4 1.4 0.3] 0\n",
      "[5.  3.4 1.5 0.2] 0\n",
      "[4.4 2.9 1.4 0.2] 0\n",
      "[4.9 3.1 1.5 0.1] 0\n",
      "[5.4 3.7 1.5 0.2] 0\n",
      "[4.8 3.4 1.6 0.2] 0\n",
      "[4.8 3.  1.4 0.1] 0\n",
      "[4.3 3.  1.1 0.1] 0\n",
      "[5.8 4.  1.2 0.2] 0\n",
      "[5.7 4.4 1.5 0.4] 0\n",
      "[5.4 3.9 1.3 0.4] 0\n",
      "[5.1 3.5 1.4 0.3] 0\n",
      "[5.7 3.8 1.7 0.3] 0\n",
      "[5.1 3.8 1.5 0.3] 0\n",
      "[5.4 3.4 1.7 0.2] 0\n",
      "[5.1 3.7 1.5 0.4] 0\n",
      "[4.6 3.6 1.  0.2] 0\n",
      "[5.1 3.3 1.7 0.5] 0\n",
      "[4.8 3.4 1.9 0.2] 0\n",
      "[5.  3.  1.6 0.2] 0\n",
      "[5.  3.4 1.6 0.4] 0\n",
      "[5.2 3.5 1.5 0.2] 0\n",
      "[5.2 3.4 1.4 0.2] 0\n",
      "[4.7 3.2 1.6 0.2] 0\n",
      "[4.8 3.1 1.6 0.2] 0\n",
      "[5.4 3.4 1.5 0.4] 0\n",
      "[5.2 4.1 1.5 0.1] 0\n",
      "[5.5 4.2 1.4 0.2] 0\n",
      "[4.9 3.1 1.5 0.2] 0\n",
      "[5.  3.2 1.2 0.2] 0\n",
      "[5.5 3.5 1.3 0.2] 0\n",
      "[4.9 3.6 1.4 0.1] 0\n",
      "[4.4 3.  1.3 0.2] 0\n",
      "[5.1 3.4 1.5 0.2] 0\n",
      "[5.  3.5 1.3 0.3] 0\n",
      "[4.5 2.3 1.3 0.3] 0\n",
      "[4.4 3.2 1.3 0.2] 0\n",
      "[5.  3.5 1.6 0.6] 0\n",
      "[5.1 3.8 1.9 0.4] 0\n",
      "[4.8 3.  1.4 0.3] 0\n",
      "[5.1 3.8 1.6 0.2] 0\n",
      "[4.6 3.2 1.4 0.2] 0\n",
      "[5.3 3.7 1.5 0.2] 0\n",
      "[5.  3.3 1.4 0.2] 0\n",
      "[7.  3.2 4.7 1.4] 1\n",
      "[6.4 3.2 4.5 1.5] 1\n",
      "[6.9 3.1 4.9 1.5] 1\n",
      "[5.5 2.3 4.  1.3] 1\n",
      "[6.5 2.8 4.6 1.5] 1\n",
      "[5.7 2.8 4.5 1.3] 1\n",
      "[6.3 3.3 4.7 1.6] 1\n",
      "[4.9 2.4 3.3 1. ] 1\n",
      "[6.6 2.9 4.6 1.3] 1\n",
      "[5.2 2.7 3.9 1.4] 1\n",
      "[5.  2.  3.5 1. ] 1\n",
      "[5.9 3.  4.2 1.5] 1\n",
      "[6.  2.2 4.  1. ] 1\n",
      "[6.1 2.9 4.7 1.4] 1\n",
      "[5.6 2.9 3.6 1.3] 1\n",
      "[6.7 3.1 4.4 1.4] 1\n",
      "[5.6 3.  4.5 1.5] 1\n",
      "[5.8 2.7 4.1 1. ] 1\n",
      "[6.2 2.2 4.5 1.5] 1\n",
      "[5.6 2.5 3.9 1.1] 1\n",
      "[5.9 3.2 4.8 1.8] 1\n",
      "[6.1 2.8 4.  1.3] 1\n",
      "[6.3 2.5 4.9 1.5] 1\n",
      "[6.1 2.8 4.7 1.2] 1\n",
      "[6.4 2.9 4.3 1.3] 1\n",
      "[6.6 3.  4.4 1.4] 1\n",
      "[6.8 2.8 4.8 1.4] 1\n",
      "[6.7 3.  5.  1.7] 1\n",
      "[6.  2.9 4.5 1.5] 1\n",
      "[5.7 2.6 3.5 1. ] 1\n",
      "[5.5 2.4 3.8 1.1] 1\n",
      "[5.5 2.4 3.7 1. ] 1\n",
      "[5.8 2.7 3.9 1.2] 1\n",
      "[6.  2.7 5.1 1.6] 1\n",
      "[5.4 3.  4.5 1.5] 1\n",
      "[6.  3.4 4.5 1.6] 1\n",
      "[6.7 3.1 4.7 1.5] 1\n",
      "[6.3 2.3 4.4 1.3] 1\n",
      "[5.6 3.  4.1 1.3] 1\n",
      "[5.5 2.5 4.  1.3] 1\n",
      "[5.5 2.6 4.4 1.2] 1\n",
      "[6.1 3.  4.6 1.4] 1\n",
      "[5.8 2.6 4.  1.2] 1\n",
      "[5.  2.3 3.3 1. ] 1\n",
      "[5.6 2.7 4.2 1.3] 1\n",
      "[5.7 3.  4.2 1.2] 1\n",
      "[5.7 2.9 4.2 1.3] 1\n",
      "[6.2 2.9 4.3 1.3] 1\n",
      "[5.1 2.5 3.  1.1] 1\n",
      "[5.7 2.8 4.1 1.3] 1\n",
      "[6.3 3.3 6.  2.5] 2\n",
      "[5.8 2.7 5.1 1.9] 2\n",
      "[7.1 3.  5.9 2.1] 2\n",
      "[6.3 2.9 5.6 1.8] 2\n",
      "[6.5 3.  5.8 2.2] 2\n",
      "[7.6 3.  6.6 2.1] 2\n",
      "[4.9 2.5 4.5 1.7] 2\n",
      "[7.3 2.9 6.3 1.8] 2\n",
      "[6.7 2.5 5.8 1.8] 2\n",
      "[7.2 3.6 6.1 2.5] 2\n",
      "[6.5 3.2 5.1 2. ] 2\n",
      "[6.4 2.7 5.3 1.9] 2\n",
      "[6.8 3.  5.5 2.1] 2\n",
      "[5.7 2.5 5.  2. ] 2\n",
      "[5.8 2.8 5.1 2.4] 2\n",
      "[6.4 3.2 5.3 2.3] 2\n",
      "[6.5 3.  5.5 1.8] 2\n",
      "[7.7 3.8 6.7 2.2] 2\n",
      "[7.7 2.6 6.9 2.3] 2\n",
      "[6.  2.2 5.  1.5] 2\n",
      "[6.9 3.2 5.7 2.3] 2\n",
      "[5.6 2.8 4.9 2. ] 2\n",
      "[7.7 2.8 6.7 2. ] 2\n",
      "[6.3 2.7 4.9 1.8] 2\n",
      "[6.7 3.3 5.7 2.1] 2\n",
      "[7.2 3.2 6.  1.8] 2\n",
      "[6.2 2.8 4.8 1.8] 2\n",
      "[6.1 3.  4.9 1.8] 2\n",
      "[6.4 2.8 5.6 2.1] 2\n",
      "[7.2 3.  5.8 1.6] 2\n",
      "[7.4 2.8 6.1 1.9] 2\n",
      "[7.9 3.8 6.4 2. ] 2\n",
      "[6.4 2.8 5.6 2.2] 2\n",
      "[6.3 2.8 5.1 1.5] 2\n",
      "[6.1 2.6 5.6 1.4] 2\n",
      "[7.7 3.  6.1 2.3] 2\n",
      "[6.3 3.4 5.6 2.4] 2\n",
      "[6.4 3.1 5.5 1.8] 2\n",
      "[6.  3.  4.8 1.8] 2\n",
      "[6.9 3.1 5.4 2.1] 2\n",
      "[6.7 3.1 5.6 2.4] 2\n",
      "[6.9 3.1 5.1 2.3] 2\n",
      "[5.8 2.7 5.1 1.9] 2\n",
      "[6.8 3.2 5.9 2.3] 2\n",
      "[6.7 3.3 5.7 2.5] 2\n",
      "[6.7 3.  5.2 2.3] 2\n",
      "[6.3 2.5 5.  1.9] 2\n",
      "[6.5 3.  5.2 2. ] 2\n",
      "[6.2 3.4 5.4 2.3] 2\n",
      "[5.9 3.  5.1 1.8] 2\n"
     ]
    }
   ],
   "source": [
    "from sklearn import datasets\n",
    "# Loading the data\n",
    "iris = datasets.load_iris()\n",
    "X = iris.data\n",
    "Y = iris.target\n",
    "print(iris.target_names)\n",
    "\n",
    "# Print data and labels\n",
    "for x, y in zip(X,Y):\n",
    "    print(x, y)"
   ]
  },
  {
   "cell_type": "markdown",
   "metadata": {
    "slideshow": {
     "slide_type": "slide"
    }
   },
   "source": [
    "Podemos ***definir*** 2 clases: Iris Setosa y no Iris Setosa.\n",
    "\n",
    "¿Que label le pondremos a cada clase?"
   ]
  },
  {
   "cell_type": "code",
   "execution_count": 18,
   "metadata": {},
   "outputs": [
    {
     "name": "stdout",
     "output_type": "stream",
     "text": [
      "[5.1 3.5 1.4 0.2] 1\n",
      "[4.9 3.  1.4 0.2] 1\n",
      "[4.7 3.2 1.3 0.2] 1\n",
      "[4.6 3.1 1.5 0.2] 1\n",
      "[5.  3.6 1.4 0.2] 1\n",
      "[5.4 3.9 1.7 0.4] 1\n",
      "[4.6 3.4 1.4 0.3] 1\n",
      "[5.  3.4 1.5 0.2] 1\n",
      "[4.4 2.9 1.4 0.2] 1\n",
      "[4.9 3.1 1.5 0.1] 1\n",
      "[5.4 3.7 1.5 0.2] 1\n",
      "[4.8 3.4 1.6 0.2] 1\n",
      "[4.8 3.  1.4 0.1] 1\n",
      "[4.3 3.  1.1 0.1] 1\n",
      "[5.8 4.  1.2 0.2] 1\n",
      "[5.7 4.4 1.5 0.4] 1\n",
      "[5.4 3.9 1.3 0.4] 1\n",
      "[5.1 3.5 1.4 0.3] 1\n",
      "[5.7 3.8 1.7 0.3] 1\n",
      "[5.1 3.8 1.5 0.3] 1\n",
      "[5.4 3.4 1.7 0.2] 1\n",
      "[5.1 3.7 1.5 0.4] 1\n",
      "[4.6 3.6 1.  0.2] 1\n",
      "[5.1 3.3 1.7 0.5] 1\n",
      "[4.8 3.4 1.9 0.2] 1\n",
      "[5.  3.  1.6 0.2] 1\n",
      "[5.  3.4 1.6 0.4] 1\n",
      "[5.2 3.5 1.5 0.2] 1\n",
      "[5.2 3.4 1.4 0.2] 1\n",
      "[4.7 3.2 1.6 0.2] 1\n",
      "[4.8 3.1 1.6 0.2] 1\n",
      "[5.4 3.4 1.5 0.4] 1\n",
      "[5.2 4.1 1.5 0.1] 1\n",
      "[5.5 4.2 1.4 0.2] 1\n",
      "[4.9 3.1 1.5 0.2] 1\n",
      "[5.  3.2 1.2 0.2] 1\n",
      "[5.5 3.5 1.3 0.2] 1\n",
      "[4.9 3.6 1.4 0.1] 1\n",
      "[4.4 3.  1.3 0.2] 1\n",
      "[5.1 3.4 1.5 0.2] 1\n",
      "[5.  3.5 1.3 0.3] 1\n",
      "[4.5 2.3 1.3 0.3] 1\n",
      "[4.4 3.2 1.3 0.2] 1\n",
      "[5.  3.5 1.6 0.6] 1\n",
      "[5.1 3.8 1.9 0.4] 1\n",
      "[4.8 3.  1.4 0.3] 1\n",
      "[5.1 3.8 1.6 0.2] 1\n",
      "[4.6 3.2 1.4 0.2] 1\n",
      "[5.3 3.7 1.5 0.2] 1\n",
      "[5.  3.3 1.4 0.2] 1\n",
      "[7.  3.2 4.7 1.4] 0\n",
      "[6.4 3.2 4.5 1.5] 0\n",
      "[6.9 3.1 4.9 1.5] 0\n",
      "[5.5 2.3 4.  1.3] 0\n",
      "[6.5 2.8 4.6 1.5] 0\n",
      "[5.7 2.8 4.5 1.3] 0\n",
      "[6.3 3.3 4.7 1.6] 0\n",
      "[4.9 2.4 3.3 1. ] 0\n",
      "[6.6 2.9 4.6 1.3] 0\n",
      "[5.2 2.7 3.9 1.4] 0\n",
      "[5.  2.  3.5 1. ] 0\n",
      "[5.9 3.  4.2 1.5] 0\n",
      "[6.  2.2 4.  1. ] 0\n",
      "[6.1 2.9 4.7 1.4] 0\n",
      "[5.6 2.9 3.6 1.3] 0\n",
      "[6.7 3.1 4.4 1.4] 0\n",
      "[5.6 3.  4.5 1.5] 0\n",
      "[5.8 2.7 4.1 1. ] 0\n",
      "[6.2 2.2 4.5 1.5] 0\n",
      "[5.6 2.5 3.9 1.1] 0\n",
      "[5.9 3.2 4.8 1.8] 0\n",
      "[6.1 2.8 4.  1.3] 0\n",
      "[6.3 2.5 4.9 1.5] 0\n",
      "[6.1 2.8 4.7 1.2] 0\n",
      "[6.4 2.9 4.3 1.3] 0\n",
      "[6.6 3.  4.4 1.4] 0\n",
      "[6.8 2.8 4.8 1.4] 0\n",
      "[6.7 3.  5.  1.7] 0\n",
      "[6.  2.9 4.5 1.5] 0\n",
      "[5.7 2.6 3.5 1. ] 0\n",
      "[5.5 2.4 3.8 1.1] 0\n",
      "[5.5 2.4 3.7 1. ] 0\n",
      "[5.8 2.7 3.9 1.2] 0\n",
      "[6.  2.7 5.1 1.6] 0\n",
      "[5.4 3.  4.5 1.5] 0\n",
      "[6.  3.4 4.5 1.6] 0\n",
      "[6.7 3.1 4.7 1.5] 0\n",
      "[6.3 2.3 4.4 1.3] 0\n",
      "[5.6 3.  4.1 1.3] 0\n",
      "[5.5 2.5 4.  1.3] 0\n",
      "[5.5 2.6 4.4 1.2] 0\n",
      "[6.1 3.  4.6 1.4] 0\n",
      "[5.8 2.6 4.  1.2] 0\n",
      "[5.  2.3 3.3 1. ] 0\n",
      "[5.6 2.7 4.2 1.3] 0\n",
      "[5.7 3.  4.2 1.2] 0\n",
      "[5.7 2.9 4.2 1.3] 0\n",
      "[6.2 2.9 4.3 1.3] 0\n",
      "[5.1 2.5 3.  1.1] 0\n",
      "[5.7 2.8 4.1 1.3] 0\n",
      "[6.3 3.3 6.  2.5] 0\n",
      "[5.8 2.7 5.1 1.9] 0\n",
      "[7.1 3.  5.9 2.1] 0\n",
      "[6.3 2.9 5.6 1.8] 0\n",
      "[6.5 3.  5.8 2.2] 0\n",
      "[7.6 3.  6.6 2.1] 0\n",
      "[4.9 2.5 4.5 1.7] 0\n",
      "[7.3 2.9 6.3 1.8] 0\n",
      "[6.7 2.5 5.8 1.8] 0\n",
      "[7.2 3.6 6.1 2.5] 0\n",
      "[6.5 3.2 5.1 2. ] 0\n",
      "[6.4 2.7 5.3 1.9] 0\n",
      "[6.8 3.  5.5 2.1] 0\n",
      "[5.7 2.5 5.  2. ] 0\n",
      "[5.8 2.8 5.1 2.4] 0\n",
      "[6.4 3.2 5.3 2.3] 0\n",
      "[6.5 3.  5.5 1.8] 0\n",
      "[7.7 3.8 6.7 2.2] 0\n",
      "[7.7 2.6 6.9 2.3] 0\n",
      "[6.  2.2 5.  1.5] 0\n",
      "[6.9 3.2 5.7 2.3] 0\n",
      "[5.6 2.8 4.9 2. ] 0\n",
      "[7.7 2.8 6.7 2. ] 0\n",
      "[6.3 2.7 4.9 1.8] 0\n",
      "[6.7 3.3 5.7 2.1] 0\n",
      "[7.2 3.2 6.  1.8] 0\n",
      "[6.2 2.8 4.8 1.8] 0\n",
      "[6.1 3.  4.9 1.8] 0\n",
      "[6.4 2.8 5.6 2.1] 0\n",
      "[7.2 3.  5.8 1.6] 0\n",
      "[7.4 2.8 6.1 1.9] 0\n",
      "[7.9 3.8 6.4 2. ] 0\n",
      "[6.4 2.8 5.6 2.2] 0\n",
      "[6.3 2.8 5.1 1.5] 0\n",
      "[6.1 2.6 5.6 1.4] 0\n",
      "[7.7 3.  6.1 2.3] 0\n",
      "[6.3 3.4 5.6 2.4] 0\n",
      "[6.4 3.1 5.5 1.8] 0\n",
      "[6.  3.  4.8 1.8] 0\n",
      "[6.9 3.1 5.4 2.1] 0\n",
      "[6.7 3.1 5.6 2.4] 0\n",
      "[6.9 3.1 5.1 2.3] 0\n",
      "[5.8 2.7 5.1 1.9] 0\n",
      "[6.8 3.2 5.9 2.3] 0\n",
      "[6.7 3.3 5.7 2.5] 0\n",
      "[6.7 3.  5.2 2.3] 0\n",
      "[6.3 2.5 5.  1.9] 0\n",
      "[6.5 3.  5.2 2. ] 0\n",
      "[6.2 3.4 5.4 2.3] 0\n",
      "[5.9 3.  5.1 1.8] 0\n"
     ]
    }
   ],
   "source": [
    "Y = np.array(iris.target==0, int)\n",
    "# Print data and labels\n",
    "for x, y in zip(X,Y):\n",
    "    print (x, y)"
   ]
  },
  {
   "cell_type": "markdown",
   "metadata": {
    "slideshow": {
     "slide_type": "slide"
    }
   },
   "source": [
    "Para aplicar el algoritmo, utilizando el algoritmo [Logistic Regression](http://scikit-learn.org/stable/modules/linear_model.html#logistic-regression) de la librería sklearn, requerimos un código como el siguiente:"
   ]
  },
  {
   "cell_type": "code",
   "execution_count": 19,
   "metadata": {},
   "outputs": [
    {
     "name": "stdout",
     "output_type": "stream",
     "text": [
      "[0.26421853] [[ 0.41021713  1.46416217 -2.26003266 -1.02103509]]\n"
     ]
    },
    {
     "name": "stderr",
     "output_type": "stream",
     "text": [
      "/home/alonsolml/miniconda3/envs/mat281_2018S2/lib/python3.6/site-packages/sklearn/linear_model/logistic.py:433: FutureWarning: Default solver will be changed to 'lbfgs' in 0.22. Specify a solver to silence this warning.\n",
      "  FutureWarning)\n"
     ]
    }
   ],
   "source": [
    "from sklearn.linear_model import LogisticRegression\n",
    "# Fitting the model\n",
    "Logit = LogisticRegression()\n",
    "Logit.fit(X,Y)\n",
    "\n",
    "# Obtain the coefficients\n",
    "print(Logit.intercept_, Logit.coef_ )\n",
    "\n",
    "# Predicting values\n",
    "Y_pred = Logit.predict(X)"
   ]
  },
  {
   "cell_type": "markdown",
   "metadata": {
    "slideshow": {
     "slide_type": "slide"
    }
   },
   "source": [
    "Podemos visualizar el resultado con una matriz de confusión."
   ]
  },
  {
   "cell_type": "code",
   "execution_count": 20,
   "metadata": {},
   "outputs": [
    {
     "name": "stdout",
     "output_type": "stream",
     "text": [
      "[[100   0]\n",
      " [  0  50]]\n"
     ]
    }
   ],
   "source": [
    "from sklearn.metrics import confusion_matrix\n",
    "\n",
    "cm = confusion_matrix(Y, Y_pred)\n",
    "\n",
    "print(cm)"
   ]
  },
  {
   "cell_type": "markdown",
   "metadata": {
    "slideshow": {
     "slide_type": "fragment"
    }
   },
   "source": [
    "**¡Nuestra clasificación es perfecta!**"
   ]
  },
  {
   "cell_type": "markdown",
   "metadata": {
    "slideshow": {
     "slide_type": "slide"
    }
   },
   "source": [
    "## Referencias\n",
    "\n",
    "* Jake VanderPlas, ESAC Data Analysis and Statistics Workshop 2014, https://github.com/jakevdp/ESAC-stats-2014\n",
    "* Andrew Ng, Machine Learning CS144, Stanford University."
   ]
  }
 ],
 "metadata": {
  "celltoolbar": "Slideshow",
  "kernelspec": {
   "display_name": "Python 3",
   "language": "python",
   "name": "python3"
  },
  "language_info": {
   "codemirror_mode": {
    "name": "ipython",
    "version": 3
   },
   "file_extension": ".py",
   "mimetype": "text/x-python",
   "name": "python",
   "nbconvert_exporter": "python",
   "pygments_lexer": "ipython3",
   "version": "3.6.7"
  }
 },
 "nbformat": 4,
 "nbformat_minor": 2
}
