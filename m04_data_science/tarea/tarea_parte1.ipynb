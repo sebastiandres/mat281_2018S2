{
 "cells": [
  {
   "cell_type": "markdown",
   "metadata": {
    "slideshow": {
     "slide_type": "slide"
    }
   },
   "source": [
    "# MAT281\n",
    "\n",
    "## Aplicaciones de la Matemática en la Ingeniería\n",
    "\n",
    "### Tarea - Módulos 3 y 4 \n",
    "\n",
    "## Parte 1 - Versión inicial de visualización tipo Gapminder [30 puntos]"
   ]
  },
  {
   "cell_type": "markdown",
   "metadata": {
    "slideshow": {
     "slide_type": "slide"
    }
   },
   "source": [
    "La siguiente tarea debe realizarse de manera individual. No es aceptable **bajo ninguna circunstancia** copiar y pegar código de otros estudiantes. Pueden consultar referencias en internet (stackoverflow, por ejemplo), pero deben indicar sus fuentes cuando corresponda y evitar copiar y pegar texto y código.\n",
    "Todo el código debe ser ejecutable y las fórmulas en markdown y latex.\n",
    "\n",
    "Enviar los archivos correspondientes a las partes 1, 2, 3 y 4 comprimidos en un zip, por correo.\n",
    "\n",
    "**Nombre**: *[COLOCAR NOMBRE ACA]*\n",
    "\n",
    "**Rol**: *[COLOCAR ROL ACA]*\n",
    "\n",
    "\n",
    "**Fecha de entrega**: Martes 18 Diciembre 2018."
   ]
  },
  {
   "cell_type": "markdown",
   "metadata": {},
   "source": [
    "Esta tarea puede completarse en `jupyter lab` o `jupyter notebook` y requiere usar varias librerías: no dejes la instalación de las librerías para el último momento. Es aconsejable utilizar el ambiente `mat281_modulo4_tarea`.\n",
    "\n",
    "El ambiente puede generarse directamente en el terminal con los comandos haciendo:\n",
    "\n",
    "```\n",
    "conda create --name mat281_modulo4_tarea\n",
    "source activate mat281_modulo4_tarea\n",
    "conda install scikit-learn\n",
    "conda install matplotlib\n",
    "conda install pandas\n",
    "conda install jupyter notebook\n",
    "conda install jupyter lab\n",
    "conda install jupyter ipywidgets\n",
    "conda install -c conda-forge altair\n",
    "```\n",
    "La librería altair es opcional, pudiendo trabajar solo con matplotlib si lo desean.\n",
    "\n",
    "O bien, utilizando el archivo `mat281_modulo4_tarea.yml` provisto.\n",
    "\n",
    "```\n",
    "conda env create -f mat281_modulo4_tarea.yml\n",
    "```\n",
    "\n",
    "En jupyter notebook no es necesario ninguna configuración adicional. En jupyter lab, es necesario además en la terminal instalar la siguiente extensión:\n",
    "```\n",
    "jupyter labextension install @jupyter-widgets/jupyterlab-manager\n",
    "```"
   ]
  },
  {
   "cell_type": "markdown",
   "metadata": {},
   "source": [
    "**Test de librerías**:\n",
    "\n",
    "El siguiente código debería funcionar sin problemas, haciendo utilización de las diversas librerías. Debería verse como la imagen a continuación:\n",
    "\n",
    "![EjemploIPYWIDGET](images/ipywidget.png \"Ejemplo de ipywidget\")\n",
    "\n",
    "Figura 1: Ejemplo de `ipywidgtet`."
   ]
  },
  {
   "cell_type": "code",
   "execution_count": null,
   "metadata": {},
   "outputs": [],
   "source": [
    "%matplotlib inline\n",
    "import pandas as pd\n",
    "import numpy as np\n",
    "from ipywidgets import interactive\n",
    "import matplotlib.pyplot as plt\n",
    "import numpy as np\n",
    "\n",
    "def f(m, b):\n",
    "    plt.figure(figsize=(8,8))\n",
    "    x = np.linspace(-6, 6, num=100)\n",
    "    plt.plot(x, m * x + b, \"k\", lw=2.0)\n",
    "    plt.xlim(-5, 5)\n",
    "    plt.ylim(-5, 5)\n",
    "    plt.grid(True)\n",
    "    plt.show()\n",
    "\n",
    "interactive(f, m=(-2.0, 3.0), b=(-3, 4, 0.5))"
   ]
  },
  {
   "cell_type": "markdown",
   "metadata": {},
   "source": [
    "# Introducción\n",
    "\n",
    "En Febrero del año 2006, Hans Rosling dictó el \"Ted Talk\" *The best stats you've ever seen*. Si aún no lo has visto, invierte 20 minutos en un excelente ejemplo de cómo utilizar visualizaciones para dar vida a datos, contar una historio y cautivar una audiencia."
   ]
  },
  {
   "cell_type": "code",
   "execution_count": null,
   "metadata": {},
   "outputs": [],
   "source": [
    "# Alternativamente, ver https://www.ted.com/talks/hans_rosling_shows_the_best_stats_you_ve_ever_seen\n",
    "# Video\n",
    "from IPython.lib.display import YouTubeVideo\n",
    "YouTubeVideo('hVimVzgtD6w', width=600, height=450)"
   ]
  },
  {
   "cell_type": "markdown",
   "metadata": {},
   "source": [
    "Además de ser un presentador carismático, Hans Rosling hace un buen uso de elementos técnicos para analizar tendencias e ilustrar diversos fenómenos. En esta tarea, utilizaremos estos mismos datos, proporcionados por la fundación [gapminder](https://www.gapminder.org/):\n",
    "* Dataset de gapminder, con ciertas características de los paises y cómo varían en el tiempo.\n",
    "* Tasa de fertilidad por país y año, medido en cantidad promedio de hijos por mujer."
   ]
  },
  {
   "cell_type": "markdown",
   "metadata": {},
   "source": [
    "## Generando un gráfico interactivo"
   ]
  },
  {
   "cell_type": "markdown",
   "metadata": {},
   "source": [
    "Buscaremos reproducir el gráfico gapminder utilizando únicamente python.\n",
    "\n",
    "Nuestra primera tarea será cargar los datos. Para ello usaremos `pandas` y crearemos un DataFrame llamado `df_no_color` puesto que posteriormente le agregaremos el color con el cual identificar a cada continente."
   ]
  },
  {
   "cell_type": "code",
   "execution_count": null,
   "metadata": {},
   "outputs": [],
   "source": [
    "# Cargando los datos\n",
    "import pandas as pd\n",
    "import os\n",
    "\n",
    "# Open the file\n",
    "fpath = os.path.join(\"data\",\"gapminderData.csv\")\n",
    "df_no_color = pd.read_csv(fpath, sep=\",\")\n",
    "\n",
    "# Rename the columns\n",
    "df_no_color = df_no_color.rename(columns={\"pop\":\"population\", \"lifeExp\":\"life_expectancy\", \"gdpPercap\":\"gdp_per_capita\"})\n",
    "\n",
    "# Print the first lines\n",
    "df_no_color.head()"
   ]
  },
  {
   "cell_type": "markdown",
   "metadata": {},
   "source": [
    "Como es habitual, usemos el método `describe` para familiarizarnos con el contenido y las columnas:"
   ]
  },
  {
   "cell_type": "code",
   "execution_count": null,
   "metadata": {},
   "outputs": [],
   "source": [
    "df_no_color.describe(include=\"all\").fillna(\"\").T"
   ]
  },
  {
   "cell_type": "markdown",
   "metadata": {},
   "source": [
    "Necesitaremos identificar cada Continente por un color, por lo cual crearemos una relación entre el Continente y el color para representarlo. Esta relación la indicamos con un dataframe para el cual indicamos los datos de manera directa:"
   ]
  },
  {
   "cell_type": "code",
   "execution_count": null,
   "metadata": {},
   "outputs": [],
   "source": [
    "# Add color\n",
    "data = [[\"Asia\",\"red\"],[\"Europe\",\"orange\"],[\"Africa\", \"blue\"],[\"Americas\",\"yellow\"],[\"Oceania\",\"red\"]]\n",
    "df_color = pd.DataFrame(data, columns=[\"continent\", \"color\"])\n",
    "df_color"
   ]
  },
  {
   "cell_type": "markdown",
   "metadata": {},
   "source": [
    "Por último, generaremos el dataframe a utilizar haciendo un merge entre el dataframe de datos sin color, y el dataframe de la relación continente-color:"
   ]
  },
  {
   "cell_type": "code",
   "execution_count": null,
   "metadata": {},
   "outputs": [],
   "source": [
    "global df # Para poder usar el dataframe en funciones y ipywidget.\n",
    "df = df_no_color.merge(df_color)"
   ]
  },
  {
   "cell_type": "markdown",
   "metadata": {},
   "source": [
    "Antes de continuar, veamos lo que hemos obtenido:"
   ]
  },
  {
   "cell_type": "code",
   "execution_count": null,
   "metadata": {},
   "outputs": [],
   "source": [
    "df.head()"
   ]
  },
  {
   "cell_type": "markdown",
   "metadata": {},
   "source": [
    "La librería `interactive` es simplemente un procedimiento que toma una función para graficar (en nuestro caso, `gapminder_plot_basic`, y que le entrega los parámetros con los cuales debe generar un gráfico).\n",
    "\n",
    "Debemos por tanto definir una función que grafique la relación que buscamos para un cierto año."
   ]
  },
  {
   "cell_type": "code",
   "execution_count": null,
   "metadata": {},
   "outputs": [],
   "source": [
    "# Libraries\n",
    "import matplotlib.pyplot as plt\n",
    "\n",
    "# Función de gráfico\n",
    "def gapminder_plot_basic(year):\n",
    "    \"\"\"\n",
    "    Plotting function: giving a year, plots (gdp, life_expectancy) with circle\n",
    "    proportional to population.\n",
    "    \"\"\"\n",
    "    # Data wrangling\n",
    "    m_year = df.year==year\n",
    "    x = df[m_year].gdp_per_capita.values\n",
    "    y = df[m_year].life_expectancy.values\n",
    "    z = df[m_year].population.values\n",
    "    s = 5000*z/z.max()\n",
    "    c = df[m_year].color.values\n",
    "    # Graph\n",
    "    plt.figure(figsize=(8,8))\n",
    "    plt.title(\"Year {}\".format(year))\n",
    "    plt.scatter(x, y, s, c=c, alpha=0.25)\n",
    "    plt.show()\n",
    "\n",
    "# Prueba\n",
    "year = 1982\n",
    "gapminder_plot_basic(year)    "
   ]
  },
  {
   "cell_type": "markdown",
   "metadata": {},
   "source": [
    "La versión básica de animación simplemente utiliza los distintos valores de los años:"
   ]
  },
  {
   "cell_type": "code",
   "execution_count": null,
   "metadata": {},
   "outputs": [],
   "source": [
    "# Load the graph\n",
    "year_values = sorted(df.year.unique())\n",
    "interactive(gapminder_plot_basic, year=year_values)"
   ]
  },
  {
   "cell_type": "markdown",
   "metadata": {},
   "source": [
    "Lo anterior no es satisfactorio porque no permite \"jugar\" con los años de manera natural. El ideal sería tener una slider que nos permitiera avanzar naturalmente por los años."
   ]
  },
  {
   "cell_type": "code",
   "execution_count": null,
   "metadata": {},
   "outputs": [],
   "source": [
    "# Libraries\n",
    "from ipywidgets import interactive\n",
    "from ipywidgets import IntSlider\n",
    "# Load the graph\n",
    "year_values = IntSlider(min=1952, max=2007, step=5)\n",
    "interactive(gapminder_plot_basic, year=year_values)"
   ]
  },
  {
   "cell_type": "markdown",
   "metadata": {},
   "source": [
    "Lo anterior ya es bastante parecido al gráfico de gapminder, pero existen varios defectos que tenemos que trabajar:\n",
    "* Los ejes $x$ e $y$ no tienen unidades.\n",
    "* Los ejes $x$ e $y$ cambian su rango de valores según el año. El rango debería estar fijo para poder observar mejor las tendencias y fluctuaciones.\n",
    "* El gráfico no contiene la codificación de colores usada para los continentes, por lo que no se entienden las tendencias.\n",
    "* Existe demasiada información, que no puede analizarse simultáneamente. Debería poder seleccionarse continentes.\n",
    "* No es posible identificar cada país. Deberíamos poder poner algunos textos de manera selectiva.\n",
    "\n",
    "En función de lo anterior, generamos una nueva función `gapminder_plot` que es más genérico y profesional. En la misma celda definimos la función y hacemos la lanzamos interactivamente:"
   ]
  },
  {
   "cell_type": "code",
   "execution_count": null,
   "metadata": {},
   "outputs": [],
   "source": [
    "# Libraries\n",
    "import matplotlib.patches as mpatches\n",
    "import matplotlib.pyplot as plt\n",
    "from ipywidgets import interactive\n",
    "from ipywidgets import IntSlider\n",
    "\n",
    "# Create the \n",
    "def gapminder_plot(year, continent, country_1, country_2):\n",
    "    \"\"\"\n",
    "    A humble interactive python implementation of gapminder.\n",
    "    \"\"\"\n",
    "    # Get maximum and minimum values - for any year\n",
    "    x_min = df.gdp_per_capita.min()\n",
    "    x_max = df.gdp_per_capita.max()\n",
    "    y_min = df.life_expectancy.min()\n",
    "    y_max = df.life_expectancy.max()\n",
    "    z_max = df.population.values.max()\n",
    "    # Data wrangling - continent and year masks\n",
    "    m_year = df.year==year\n",
    "    if continent==\"All\":\n",
    "        m_continent = df.continent!=\"\" # All True\n",
    "    elif continent==\"Selected countries\":\n",
    "        m_continent = pd.np.logical_or(df.country==country_1, df.country==country_2)\n",
    "    else:\n",
    "        m_continent = df.continent==continent\n",
    "    m_all = pd.np.logical_and(m_year, m_continent)\n",
    "    # Data wrangling\n",
    "    x = df[m_all].gdp_per_capita.values\n",
    "    y = df[m_all].life_expectancy.values\n",
    "    z = df[m_all].population.values\n",
    "    sizes = 8000*z/z_max\n",
    "    colors = df[m_all].color.values\n",
    "    countries = df[m_all].country.values\n",
    "    # Graph\n",
    "    plt.figure(figsize=(8,8))\n",
    "    plt.scatter(x, y, sizes, c=colors, alpha=0.3)\n",
    "    plt.xlim(x_min, x_max)\n",
    "    plt.ylim(y_min, y_max)\n",
    "    # Country names - country 1\n",
    "    m_1 = df.country==country_1\n",
    "    m_all_1 = pd.np.logical_and(m_1, m_all)\n",
    "    if m_all_1.sum() == 1:\n",
    "        x_1 = df[m_all_1].gdp_per_capita\n",
    "        y_1 = df[m_all_1].life_expectancy\n",
    "        plt.text(x_1, y_1, country_1, alpha=0.8)\n",
    "    # Country names - country 2\n",
    "    m_2 = df.country==country_2\n",
    "    m_all_2 = pd.np.logical_and(m_2, m_all)\n",
    "    if m_all_2.sum() == 1:\n",
    "        x_2 = df[m_all_2].gdp_per_capita\n",
    "        y_2 = df[m_all_2].life_expectancy\n",
    "        plt.text(x_2, y_2, country_2, alpha=0.8)\n",
    "    # Custom legend\n",
    "    df_continents = df[[\"color\",\"continent\"]].drop_duplicates()\n",
    "    patches = []\n",
    "    for color, continent in df_continents.values:\n",
    "        patches.append(mpatches.Patch(color=color, label=continent, alpha=0.3))\n",
    "    plt.legend(handles=patches, bbox_to_anchor=(1.05, 1), loc=2, borderaxespad=0.)\n",
    "    # Axis\n",
    "    plt.xlabel(\"GDP per capita [US dollars]\")\n",
    "    plt.ylabel(\"Life Expectancy [years]\")\n",
    "    plt.title(\"Year {} - Circle size proportional to population\".format(year))\n",
    "    # Show\n",
    "    plt.show()\n",
    "\n",
    "\n",
    "# Load the graph\n",
    "year_values = IntSlider(min=1952,max=2007,step=5)\n",
    "continent_dict = [\"All\",\"Selected countries\", \"Asia\", \"Europe\", \"Africa\", \"Americas\", \"Oceania\"]\n",
    "countries = [\"- None -\"] + sorted(list(df.country.unique()))\n",
    "interactive(gapminder_plot, year=year_values, continent=continent_dict, country_1=countries, country_2=countries)"
   ]
  },
  {
   "cell_type": "markdown",
   "metadata": {},
   "source": [
    "El gráfico anterior permite:\n",
    "* Seleccionar un continente en específico.\n",
    "* Colocar el nombre de 2 países, y seleccionar únicamente esos países.\n",
    "* Variar el año en análisis.\n",
    "\n",
    "Toma 5 minutos revisar el código anterior  para considerar que hemos obtenido un gráfico que parece bastante avanzado y sin embargo, al mirar el código, es bastante sencillo."
   ]
  },
  {
   "cell_type": "markdown",
   "metadata": {},
   "source": [
    "## Análisis del gráfico generado\n",
    "\n",
    "### Pregunta 1.1 [10 puntos]\n",
    "Elabore una lista de las distintas variables utilizadas en este gráfico, indicando ejemplos de valores, clasificación (tipo) de dato y representación gráfica utilizada. Sería por tanto relevante recordar [el contenido de la clase 2 de visualización](https://github.com/sebastiandres/mat281_m03_visualizacion/blob/master/02_teoria_visualizacion/02_teoria_visualizacion.ipynb).\n",
    "\n",
    "*R:* \n",
    "* (1.) Nombre dato - ejemplo valores - tipo dato - representación grafica utilizada. [#FIX ME#]\n",
    "\n",
    "...\n",
    "\n",
    "* (N.) Nombre dato - ejemplo valores - tipo dato - representación grafica utilizada.  [#FIX ME#]\n",
    "\n",
    "Por ejemplo, si el gráfico tuviera información sobre el peso promedio de cada persona en el país, una de las líneas anteriores podría haber sido \n",
    "\n",
    "*\"Peso promedio per cápita - 78.2 [kg] - dato cuantitativo - radio de circulo utilizado para cada país\".*\n"
   ]
  },
  {
   "cell_type": "markdown",
   "metadata": {},
   "source": [
    "###  Pregunta 1.2 [10 puntos]\n",
    "¿Para que país y año se tienen los 5 mayores valores de gdp per capita?\n",
    "\n",
    "Completar el código a continuación para obtener la respuesta. Una respuesta podría utilizar los métodos `sort_values` y `head`."
   ]
  },
  {
   "cell_type": "code",
   "execution_count": null,
   "metadata": {},
   "outputs": [],
   "source": [
    "df#FIX ME"
   ]
  },
  {
   "cell_type": "markdown",
   "metadata": {},
   "source": [
    "*R:* En el año XYZ el país ZYX tiene un gdp per capita de X..."
   ]
  },
  {
   "cell_type": "markdown",
   "metadata": {},
   "source": [
    "###  Pregunta 1.3 [10 puntos]\n",
    "\n",
    "¿Cómo ha ido cambiando, año a año, el promedio de esperanza de vida por continente? La respuesta requiere usar los métodos `groupby` y `pivot_table`."
   ]
  },
  {
   "cell_type": "code",
   "execution_count": null,
   "metadata": {},
   "outputs": [],
   "source": [
    "dfg = df#.groupby().agg() # FIX ME #\n",
    "dfg#.pivot_table() # FIX ME # "
   ]
  },
  {
   "cell_type": "markdown",
   "metadata": {},
   "source": [
    "*R:* A partir de la tabla anterior, vemos que ..."
   ]
  }
 ],
 "metadata": {
  "celltoolbar": "Slideshow",
  "kernelspec": {
   "display_name": "Python 3",
   "language": "python",
   "name": "python3"
  },
  "language_info": {
   "codemirror_mode": {
    "name": "ipython",
    "version": 3
   },
   "file_extension": ".py",
   "mimetype": "text/x-python",
   "name": "python",
   "nbconvert_exporter": "python",
   "pygments_lexer": "ipython3",
   "version": "3.7.1"
  }
 },
 "nbformat": 4,
 "nbformat_minor": 2
}
