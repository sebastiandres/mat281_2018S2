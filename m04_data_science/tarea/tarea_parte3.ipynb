{
 "cells": [
  {
   "cell_type": "markdown",
   "metadata": {
    "slideshow": {
     "slide_type": "slide"
    }
   },
   "source": [
    "# MAT281\n",
    "\n",
    "## Aplicaciones de la Matemática en la Ingeniería\n",
    "\n",
    "### Tarea - Módulos 3 y 4 \n",
    "\n",
    "## Parte 3 - Obteniendo información a partir de los datos [40 puntos]"
   ]
  },
  {
   "cell_type": "markdown",
   "metadata": {
    "slideshow": {
     "slide_type": "slide"
    }
   },
   "source": [
    "La siguiente tarea debe realizarse de manera individual. No es aceptable **bajo ninguna circunstancia** copiar y pegar código de otros estudiantes. Pueden consultar referencias en internet (stackoverflow, por ejemplo), pero deben indicar sus fuentes cuando corresponda y evitar copiar y pegar texto y código.\n",
    "Todo el código debe ser ejecutable y las fórmulas en markdown y latex.\n",
    "\n",
    "Enviar solución por correo.\n",
    "\n",
    "**Nombre**: *[COLOCAR NOMBRE ACA]*\n",
    "\n",
    "**Rol**: *[COLOCAR ROL ACA]*\n",
    "\n",
    "\n",
    "**Fecha de entrega**: Martes 18 Diciembre 2018."
   ]
  },
  {
   "cell_type": "markdown",
   "metadata": {},
   "source": [
    "# Introducción: Clustering\n",
    "\n",
    "Es usual clasificar a los países por sus características socioeconómicas en _países desarrollados, en vías de desarrollo y subdesarrollados_. Tal clasificación proviene de una serie de indicadores, como por ejemplo el _Índice de Desarrollo Humano (HDI)_.\n",
    "\n",
    "Con los datos que poseemos actualmente y sin calcular ningún indicador adicional, ¿somos capaces de separar (etiquetar) a los países en tres grupos distintos?  Utilizando el algoritmo K-Means intentaremos identificar los países dentro de estas tres categorías."
   ]
  },
  {
   "cell_type": "markdown",
   "metadata": {},
   "source": [
    "### Cargar los datos\n",
    "\n",
    "Utilizaremos el archivo _pickle_ que se generó en la parte 2 con tal de no realizar todas las operaciones nuevamente.\n",
    "En caso de encontrar un error, es posible cargar el archivo csv equivalente."
   ]
  },
  {
   "cell_type": "code",
   "execution_count": null,
   "metadata": {},
   "outputs": [],
   "source": [
    "# Load data\n",
    "import os\n",
    "import pandas as pd\n",
    "df = pd.read_pickle(os.path.join(\"data\", \"extender_gapminder.pkl\")).fillna(0)\n",
    "df.head()"
   ]
  },
  {
   "cell_type": "markdown",
   "metadata": {},
   "source": [
    "## Pre-procesamiento\n",
    "\n",
    "Lo primero es determinar las variables a seleccionar:\n",
    "\n",
    "* **Año**: Debido a la temporalidad de los datos, no sería correcto realizar clustering combinando todos los años a la vez. Por ende, se procede a realizar clustering por año. \n",
    "* **País**: Como se ejecutará el algoritmo para un año específico, el país como tal es el identificador del registro, por lo tanto no es una variable a usar en el ajuste.\n",
    "* **Continente**: A pesar de ser una variable categórica, podría ser de utilidad debido a la similitud entre países de un mismo continente. Sin embargo, no podemos usarla directamente por ser un string, y necesitaremos convertirla a un entero (auxiliar).\n",
    "* **GDP**, **Esperanza de Vida** y **Fertilidad**: Variables numéricas y de gran utilidad para clustering.\n",
    "* **Población**: No resulta aconsejable utilizar la población del país puesto que el desarrollo de un país no se relaciona con que tan grande es el país, sino que con los valores de sus indicadores."
   ]
  },
  {
   "cell_type": "markdown",
   "metadata": {},
   "source": [
    "Fijaremos la semilla de todo lo aleatorio para hacer reproducibles y comparables los resultados:"
   ]
  },
  {
   "cell_type": "code",
   "execution_count": null,
   "metadata": {},
   "outputs": [],
   "source": [
    "import numpy as np\n",
    "np.random.seed(42)"
   ]
  },
  {
   "cell_type": "markdown",
   "metadata": {},
   "source": [
    "Para utilizar correctamente la variable _continente_ es necesario transformarla a una variable numérica. Recordemos lo aprendido en las clases previas:"
   ]
  },
  {
   "cell_type": "code",
   "execution_count": null,
   "metadata": {},
   "outputs": [],
   "source": [
    "from sklearn.preprocessing import LabelEncoder\n",
    "continent_le = LabelEncoder()  # Create encoder\n",
    "continent_le.fit(df[\"continent\"].unique())  # Fit with unique values\n",
    "df[\"nm_continent\"] = continent_le.transform(df[\"continent\"])  # Assign to dataframe\n",
    "df.head()"
   ]
  },
  {
   "cell_type": "markdown",
   "metadata": {},
   "source": [
    "Veamos la conversión que se ha realizado:"
   ]
  },
  {
   "cell_type": "code",
   "execution_count": null,
   "metadata": {},
   "outputs": [],
   "source": [
    "df[[\"continent\",\"nm_continent\"]].drop_duplicates()"
   ]
  },
  {
   "cell_type": "markdown",
   "metadata": {},
   "source": [
    "## Pregunta 3.1 [10 puntos]\n",
    "Generaremos clusters para obtener 3 grupos de países, que asumiremos como países son sub-desarrollados, en vías de desarrollo, y desarrollados. Para ello, es necesario:\n",
    "* (1) Filtrar los datos para el año 1957.\n",
    "* (2) Generar una matriz `X` con las columnas que usaremos como datos, normalizando para que tengan promedio 0 y desviación estándar 1.\n",
    "* (3) Generar los clusters y obtener la clasificación.\n",
    "\n",
    "Realizaremos la tarea anterior para obtener los grupos de países sub-desarrollados, en vías de desarrollo, y desarrollados ***en el año 1957***."
   ]
  },
  {
   "cell_type": "code",
   "execution_count": null,
   "metadata": {},
   "outputs": [],
   "source": [
    "# (1) Filtrar datos\n",
    "df1957 = # FIX ME PLEASE\n",
    "df1957.head()"
   ]
  },
  {
   "cell_type": "code",
   "execution_count": null,
   "metadata": {},
   "outputs": [],
   "source": [
    "# (2) Seleccionando los datos: use las columnas life expectancy, gdp per capita, fertility y nm_continent, y normalice los datos.\n",
    "X1957 = df1957[?] # FIX ME #\n",
    "X1957_normalized = X1957 +-/ [?] # FIX ME #"
   ]
  },
  {
   "cell_type": "code",
   "execution_count": null,
   "metadata": {},
   "outputs": [],
   "source": [
    "# (3) Generando los clusters y asignando el grupo\n",
    "from sklearn.cluster import KMeans\n",
    "kmeans1957 = KMeans(n_clusters=3, random_state=42)\n",
    "kmeans1957.fit(# FIX ME PLEASE)\n",
    "df1957[\"cluster_label\"] = # FIX ME PLEASE"
   ]
  },
  {
   "cell_type": "code",
   "execution_count": null,
   "metadata": {},
   "outputs": [],
   "source": [
    "# Ayuda para imprimir los países\n",
    "for label in range(3):\n",
    "    m = df1957.cluster_label==label\n",
    "    print(\"Etiqueta {} has {} paises\".format(label, m.sum()))\n",
    "    print(\", \".join(sorted(df1957[m].country)))\n",
    "\n",
    "    # Print stats for group\n",
    "print(\"Promedio de valores en los distintos clusters\")\n",
    "df1957.groupby(\"cluster_label\").mean()"
   ]
  },
  {
   "cell_type": "markdown",
   "metadata": {},
   "source": [
    "A partir de lo anterior, indique la cantidad de países y algunos ejemplos en cada uno de los grupos para la clasificación realizada basada en los datos de 1957. Indique cuales cree que son los países desarrollados, en vías de desarrollo, y subdesarrollados observando las características de esperanza de vida y fertilidad, principalmente.\n",
    "\n",
    "*R:* "
   ]
  },
  {
   "cell_type": "markdown",
   "metadata": {},
   "source": [
    "**¿Existe alguna situación anómala? ¿Porqué sucede?**\n",
    "\n",
    "*R:* "
   ]
  },
  {
   "cell_type": "markdown",
   "metadata": {},
   "source": [
    "## Pregunta 3.2 [10 puntos]\n",
    "Reutilizando el código de la sección anterior, ¿Que grupos de países podemos considerar como sub-desarrollados, en vías de desarrollo, y desarrollados en el año 2007, 50 años después del análisis anterior?"
   ]
  },
  {
   "cell_type": "code",
   "execution_count": null,
   "metadata": {},
   "outputs": [],
   "source": [
    "# (1) Filtrar datos"
   ]
  },
  {
   "cell_type": "code",
   "execution_count": null,
   "metadata": {},
   "outputs": [],
   "source": [
    "# (2) Seleccionando los datos"
   ]
  },
  {
   "cell_type": "code",
   "execution_count": null,
   "metadata": {},
   "outputs": [],
   "source": [
    "# (3) Generando los clusters y asignando el grupo"
   ]
  },
  {
   "cell_type": "code",
   "execution_count": null,
   "metadata": {},
   "outputs": [],
   "source": [
    "# Ayuda para imprimir los países\n",
    "for label in range(3):\n",
    "    m = df2007.cluster_label==label\n",
    "    print(\"Etiqueta {} has {} paises\".format(label, m.sum()))\n",
    "    print(\", \".join(sorted(df2007[m].country)))\n",
    "# Print stats for group\n",
    "df2007.groupby(\"cluster_label\").mean()"
   ]
  },
  {
   "cell_type": "markdown",
   "metadata": {},
   "source": [
    "A partir de lo anterior, indique algunos ejemplos de países en cada uno de los grupos para la clasificación realizada basada en los datos de 2007.\n",
    "\n",
    "*R:* \n",
    "\n",
    "**¿Que variables han sido más útiles? ¿Que otras variables cree importante considerar? ¿Que implicaciones tiene utilizar el continente como dato para la clusterización?**\n",
    "\n",
    "*R:*"
   ]
  },
  {
   "cell_type": "markdown",
   "metadata": {},
   "source": [
    "## Pregunta 3.3 [10 puntos]\n",
    "Grafica, para el año 1952, al igual que en la parte 2, la esperanza de vida vs fertilidad, el tamaño según la población __pero el coloreado debe ser según la etiqueta entregada por el algoritmo de clustering.__  De igual forma, grafica para el año 2007.\n",
    "\n",
    "Puedes re-utilizar código de las partes anteriores o utilizar la librería altair, según consideres que sea más facil. "
   ]
  },
  {
   "cell_type": "code",
   "execution_count": null,
   "metadata": {},
   "outputs": [],
   "source": [
    "# FIX ME #"
   ]
  },
  {
   "cell_type": "code",
   "execution_count": null,
   "metadata": {},
   "outputs": [],
   "source": [
    "# ADDITIONAL FIX ME - IF NEEDED #"
   ]
  },
  {
   "cell_type": "markdown",
   "metadata": {},
   "source": [
    "## Pregunta 3.4 [10 puntos]\n",
    "¿Que países sub-desarrollados en 1952 están en vías de desarrollo o desarrollados el 2007?\n",
    "\n",
    "__Recuerdo__: Las etiquetas de `sklearn.cluster.KMeans()` sólo permiten diferenciar entre grupos, por ejemplo, para una ejecución el grupo con el label 0 podría ser para países sub-desarrollados pero en otra podría corresponder a los países desarrollados.\n",
    "\n",
    "Lo que haremos entonces es usar un diccionario donde hay que decir si el grupo corresponde a un país \"Desarrollado\" o \"En Vías de Desarrollo\" o \"Sub-Desarrollado\"."
   ]
  },
  {
   "cell_type": "code",
   "execution_count": null,
   "metadata": {},
   "outputs": [],
   "source": [
    "# CONVERSION PARA AÑO 1957\n",
    "label_dict_1957 = {\n",
    "    0: # FIX ME PLEASE, # \"Desarrollado\" o \"En Vías de Desarrollo\" o \"Sub-Desarrollado\" \n",
    "    1: # FIX ME PLEASE, # \"Desarrollado\" o \"En Vías de Desarrollo\" o \"Sub-Desarrollado\" \n",
    "    2: # FIX ME PLEASE, # \"Desarrollado\" o \"En Vías de Desarrollo\" o \"Sub-Desarrollado\" \n",
    "}\n",
    "df1957[\"real_label\"] =  df1957[\"cluster_label\"].map(label_dict_1957)\n",
    "df1957.head()"
   ]
  },
  {
   "cell_type": "code",
   "execution_count": null,
   "metadata": {},
   "outputs": [],
   "source": [
    "# CONVERSION PARA AÑO 2007\n",
    "label_dict_2007 = {\n",
    "    0: # FIX ME PLEASE, # \"Desarrollado\" o \"En Vías de Desarrollo\" o \"Sub-Desarrollado\" \n",
    "    1: # FIX ME PLEASE, # \"Desarrollado\" o \"En Vías de Desarrollo\" o \"Sub-Desarrollado\" \n",
    "    2: # FIX ME PLEASE, # \"Desarrollado\" o \"En Vías de Desarrollo\" o \"Sub-Desarrollado\" \n",
    "}\n",
    "df2007[\"real_label\"] =  df2007[\"cluster_label\"].map(label_dict_2007)\n",
    "df2007.head()"
   ]
  },
  {
   "cell_type": "markdown",
   "metadata": {},
   "source": [
    "A continuación y utilizando la clasificación anterior, buscaremos cuáles paísen en 1957 estaban en el grupo de países subdesarrollados y en el año 2007 han salido del subdesarrollo."
   ]
  },
  {
   "cell_type": "code",
   "execution_count": null,
   "metadata": {},
   "outputs": [],
   "source": [
    "# ESTA ES LA PREGUNTA MAS DIFICIL - ¡VAMOS QUE SE PUEDE!\n",
    "# PUEDES DEFINIR VARIABLES AUXILIARES SI ES MAS FACIL\n",
    "mask_sd_1957 = # Máscara de países sub-desarrollados en 1952\n",
    "mask_nsd_2007 = # Máscara no sub-desarrollados en 2007.\n",
    "paises_sd_1957_nsd_2007 = # FIX ME PLEASE # Apply masks\n",
    "paises_sd_1957_nsd_2007"
   ]
  },
  {
   "cell_type": "markdown",
   "metadata": {},
   "source": [
    "*R*:"
   ]
  },
  {
   "cell_type": "code",
   "execution_count": null,
   "metadata": {},
   "outputs": [],
   "source": []
  }
 ],
 "metadata": {
  "celltoolbar": "Slideshow",
  "kernelspec": {
   "display_name": "Python 3",
   "language": "python",
   "name": "python3"
  },
  "language_info": {
   "codemirror_mode": {
    "name": "ipython",
    "version": 3
   },
   "file_extension": ".py",
   "mimetype": "text/x-python",
   "name": "python",
   "nbconvert_exporter": "python",
   "pygments_lexer": "ipython3",
   "version": "3.7.1"
  }
 },
 "nbformat": 4,
 "nbformat_minor": 2
}
