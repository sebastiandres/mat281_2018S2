{
 "cells": [
  {
   "cell_type": "markdown",
   "metadata": {
    "slideshow": {
     "slide_type": "slide"
    }
   },
   "source": [
    "# MAT281\n",
    "\n",
    "## Aplicaciones de la Matemática en la Ingeniería\n",
    "\n",
    "### Tarea - Módulos 3 y 4 - Parte 4"
   ]
  },
  {
   "cell_type": "markdown",
   "metadata": {},
   "source": [
    "## Parte 4 - Retroalimentación sobre el curso [0 puntos]\n",
    "\n",
    "Esta sección **no será evaluada** pero nos permitirá obtener retroalimentación de las clases, tareas y laboratorios. Puedes ser completamente sincero, pues no será parte de la evaluación de esta tarea (ni de futuras).\n",
    "\n",
    "---\n",
    "\n",
    "**1**. ¿Aproximadamente cuánto tiempo, en horas, te tomó terminar la tarea?\n",
    "\n",
    "*R: << RESPUESTA DEL ALUMNO >>*\n",
    "\n",
    "**2**. ¿Qué tan interesante es esta tarea (0-100)?\n",
    "\n",
    "*R: << RESPUESTA DEL ALUMNO >>*\n",
    "\n",
    "**3**. ¿Qué tan difícil fue esta tarea (0-100)? Siendo 0 complemente trivial, 100 completamente imposible y 50 siendo una complejidad apropiada.\n",
    "\n",
    "*R: << RESPUESTA DEL ALUMNO >>*\n",
    "\n",
    "---\n",
    "\n",
    "#### Módulo 3 - Visualización\n",
    "Evalúa las siguientes clases , en escala 0 a 100 (siendo 0 completamente inútil y 100 información indispensable). Puedes incluir comentarios adicionales, si lo deseas.\n",
    "\n",
    "* **Clase 1**: Landscape ¿Cuál es el panorama actual de visualizaciones? ¿Por dónde empezar?\n",
    "\n",
    "R: *[RESPUESTA DEL ESTUDIANTE]*\n",
    "\n",
    "* **Clase 2**: Teoría de Visualización ¿Porqué visualizamos datos? ¿Qué ciencia hay detrás de la visualización?\n",
    "\n",
    "R: *[RESPUESTA DEL ESTUDIANTE]*\n",
    "\n",
    "* **Clase 3**: Visualización Declarativa: Ejemplo con Altair.\n",
    "\n",
    "R: *[RESPUESTA DEL ESTUDIANTE]*\n",
    "\n",
    "* **Clase 4**: Visualización Interactiva: MS PowerBI.\n",
    "\n",
    "R: *[RESPUESTA DEL ESTUDIANTE]*\n",
    "\n",
    "---\n",
    "\n",
    "#### Módulo 4 - Machine Learning y Data Science\n",
    "Evalúa las siguientes clases , en escala 0 a 100 (siendo 0 completamente inútil y 100 información indispensable). Puedes incluir comentarios adicionales, si lo deseas.\n",
    "\n",
    "* **Clase 1**: Introducción a modelamiento y Machine Learning.\n",
    "\n",
    "R: *[RESPUESTA DEL ESTUDIANTE]*\n",
    "\n",
    "* **Clase 2**: Laboratorio de Holdout set y Cross Validation.\n",
    "\n",
    "R: *[RESPUESTA DEL ESTUDIANTE]*\n",
    "\n",
    "* **Clase 3**: Laboratorio de Regresión lineal.\n",
    "\n",
    "R: *[RESPUESTA DEL ESTUDIANTE]*\n",
    "\n",
    "* **Clase 4**: Algoritmos de Clasificación: Regresión logística.\n",
    "\n",
    "R: *[RESPUESTA DEL ESTUDIANTE]*\n",
    "\n",
    "* **Clase 5**: Laboratorio algoritmos de Clasificación: k Neirest Neigbors. \n",
    "\n",
    "R: *[RESPUESTA DEL ESTUDIANTE]*\n",
    "\n",
    "* **Clase 6**: Algoritmos de Clustering: k-means. \n",
    "\n",
    "R: *[RESPUESTA DEL ESTUDIANTE]*\n",
    "\n",
    "* **Clase 7**: Laboratorio de Algoritmos de Clustering: k-means. \n",
    "\n",
    "R: *[RESPUESTA DEL ESTUDIANTE]*"
   ]
  },
  {
   "cell_type": "code",
   "execution_count": null,
   "metadata": {},
   "outputs": [],
   "source": []
  }
 ],
 "metadata": {
  "celltoolbar": "Slideshow",
  "kernelspec": {
   "display_name": "Python 3",
   "language": "python",
   "name": "python3"
  },
  "language_info": {
   "codemirror_mode": {
    "name": "ipython",
    "version": 3
   },
   "file_extension": ".py",
   "mimetype": "text/x-python",
   "name": "python",
   "nbconvert_exporter": "python",
   "pygments_lexer": "ipython3",
   "version": "3.7.1"
  }
 },
 "nbformat": 4,
 "nbformat_minor": 2
}
