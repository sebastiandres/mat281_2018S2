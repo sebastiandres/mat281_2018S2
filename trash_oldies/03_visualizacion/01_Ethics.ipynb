{
 "cells": [
  {
   "cell_type": "markdown",
   "metadata": {},
   "source": [
    "# Ética\n",
    "\n",
    "Referencias:\n",
    "* Ethics in Big Data, XYZ, EdX. \n",
    "* \n",
    "*\n",
    "De ser posible, revise los enlaces originales.\n",
    "\n",
    "¿Definición de ética?\n",
    "\n",
    "..."
   ]
  }
 ],
 "metadata": {
  "kernelspec": {
   "display_name": "Python 3",
   "language": "python",
   "name": "python3"
  },
  "language_info": {
   "codemirror_mode": {
    "name": "ipython",
    "version": 3
   },
   "file_extension": ".py",
   "mimetype": "text/x-python",
   "name": "python",
   "nbconvert_exporter": "python",
   "pygments_lexer": "ipython3",
   "version": "3.5.2"
  }
 },
 "nbformat": 4,
 "nbformat_minor": 2
}
