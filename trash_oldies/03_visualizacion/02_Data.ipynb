{
 "cells": [
  {
   "cell_type": "markdown",
   "metadata": {},
   "source": [
    "## Data y unidades\n",
    "\n",
    "## Tipos de datos\n",
    "\n",
    "## Unidades\n",
    "\n",
    "## Adimensionalizacion\n",
    "Funciones solo aplican a adimensionales.\n",
    "\n",
    "## \n",
    "\n",
    "---\n",
    "\n",
    "# Matemáticas de la calle\n"
   ]
  }
 ],
 "metadata": {
  "kernelspec": {
   "display_name": "Python 3",
   "language": "python",
   "name": "python3"
  },
  "language_info": {
   "codemirror_mode": {
    "name": "ipython",
    "version": 3
   },
   "file_extension": ".py",
   "mimetype": "text/x-python",
   "name": "python",
   "nbconvert_exporter": "python",
   "pygments_lexer": "ipython3",
   "version": "3.5.2"
  }
 },
 "nbformat": 4,
 "nbformat_minor": 2
}
