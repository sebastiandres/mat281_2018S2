{
 "cells": [
  {
   "cell_type": "markdown",
   "metadata": {},
   "source": [
    "La visualización es una herramienta crucial para la comunicación de resultados. Dedicaremos un módulo especialmente a enseñar a desarrollar visualizaciones de alto impacto. La estructura del módulo es la siguiente:\n",
    "1. ¿Porqué es importante?\n",
    "2. Teoría de la visualización.\n",
    "3. Visualización práctica.\n",
    "4. Librerías"
   ]
  },
  {
   "cell_type": "markdown",
   "metadata": {},
   "source": [
    "## ¿Porqué es importante la visualización?\n",
    "\n",
    "De todos los sentidos del cuerpo humano, la visión es la que permite la mayor transmisión de información. Estimaciones (ref) indican que el cerebro puede recibir mediante la visión una transmisión de 300 MB/s.\n",
    "\n",
    "DIbujo del ojo - relación al cuerpo."
   ]
  },
  {
   "cell_type": "markdown",
   "metadata": {},
   "source": [
    "### Cuarteto de Anscombe\n",
    "\n",
    "En el año XXYX el estadístico X Anscombe diseño el siguiente conjunto de datos:\n",
    "\n",
    "TaBLA\n",
    "\n",
    "Los números anteriores poseen exactamente las mismas estadísticas:\n",
    "\n",
    "Bleble"
   ]
  },
  {
   "cell_type": "code",
   "execution_count": null,
   "metadata": {},
   "outputs": [],
   "source": [
    "print_anscombe()"
   ]
  },
  {
   "cell_type": "markdown",
   "metadata": {},
   "source": [
    "Los números anteriores poseen exactamente las mismas estadísticas:"
   ]
  },
  {
   "cell_type": "code",
   "execution_count": null,
   "metadata": {},
   "outputs": [],
   "source": [
    "compute_anscombe_stats()"
   ]
  },
  {
   "cell_type": "markdown",
   "metadata": {},
   "source": [
    "Sin embargo, cuando graficamos el conjunto es fácilmente apreciable las diferencias en cada conjunto de datos. Podemos distinguir los valores fuera de rango (outliers), las tendencias y características generales de cada uno."
   ]
  },
  {
   "cell_type": "code",
   "execution_count": null,
   "metadata": {},
   "outputs": [],
   "source": [
    "plot_anscombe()"
   ]
  },
  {
   "cell_type": "markdown",
   "metadata": {},
   "source": [
    "Sin embargo el ojo humano no es infalible, como es fácilmente comprobable:\n",
    "\n",
    "    IMAGEN VESTIDO\n",
    "¿Que colores posee el vestido?"
   ]
  },
  {
   "cell_type": "markdown",
   "metadata": {},
   "source": [
    "IMAGEN ilusion optica 2\n",
    "¿?"
   ]
  },
  {
   "cell_type": "markdown",
   "metadata": {},
   "source": [
    "Imagen ilusion optica 3"
   ]
  },
  {
   "cell_type": "markdown",
   "metadata": {},
   "source": [
    "Conocer las limitaciones del ojo humano permite diseñar visualizaciones que generarán el impacto deseado y que permitirán comunicar efectivamente. Consideremos el siguiente gráfico:"
   ]
  },
  {
   "cell_type": "code",
   "execution_count": 4,
   "metadata": {},
   "outputs": [
    {
     "ename": "NameError",
     "evalue": "name 'plot_flat_graf' is not defined",
     "output_type": "error",
     "traceback": [
      "\u001b[0;31m---------------------------------------------------------------------------\u001b[0m",
      "\u001b[0;31mNameError\u001b[0m                                 Traceback (most recent call last)",
      "\u001b[0;32m<ipython-input-4-d18ff35c588f>\u001b[0m in \u001b[0;36m<module>\u001b[0;34m()\u001b[0m\n\u001b[0;32m----> 1\u001b[0;31m \u001b[0mplot_flat_graf\u001b[0m\u001b[0;34m(\u001b[0m\u001b[0;34m)\u001b[0m\u001b[0;34m\u001b[0m\u001b[0m\n\u001b[0m",
      "\u001b[0;31mNameError\u001b[0m: name 'plot_flat_graf' is not defined"
     ]
    }
   ],
   "source": [
    "plot_flat_graf()"
   ]
  },
  {
   "cell_type": "markdown",
   "metadata": {},
   "source": [
    "En el gráfico anterior, ¿cuántos XX poseen YY? \n",
    "\n",
    "Si el objetivo de la visualización fuera informar la posición relativa de XX sobre YY, entonces debería presentarse de la siguiente forma:"
   ]
  },
  {
   "cell_type": "code",
   "execution_count": null,
   "metadata": {},
   "outputs": [],
   "source": [
    "plot_selected_graf()"
   ]
  },
  {
   "cell_type": "markdown",
   "metadata": {},
   "source": [
    "## Anti-Ejemplos\n",
    "\n",
    "A continuación, se ilustramos algunos ejemplos de malas visualizaciones (viz). Todos estos ejemplos **no deben repetirse**. Indicaremos las razones de porqué son malas viz."
   ]
  },
  {
   "cell_type": "markdown",
   "metadata": {},
   "source": [
    "**Ejemplo 1**\n",
    "\n",
    "Imagen"
   ]
  },
  {
   "cell_type": "markdown",
   "metadata": {},
   "source": [
    "Razón: El gráfico de torta no suma 100%. En general, se desaconseja el uso de gráficos de torta."
   ]
  },
  {
   "cell_type": "markdown",
   "metadata": {},
   "source": [
    "(copiar y pegar tantas veces como ejemplos). Las fuentes deberian ser: Clásicas (paper), EEUU, Chile."
   ]
  },
  {
   "cell_type": "markdown",
   "metadata": {},
   "source": [
    "## Bases científicas para la visualización\n",
    "\n",
    "Para aprender a realizar buenas visualizaciones es necesario entender cómo funciona la visión. Este es un campo activo y que vincula ciencia y biología, y realizaremos un breve resumen."
   ]
  },
  {
   "cell_type": "markdown",
   "metadata": {},
   "source": [
    "### Precepción versus postcepción (?)\n",
    "\n",
    "Existen elementos que pueden percibirse de manera inmediata, sin intervención conciente."
   ]
  },
  {
   "cell_type": "markdown",
   "metadata": {},
   "source": [
    "GRAF."
   ]
  },
  {
   "cell_type": "markdown",
   "metadata": {},
   "source": [
    "En el gráfico anterior, las marcas de color rojo son percibidas por el cerebro de manera inmediata sin que sea necesaria una orden conciente de búsqueda."
   ]
  },
  {
   "cell_type": "markdown",
   "metadata": {},
   "source": [
    "GRAF."
   ]
  },
  {
   "cell_type": "markdown",
   "metadata": {},
   "source": [
    "En la imágen anterior, el número ... debe ser buscado concientemente y el tiempo de procesamiento es proporcional al número de elementos de la figura."
   ]
  },
  {
   "cell_type": "markdown",
   "metadata": {},
   "source": [
    "### Priorizacion de codificación\n",
    "\n",
    "Para codificar la información existen los siguientes elementos:\n",
    "* Color\n",
    "* Posición\n",
    "* Largo\n",
    "*\n",
    "*\n",
    "*\n",
    "* \n"
   ]
  },
  {
   "cell_type": "markdown",
   "metadata": {},
   "source": [
    "No todos los tipos de codificaciones tienen la misma precisión al momento de ser percibidos.\n",
    "\n",
    "**¿En que orden crees que debería ordenarse los elementos anteriores?**"
   ]
  },
  {
   "cell_type": "markdown",
   "metadata": {},
   "source": [
    "¿Widget? ¿Como se podría hacer interactivo?"
   ]
  },
  {
   "cell_type": "markdown",
   "metadata": {},
   "source": []
  },
  {
   "cell_type": "code",
   "execution_count": null,
   "metadata": {},
   "outputs": [],
   "source": []
  },
  {
   "cell_type": "markdown",
   "metadata": {},
   "source": [
    "## A evitar: un resumen\n",
    "Un buen gráfico debe permitir recuperar las cifras de interés a partir de los gráficos.\n",
    "\n",
    "[Ejemplo malo / ejemplo bueno]\n",
    "\n"
   ]
  },
  {
   "cell_type": "code",
   "execution_count": null,
   "metadata": {},
   "outputs": [],
   "source": []
  }
 ],
 "metadata": {
  "kernelspec": {
   "display_name": "Python 3",
   "language": "python",
   "name": "python3"
  },
  "language_info": {
   "codemirror_mode": {
    "name": "ipython",
    "version": 3
   },
   "file_extension": ".py",
   "mimetype": "text/x-python",
   "name": "python",
   "nbconvert_exporter": "python",
   "pygments_lexer": "ipython3",
   "version": "3.5.2"
  }
 },
 "nbformat": 4,
 "nbformat_minor": 2
}
