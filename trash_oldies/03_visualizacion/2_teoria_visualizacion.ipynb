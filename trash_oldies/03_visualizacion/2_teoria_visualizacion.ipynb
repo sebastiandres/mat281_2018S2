{
 "cells": [
  {
   "cell_type": "markdown",
   "metadata": {},
   "source": [
    "# Teoría de Visualización\n",
    "\n"
   ]
  },
  {
   "cell_type": "markdown",
   "metadata": {},
   "source": [
    "## Tipos de datos\n",
    "\n",
    "No todos los datos son iguales.\n",
    "\n",
    "* Cuantitativos: \n",
    "  * Numéricos\n",
    "* Cualitativos:\n",
    "  * Ordinales\n",
    "  * Categóricos"
   ]
  },
  {
   "cell_type": "markdown",
   "metadata": {},
   "source": [
    "## Consejos generales\n",
    "\n",
    "Noha Illinsky, en su charla \"Cuatro pilatres de la visualización\", resume muy claramente el propósito:\n",
    "* Propósito\n",
    "* Información\n",
    "* Codificación\n",
    "* Formato"
   ]
  },
  {
   "cell_type": "markdown",
   "metadata": {},
   "source": [
    "* **Propósito** o público tiene que ver con para quién se está preparando la viz y que utilidad se le dará. Es muy diferente preparar un gráfico orientado a información y toma de decisiones.\n",
    "* **Contenido** se refiere a contar con la información que se desea mostrar, en el formato necesario para su procesamiento.\n",
    "* **Estructura** tiene que ver con la selección correcta de la codificación y estructura de la información.\n",
    "* **Formato** tiene que ver con la elección de fuentes, colores, tamaños relativos."
   ]
  },
  {
   "cell_type": "markdown",
   "metadata": {},
   "source": [
    "## Ejemplos"
   ]
  },
  {
   "cell_type": "markdown",
   "metadata": {},
   "source": []
  },
  {
   "cell_type": "markdown",
   "metadata": {},
   "source": [
    "## Tipos de Gráficos"
   ]
  },
  {
   "cell_type": "code",
   "execution_count": null,
   "metadata": {},
   "outputs": [],
   "source": []
  },
  {
   "cell_type": "code",
   "execution_count": null,
   "metadata": {},
   "outputs": [],
   "source": []
  }
 ],
 "metadata": {
  "kernelspec": {
   "display_name": "Python 3",
   "language": "python",
   "name": "python3"
  },
  "language_info": {
   "codemirror_mode": {
    "name": "ipython",
    "version": 3
   },
   "file_extension": ".py",
   "mimetype": "text/x-python",
   "name": "python",
   "nbconvert_exporter": "python",
   "pygments_lexer": "ipython3",
   "version": "3.5.2"
  }
 },
 "nbformat": 4,
 "nbformat_minor": 2
}
