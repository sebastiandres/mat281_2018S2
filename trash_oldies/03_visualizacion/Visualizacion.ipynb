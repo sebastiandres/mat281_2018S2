{
 "cells": [
  {
   "cell_type": "code",
   "execution_count": 1,
   "metadata": {
    "slideshow": {
     "slide_type": "skip"
    }
   },
   "outputs": [
    {
     "data": {
      "text/html": [
       "<style>\n",
       "\n",
       "/*********************************************\n",
       " * COLORS FOR EXAMPLES\n",
       " *********************************************/\n",
       "em {color: #800000;}\n",
       "span.good {color: #008000;}\n",
       "span.warning {color: #808000;}\n",
       "span.bad {color: #800000;}\n",
       "\n",
       "/*********************************************\n",
       " * GLOBAL STYLES\n",
       " *********************************************/\n",
       ".reveal h1 {color: #000000; text-shadow: 0px 0px 6px rgba(0, 0, 0, 0.2);}\n",
       ".reveal h2 {color: #222222; text-shadow: 0px 0px 5px rgba(0, 0, 0, 0.2);}\n",
       ".reveal h3 {color: #444444; text-shadow: 0px 0px 4px rgba(0, 0, 0, 0.2);}\n",
       ".reveal h4 {color: #666666; text-shadow: 0px 0px 3px rgba(0, 0, 0, 0.2);}\n",
       ".reveal h5 {color: #888888; text-shadow: 0px 0px 2px rgba(0, 0, 0, 0.2);}\n",
       ".reveal h6 {color: #AAAAAA; text-shadow: 0px 0px 1px rgba(0, 0, 0, 0.2);}\n",
       "\n",
       "/*********************************************\n",
       " * IMAGES\n",
       " *********************************************/\n",
       ".reveal section img { margin-left:auto; margin-right:auto;}\n",
       "\n",
       "</style>\n"
      ],
      "text/plain": [
       "<IPython.core.display.HTML object>"
      ]
     },
     "execution_count": 1,
     "metadata": {},
     "output_type": "execute_result"
    }
   ],
   "source": [
    "\"\"\"\n",
    "IPython Notebook v4.0 para python 2.7\n",
    "Librerías adicionales: numpy, matplotlib\n",
    "# Contenido bajo licencia CC-BY 4.0. Código bajo licencia MIT. (c) Sebastian Flores.\n",
    "\"\"\"\n",
    "\n",
    "# Configuracion para recargar módulos y librerías \n",
    "%reload_ext autoreload\n",
    "%autoreload 2\n",
    "%matplotlib inline\n",
    "from IPython.core.display import HTML\n",
    "\n",
    "HTML(open(\"style/mat281.css\", \"r\").read())\n",
    "\n",
    "# Imágenes: Copyright a autores respectivos.\n",
    "# Gráficos: Tomados de http://matplotlib.org/gallery.html y modificados."
   ]
  },
  {
   "cell_type": "markdown",
   "metadata": {
    "slideshow": {
     "slide_type": "slide"
    }
   },
   "source": [
    "<header class=\"w3-container w3-teal\">\n",
    "<img src=\"images/utfsm.png\" alt=\"\" height=\"100px\" align=\"left\"/>\n",
    "<img src=\"images/mat.png\" alt=\"\" height=\"100px\" align=\"right\"/>\n",
    "</header>\n",
    "<br/><br/><br/><br/><br/>\n",
    "# MAT281\n",
    "## Aplicaciones de la Matemática en la Ingeniería\n",
    "\n",
    "### Sebastián Flores\n",
    "\n",
    "https://www.github.com/sebastiandres/mat281\n"
   ]
  },
  {
   "cell_type": "markdown",
   "metadata": {
    "slideshow": {
     "slide_type": "slide"
    }
   },
   "source": [
    "## Clases anteriores\n",
    "\n",
    "* Conjetura Razonable \n",
    "* Regla 1-$\\pi$-10\n",
    "* Aproximaciones utilizando dimensiones\n",
    "* Teorema Buckingham\n",
    "* Ecuaciones adimensionales"
   ]
  },
  {
   "cell_type": "markdown",
   "metadata": {
    "slideshow": {
     "slide_type": "slide"
    }
   },
   "source": [
    "## ¿Qué contenido aprenderemos?\n",
    "\n",
    "*** Visualización ***"
   ]
  },
  {
   "cell_type": "markdown",
   "metadata": {
    "slideshow": {
     "slide_type": "slide"
    }
   },
   "source": [
    "## ¿Porqué aprenderemos sobre visualización?\n",
    "\n",
    "* Porque un resultado no sirve si no puede comunicarse correctamente.\n",
    "* Porque una buena visualización dista de ser una tarea trivial.\n",
    "* Porque un ingenierio necesita producir excelentes gráficos (pero nadie enseña cómo)."
   ]
  },
  {
   "cell_type": "markdown",
   "metadata": {
    "slideshow": {
     "slide_type": "fragment"
    }
   },
   "source": [
    "Seguramente está exagerando..."
   ]
  },
  {
   "cell_type": "markdown",
   "metadata": {
    "slideshow": {
     "slide_type": "slide"
    }
   },
   "source": [
    "## No, no exagero...\n",
    "<img src=\"images/Fox1.png\" alt=\"\" width=\"600\" align=\"middle\"/>"
   ]
  },
  {
   "cell_type": "markdown",
   "metadata": {
    "slideshow": {
     "slide_type": "slide"
    }
   },
   "source": [
    "## No, no exagero...\n",
    "<img src=\"images/Fox2.png\" alt=\"\" width=\"600\" align=\"middle\"/>"
   ]
  },
  {
   "cell_type": "markdown",
   "metadata": {
    "slideshow": {
     "slide_type": "slide"
    }
   },
   "source": [
    "## No, no exagero...\n",
    "<img src=\"images/Fox3.png\" alt=\"\" width=\"600\" align=\"middle\"/>"
   ]
  },
  {
   "cell_type": "markdown",
   "metadata": {
    "slideshow": {
     "slide_type": "slide"
    }
   },
   "source": [
    "## Primeras visualizaciones\n",
    "Campaña de Napoleón a Moscú (Charles Minard, 1889).\n",
    "<img src=\"images/Napoleon.png\" alt=\"\" width=\"600\" align=\"middle\"/>"
   ]
  },
  {
   "cell_type": "markdown",
   "metadata": {
    "slideshow": {
     "slide_type": "slide"
    }
   },
   "source": [
    "## Primeras visualizaciones\n",
    "Mapa del cólera (Jhon Snow, 1855).\n",
    "<img src=\"images/Colera.png\" alt=\"\" width=\"600\" align=\"middle\"/>"
   ]
  },
  {
   "cell_type": "markdown",
   "metadata": {
    "slideshow": {
     "slide_type": "slide"
    }
   },
   "source": [
    "## ¿Y en primer lugar, porqué utilizamos gráficos?\n",
    "\n",
    "¿Porqué utilizamos gráficos para presentar datos?\n",
    "* El 70 % de los receptores sensoriales del cuerpo humano está dedicado a la visión.\n",
    "* Cerebro ha sido entrenado evolutivamente para interpretar la información visual.\n",
    "\n",
    "    “The eye and the visual cortex of the brain form a massively\n",
    "    parallel processor that provides the highest bandwidth channel\n",
    "    into human cognitive centers”\n",
    "    — Colin Ware, Information Visualization, 2004."
   ]
  },
  {
   "cell_type": "markdown",
   "metadata": {
    "slideshow": {
     "slide_type": "slide"
    }
   },
   "source": [
    "## Ejemplo clásico: Cuarteto de ANSCOMBE \n",
    "\n",
    "Considere los siguientes 4 conjuntos de datos. \n",
    "\n",
    "¿Qué puede decir de los datos?"
   ]
  },
  {
   "cell_type": "code",
   "execution_count": 1,
   "metadata": {},
   "outputs": [
    {
     "name": "stdout",
     "output_type": "stream",
     "text": [
      "# x1, y1,  x2,y2,   x3,y3,   x4,y4\n",
      "10, 8.04,  10,9.14, 10, 7.46,  8, 6.58\n",
      " 8, 6.95,   8,8.14,  8, 6.77,  8, 5.76\n",
      "13, 7.58,  13,8.74, 13,12.74,  8, 7.71\n",
      " 9, 8.81,   9,8.77,  9, 7.11,  8, 8.84\n",
      "11, 8.33,  11,9.26, 11, 7.81,  8, 8.47\n",
      "14, 9.96,  14,8.10, 14, 8.84,  8, 7.04\n",
      " 6, 7.24,   6,6.13,  6, 6.08,  8, 5.25\n",
      " 4, 4.26,   4,3.10,  4, 5.39, 19,12.50\n",
      "12,10.84,  12,9.13, 12, 8.15,  8, 5.56\n",
      " 7, 4.82,   7,7.26,  7, 6.42,  8, 7.91\n",
      " 5, 5.68,   5,4.74,  5, 5.73,  8, 6.89\n"
     ]
    }
   ],
   "source": [
    "%%bash\n",
    "cat data/anscombe.txt"
   ]
  },
  {
   "cell_type": "markdown",
   "metadata": {
    "slideshow": {
     "slide_type": "slide"
    }
   },
   "source": [
    "## Ejemplo clásico: Cuarteto de ANSCOMBE \n",
    "\n",
    "Consideremos las estadísticas de los datos:"
   ]
  },
  {
   "cell_type": "code",
   "execution_count": 3,
   "metadata": {},
   "outputs": [
    {
     "name": "stdout",
     "output_type": "stream",
     "text": [
      "Grupo 1:\n",
      "\tTiene pendiente m=0.50 e intercepto b=3.00\n",
      "\tTiene R^2=0.8164 p value=0.0022 y std_err=0.1179\n",
      "Grupo 2:\n",
      "\tTiene pendiente m=0.50 e intercepto b=3.00\n",
      "\tTiene R^2=0.8162 p value=0.0022 y std_err=0.1180\n",
      "Grupo 3:\n",
      "\tTiene pendiente m=0.50 e intercepto b=3.00\n",
      "\tTiene R^2=0.8163 p value=0.0022 y std_err=0.1179\n",
      "Grupo 4:\n",
      "\tTiene pendiente m=0.50 e intercepto b=3.00\n",
      "\tTiene R^2=0.8165 p value=0.0022 y std_err=0.1178\n"
     ]
    }
   ],
   "source": [
    "import numpy as np\n",
    "from scipy import stats\n",
    "data = np.loadtxt(\"data/anscombe.txt\", delimiter=\",\")\n",
    "for i in range(4):\n",
    "    x = data[:,2*i]\n",
    "    y = data[:,2*i+1]\n",
    "    slope, intercept, r_value, p_value, std_err = stats.linregress(x,y)\n",
    "    print \"Grupo %d:\" %(i+1)\n",
    "    print \"\\tTiene pendiente m=%.2f e intercepto b=%.2f\" %(slope, intercept)\n",
    "    print \"\\tTiene R^2=%.4f p value=%.4f y std_err=%.4f\" %(r_value, p_value, std_err) "
   ]
  },
  {
   "cell_type": "markdown",
   "metadata": {
    "slideshow": {
     "slide_type": "slide"
    }
   },
   "source": [
    "## Ejemplo clásico: Cuarteto de ANSCOMBE \n",
    "\n",
    "Grafiquemos los datos"
   ]
  },
  {
   "cell_type": "code",
   "execution_count": 41,
   "metadata": {},
   "outputs": [
    {
     "data": {
      "image/png": "[encoded data removed]",
      "text/plain": [
       "<matplotlib.figure.Figure at 0x7f7b84021588>"
      ]
     },
     "metadata": {},
     "output_type": "display_data"
    }
   ],
   "source": [
    "from matplotlib import pyplot as plt\n",
    "import numpy as np\n",
    "\n",
    "data = np.loadtxt(\"data/anscombe.txt\", delimiter=\",\")\n",
    "fig = plt.figure(figsize=(16,8))\n",
    "colors = ['g','y','b','r']\n",
    "for i in range(4):\n",
    "    x = data[:,2*i]\n",
    "    y = data[:,2*i+1]\n",
    "    plt.subplot(2, 2, i+1)\n",
    "    ax = plt.plot(x,y,'o'+colors[i], markersize=14, alpha=0.75)\n",
    "    plt.xlim([3,20])\n",
    "    plt.ylim([2,14])\n",
    "\n",
    "    ax = plt.gca()\n",
    "    ax.tick_params(axis = 'both', which = 'major', labelsize = 18)\n",
    "    plt.xlabel(\"x{}\".format(i+1), fontsize=18)\n",
    "    plt.ylabel(\"y{}     \".format(i+1), fontsize=18, rotation=0)\n",
    "    #plt.title(\"Grupo %d\" %(i+1))\n",
    "    #m, b, r_value, p_value, std_err = stats.linregress(x,y)\n",
    "    #x_aux = np.linspace(2,16,20)\n",
    "    #plt.plot(x_aux, m*x_aux + b, 'r', lw=2.0)\n",
    "#plt.suptitle(\"Cuarteto de Anscombe\")\n",
    "fig.subplots_adjust(hspace=0.4)\n",
    "plt.show()"
   ]
  },
  {
   "cell_type": "markdown",
   "metadata": {
    "slideshow": {
     "slide_type": "slide"
    }
   },
   "source": [
    "##  Sistema visual humano\n",
    "\n",
    "#### Buenas noticias\n",
    "* Gráficos entregan información que la estadística podría no revelar.\n",
    "* Despliegue visual es esencial para comprensión. \n",
    "\n",
    "#### Malas noticias \n",
    "* La atención es selectiva y puede ser fácilmente engañada."
   ]
  },
  {
   "cell_type": "markdown",
   "metadata": {
    "slideshow": {
     "slide_type": "slide"
    }
   },
   "source": [
    "#### La atención es selectiva y puede ser fácilmente engañada.\n",
    "<img src=\"images/IO1a.png\" alt=\"\" width=\"400\" align=\"middle\"/>   "
   ]
  },
  {
   "cell_type": "markdown",
   "metadata": {
    "slideshow": {
     "slide_type": "slide"
    }
   },
   "source": [
    "#### La atención es selectiva y puede ser fácilmente engañada.\n",
    "<img src=\"images/IO1b.png\" alt=\"\" width=\"400\" align=\"middle\"/>   "
   ]
  },
  {
   "cell_type": "markdown",
   "metadata": {
    "slideshow": {
     "slide_type": "slide"
    }
   },
   "source": [
    "#### La atención es selectiva y puede ser fácilmente engañada.\n",
    "<img src=\"images/IO2a.png\" alt=\"\" width=\"400\" align=\"middle\"/>   "
   ]
  },
  {
   "cell_type": "markdown",
   "metadata": {
    "slideshow": {
     "slide_type": "slide"
    }
   },
   "source": [
    "#### La atención es selectiva y puede ser fácilmente engañada.\n",
    "<img src=\"images/IO2b.png\" alt=\"\" width=\"400\" align=\"middle\"/>   "
   ]
  },
  {
   "cell_type": "markdown",
   "metadata": {
    "slideshow": {
     "slide_type": "slide"
    }
   },
   "source": [
    "## Elementos para la creación de una buena visualización\n",
    "1. ***Honestidad***: representaciones visuales no deben engañar al observador.\n",
    "2. ***Priorización***: dato más importante debe utilizar elemento de mejor percepción.\n",
    "3. ***Expresividad***: datos deben utilizar elementos con atribuciones adecuadas.\n",
    "4. ***Consistencia***: codificación visual debe permitir reproducir datos.\n",
    "\n",
    "El principio básico a respetar es que a partir del gráfico uno debe poder reobtener fácilmente los datos originales."
   ]
  },
  {
   "cell_type": "markdown",
   "metadata": {
    "slideshow": {
     "slide_type": "slide"
    }
   },
   "source": [
    "## 1. Honestidad\n",
    "El ojo humano no tiene la misma precisión al estimar distintas atribuciones:\n",
    "* **Largo**: Bien estimado y sin sesgo, con un factor multiplicativo de 0.9 a 1.1.\n",
    "* **Área**: Subestimado y con sesgo, con un factor multiplicativo de 0.6 a 0.9.\n",
    "* **Volumen**: Muy subestimado y con sesgo, con un factor multiplicativo de 0.5 a 0.8."
   ]
  },
  {
   "cell_type": "markdown",
   "metadata": {
    "slideshow": {
     "slide_type": "slide"
    }
   },
   "source": [
    "#### 1. Honestidad\n",
    "Resulta inadecuado realizar gráficos de datos utilizando áreas o volúmenes buscando inducir a errores.\n",
    "<img src=\"images/Honestidad1.png\" alt=\"\" width=\"400\" align=\"middle\"/>"
   ]
  },
  {
   "cell_type": "markdown",
   "metadata": {
    "slideshow": {
     "slide_type": "slide"
    }
   },
   "source": [
    "#### 1. Honestidad\n",
    "Resulta inadecuado realizar gráficos de datos utilizando áreas o volúmenes si no queda claro la atribución utilizada.\n",
    "<img src=\"images/Honestidad2.png\" alt=\"\" width=\"400\" align=\"middle\"/>"
   ]
  },
  {
   "cell_type": "markdown",
   "metadata": {
    "slideshow": {
     "slide_type": "slide"
    }
   },
   "source": [
    "#### 1. Honestidad\n",
    "Una excepción la constituyen los \"pie-chart\" o gráficos circulares,\n",
    "porque el ojo humano distingue bien ángulos y segmentos de círculo,\n",
    "y porque es posible indicar los porcentajes respectivos fácilmente."
   ]
  },
  {
   "cell_type": "code",
   "execution_count": null,
   "metadata": {},
   "outputs": [],
   "source": [
    "from matplotlib import pyplot as plt\n",
    "# make a square figure and axes\n",
    "plt.figure(figsize=(6,6))\n",
    "ax = plt.axes([0.1, 0.1, 0.8, 0.8])\n",
    "\n",
    "# The slices will be ordered and plotted counter-clockwise.\n",
    "my_labels = 'Frogs', 'Hogs', 'Dogs', 'Logs'\n",
    "my_fracs = [15, 30, 45, 10]\n",
    "my_explode=(0, 0.10, 0.10, 0)\n",
    "\n",
    "#plt.pie(my_fracs, labels=my_labels)\n",
    "plt.pie(my_fracs, explode=my_explode, labels=my_labels, autopct='%1.1f%%', shadow=True, startangle=90)\n",
    "plt.title('Raining Hogs and Dogs', bbox={'facecolor':'0.8', 'pad':5})\n",
    "plt.show()"
   ]
  },
  {
   "cell_type": "markdown",
   "metadata": {
    "slideshow": {
     "slide_type": "slide"
    }
   },
   "source": [
    "## 2. Priorización\n",
    "Dato más importante debe utilizar elemento de mejor percepción."
   ]
  },
  {
   "cell_type": "code",
   "execution_count": null,
   "metadata": {},
   "outputs": [],
   "source": [
    "import numpy as np\n",
    "from matplotlib import pyplot as plt\n",
    "N = 31\n",
    "x = np.arange(N)\n",
    "y1 = 80 + 20*x/N + 5*np.random.rand(N)\n",
    "y2 = 75 + 25*x/N + 5*np.random.rand(N)\n",
    "fig = plt.figure(figsize=(16,8))\n",
    "plt.subplot(2, 2, 1)\n",
    "plt.plot(x, y1, 'ok')\n",
    "plt.plot(x, y2, 'sk')\n",
    "plt.subplot(2, 2, 2)\n",
    "plt.plot(x, y1,'ob')\n",
    "plt.plot(x, y2,'or')\n",
    "plt.subplot(2, 2, 3)\n",
    "plt.plot(x, y1,'ob')\n",
    "plt.plot(x, y2,'*r')\n",
    "plt.subplot(2, 2, 4)\n",
    "plt.plot(x, y1,'sr')\n",
    "plt.plot(x, y2,'ob')\n",
    "plt.show()"
   ]
  },
  {
   "cell_type": "markdown",
   "metadata": {
    "slideshow": {
     "slide_type": "slide"
    }
   },
   "source": [
    "#### 2. Priorización\n",
    "## Elementos de mejor percepción\n",
    "No todos los elementos tienen la misma percepción a nivel del sistema visual.\n",
    "\n",
    "En particular, el color y la forma son elementos preatentivos: un color distinto o una forma distinta se reconocen de manera no conciente."
   ]
  },
  {
   "cell_type": "markdown",
   "metadata": {
    "slideshow": {
     "slide_type": "fragment"
    }
   },
   "source": [
    "<img src=\"images/preatentivo1.png\" alt=\"\" width=\"400\" align=\"middle\"/>"
   ]
  },
  {
   "cell_type": "markdown",
   "metadata": {
    "slideshow": {
     "slide_type": "fragment"
    }
   },
   "source": [
    "<img src=\"images/preatentivo2.png\" alt=\"\" width=\"400\" align=\"middle\"/>"
   ]
  },
  {
   "cell_type": "markdown",
   "metadata": {
    "slideshow": {
     "slide_type": "slide"
    }
   },
   "source": [
    "#### 2. Priorización\n",
    "## Elementos de mejor percepción\n",
    "El sistema visual humano puede estimar con precisión siguientes atributos visuales:\n",
    "1. Posición\n",
    "2. Largo\n",
    "3. Pendiente\n",
    "4. Ángulo\n",
    "5. Área\n",
    "6. Volumen\n",
    "7. Color\n",
    "\n",
    "Utilice el atributo que se estima con mayor precisión cuando sea posible."
   ]
  },
  {
   "cell_type": "markdown",
   "metadata": {
    "slideshow": {
     "slide_type": "slide"
    }
   },
   "source": [
    "#### 2. Priorización\n",
    "## Colormaps\n",
    "Puesto que la percepción del color tiene muy baja precisión, resulta ***inadecuado*** tratar de representar un valor numérico con colores.\n",
    "* ¿Qué diferencia numérica existe entre el verde y el rojo?\n",
    "* ¿Que asociación preexistente posee el color rojo, el amarillo y el verde?\n",
    "* ¿Con cuánta precisión podemos distinguir valores en una escala de grises?"
   ]
  },
  {
   "cell_type": "markdown",
   "metadata": {
    "slideshow": {
     "slide_type": "slide"
    }
   },
   "source": [
    "#### 2. Priorización\n",
    "## Colormaps\n",
    "<img src=\"images/colormap.png\" alt=\"\" width=\"400\" align=\"middle\"/>"
   ]
  },
  {
   "cell_type": "markdown",
   "metadata": {
    "slideshow": {
     "slide_type": "slide"
    }
   },
   "source": [
    "#### 2. Priorización\n",
    "## Colormaps\n",
    "Algunos ejemplos de colormaps"
   ]
  },
  {
   "cell_type": "code",
   "execution_count": null,
   "metadata": {},
   "outputs": [],
   "source": [
    "import matplotlib\n",
    "import numpy as np\n",
    "import matplotlib.cm as cm\n",
    "import matplotlib.mlab as mlab\n",
    "import matplotlib.pyplot as plt\n",
    "\n",
    "delta = 0.025\n",
    "x = np.arange(-3.0, 3.0, delta)\n",
    "y = np.arange(-2.0, 2.0, delta)\n",
    "X, Y = np.meshgrid(x, y)\n",
    "Z1 = mlab.bivariate_normal(X, Y, 1.0, 1.0, 0.0, 0.0)\n",
    "Z2 = mlab.bivariate_normal(X, Y, 1.5, 0.5, 1, 1)\n",
    "# difference of Gaussians\n",
    "Z = 10.0 * (Z2 - Z1)\n",
    "\n",
    "plt.figure(figsize=(16,8))\n",
    "# First plot\n",
    "plt.subplot(2,2,1)\n",
    "im = plt.imshow(Z, interpolation='bilinear', origin='lower',cmap=cm.rainbow, extent=(-3, 3, -2, 2))\n",
    "plt.colorbar(im, shrink=0.8)\n",
    "# Second plot\n",
    "plt.subplot(2,2,2)\n",
    "im = plt.imshow(Z, interpolation='bilinear', origin='lower',cmap=cm.autumn, extent=(-3, 3, -2, 2))\n",
    "plt.colorbar(im, shrink=0.8)\n",
    "# Third plot\n",
    "plt.subplot(2,2,3)\n",
    "im = plt.imshow(Z, interpolation='bilinear', origin='lower',cmap=cm.coolwarm, extent=(-3, 3, -2, 2))\n",
    "plt.colorbar(im, shrink=0.8)\n",
    "# Fourth plot\n",
    "plt.subplot(2,2,4)\n",
    "im = plt.imshow(Z, interpolation='bilinear', origin='lower',cmap=cm.gray, extent=(-3, 3, -2, 2))\n",
    "plt.colorbar(im, shrink=0.8)\n",
    "# Show\n",
    "plt.show()"
   ]
  },
  {
   "cell_type": "markdown",
   "metadata": {
    "slideshow": {
     "slide_type": "slide"
    }
   },
   "source": [
    "#### 2. Priorización\n",
    "## Colormaps\n",
    "Consejo: evite mientras pueda los colormaps. Por ejemplo, utilizando contour plots."
   ]
  },
  {
   "cell_type": "code",
   "execution_count": null,
   "metadata": {},
   "outputs": [],
   "source": [
    "import matplotlib\n",
    "import numpy as np\n",
    "import matplotlib.cm as cm\n",
    "import matplotlib.mlab as mlab\n",
    "import matplotlib.pyplot as plt\n",
    "\n",
    "delta = 0.025\n",
    "x = np.arange(-3.0, 3.0, delta)\n",
    "y = np.arange(-2.0, 2.0, delta)\n",
    "X, Y = np.meshgrid(x, y)\n",
    "Z1 = mlab.bivariate_normal(X, Y, 1.0, 1.0, 0.0, 0.0)\n",
    "Z2 = mlab.bivariate_normal(X, Y, 1.5, 0.5, 1, 1)\n",
    "# difference of Gaussians\n",
    "Z = 10.0 * (Z2 - Z1)\n",
    "\n",
    "plt.figure(figsize=(16,8))\n",
    "# First plot\n",
    "plt.subplot(2,2,1)\n",
    "CS = plt.contour(X, Y, Z, 9, cmap=cm.rainbow)\n",
    "# Second plot\n",
    "matplotlib.rcParams['contour.negative_linestyle'] = 'solid'\n",
    "plt.subplot(2,2,2)\n",
    "CS = plt.contour(X, Y, Z, 9, cmap=cm.rainbow)\n",
    "plt.clabel(CS, fontsize=9, inline=1)\n",
    "# Third plot\n",
    "matplotlib.rcParams['contour.negative_linestyle'] = 'solid'\n",
    "plt.subplot(2,2,3)\n",
    "CS = plt.contour(X, Y, Z, 9, colors='k')\n",
    "plt.clabel(CS, fontsize=9, inline=1)\n",
    "# Fourth plot\n",
    "matplotlib.rcParams['contour.negative_linestyle'] = 'dashed'\n",
    "plt.subplot(2,2,4)\n",
    "CS = plt.contour(X, Y, Z, 9, colors='k')\n",
    "plt.clabel(CS, fontsize=9, inline=1)\n",
    "plt.grid('on')\n",
    "# Show\n",
    "plt.show()"
   ]
  },
  {
   "cell_type": "markdown",
   "metadata": {
    "slideshow": {
     "slide_type": "slide"
    }
   },
   "source": [
    "## 3. Sobre la Expresividad\n",
    "Mostrar los datos y sólo los datos. \n",
    "\n",
    "Los datos deben utilizar elementos con atribuciones adecuadas: Not all data is born equal."
   ]
  },
  {
   "cell_type": "markdown",
   "metadata": {
    "slideshow": {
     "slide_type": "slide"
    }
   },
   "source": [
    "#### 3. Sobre la Expresividad\n",
    "Clasificación de datos:\n",
    "* ***Datos Cuantitativos***: Cuantificación absoluta.\n",
    "  * Cantidad de azúcar en fruta: 50 [gr/kg]\n",
    "  * Operaciones =, $\\neq$, <, >, +, −, * , /\n",
    "* ***Datos Posicionales***: Cuantificación relativa.\n",
    "  * Fecha de cosecha: 1 Agosto 2014, 2 Agosto 2014.\n",
    "  * Operaciones =, $\\neq$, <, >, +, −\n",
    "* ***Datos Ordinales***: Orden sin cuantificación.\n",
    "  * Calidad de la Fruta: baja, media, alta, exportación.\n",
    "  * Operaciones =, $\\neq$, <, >\n",
    "* ***Datos Nominales***: Nombres o clasificaciones\n",
    "  * Frutas: manzana, pera, kiwi, ...\n",
    "  * Operaciones $=$, $\\neq$"
   ]
  },
  {
   "cell_type": "markdown",
   "metadata": {
    "slideshow": {
     "slide_type": "slide"
    }
   },
   "source": [
    "#### 3. Sobre la Expresividad\n",
    "Ejemplo: Planilla de datos sobre terremotos.\n",
    "* Ciudad más próxima\n",
    "* Año\n",
    "* Magnitud en escala Richter\n",
    "* Magnitud en escala Mercalli\n",
    "* Latitud \n",
    "* Longitud"
   ]
  },
  {
   "cell_type": "markdown",
   "metadata": {
    "slideshow": {
     "slide_type": "slide"
    }
   },
   "source": [
    "#### 3. Sobre la Expresividad\n",
    "Contraejemplo: Compañias de computadores.\n",
    "\n",
    "| Companía | Procedencia |\n",
    "|----------|-------------|\n",
    "| MSI  | Taiwan |\n",
    "| Asus | Taiwan |\n",
    "| Acer | Taiwan |\n",
    "| HP | EEUU |\n",
    "| Dell | EEUU |\n",
    "| Apple | EEUU |\n",
    "| Sony | Japon |\n",
    "| Toshiba | Japon |\n",
    "| Lenovo | Hong Kong |\n",
    "| Samsung | Corea del Sur |\n"
   ]
  },
  {
   "cell_type": "markdown",
   "metadata": {
    "slideshow": {
     "slide_type": "slide"
    }
   },
   "source": [
    "#### 3. Sobre la Expresividad\n",
    "Contraejemplo: Compañias de computadores."
   ]
  },
  {
   "cell_type": "code",
   "execution_count": null,
   "metadata": {},
   "outputs": [],
   "source": [
    "import matplotlib.pyplot as plt\n",
    "import numpy as np\n",
    "brands = {\"MSI\":\"Taiwan\", \"Asus\":\"Taiwan\", \"Acer\":\"Taiwan\", \n",
    "          \"HP\":\"EEUU\", \"Dell\":\"EEUU\", \"Apple\":\"EEUU\", \n",
    "          \"Sony\":\"Japon\", \"Toshiba\":\"Japon\", \n",
    "          \"Lenovo\":\"Hong Kong\", \n",
    "          \"Samsung\":\"Corea del Sur\"}\n",
    "C2N = {\"Taiwan\":1,\"EEUU\":2,\"Japon\":3,\"Hong Kong\":4,\"Corea del Sur\":7}\n",
    "x = np.arange(len(brands.keys()))\n",
    "y = np.array([C2N[val] for key,val in brands.items()])\n",
    "width = 0.35       # the width of the bars\n",
    "fig, ax = plt.subplots(figsize=(16,8))\n",
    "print x\n",
    "print y\n",
    "rects1 = ax.bar(x, y, width, color='r')\n",
    "\n",
    "# add some text for labels, title and axes ticks\n",
    "ax.set_xticks(x + 0.5*width)\n",
    "ax.set_xticklabels(brands.keys(), rotation=\"90\")\n",
    "ax.set_yticks(C2N.values())\n",
    "ax.set_yticklabels(C2N.keys())\n",
    "plt.xlim([-1,len(x)+1])\n",
    "plt.ylim([-1,y.max()+1])\n",
    "plt.show()"
   ]
  },
  {
   "cell_type": "markdown",
   "metadata": {
    "slideshow": {
     "slide_type": "slide"
    }
   },
   "source": [
    "#### 3. Sobre la Expresividad\n",
    "Clasificación de datos:\n",
    "* ***Datos Cuantitativos***: Cuantificación absoluta.\n",
    "  * Cantidad de azúcar en fruta: 50 [gr/kg]\n",
    "  * Operaciones =, $\\neq$, <, >, +, −, * , /\n",
    "    * **Utilizar posición, largo, pendiente o ángulo**  \n",
    "* ***Datos Posicionales***: Cuantificación relativa.\n",
    "  * Fecha de cosecha: 1 Agosto 2014, 2 Agosto 2014.\n",
    "  * Operaciones =, $\\neq$, <, >, +, −\n",
    "    * **Utilizar posición, largo, pendiente o ángulo**\n",
    "* ***Datos Ordinales***: Orden sin cuantificación.\n",
    "  * Calidad de la Fruta: baja, media, alta, exportaci on.\n",
    "  * Operaciones =, $\\neq$, <, >\n",
    "    * **Utilizar marcadores diferenciados en forma o tamaño, o mapa de colores apropiado**\n",
    "* ***Datos Nominales***: Nombres o clasificaciones\n",
    "  * Frutas: manzana, pera, kiwi, ...\n",
    "  * Operaciones $=$, $\\neq$\n",
    "    * **Utilizar forma o color **\n"
   ]
  },
  {
   "cell_type": "markdown",
   "metadata": {
    "slideshow": {
     "slide_type": "slide"
    }
   },
   "source": [
    "## 4. Consistencia\n",
    "La codificación visual debe permitir reproducir datos. Para ello debemos:\n",
    "* Graficar datos que sean comparables.\n",
    "* Utilizar ejes escalados adecuadamente.\n",
    "* Utilizar la misma codificación visual entre gráficos similares."
   ]
  },
  {
   "cell_type": "markdown",
   "metadata": {
    "slideshow": {
     "slide_type": "slide"
    }
   },
   "source": [
    "#### 4. Consistencia\n",
    "## Utilizar ejes escalados adecuadamente."
   ]
  },
  {
   "cell_type": "code",
   "execution_count": 7,
   "metadata": {},
   "outputs": [
    {
     "data": {
      "image/png": "[encoded data removed]",
      "text/plain": [
       "<matplotlib.figure.Figure at 0x7eff98acdb10>"
      ]
     },
     "metadata": {},
     "output_type": "display_data"
    }
   ],
   "source": [
    "import numpy as np\n",
    "from matplotlib import pyplot as plt\n",
    "x = range(1,13)\n",
    "y = 80 + 20*np.random.rand(12)\n",
    "fig = plt.figure(figsize=(16,8))\n",
    "plt.subplot(1, 2, 1)\n",
    "plt.plot(x, y,'o-')\n",
    "plt.xticks(x, [\"E\",\"F\",\"M\",\"A\",\"M\",\"J\",\"J\",\"A\",\"S\",\"O\",\"N\",\"D\"])\n",
    "plt.xlim([-1,13])\n",
    "plt.subplot(1, 2, 2)\n",
    "plt.plot(x, y,'o-')\n",
    "plt.xticks(x, [\"E\",\"F\",\"M\",\"A\",\"M\",\"J\",\"J\",\"A\",\"S\",\"O\",\"N\",\"D\"])\n",
    "plt.xlim([-1,13])\n",
    "plt.ylim([0,100])\n",
    "plt.show()"
   ]
  },
  {
   "cell_type": "markdown",
   "metadata": {
    "slideshow": {
     "slide_type": "slide"
    }
   },
   "source": [
    "#### 4. Consistencia\n",
    "## Utilizar la misma codificación visual entre gráficos similares"
   ]
  },
  {
   "cell_type": "code",
   "execution_count": 8,
   "metadata": {},
   "outputs": [
    {
     "data": {
      "image/png": "[encoded data removed]",
      "text/plain": [
       "<matplotlib.figure.Figure at 0x7eff909607d0>"
      ]
     },
     "metadata": {},
     "output_type": "display_data"
    }
   ],
   "source": [
    "import numpy as np\n",
    "from matplotlib import pyplot as plt\n",
    "x = np.linspace(0, 1, 50)\n",
    "f1 =  x**2+.2*np.random.rand(50)\n",
    "g1 =  x+.2*np.random.rand(50)\n",
    "f2 = 0.5-0.2*x+.2*np.random.rand(50)\n",
    "g2 =x**3+.2*np.random.rand(50)\n",
    "fig = plt.figure(figsize=(16,8))\n",
    "plt.subplot(2, 1, 1)\n",
    "plt.title(\"Antes de mi trabajo\")\n",
    "plt.plot(x, f1, 'b', label='Chile', lw=2.0)\n",
    "plt.plot(x, g1, 'g:', label='OECD', lw=2.0)\n",
    "plt.legend(loc=\"upper left\")\n",
    "plt.subplot(2, 1, 2)\n",
    "plt.title(\"Despues de mi trabajo\")\n",
    "plt.plot(x, f2, 'g:', label='Chile', lw=2.0)\n",
    "plt.plot(x, g2, 'b', label='OECD', lw=2.0)\n",
    "plt.legend()\n",
    "plt.show()"
   ]
  },
  {
   "cell_type": "markdown",
   "metadata": {
    "slideshow": {
     "slide_type": "slide"
    }
   },
   "source": [
    "## Resumen\n",
    "Elementos para la creación de una buena visualización\n",
    "* ***Honestidad***: representaciones visuales no deben engañar al observador.\n",
    "* ***Priorización***: dato más importante debe utilizar elemento de mejor percepción.\n",
    "* ***Expresividad***: datos deben utilizar elementos con atribuciones adecuadas.\n",
    "* ***Consistencia***: codificación visual debe permitir reproducir datos.\n",
    "\n",
    "El principio básico a respetar es que a partir del gráfico uno debe poder reobtener fácilmente los datos originales."
   ]
  },
  {
   "cell_type": "markdown",
   "metadata": {
    "slideshow": {
     "slide_type": "slide"
    }
   },
   "source": [
    "#### Gráfico a gráfico\n",
    "## ¿Cuándo utilizar gráfico de barras?"
   ]
  },
  {
   "cell_type": "code",
   "execution_count": 9,
   "metadata": {},
   "outputs": [
    {
     "data": {
      "image/png": "[encoded data removed]",
      "text/plain": [
       "<matplotlib.figure.Figure at 0x7eff90bdac50>"
      ]
     },
     "metadata": {},
     "output_type": "display_data"
    }
   ],
   "source": [
    "from matplotlib import pyplot as plt\n",
    "import numpy as np\n",
    "\n",
    "people = ('Tom', 'Dick', 'Harry', 'Slim', 'Jim')\n",
    "y_pos = np.arange(len(people))\n",
    "performance = 3 + 10 * np.random.rand(len(people))\n",
    "error = np.random.rand(len(people))\n",
    "\n",
    "fig = plt.figure(figsize=(16,8))\n",
    "plt.subplot(1,2,1)\n",
    "plt.barh(y_pos, performance, xerr=error, align='center', color=\"g\", alpha=0.4)\n",
    "plt.yticks(y_pos, people)\n",
    "plt.xlabel('Performance')\n",
    "plt.subplot(1,2,2)\n",
    "plt.bar(y_pos, performance, yerr=error, align='center', color=\"g\", alpha=0.6)\n",
    "plt.xticks(y_pos, people)\n",
    "plt.xlabel('People')\n",
    "plt.ylabel('Performance')\n",
    "plt.show()"
   ]
  },
  {
   "cell_type": "markdown",
   "metadata": {
    "slideshow": {
     "slide_type": "fragment"
    }
   },
   "source": [
    "* x: Debe ser datos del tipo nominal o ordinal.\n",
    "* y: Debe ser datos de tipo ordinal, posicional o cuantitativo.\n",
    "\n",
    "Evitar: gráfico de nominal vs nominal."
   ]
  },
  {
   "cell_type": "markdown",
   "metadata": {
    "slideshow": {
     "slide_type": "fragment"
    }
   },
   "source": [
    "#### Gráfico a gráfico\n",
    "## ¿Cuándo utilizar gráfico circular?"
   ]
  },
  {
   "cell_type": "code",
   "execution_count": null,
   "metadata": {},
   "outputs": [],
   "source": [
    "from matplotlib import pyplot as plt\n",
    "\n",
    "my_labels = 'Frogs', 'Hogs', 'Dogs', 'Logs'\n",
    "my_fracs = [15, 30, 45, 10]\n",
    "my_explode=(0, 0.10, 0.10, 0)\n",
    "\n",
    "fig = plt.figure(figsize=(16,8))\n",
    "plt.subplot(1,2,1)\n",
    "plt.pie(my_fracs, labels=my_labels)\n",
    "plt.subplot(1,2,2)\n",
    "plt.pie(my_fracs, explode=my_explode, labels=my_labels, autopct='%1.1f%%', shadow=True, startangle=90)\n",
    "plt.title('Raining Hogs and Dogs', bbox={'facecolor':'0.8', 'pad':5})\n",
    "plt.show()"
   ]
  },
  {
   "cell_type": "markdown",
   "metadata": {
    "slideshow": {
     "slide_type": "fragment"
    }
   },
   "source": [
    "* x: Debe ser datos del tipo nominal o ordinal.\n",
    "* y: Debe ser datos de tipo ordinal, posicional o cuantitativo.\n",
    "\n",
    "Evitar: gráfico de nominal vs nominal."
   ]
  },
  {
   "cell_type": "markdown",
   "metadata": {
    "slideshow": {
     "slide_type": "fragment"
    }
   },
   "source": [
    "#### Gráfico a gráfico\n",
    "## ¿Cuándo utilizar campos de vectores?\n",
    "\n",
    "¿Porqué se llama quiver al campo de vectores en inglés? "
   ]
  },
  {
   "cell_type": "code",
   "execution_count": null,
   "metadata": {},
   "outputs": [],
   "source": [
    "import matplotlib.pyplot as plt\n",
    "import numpy as np\n",
    "from numpy import ma\n",
    "\n",
    "X, Y = np.meshgrid(np.arange(0, 2 * np.pi, .2), np.arange(0, 2 * np.pi, .2))\n",
    "U = np.cos(X)\n",
    "V = np.sin(Y)\n",
    "\n",
    "fig = plt.figure(figsize=(16,8))\n",
    "\n",
    "plt.subplot(1,2,1)\n",
    "Q = plt.quiver(U, V)\n",
    "qk = plt.quiverkey(Q, 0.5, 0.92, 2, r'$2 \\frac{m}{s}$', labelpos='W',\n",
    "                   fontproperties={'weight': 'bold'})\n",
    "l, r, b, t = plt.axis()\n",
    "dx, dy = r - l, t - b\n",
    "plt.axis([l - 0.05*dx, r + 0.05*dx, b - 0.05*dy, t + 0.05*dy])\n",
    "\n",
    "plt.subplot(1,2,2)\n",
    "Q = plt.quiver(X[::3, ::3], Y[::3, ::3], U[::3, ::3], V[::3, ::3],\n",
    "               pivot='mid', color='r', units='inches')\n",
    "qk = plt.quiverkey(Q, 0.5, 0.03, 1, r'$1 \\frac{m}{s}$',\n",
    "                   fontproperties={'weight': 'bold'})\n",
    "plt.plot(X[::3, ::3], Y[::3, ::3], 'k.')\n",
    "plt.axis([-1, 7, -1, 7])\n",
    "plt.title(\"pivot='mid'; every third arrow; units='inches'\")\n",
    "\n",
    "plt.show()"
   ]
  },
  {
   "cell_type": "markdown",
   "metadata": {
    "slideshow": {
     "slide_type": "fragment"
    }
   },
   "source": [
    "* x: Debe ser datos del tipo posicional o cuantitativo.\n",
    "* y: Debe ser datos de tipo posicional o cuantitativo. \n",
    "* z: Pendiente debe ser dato de tipo posicional o cuantitativo.\n",
    "\n",
    "Evitar: gráfico de campo de vectores si no es posible la interpretación correspondiente."
   ]
  },
  {
   "cell_type": "markdown",
   "metadata": {
    "slideshow": {
     "slide_type": "fragment"
    }
   },
   "source": [
    "#### Gráfico a gráfico\n",
    "## ¿Cuándo utilizar contour plot?"
   ]
  },
  {
   "cell_type": "code",
   "execution_count": null,
   "metadata": {},
   "outputs": [],
   "source": [
    "import matplotlib\n",
    "import numpy as np\n",
    "import matplotlib.cm as cm\n",
    "import matplotlib.mlab as mlab\n",
    "import matplotlib.pyplot as plt\n",
    "\n",
    "delta = 0.025\n",
    "x = np.arange(-3.0, 3.0, delta)\n",
    "y = np.arange(-2.0, 2.0, delta)\n",
    "X, Y = np.meshgrid(x, y)\n",
    "Z1 = mlab.bivariate_normal(X, Y, 1.0, 1.0, 0.0, 0.0)\n",
    "Z2 = mlab.bivariate_normal(X, Y, 1.5, 0.5, 1, 1)\n",
    "# difference of Gaussians\n",
    "Z = 10.0 * (Z2 - Z1)\n",
    "\n",
    "plt.figure(figsize=(16,8))\n",
    "\n",
    "matplotlib.rcParams['contour.negative_linestyle'] = 'solid'\n",
    "plt.subplot(1,2,1)\n",
    "CS = plt.contour(X, Y, Z, 9, colors='k')\n",
    "plt.clabel(CS, fontsize=9, inline=1)\n",
    "\n",
    "matplotlib.rcParams['contour.negative_linestyle'] = 'dashed'\n",
    "plt.subplot(1,2,2)\n",
    "CS = plt.contour(X, Y, Z, 9, colors='k')\n",
    "plt.clabel(CS, fontsize=9, inline=1)\n",
    "plt.grid('on')\n",
    "# Show\n",
    "plt.show()"
   ]
  },
  {
   "cell_type": "markdown",
   "metadata": {
    "slideshow": {
     "slide_type": "fragment"
    }
   },
   "source": [
    "* x: Dato del tipo posicional o cuantitativo.\n",
    "* y: Dato de tipo posicional o cuantitativo. \n",
    "* z: Dto de tipo posicional o cuantitativo.\n",
    "\n",
    "***OBSERVACION***: Se debe tener suficiente densidad/regularidad de puntos como para poder obtener superficies de nivel."
   ]
  },
  {
   "cell_type": "markdown",
   "metadata": {
    "slideshow": {
     "slide_type": "fragment"
    }
   },
   "source": [
    "#### Gráfico a gráfico\n",
    "## ¿Cuándo utilizar scatter plot?"
   ]
  },
  {
   "cell_type": "code",
   "execution_count": null,
   "metadata": {},
   "outputs": [],
   "source": [
    "import matplotlib.pyplot as plt\n",
    "import numpy as np\n",
    "\n",
    "N = 100\n",
    "r0 = 0.6\n",
    "x = 0.9*np.random.rand(N)\n",
    "y = 0.9*np.random.rand(N)\n",
    "area = np.pi*(10 * np.random.rand(N))**2  # 0 to 10 point radiuses\n",
    "c = np.sqrt(area)\n",
    "r = np.sqrt(x*x + y*y)\n",
    "cm1 = plt.cm.get_cmap('RdYlBu')\n",
    "cm2 = plt.cm.get_cmap('Greys')\n",
    "\n",
    "plt.figure(figsize=(16,8))\n",
    "area1 = np.ma.masked_where(r < r0, area)\n",
    "area2 = np.ma.masked_where(r >= r0, area)\n",
    "sc1 = plt.scatter(x, y, s=area1, marker='^', c=c, cmap=cm1)\n",
    "plt.colorbar(sc1)\n",
    "sc2 = plt.scatter(x, y, s=area2, marker='o', c=c, cmap=cm2)\n",
    "plt.colorbar(sc2)\n",
    "\n",
    "# Show the boundary between the regions:\n",
    "theta = np.arange(0, np.pi/2, 0.01)\n",
    "plt.plot(r0*np.cos(theta), r0*np.sin(theta), \"k:\", lw=2.0)\n",
    "\n",
    "plt.show()"
   ]
  },
  {
   "cell_type": "markdown",
   "metadata": {
    "slideshow": {
     "slide_type": "fragment"
    }
   },
   "source": [
    "* x: Dato del tipo posicional o cuantitativo.\n",
    "* y: Dato del tipo posicional o cuantitativo. \n",
    "* z: Dato del tipo nominal u ordinal. \n",
    "\n",
    "***OBSERVACION***: Si hay pocos puntos, también puede usarse para z datos de tipo posicional o cuantitativo.\n"
   ]
  },
  {
   "cell_type": "markdown",
   "metadata": {
    "slideshow": {
     "slide_type": "fragment"
    }
   },
   "source": [
    "#### Gráfico a gráfico\n",
    "## ¿Cuándo utilizar gráfico de barra de error?"
   ]
  },
  {
   "cell_type": "code",
   "execution_count": null,
   "metadata": {},
   "outputs": [],
   "source": [
    "import numpy as np\n",
    "import matplotlib.pyplot as plt\n",
    "\n",
    "x = np.arange(0.1, 4, 0.5)\n",
    "y = np.exp(-x)\n",
    "\n",
    "plt.figure(figsize=(16,8))\n",
    "\n",
    "plt.subplot(1,2,1)\n",
    "x_error = 0.1 + 0.2*np.random.rand(len(x))\n",
    "plt.errorbar(x, y, xerr=x_error)\n",
    "\n",
    "plt.subplot(1,2,2)\n",
    "y_error = 0.1 + 0.2*np.random.rand(len(x))\n",
    "plt.errorbar(x, y, yerr=y_error)\n",
    "\n",
    "plt.show()"
   ]
  },
  {
   "cell_type": "markdown",
   "metadata": {
    "slideshow": {
     "slide_type": "fragment"
    }
   },
   "source": [
    "* x: Dato del tipo posicional o cuantitativo.\n",
    "* y: Dato del tipo posicional o cuantitativo. \n",
    "* z: Dato del tipo posicional o cuantitativo.\n",
    "Los valores de z tienen que tener las mismas unidades y."
   ]
  },
  {
   "cell_type": "markdown",
   "metadata": {
    "slideshow": {
     "slide_type": "slide"
    }
   },
   "source": [
    "## Para hacer buenas visualizaciones\n",
    "* Aprender a reconocer buenos ejemplos y malos ejemplos.\n",
    "* Para graficos 2d y 3d simples:\n",
    "  * Libreria clásica: matplotlib (ver ejemplos en http://matplotlib.org/gallery.html)\n",
    "  * Otras librerías: seaborn, bokeh, gnuplot, ...\n",
    "* Para gráficos 3d:\n",
    "  * Librería clásica: gmsh\n",
    "  * Otras librerías: mayavi, paraview, ..."
   ]
  }
 ],
 "metadata": {
  "celltoolbar": "Slideshow",
  "kernelspec": {
   "display_name": "Python 3",
   "language": "python",
   "name": "python3"
  },
  "language_info": {
   "codemirror_mode": {
    "name": "ipython",
    "version": 3
   },
   "file_extension": ".py",
   "mimetype": "text/x-python",
   "name": "python",
   "nbconvert_exporter": "python",
   "pygments_lexer": "ipython3",
   "version": "3.5.2"
  }
 },
 "nbformat": 4,
 "nbformat_minor": 1
}
