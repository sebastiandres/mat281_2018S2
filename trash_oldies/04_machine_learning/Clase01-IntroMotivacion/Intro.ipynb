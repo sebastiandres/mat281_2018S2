{
 "cells": [
  {
   "cell_type": "code",
   "execution_count": 2,
   "metadata": {
    "collapsed": false,
    "slideshow": {
     "slide_type": "skip"
    }
   },
   "outputs": [
    {
     "data": {
      "text/html": [
       "<style>\n",
       "\n",
       ".reveal {\n",
       "overflow: visible;\n",
       "}\n",
       "\n",
       "/*********************************************\n",
       " * COLORS FOR EXAMPLES\n",
       " *********************************************/\n",
       "em {font-style: normal !important;\n",
       "    color: #800000;}\n",
       "span.good {color: #008000;}\n",
       "span.warning {color: #808000;}\n",
       "span.bad {color: #800000;}\n",
       "\n",
       "/*********************************************\n",
       " * GLOBAL STYLES\n",
       " *********************************************/\n",
       ".reveal h1 {color: #000000; text-shadow: 0px 0px 6px rgba(0, 0, 0, 0.2);}\n",
       ".reveal h2 {color: #222222; text-shadow: 0px 0px 5px rgba(0, 0, 0, 0.2);}\n",
       ".reveal h3 {color: #444444; text-shadow: 0px 0px 4px rgba(0, 0, 0, 0.2);}\n",
       ".reveal h4 {color: #666666; text-shadow: 0px 0px 3px rgba(0, 0, 0, 0.2);}\n",
       ".reveal h5 {color: #888888; text-shadow: 0px 0px 2px rgba(0, 0, 0, 0.2);}\n",
       ".reveal h6 {color: #AAAAAA; text-shadow: 0px 0px 1px rgba(0, 0, 0, 0.2);}\n",
       "\n",
       "/*********************************************\n",
       " * IMAGES\n",
       " *********************************************/\n",
       ".reveal section img { margin-left:auto; margin-right:auto;}\n",
       "\n",
       "</style>\n"
      ],
      "text/plain": [
       "<IPython.core.display.HTML object>"
      ]
     },
     "execution_count": 2,
     "metadata": {},
     "output_type": "execute_result"
    }
   ],
   "source": [
    "\"\"\"\n",
    "IPython Notebook v4.0 para python 2.7\n",
    "Librerías adicionales: numpy, matplotlib\n",
    "Contenido bajo licencia CC-BY 4.0. Código bajo licencia MIT. (c) Sebastian Flores.\n",
    "\"\"\"\n",
    "\n",
    "# Configuracion para recargar módulos y librerías \n",
    "%reload_ext autoreload\n",
    "%autoreload 2\n",
    "\n",
    "from IPython.core.display import HTML\n",
    "\n",
    "HTML(open(\"style/mat281.css\", \"r\").read())"
   ]
  },
  {
   "cell_type": "markdown",
   "metadata": {
    "slideshow": {
     "slide_type": "slide"
    }
   },
   "source": [
    "<header class=\"w3-container w3-teal\">\n",
    "<img src=\"images/utfsm.png\" alt=\"\" height=\"100px\" align=\"left\"/>\n",
    "<img src=\"images/mat.png\" alt=\"\" height=\"100px\" align=\"right\"/>\n",
    "</header>\n",
    "<br/><br/><br/><br/><br/>\n",
    "# MAT281\n",
    "## Aplicaciones de la Matemática en la Ingeniería\n",
    "\n",
    "### Sebastián Flores\n",
    "\n",
    "https://www.github.com/usantamaria/mat281\n"
   ]
  },
  {
   "cell_type": "markdown",
   "metadata": {
    "slideshow": {
     "slide_type": "slide"
    }
   },
   "source": [
    "## Clase anterior\n",
    "\n",
    "* Holdout Set y Cross Validation."
   ]
  },
  {
   "cell_type": "markdown",
   "metadata": {
    "slideshow": {
     "slide_type": "slide"
    }
   },
   "source": [
    "## ¿Qué contenido aprenderemos hoy?\n",
    "\n",
    "* Introducción a Machine Learning y Data Science"
   ]
  },
  {
   "cell_type": "markdown",
   "metadata": {
    "slideshow": {
     "slide_type": "slide"
    }
   },
   "source": [
    "## ¿Porqué aprenderemos ese contenido?\n",
    "\n",
    "* Introducción a Machine Learning y Data Science\n",
    "\n",
    "Porque problemas actuales requieren una escala de preprocesamiento, procesamiento y postprocesamiento diferente a los problemas tradicionales. Algoritmos de Machine Learning y técnicas de Data Science son aplicables a un sinnúmero de problemas distintos.\n",
    "\n",
    "ML y DS entregan herramientas versátiles para entender, modelar y\n",
    "***solucionar*** problemas."
   ]
  },
  {
   "cell_type": "markdown",
   "metadata": {
    "slideshow": {
     "slide_type": "slide"
    }
   },
   "source": [
    "## Disclaimer\n",
    "\n",
    "Esta sección del curso se basa en los siguientes recursos:\n",
    "\n",
    "-   Introduction to Data Science by Bill Howe, MOOC, Coursera.\n",
    "\n",
    "-   Machine Learning by Andrew Ng, CS229, Stanford University (también\n",
    "    disponible en coursera y youtube).\n",
    "\n",
    "-   A Few Useful Things to Know about Machine Learning, Pedro Domingos\n",
    "    (artículo).\n",
    "\n",
    "-   http://machinelearningmastery.com/ y http://blog.bigml.com\n"
   ]
  },
  {
   "cell_type": "markdown",
   "metadata": {
    "slideshow": {
     "slide_type": "slide"
    }
   },
   "source": [
    "## Plan\n",
    "\n",
    "1. Problemas típicos\n",
    "2. Definiciones\n",
    "3. Algoritmos\n",
    "3. Consejos"
   ]
  },
  {
   "cell_type": "markdown",
   "metadata": {
    "slideshow": {
     "slide_type": "slide"
    }
   },
   "source": [
    "## 1. Problemas típicos\n",
    "\n",
    "Revisaremos 10 problemas clásicos de Machine Learning."
   ]
  },
  {
   "cell_type": "markdown",
   "metadata": {
    "slideshow": {
     "slide_type": "slide"
    }
   },
   "source": [
    "#### 1. Problemas típicos\n",
    "## 1.1 Detección de Spam\n",
    "A partir de correos previamente clasificados como spam y no-spam,\n",
    "identificar futuros correos en spam de aquellos que no son spam.\n",
    "\n",
    "<img src=\"images/spam.jpg\" alt=\"\" width=\"400\" align=\"middle\"/>"
   ]
  },
  {
   "cell_type": "markdown",
   "metadata": {
    "slideshow": {
     "slide_type": "slide"
    }
   },
   "source": [
    "#### 1. Problemas típicos\n",
    "## 1.2 Detección de Fraude con Tarjeta de crédito\n",
    "\n",
    "Dado el historial de transacciones de un cliente en un mes, identificar\n",
    "transacciones que realizadas por el cliente y transacciones fraudulentas\n",
    "realizadas por terceros.\n",
    "\n",
    "<img src=\"images/creditcard.jpg\" alt=\"\" width=\"400\" align=\"middle\"/>"
   ]
  },
  {
   "cell_type": "markdown",
   "metadata": {
    "slideshow": {
     "slide_type": "slide"
    }
   },
   "source": [
    "#### 1. Problemas típicos\n",
    "## 1.3 Reconocimiento de dígitos\n",
    "\n",
    "Dado un código zip escrito en un sobre, identificar cada dígito\n",
    "manuscrito para automatizar la clasificación y despacho de correo.\n",
    "\n",
    "<img src=\"images/digits.png\" alt=\"\" width=\"400\" align=\"middle\"/>"
   ]
  },
  {
   "cell_type": "markdown",
   "metadata": {
    "slideshow": {
     "slide_type": "slide"
    }
   },
   "source": [
    "#### 1. Problemas típicos\n",
    "## 1.4 Reconocimiento de Voz\n",
    "\n",
    "Dada una orden vocal de un usuario, idenficar el requerimiento específico realizado.\n",
    "\n",
    "<img src=\"images/speechrecognition.png\" alt=\"\" width=\"600\" align=\"middle\"/>"
   ]
  },
  {
   "cell_type": "markdown",
   "metadata": {
    "slideshow": {
     "slide_type": "slide"
    }
   },
   "source": [
    "#### 1. Problemas típicos\n",
    "## 1.5 Detección de Caras\n",
    "\n",
    "Dada una colección de fotos digitales, identificar en cuáles fotos y en\n",
    "qué sectores aparece una persona. Más difícil, dada una colección de\n",
    "fotos etiquetadas para una cierta persona, identificar en cuales fotos\n",
    "aparece esa persona.\n",
    "\n",
    "<img src=\"images/facedetection.jpg\" alt=\"\" width=\"400\" align=\"middle\"/>\n"
   ]
  },
  {
   "cell_type": "markdown",
   "metadata": {
    "slideshow": {
     "slide_type": "slide"
    }
   },
   "source": [
    "#### 1. Problemas típicos\n",
    "## 1.6 Recomendación de Productos \n",
    "\n",
    "Dado un historial de compra para un cliente y un largo inventario de\n",
    "productos, identificar cuáles productos pueden interesarle al cliente en\n",
    "su próxima compra.\n",
    "\n",
    "<img src=\"images/productrecommendation.png\" alt=\"\" width=\"800\" align=\"middle\"/>\n"
   ]
  },
  {
   "cell_type": "markdown",
   "metadata": {
    "slideshow": {
     "slide_type": "slide"
    }
   },
   "source": [
    "#### 1. Problemas típicos\n",
    "## 1.7 Diagnóstico médico\n",
    "\n",
    "Dado un conjunto de síntomas exhibidos por un paciente y una base de\n",
    "casos anónima, predecir si el paciente tiene una enfermedad (y cuál).\n",
    "\n",
    "<img src=\"images/medicaldiagnosis.jpg\" alt=\"\" width=\"800\" align=\"middle\"/>\n"
   ]
  },
  {
   "cell_type": "markdown",
   "metadata": {
    "slideshow": {
     "slide_type": "slide"
    }
   },
   "source": [
    "#### 1. Problemas típicos\n",
    "## 1.8 Mercado de acciones\n",
    "\n",
    "Dadas las fluctuaciones pasadas y presentes de una cierta acción,\n",
    "predecir si la acción debe comprarse, mantenerse o venderse.\n",
    "\n",
    "<img src=\"images/stocktrading.jpg\" alt=\"\" width=\"400\" align=\"middle\"/>\n"
   ]
  },
  {
   "cell_type": "markdown",
   "metadata": {
    "slideshow": {
     "slide_type": "slide"
    }
   },
   "source": [
    "#### 1. Problemas típicos\n",
    "## 1.9  Segmentación de Mercado\n",
    "\n",
    "Dado un historial de comportamientos pasados de clientes, identificar\n",
    "cuáles clientes exhibirán un cierto comportamiento (de compra) en el\n",
    "futuro.\n",
    "\n",
    "<img src=\"images/customersegmentation.jpg\" alt=\"\" width=\"400\" align=\"middle\"/>\n"
   ]
  },
  {
   "cell_type": "markdown",
   "metadata": {
    "slideshow": {
     "slide_type": "slide"
    }
   },
   "source": [
    "#### 1. Problemas típicos\n",
    "## 1.10 Detección de Formas\n",
    "\n",
    "Reconocer una forma (2D o 3D) a partir de una muestra 2D de baja calidad.\n",
    "\n",
    "<img src=\"images/shapedetection.jpg\" alt=\"\" width=\"400\" align=\"middle\"/>\n"
   ]
  },
  {
   "cell_type": "markdown",
   "metadata": {
    "slideshow": {
     "slide_type": "slide"
    }
   },
   "source": [
    "## 2. Definiciones\n",
    "\n",
    "¿Qué es Machine Learning? ¿Data Science? ¿Data Discovery? ¿Data Mining? ¿Big Data?"
   ]
  },
  {
   "cell_type": "markdown",
   "metadata": {
    "slideshow": {
     "slide_type": "fragment"
    }
   },
   "source": [
    "Machine Learning, Data Mining, Big Data y Data Science tienen fronteras difusas y permeables, al igual que Probabilidad y Estadística."
   ]
  },
  {
   "cell_type": "markdown",
   "metadata": {
    "slideshow": {
     "slide_type": "slide"
    }
   },
   "source": [
    "#### 2. Definiciones\n",
    "\n",
    "## Machine Learning\n",
    "\n",
    "-   Estudia y construye sistemas que pueden aprender de los datos, más\n",
    "    que seguir instrucciones explícitamente programadas.\n",
    "\n",
    "-   Machine Learning es un conjunto de técnicas y modelos que permiten\n",
    "    el modelamiento predictivo de datos, reunidas a partir de la\n",
    "    intersección de elementos de probabilidad, estadística e\n",
    "    inteligencia artificial.\n",
    "\n",
    "-   Pregunta fundamental:\n",
    "    ¿Qué conocimiento emerge a partir de los datos? ¿Qué modelo/técnica\n",
    "    otorga la mejor predicción para estos datos?"
   ]
  },
  {
   "cell_type": "markdown",
   "metadata": {
    "slideshow": {
     "slide_type": "slide"
    }
   },
   "source": [
    "#### 2. Definiciones\n",
    "\n",
    "## Data Mining\n",
    "\n",
    "-   Estudia y contruye algoritmos que permiten descubrir relaciones\n",
    "    interesantes a partir de grandes bases de datos.\n",
    "\n",
    "-   Data Mining abarca el almacenamiento, mantención, lectura y\n",
    "    realización de descubrimientos en los datos.\n",
    "\n",
    "-   También se le conoce como KDD (Knowledge Discovery in Databases).\n",
    "\n",
    "-   Pregunta fundamental: \n",
    "    ¿Qué relaciones son interesantes y cómo descubrirlas?"
   ]
  },
  {
   "cell_type": "markdown",
   "metadata": {
    "slideshow": {
     "slide_type": "slide"
    }
   },
   "source": [
    "#### 2. Definiciones\n",
    "\n",
    "## Data Science\n",
    "\n",
    "-   Se preocupa de la practicidad de resolver problemas complejos\n",
    "    utilizando datos.\n",
    "\n",
    "-   Data Science es la aplicación de data mining y machine learning con\n",
    "    un fin específico.\n",
    "\n",
    "-   También se conoce como eScience.\n",
    "\n",
    "-   La base de datos a utilizar no ha sido necesariamente creada.\n",
    "\n",
    "-   Pregunta fundamental:\n",
    "    ¿Qué puedo decir de **X** a partir de los datos?"
   ]
  },
  {
   "cell_type": "markdown",
   "metadata": {
    "slideshow": {
     "slide_type": "slide"
    }
   },
   "source": [
    "#### 2. Definiciones\n",
    "\n",
    "## Big Data\n",
    "- Caracterizado por 4 V:\n",
    "    * **Volumen**: ¿Cuántos datos se requiere procesar? ¿Terabytes, Exabytes, Zettabytes?\n",
    "    * **Variedad**: ¿Qué patrón siguen los datos? ¿SQL o noSQL?\n",
    "    * **Velocidad**: ¿Con que velocidad podemos procesar los datos? ¿A qué velocidad se generan?\n",
    "    * **Veracidad**: ¿Qué tan confiables son los datos? \n",
    "-   Pregunta fundamental:\n",
    "    ¿Cómo proceso esta monstruosidad de datos?"
   ]
  },
  {
   "cell_type": "markdown",
   "metadata": {
    "slideshow": {
     "slide_type": "slide"
    }
   },
   "source": [
    "#### 2. Definiciones\n",
    "\n",
    "<img src=\"images/ML.png\" alt=\"\" width=\"800\" align=\"middle\"/>"
   ]
  },
  {
   "cell_type": "markdown",
   "metadata": {
    "slideshow": {
     "slide_type": "slide"
    }
   },
   "source": [
    "#### 2. Definiciones\n",
    "\n",
    "<img src=\"images/DS1.png\" alt=\"\" width=\"600\" align=\"middle\"/>"
   ]
  },
  {
   "cell_type": "markdown",
   "metadata": {
    "slideshow": {
     "slide_type": "slide"
    }
   },
   "source": [
    "#### 2. Definiciones\n",
    "\n",
    "<img src=\"images/DS2.png\" alt=\"\" width=\"800\" align=\"middle\"/>"
   ]
  },
  {
   "cell_type": "markdown",
   "metadata": {
    "slideshow": {
     "slide_type": "slide"
    }
   },
   "source": [
    "#### 2. Definiciones\n",
    "\n",
    "<img src=\"images/BD1.png\" alt=\"\" width=\"900\" align=\"middle\"/>"
   ]
  },
  {
   "cell_type": "markdown",
   "metadata": {
    "slideshow": {
     "slide_type": "slide"
    }
   },
   "source": [
    "#### 2. Definiciones\n",
    "\n",
    "<img src=\"images/BD2.jpg\" alt=\"\" width=\"900\" align=\"middle\"/>"
   ]
  },
  {
   "cell_type": "markdown",
   "metadata": {
    "slideshow": {
     "slide_type": "slide"
    }
   },
   "source": [
    "## 3. Algoritmos\n",
    "\n",
    "Hay 4 grandes familias de problemas en Machine Learning:\n",
    "\n",
    "-   Clasificación\n",
    "\n",
    "-   Regresión\n",
    "\n",
    "-   Clustering\n",
    "\n",
    "-   Extracción de Reglas"
   ]
  },
  {
   "cell_type": "markdown",
   "metadata": {
    "slideshow": {
     "slide_type": "slide"
    }
   },
   "source": [
    "#### 3. Algoritmos\n",
    "## Algoritmos de Clasificación\n",
    "\n",
    "Se conocen como están etiquetados (asignados a una clase) algunos de los elementos.\n",
    "\n",
    "El desafío es asignar la etiqueta correcta a datos sin etiquetar.\n",
    "\n",
    "Ejemplos:\n",
    "\n",
    "1.  Clasificación de Spam.\n",
    "\n",
    "2.  Clasificación de Fraudes.\n",
    "\n",
    "3.  Reconocimiento de Dígitos\n",
    "\n",
    "4.  Diágnostico Médico."
   ]
  },
  {
   "cell_type": "markdown",
   "metadata": {
    "slideshow": {
     "slide_type": "slide"
    }
   },
   "source": [
    "#### 3. Algoritmos\n",
    "## Algoritmos de Regresión\n",
    "\n",
    "Similar a clustering, pero donde los datos están etiquetados con un valor real. \n",
    "\n",
    "El desafío es asignar la etiqueta correcta a datos sin etiquetar.\n",
    "\n",
    "Ejemplos:\n",
    "\n",
    "1.  Predicción de precio en mercado de acciones.\n",
    "\n",
    "2.  Predicción de precio de casa/departamento basado en características.\n"
   ]
  },
  {
   "cell_type": "markdown",
   "metadata": {
    "slideshow": {
     "slide_type": "slide"
    }
   },
   "source": [
    "#### 3. Algoritmos\n",
    "## Algoritmos de Clustering\n",
    "\n",
    "Los datos no se encuentran etiquetados (no existe un valor $y$ para\n",
    "predecir), pero se busca dividir el conjunto de datos basados en alguna\n",
    "medida de similaridad o estructura de los datos.\n",
    "El desafío es encontrar cómo se podrían separar los datos a partir de\n",
    "sus datos sin saber cómo ni porqué se podrían separar.\n",
    "\n",
    "Ejemplos:\n",
    "\n",
    "1.  Ordenar fotos según aparición en rostros.\n",
    "\n",
    "2.  Segmentación de mercados.\n",
    "\n",
    "3.  Compresión de información."
   ]
  },
  {
   "cell_type": "markdown",
   "metadata": {
    "slideshow": {
     "slide_type": "slide"
    }
   },
   "source": [
    "#### 3. Algoritmos\n",
    "## Algoritmos de Extracción de Reglas\n",
    "\n",
    "Los datos se usan para la extracción de reglas o relaciones previamente\n",
    "desconocidas entre los datos. A menudo no existe una relación predictiva\n",
    "entre los datos, sino que simplemente existe una relación no causal\n",
    "entre los atributos de los datos. \n",
    "El desafío es encontrar las relaciones no predictivas entre los datos,\n",
    "sin conocerlas a priori.\n",
    "\n",
    "Ejemplos:\n",
    "\n",
    "1.  Reconocimiento de Voz.\n",
    "\n",
    "2.  Recomendación de Productos.\n",
    "\n",
    "3.  Cerveza y pañales."
   ]
  },
  {
   "cell_type": "markdown",
   "metadata": {
    "slideshow": {
     "slide_type": "slide"
    }
   },
   "source": [
    "## 4. Consejos\n",
    "\n",
    "Excelente artículo de Pedro Domingos: [A Few Useful Things to Know about Machine Learning](https://homes.cs.washington.edu/~pedrod/papers/cacm12.pdf).\n",
    "\n",
    "1. Learning = Representation + Evaluation + Optimization\n",
    "2. La meta fundamental es generalizar a partir de los ejemplos.\n",
    "3. Sólo tener datos no es suficiente.\n",
    "4. Cuidado con overfitting en el modelo.\n",
    "5. La intuición es difícil en grandes dimensiones."
   ]
  },
  {
   "cell_type": "markdown",
   "metadata": {
    "slideshow": {
     "slide_type": "slide"
    }
   },
   "source": [
    "## 4. Consejos\n",
    "\n",
    "6 Resultados teóricos no son lo que parecen. Probar vence a teorizar.\n",
    "\n",
    "7 Preparación de datos es esencial.\n",
    "\n",
    "8  Más datos es mejor que un algoritmo más astuto.\n",
    "\n",
    "9 Aprender muchos modelos, no śolo uno.\n",
    "\n",
    "10 Simplicidad no implica exactitud.\n",
    "\n",
    "11 Correlación no implica causalidad, aunque a veces es suficiente."
   ]
  }
 ],
 "metadata": {
  "celltoolbar": "Slideshow",
  "kernelspec": {
   "display_name": "Python 2",
   "language": "python",
   "name": "python2"
  },
  "language_info": {
   "codemirror_mode": {
    "name": "ipython",
    "version": 2
   },
   "file_extension": ".py",
   "mimetype": "text/x-python",
   "name": "python",
   "nbconvert_exporter": "python",
   "pygments_lexer": "ipython2",
   "version": "2.7.6"
  }
 },
 "nbformat": 4,
 "nbformat_minor": 0
}
