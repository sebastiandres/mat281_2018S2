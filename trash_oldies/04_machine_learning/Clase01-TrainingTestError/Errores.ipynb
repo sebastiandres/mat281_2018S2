{
 "cells": [
  {
   "cell_type": "code",
   "execution_count": null,
   "metadata": {
    "collapsed": false,
    "slideshow": {
     "slide_type": "skip"
    }
   },
   "outputs": [],
   "source": [
    "\"\"\"\n",
    "IPython Notebook v4.0 para python 2.7\n",
    "Librerías adicionales: numpy, matplotlib\n",
    "Contenido bajo licencia CC-BY 4.0. Código bajo licencia MIT. (c) Sebastian Flores.\n",
    "\"\"\"\n",
    "\n",
    "# Configuracion para recargar módulos y librerías \n",
    "%reload_ext autoreload\n",
    "%autoreload 2\n",
    "%matplotlib inline\n",
    "\n",
    "from IPython.core.display import HTML\n",
    "\n",
    "import warnings\n",
    "warnings.filterwarnings(\"ignore\")\n",
    "\n",
    "HTML(open(\"style/mat281.css\", \"r\").read())"
   ]
  },
  {
   "cell_type": "markdown",
   "metadata": {
    "slideshow": {
     "slide_type": "slide"
    }
   },
   "source": [
    "<header class=\"w3-container w3-teal\">\n",
    "<img src=\"images/utfsm.png\" alt=\"\" height=\"100px\" align=\"left\"/>\n",
    "<img src=\"images/mat.png\" alt=\"\" height=\"100px\" align=\"right\"/>\n",
    "</header>\n",
    "<br/><br/><br/><br/><br/>\n",
    "# MAT281\n",
    "## Aplicaciones de la Matemática en la Ingeniería\n",
    "\n",
    "### Sebastián Flores\n",
    "\n",
    "https://www.github.com/usantamaria/mat281"
   ]
  },
  {
   "cell_type": "markdown",
   "metadata": {
    "slideshow": {
     "slide_type": "slide"
    }
   },
   "source": [
    "## ¿Qué contenido aprenderemos?\n",
    "\n",
    "* Errores de Modelamiento\n",
    "* Modelo predictivo"
   ]
  },
  {
   "cell_type": "markdown",
   "metadata": {
    "slideshow": {
     "slide_type": "slide"
    }
   },
   "source": [
    "## ¿Porqué aprenderemos ese contenido?\n",
    "\n",
    "* Errores de Modelamiento\n",
    "\n",
    "Conocer errores comunes permite no repetirlos.\n",
    "\n",
    "* Modelo predictivo\n",
    "\n",
    "Porque nuestros modelos deben no sólo explicar lo conocido, sino predecir lo desconocido.\n"
   ]
  },
  {
   "cell_type": "markdown",
   "metadata": {
    "slideshow": {
     "slide_type": "slide"
    }
   },
   "source": [
    "## ¿Porqué no aprendemos de los errores?\n",
    "\n",
    "* ***Antes***: Modelo de publicación actual privilegia resultados exitosos, por sobre documentación de experimentos fallidos. Existe un sesgo de publicación (publication bias).\n",
    "\n",
    "* ***Durante***: Nunca hay tiempo suficiente. Priorización del tiempo a obtener más y mejores resultados, no a examinar casos fallidos.\n",
    "\n",
    "* ***Después***: Posible y fácil, pero rara vez realizado, puesto que es opcional y requiere fuerza de voluntad. Común en la milicia, bajo el nombre de debriefing. "
   ]
  },
  {
   "cell_type": "markdown",
   "metadata": {
    "slideshow": {
     "slide_type": "slide"
    }
   },
   "source": [
    "## Debriefing\n",
    "\n",
    "El Debriefing es un proceso semi-estructurado, que permite analizar una cierta actividad que ha sido llevada a cabo. Se realiza una serie de preguntas que permite que los participantes refleccionen en lo\n",
    "ocurrido, los resultados y metas, para mejorar el desempeño futuro."
   ]
  },
  {
   "cell_type": "markdown",
   "metadata": {
    "slideshow": {
     "slide_type": "slide"
    }
   },
   "source": [
    "## Debriefing \n",
    "\n",
    "* Certámenes y Tareas:\n",
    " * ¿Cuál era la solución correcta?\n",
    " * ¿Porqué no llegué a la solución?\n",
    " * ¿Cómo debería haber estudiado para optimizar mi nota?\n",
    "\n",
    "* Proyectos en grupo:\n",
    "  * ¿Existieron problemas en el grupo?\n",
    "  * ¿Qué podría haberse hecho de mejor forma?\n",
    "  * ¿Cómo fue la interacción entre los integrantes?\n",
    "  * ¿Estamos conformes con el resultado dado el tiempo invertido?\n",
    "\n",
    "Debriefing no altera resultados pasados, pero permite mejorar incrementalmente y detectar errores metodológicos."
   ]
  },
  {
   "cell_type": "markdown",
   "metadata": {
    "slideshow": {
     "slide_type": "slide"
    }
   },
   "source": [
    "<img src=\"images/Modelamiento.png\" alt=\"\" width=\"600px\" align=\"middle\"/>"
   ]
  },
  {
   "cell_type": "markdown",
   "metadata": {
    "slideshow": {
     "slide_type": "slide"
    }
   },
   "source": [
    "## Fuentes de Error"
   ]
  },
  {
   "cell_type": "markdown",
   "metadata": {
    "slideshow": {
     "slide_type": "slide"
    }
   },
   "source": [
    "## Fuentes de error: Instrumental\n",
    "\n",
    "Las mediciones son siempre indirectas. Lo que se mide no es necesariamente lo que se necesita.\n",
    "\n",
    "\n",
    "* **Longitud**: comparación directa (regla), comparación indirecta (sensor laser).\n",
    "\n",
    "* **Temperatura**: mediante dilatación (termómetro tradicional), cambio de densidad ( termómetro de Galileo), o cambio de resistencia eléctrica (termómetro digital)."
   ]
  },
  {
   "cell_type": "markdown",
   "metadata": {
    "slideshow": {
     "slide_type": "slide"
    }
   },
   "source": [
    "## Fuentes de error: humana\n",
    "\n",
    "La definición del problema a resolver está dado por el cliente, y contiene:\n",
    "* Deformación profesional.\n",
    "* Expectativas a priori.\n",
    "* Confianza infinita (o nula) en los métodos numéricos."
   ]
  },
  {
   "cell_type": "markdown",
   "metadata": {
    "slideshow": {
     "slide_type": "slide"
    }
   },
   "source": [
    "## Fuentes de error: incerteza en parámetros\n",
    "\n",
    "Los parámetros rara vez se conocen con buena precisión, incluso cuando el modelo físico-matemático ha sido bien definido. Por ello, siempre es necesario tomar un enfoque conservador en la incerteza de los parámetros involucrados dependiendo de la aplicación del modelo."
   ]
  },
  {
   "cell_type": "markdown",
   "metadata": {
    "slideshow": {
     "slide_type": "slide"
    }
   },
   "source": [
    "## Fuentes de error: incerteza en parámetros\n",
    "\n",
    "Por ejemplo, en el caso de minería subterránea:\n",
    "\n",
    "* Si el problema involucra seguridad en los túneles mineros, se  utiliza un modelo conservador que subestima los parámetros físicos de la roca: : la roca del modelo es menos resistente que en la realidad. Si el modelo indica que el túnel es resistente, tenemos confianza que en la realidad el tunel es seguro.\n",
    "\n",
    "* Si el problema involucra factibilidad de la técnica extractiva, se utiliza un modelo que sobreestima los parámetros físicos de la roca: la roca del modelo es más resistente que en la realidad. Si el modelo indica que la roca se quiebra adecuadamente durante el caving, tenemos confianza que la roca se quiebra durante el caving."
   ]
  },
  {
   "cell_type": "markdown",
   "metadata": {
    "slideshow": {
     "slide_type": "slide"
    }
   },
   "source": [
    "## Errores Humanos\n",
    "\n",
    "* **Medición**: Falta de apego a protocolos e imprecisión.\n",
    "* **Modelamiento Matemático**: falta de cuidado a deformación profesional: Para quien tiene un martillo, todo parece un clavo.\n",
    "* **Modelamiento Numérico**: Errores de conceptuales, de unidades, o profesional.\n",
    "* **Implementación Numérica**:  Testeo deficiente permite que bugs permanezcan ocultos en la implementación.\n",
    "* **Interpretación**: Confianza ciega en la caja negra."
   ]
  },
  {
   "cell_type": "markdown",
   "metadata": {
    "slideshow": {
     "slide_type": "slide"
    }
   },
   "source": [
    "## Error Experimental\n",
    "\n",
    "El análisis de los errores en ingeniería no se realiza etapa por etapa.\n",
    "Tradicionalmente y por conveniencia se supone que el error es\n",
    "únicamente experimental, es decir, se han detectado y corregido los\n",
    "errores ilegítimos o humanos.\n",
    "\n",
    "Errores experimentales se dividen en 2 categorías:\n",
    "\n",
    "* Errores sistemáticos.\n",
    "* Errores aleatorios."
   ]
  },
  {
   "cell_type": "markdown",
   "metadata": {
    "slideshow": {
     "slide_type": "slide"
    }
   },
   "source": [
    "## Errores Experimentales Sistemáticos\n",
    "* Afectan la exactitud (eng. accuracy) de una medición.\n",
    "* Provienen de la utilización de un método o técnica en particular.\n",
    "* En ausencia de otro tipo de errores, tiene un  sesgo (eng. bias) característico.\n",
    "* Son difíciles de detectar, por ser de carácter teórico/práctico.\n",
    "* Son fáciles de corregir una vez detectados."
   ]
  },
  {
   "cell_type": "markdown",
   "metadata": {
    "slideshow": {
     "slide_type": "slide"
    }
   },
   "source": [
    "## Errores Experimentales Sistemáticos\n",
    "Ejemplos:\n",
    "* Instalación deficiente de instrumentos de medición.\n",
    "* Mala calibración interna de intrumentos de medición."
   ]
  },
  {
   "cell_type": "markdown",
   "metadata": {
    "slideshow": {
     "slide_type": "slide"
    }
   },
   "source": [
    "<img src=\"images/parallax.jpg\" alt=\"\" width=\"600px\" align=\"middle\"/>"
   ]
  },
  {
   "cell_type": "markdown",
   "metadata": {
    "slideshow": {
     "slide_type": "slide"
    }
   },
   "source": [
    "## Errores Experimentales Aleatorios\n",
    "* Afectan la precisión  (eng. precision) de una medición.\n",
    "* Repetición de experimentos entregan valores con variabilidad (varianza).\n",
    "* Mediciones difieren debido a variaciones impredecibles e incontrolables en el proceso de medición.\n",
    "* Son fáciles de detectar.\n",
    "* Son difíciles de corregir, aunque existen técnicas estadísticas para su análisis."
   ]
  },
  {
   "cell_type": "markdown",
   "metadata": {
    "slideshow": {
     "slide_type": "slide"
    }
   },
   "source": [
    "<img src=\"images/SesgoVsVarianza1.png\" alt=\"\" width=\"600px\" align=\"middle\"/>"
   ]
  },
  {
   "cell_type": "markdown",
   "metadata": {
    "slideshow": {
     "slide_type": "slide"
    }
   },
   "source": [
    "<img src=\"images/SesgoVsVarianza2.png\" alt=\"\" width=\"600px\" align=\"middle\"/>"
   ]
  },
  {
   "cell_type": "markdown",
   "metadata": {
    "slideshow": {
     "slide_type": "slide"
    }
   },
   "source": [
    "## ¿Porqué utilizar modelos?\n",
    "\n",
    "Permiten reproducir escalas temporales o espaciales donde las mediciones o los experimentos son costosos, difíciles o imposibles.\n",
    "* **Ejemplo**: deriva continental, impacto de asteroides, evolución de enfermedades, etc."
   ]
  },
  {
   "cell_type": "markdown",
   "metadata": {
    "slideshow": {
     "slide_type": "slide"
    }
   },
   "source": [
    "## ¿Porqué utilizar modelos?\n",
    "\n",
    "Permiten reproducir experimentos donde factores no pueden ser fácilmente controlados.\n",
    "* **Ejemplo**: Comportamiento de cápsula lunar en gravedad cero y al atravesar atmósfera a gran velocidad."
   ]
  },
  {
   "cell_type": "markdown",
   "metadata": {
    "slideshow": {
     "slide_type": "slide"
    }
   },
   "source": [
    "## ¿Porqué utilizar modelos?\n",
    "\n",
    "Permiten simplificar el entendimiento de sistemas complejos, al permitir el análisis y exploración de cada componente del sistema por separado.\n",
    "* **Ejemplo**: Adelgazamiento de la capa de hielo polar por calentamiento global."
   ]
  },
  {
   "cell_type": "markdown",
   "metadata": {
    "slideshow": {
     "slide_type": "slide"
    }
   },
   "source": [
    "## ¿Porqué utilizar modelos?\n",
    "\n",
    "Es mejor que no hacer nada o confiar en juicios dudosos de terceros.\n",
    "\n",
    "* **Ejemplo**: Predicción meteorológica versus danza de la lluvia."
   ]
  },
  {
   "cell_type": "markdown",
   "metadata": {
    "slideshow": {
     "slide_type": "slide"
    }
   },
   "source": [
    "## Un modelo es\n",
    "* Una representación abstracta y conveniente de un sistema.\n",
    "* Una simplificación del mundo real.\n",
    "* Un medio de exploración y de explicación para nuestro entendimiento de la realidad.\n",
    "\n",
    "## Un modelo NO es\n",
    "* Igual al mundo real.\n",
    "* Un sustituto para mediciones o experimentos."
   ]
  },
  {
   "cell_type": "markdown",
   "metadata": {
    "slideshow": {
     "slide_type": "slide"
    }
   },
   "source": [
    "## Objetivos de Modelamiento\n",
    "* Ayudar al diseño de experimentos y mediciones.\n",
    "* Condensar entendimiento al forzar la abstracción, integración y formalización de ideas científicas.\n",
    "* Permitir la realización de experimentos virtuales.\n",
    "* Divulgar conocimiento científico a no-expertos.\n",
    "* Realizar predicciones.\n",
    "\n",
    "***El modelamiento no es un objetivo en sí mismo.***"
   ]
  },
  {
   "cell_type": "markdown",
   "metadata": {
    "slideshow": {
     "slide_type": "slide"
    }
   },
   "source": [
    "## Tipos de modelamiento\n",
    "\n",
    "#### Modelamiento Exploratorio\n",
    "* Explora las relaciones entre las variables y parámetros.\n",
    "* No se conoce el grado de exactitud, pero si el grado de precisión.\n",
    "\n",
    "#### Modelamiento Predictivo\n",
    "* Estimar valores futuros o inobservables para ser útil. \n",
    "* Requiere estimar el error de predicción.\n",
    "* Difícil pero poderoso."
   ]
  },
  {
   "cell_type": "markdown",
   "metadata": {
    "slideshow": {
     "slide_type": "slide"
    }
   },
   "source": [
    "## Algunos principios básicos\n",
    "\n",
    "1. Un mismo fenómeno físico puede tener distintos modelos, cada uno bueno para el estudio de un cierto aspecto del fenómeno.\n",
    "2. Modelamiento require tiempo: es necesario determinar el nivel de complejidad en función los resultados deseados y del tiempo disponible.\n",
    "3. GIGO: Garbage In = Garbage Out: Un buen modelo no compensa malos datos de entrada."
   ]
  },
  {
   "cell_type": "markdown",
   "metadata": {
    "slideshow": {
     "slide_type": "slide"
    }
   },
   "source": [
    "## Algunos principios básicos\n",
    "1. El mundo es demasiado complejo para poder modelarlo perfectamente.\n",
    "2. Todo modelo es una simplificación de la realidad.\n",
    "3. Modelos complementan otras formas de conocimiento (experimentos, mediciones)\n",
    "4. Que algo se pueda simular, no significa que se corresponda con la realidad.\n",
    "5. Validación completa del un modelo es imposible, al igual que cualquier teoría."
   ]
  },
  {
   "cell_type": "markdown",
   "metadata": {
    "slideshow": {
     "slide_type": "slide"
    }
   },
   "source": [
    "\n",
    "    \"All models are wrong, \n",
    "    some are useful\" - George Box"
   ]
  },
  {
   "cell_type": "markdown",
   "metadata": {
    "slideshow": {
     "slide_type": "slide"
    }
   },
   "source": [
    "    \"Since all models are wrong the scientist \n",
    "    cannot obtain a correct one by excessive \n",
    "    elaboration. On the contrary following William\n",
    "    of Occam he should seek an economical \n",
    "    description of natural phenomena. [...] \n",
    "    the ability to devise simple but evocative\n",
    "    models is the signature \n",
    "    of the great scientist [...]\"- George Box"
   ]
  },
  {
   "cell_type": "markdown",
   "metadata": {
    "slideshow": {
     "slide_type": "slide"
    }
   },
   "source": [
    "##  Etapas del Modelamiento:\n",
    "1. ***Meta***: Definir el propósito del modelo.\n",
    "2. ***Modelar***: Desarrollar el modelo conceptual.\n",
    "3. ***Afinar***: Seleccionar el tipo de modelo y la escala. \n",
    "4. ***Codear***: Realizar la implementación numérica del modelo conceptual.\n",
    "5. ***Calibrar***: Estimar los parámetros requeridos por el modelo.\n",
    "6. ***Analizar***: Evaluar el modelo con análisis de sensitividad e incertidumbre.\n",
    "7. ***Validar***: Comparar las predicciones del modelo con mediciones reales. Requiere parámetros y mediciones reales.\n",
    "8. ***Utilizar***: Aplicar el modelo al propósito. Requiere parámetros reales."
   ]
  },
  {
   "cell_type": "markdown",
   "metadata": {
    "slideshow": {
     "slide_type": "slide"
    }
   },
   "source": [
    "## Ejemplo\n",
    "\n",
    "Supongamos que ciertos datos provienen de la siguiente caja negra:\n",
    "$$ y(x) = 5 \\cos\\Big( \\frac{\\pi x}{2}\\Big) + \\mathcal{N}(0,1)$$ \n",
    "\n",
    "Tenemos 200 mediciones, y deseamos ajustar un modelo de tipo polinomial a los datos. Después de todo, sabemos que \n",
    "\n",
    "$$ cos(x) = 1 - \\frac{1}{2!}x^2 + \\frac{1}{4!}x^4 - \\frac{1}{6!}x^6 + \\frac{1}{8!}x^8 + ...$$\n",
    "\n",
    "Además, 200 datos son bastantes, por lo que, ¿qué tan mal lo podríamos hacer?\n"
   ]
  },
  {
   "cell_type": "markdown",
   "metadata": {
    "slideshow": {
     "slide_type": "slide"
    }
   },
   "source": [
    "## Los datos"
   ]
  },
  {
   "cell_type": "code",
   "execution_count": null,
   "metadata": {
    "collapsed": false
   },
   "outputs": [],
   "source": [
    "import numpy as np\n",
    "from matplotlib import pyplot as plt\n",
    "# Load data\n",
    "x, y = np.loadtxt(\"data/data.txt\").T\n",
    "x_bb = np.sort(x)\n",
    "y_bb = 5 * np.cos(0.5*np.pi*x_bb/2)\n",
    "# Plot data\n",
    "plt.figure(figsize=(16,8))\n",
    "plt.plot(x, y, 'bs', alpha=0.5, label=u\"Medición\")\n",
    "plt.plot(x_bb, y_bb, 'k-', lw=2.0, label=u\"Relación determinista\")\n",
    "plt.xlim([-2.5,2.5])\n",
    "plt.ylim([-5,10])\n",
    "plt.xlabel(\"x []\", fontsize=20)\n",
    "plt.ylabel(\"y []\", fontsize=20)\n",
    "plt.legend(numpoints=1, loc=\"lower center\", fontsize=20)\n",
    "plt.show()"
   ]
  },
  {
   "cell_type": "markdown",
   "metadata": {
    "slideshow": {
     "slide_type": "slide"
    }
   },
   "source": [
    "## Error de entrenamiento\n",
    "Si miramos el error cometido al utilizar polinomios de orden creciente, obtenemos el siguiente gráfico."
   ]
  },
  {
   "cell_type": "code",
   "execution_count": null,
   "metadata": {
    "collapsed": false
   },
   "outputs": [],
   "source": [
    "# Define error function\n",
    "def error(vector_e):\n",
    "  return abs(vector_e).mean()\n",
    "\n",
    "# Parameters\n",
    "nmax = 70 # max polynomial\n",
    "\n",
    "# Load data\n",
    "x, y = np.loadtxt(\"data/data.txt\").T\n",
    "\n",
    "# Fit best several models and record training error and prediction error\n",
    "order_polynomial = range(1, nmax+1)\n",
    "error_polynomial = []\n",
    "for n in order_polynomial:\n",
    "  fit_n = np.polyfit(x, y, n) # Obtains the best fitted polynomial of degree n\n",
    "  pol_n = np.poly1d(fit_n) # Creates the polynomial with coefficients as in fit n\n",
    "  error_polynomial.append( error(y - pol_n(x)) )\n",
    "\n",
    "# Plot data\n",
    "plt.figure(figsize=(16,8))\n",
    "plt.semilogy(order_polynomial, error_polynomial, \"-sb\", lw=2.0, label=\"Error\")\n",
    "plt.xlabel(\"x []\", fontsize=20)\n",
    "plt.ylabel(\"y []\", fontsize=20)\n",
    "plt.xlabel(\"Grado del polinomio\", fontsize=20)\n",
    "plt.ylabel(\"Error\", fontsize=20)\n",
    "plt.show()"
   ]
  },
  {
   "cell_type": "markdown",
   "metadata": {
    "slideshow": {
     "slide_type": "slide"
    }
   },
   "source": [
    "## Conclusiones\n",
    "\n",
    "* ¿Debemos utilizar un polinomio de grado extremadamente alto, $n=70$?\n",
    "* El error en los datos de calibración/entrenamiento siempre disminuye con $n$. ¿Porqué?\n",
    "* ¿Cuál es el error real/predictivo del modelo?"
   ]
  },
  {
   "cell_type": "markdown",
   "metadata": {
    "slideshow": {
     "slide_type": "slide"
    }
   },
   "source": [
    "## Mirando el polinomio\n",
    "\n",
    "Miremos el polinomio que obtenemos en cada interpolación de datos:"
   ]
  },
  {
   "cell_type": "code",
   "execution_count": null,
   "metadata": {
    "collapsed": false
   },
   "outputs": [],
   "source": [
    "# Parameters\n",
    "n = 1 # order of polynomial\n",
    "\n",
    "# Load data\n",
    "x, y = np.loadtxt(\"data/data.txt\").T\n",
    "\n",
    "# Fit best several models and record training error and prediction error\n",
    "fit_n = np.polyfit(x, y, n) # Obtains the best fitted polynomial of degree n\n",
    "pol_n = np.poly1d(fit_n) # Creates the polynomial with coefficients as in fit n\n",
    "\n",
    "# Plot data\n",
    "x_bb = np.sort(x)\n",
    "y_bb = 5 * np.cos(0.5*np.pi*x_bb/2)\n",
    "plt.figure(figsize=(16,8))\n",
    "plt.plot(x, y, 'bs', alpha=0.5, label=u\"Medición\")\n",
    "plt.plot(x_bb, y_bb, 'k-', lw=2.0, label=u\"Relación determinista\")\n",
    "plt.plot(x_bb, pol_n(x_bb), 'r-', lw=2.0, label=u\"Polinomio grado %d\" %n)\n",
    "plt.xlabel(\"x []\", fontsize=20)\n",
    "plt.ylabel(\"y []\", fontsize=20)\n",
    "plt.legend(numpoints=1, loc=\"lower center\", fontsize=20)\n",
    "plt.show()"
   ]
  },
  {
   "cell_type": "markdown",
   "metadata": {
    "slideshow": {
     "slide_type": "slide"
    }
   },
   "source": [
    "## Conclusiones\n",
    "\n",
    "* Modelo no se acerca al modelo subyacente, sino que sobreajusta a las mediciones.\n",
    "* ¿Qué hacer? ¿Existe algún método que me permita seleccionar cuantitativamente el mejor orden?\n",
    "\n",
    "* ¿Qué tal si entrenamos el modelo con algunos datos, y después comprobamos que tal se comporta el modelo en los datos reservados? (holdout set technique)."
   ]
  },
  {
   "cell_type": "markdown",
   "metadata": {
    "slideshow": {
     "slide_type": "slide"
    }
   },
   "source": [
    "## Error de Entrenamiento versus Error de Predicción\n",
    "\n"
   ]
  },
  {
   "cell_type": "code",
   "execution_count": null,
   "metadata": {
    "collapsed": false
   },
   "outputs": [],
   "source": [
    "# Parameters\n",
    "n = 1 # order of polynomial\n",
    "\n",
    "# Load data\n",
    "x, y = np.loadtxt(\"data/data.txt\").T\n",
    "\n",
    "# Split into training and prediction data\n",
    "t = int(len(x)*.7)\n",
    "x_t = x[:t]\n",
    "y_t = y[:t]\n",
    "x_p = x[t:]\n",
    "y_p = y[t:]\n",
    "\n",
    "# Fit best several models and record training error and prediction error\n",
    "fit_n = np.polyfit(x_t, y_t, n) # Obtains the best fitted polynomial of degree n\n",
    "pol_n = np.poly1d(fit_n) # Creates the polynomial with coefficients as in fit n\n",
    "\n",
    "# Plot data\n",
    "x_bb = np.sort(x)\n",
    "y_bb = 5 * np.cos(0.5*np.pi*x_bb/2)\n",
    "plt.figure(figsize=(16,8))\n",
    "plt.plot(x_t, y_t, 'bs', alpha=0.5, label=u\"Training Set\")\n",
    "plt.plot(x_p, y_p, 'gs', alpha=0.5, label=u\"Testing Set\")\n",
    "plt.plot(x_bb, y_bb, 'k-', lw=2.0, label=u\"Relación determinista\")\n",
    "plt.plot(x_bb, pol_n(x_bb), 'r-', lw=2.0, label=u\"Polinomio grado %d\" %n)\n",
    "plt.xlabel(\"x []\", fontsize=20)\n",
    "plt.ylabel(\"y []\", fontsize=20)\n",
    "plt.legend(numpoints=1, loc=\"lower center\", fontsize=20)\n",
    "plt.show()"
   ]
  },
  {
   "cell_type": "markdown",
   "metadata": {
    "slideshow": {
     "slide_type": "slide"
    }
   },
   "source": [
    "## Conclusiones\n",
    "\n",
    "* Polinomios se siguen comportando mal, pero ahora podemos evaluar el error predictivo y seleccionar el grado de polinomio basado en el error predictivo (no en el error de calibración)."
   ]
  },
  {
   "cell_type": "markdown",
   "metadata": {
    "slideshow": {
     "slide_type": "slide"
    }
   },
   "source": [
    "## Error de Entrenamiento versus Error de Predicción\n"
   ]
  },
  {
   "cell_type": "code",
   "execution_count": null,
   "metadata": {
    "collapsed": false
   },
   "outputs": [],
   "source": [
    "# Parameters\n",
    "nmax = 70 # max polynomial\n",
    "\n",
    "# Load data\n",
    "x, y = np.loadtxt(\"data/data.txt\").T\n",
    "\n",
    "# Fit best several models and record training error and prediction error\n",
    "order_polynomial = range(1, nmax+1)\n",
    "error_t = []\n",
    "error_p = []\n",
    "for n in order_polynomial:\n",
    "  fit_n = np.polyfit(x_t, y_t, n) # Obtains the best fitted polynomial of degree n\n",
    "  pol_n = np.poly1d(fit_n) # Creates the polynomial with coefficients as in fit n\n",
    "  error_t.append( error(y_t - pol_n(x_t)) )\n",
    "  error_p.append( error(y_p - pol_n(x_p)) )\n",
    "\n",
    "# Plot the errors\n",
    "plt.figure(figsize=(16,8))\n",
    "plt.semilogy(order_polynomial, error_t, \"-sb\", lw=2.0, label=\"Training error\")\n",
    "plt.semilogy(order_polynomial, error_p, \"-og\", lw=2.0, label=\"Prediction error\")\n",
    "plt.legend(numpoints=1, loc=\"lower center\", fontsize=20)\n",
    "plt.xlabel(\"Grado del polinomio\", fontsize=20)\n",
    "plt.ylabel(\"Error\", fontsize=20)\n",
    "plt.show()"
   ]
  },
  {
   "cell_type": "markdown",
   "metadata": {
    "slideshow": {
     "slide_type": "slide"
    }
   },
   "source": [
    "## Conclusiones\n",
    "\n",
    "* A medida que el grado del polinomio aumenta, la posibilidad de sobreajustar a los datos se incrementa, haciendo que el modelo sea cada vez más malo en terminos predictivos.\n",
    "* Esto significa que no es posible recuperar la relación determinista subyacente, sino que simplemente es posible encontrar una buena aproximación dentro del rango estudiado."
   ]
  },
  {
   "cell_type": "markdown",
   "metadata": {
    "slideshow": {
     "slide_type": "slide"
    }
   },
   "source": [
    "<img src=\"images/ModelComplexity1.png\" alt=\"\" width=\"800px\" align=\"middle\"/>"
   ]
  }
 ],
 "metadata": {
  "celltoolbar": "Slideshow",
  "kernelspec": {
   "display_name": "Python 2",
   "language": "python",
   "name": "python2"
  },
  "language_info": {
   "codemirror_mode": {
    "name": "ipython",
    "version": 2
   },
   "file_extension": ".py",
   "mimetype": "text/x-python",
   "name": "python",
   "nbconvert_exporter": "python",
   "pygments_lexer": "ipython2",
   "version": "2.7.6"
  }
 },
 "nbformat": 4,
 "nbformat_minor": 0
}
