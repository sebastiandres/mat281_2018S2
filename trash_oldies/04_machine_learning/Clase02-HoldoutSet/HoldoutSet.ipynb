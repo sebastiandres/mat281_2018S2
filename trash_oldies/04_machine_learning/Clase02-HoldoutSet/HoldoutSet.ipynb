{
 "cells": [
  {
   "cell_type": "code",
   "execution_count": null,
   "metadata": {
    "collapsed": false,
    "slideshow": {
     "slide_type": "skip"
    }
   },
   "outputs": [],
   "source": [
    "\"\"\"\n",
    "IPython Notebook v4.0 para python 2.7\n",
    "Librerías adicionales: numpy, matplotlib\n",
    "Contenido bajo licencia CC-BY 4.0. Código bajo licencia MIT. (c) Sebastian Flores.\n",
    "\"\"\"\n",
    "\n",
    "# Configuracion para recargar módulos y librerías \n",
    "%reload_ext autoreload\n",
    "%autoreload 2\n",
    "%matplotlib inline\n",
    "\n",
    "from IPython.core.display import HTML\n",
    "\n",
    "HTML(open(\"style/mat281.css\", \"r\").read())"
   ]
  },
  {
   "cell_type": "markdown",
   "metadata": {
    "slideshow": {
     "slide_type": "slide"
    }
   },
   "source": [
    "<header class=\"w3-container w3-teal\">\n",
    "<img src=\"images/utfsm.png\" alt=\"\" height=\"100px\" align=\"left\"/>\n",
    "<img src=\"images/mat.png\" alt=\"\" height=\"100px\" align=\"right\"/>\n",
    "</header>\n",
    "<br/><br/><br/><br/><br/>\n",
    "# MAT281\n",
    "## Aplicaciones de la Matemática en la Ingeniería\n",
    "\n",
    "### Sebastián Flores\n",
    "\n",
    "https://www.github.com/sebastiandres/mat281\n"
   ]
  },
  {
   "cell_type": "markdown",
   "metadata": {
    "slideshow": {
     "slide_type": "slide"
    }
   },
   "source": [
    "## Clase anterior\n",
    "\n",
    "* Fuentes de Error\n",
    "* Modelo predictivo\n"
   ]
  },
  {
   "cell_type": "markdown",
   "metadata": {
    "slideshow": {
     "slide_type": "slide"
    }
   },
   "source": [
    "## ¿Qué contenido aprenderemos?\n",
    "\n",
    "* Holdout Set.\n"
   ]
  },
  {
   "cell_type": "markdown",
   "metadata": {
    "slideshow": {
     "slide_type": "slide"
    }
   },
   "source": [
    "## ¿Porqué aprenderemos ese contenido?\n",
    "\n",
    "* Holdout Set.\n",
    "\n",
    "Esencial para poder estimar el poder predictivo de un modelo.\n"
   ]
  },
  {
   "cell_type": "markdown",
   "metadata": {
    "slideshow": {
     "slide_type": "slide"
    }
   },
   "source": [
    "## Motivación\n",
    "\n",
    "Panchulo mide el perímetro de un círculo y obtiene 2 [m]. \n",
    "\n",
    "¿Cuál es el radio del círculo?\n",
    "\n",
    "$$ P =2 \\pi R$$"
   ]
  },
  {
   "cell_type": "markdown",
   "metadata": {
    "slideshow": {
     "slide_type": "fragment"
    }
   },
   "source": [
    "* $\\frac{1}{\\pi} = 0.3183098861837907...$\n",
    "* $0.3183$\n",
    "* $0.3$\n",
    "* Entre $0.2$ y $0.4$.\n",
    "* ¿Depende del contexto?"
   ]
  },
  {
   "cell_type": "markdown",
   "metadata": {
    "slideshow": {
     "slide_type": "slide"
    }
   },
   "source": [
    "## Motivación\n",
    "\n",
    "Panchulo es un minero, debe medir el pilar que sostiene el techo de una  galería para verificar que la sección transversal del pilar es el indicado.\n",
    "\n",
    "¿Cuáles son las posibles fuentes de error?\n",
    "\n",
    "* **Medición**: Panchulo utilizó una hincha de medición.\n",
    "* **Modelo**: El pilar no es perfectamente circular.\n",
    "* **Interpretación**: ¿Para dónde es necesario redondear los términos, por seguridad?"
   ]
  },
  {
   "cell_type": "markdown",
   "metadata": {
    "slideshow": {
     "slide_type": "slide"
    }
   },
   "source": [
    "## Posible Respuesta\n",
    "\n",
    "Panchulo utilizó una huincha de medición, y puede haberse equivocado en 5 cms.\n",
    "\n",
    "* $R_{min} = \\frac{P_{min}}{2 \\pi} [m] = \\frac{1.95}{2 \\pi} = 0.310$ [m]\n",
    "* $R_{max} = \\frac{P_{max}}{2 \\pi} [m] = \\frac{2.05}{2 \\pi} = 0.326$ [m]"
   ]
  },
  {
   "cell_type": "markdown",
   "metadata": {
    "slideshow": {
     "slide_type": "fragment"
    }
   },
   "source": [
    "* Si la medición es para medir la estabilidad de la galería, conviene utilizar $R_{min}$.\n",
    "* Si la medición es para calcular la cantidad de exlosivos para dinamitar el pilar, conviene utilizar $R_{max}$."
   ]
  },
  {
   "cell_type": "markdown",
   "metadata": {
    "slideshow": {
     "slide_type": "slide"
    }
   },
   "source": [
    "## Técnicas para entrenar un modelo\n",
    "\n",
    "1. ***Holdout Set***\n",
    "1. Cross Validation"
   ]
  },
  {
   "cell_type": "markdown",
   "metadata": {
    "slideshow": {
     "slide_type": "slide"
    }
   },
   "source": [
    "## Observación crucial\n",
    "\n",
    "La medición del error de predicción no necesita conocer el modelo subyacente: puede ser un sofware externo, una black box o una implementación casera.\n",
    "\n",
    "Necesitamos:\n",
    "\n",
    "1. Poder obtener el modelo que se ajusta de mejor manera a un set de datos datos (entrenamiento).\n",
    "2. Poder realizar predicciones con un modelo ya ajustado (predicción)."
   ]
  },
  {
   "cell_type": "markdown",
   "metadata": {
    "slideshow": {
     "slide_type": "slide"
    }
   },
   "source": [
    "## 1. Holdout Set\n",
    "\n",
    "Se separan los datos en 2 grupos.\n",
    "* El primero de los grupos permitirá entrenar el modelo y obtener los parámetros del modelo.\n",
    "* El segundo de los grupos se utilizará obtener una estimación del error (predictivo) del modelo.\n",
    "\n",
    "<img src=\"images/HoldoutSet.png\" alt=\"\" width=\"600px\" align=\"middle\"/>"
   ]
  },
  {
   "cell_type": "markdown",
   "metadata": {
    "slideshow": {
     "slide_type": "slide"
    }
   },
   "source": [
    "#### 1. Holdout Set\n",
    "## Características\n",
    "\n",
    "* El costo del método proviene de la cantidad de datos que son retenidos del proceso de entrenamiento del modelo.\n",
    "* Típicamente se separa el 30 % de los datos para el testeo del modelo.\n",
    "* Esto significa que el modelo se entrena en un conjunto menor de datos, y por tanto el modelo no será tan bueno como si se entrenara en el conjunto completo de datos."
   ]
  },
  {
   "cell_type": "markdown",
   "metadata": {
    "slideshow": {
     "slide_type": "slide"
    }
   },
   "source": [
    "#### 1. Holdout Set\n",
    "## Características\n",
    "\n",
    "* El procedimiento estándar es reportar el error entregado en el set de predicción, pero luego obtener los mejores parámetros posibles para el modelo utilizando todos los datos simultáneamente.\n",
    "* El error reportado es una estimación conservativa, puesto que al entrenar en todos los datos el error del modelo actual será menor... ¡pero ya no tenemos datos para hacer una mejor estimación!\n",
    "* Predicciones conservativas son mejores que predicciones optimistas."
   ]
  },
  {
   "cell_type": "markdown",
   "metadata": {
    "slideshow": {
     "slide_type": "slide"
    }
   },
   "source": [
    "#### Holdout Set\n",
    "## Warning\n",
    "\n",
    "* El holdout set no debe utilizarse para nada más que el testeo final del modelo, sus datos no deben utilizarse para calibrar el modelo en ningún aspecto. \n",
    " \n",
    "* Si los datos reservados para predicción se han utilizan durante el entrenamiento, el error predictivo del modelo estará sesgado al incluir el error de entrenamiento/calibración del modelo."
   ]
  },
  {
   "cell_type": "markdown",
   "metadata": {
    "slideshow": {
     "slide_type": "slide"
    }
   },
   "source": [
    "#### Holdout Set\n",
    "## Warning\n",
    "\n",
    "Ilustraremos el funcionamiento del método con datos sintéticos:\n",
    "$$ y(x) = 5 \\cos \\Big( \\frac{\\pi}{4} x \\Big) + \\mathcal{N}\\Big(0,1\\Big)$$\n",
    "\n",
    "Buscaremos ajustar un modelo del tipo\n",
    "$$ y(x) = a \\cos \\Big( b x + c\\Big) + d$$\n",
    "minimizando el error cuadrático.\n",
    "\n",
    "El error predictivo del modelo será calculado utilizando RMSE:\n",
    "$$ E(o,p) = \\sqrt{ \\frac{1}{N}\\sum_{i=1}^N (o_i - p_i)^2 }$$\n",
    "El RMSE corresponde a la desviación estándar de los residuos."
   ]
  },
  {
   "cell_type": "markdown",
   "metadata": {
    "slideshow": {
     "slide_type": "slide"
    }
   },
   "source": [
    "#### 1. Holdout Set\n",
    "## Implementación Numérica\n",
    "La implementación numérica del holdout set no depende del modelo a ajustar: puede realizarse para regresion lineal o logística, modelos discretos, algoritmos de machine learning, etc.\n",
    "\n",
    "Los pasos son:\n",
    "1. Realizar la partición en datos de entrenamiento y de predicción.\n",
    "2. Obtener los coeficientes del modelo utilizando los datos de entrenamiento.\n",
    "3. Utilizar el modelo con los coeficientes obtenidos para realizar predicción de datos en el set de predicción.\n",
    "4. Comparar la predicción realizada con los datos reales, para estimar el error de predicción.\n",
    "5. Obtener los coeficientes del modelo todos los datos de entrenamiento."
   ]
  },
  {
   "cell_type": "markdown",
   "metadata": {
    "slideshow": {
     "slide_type": "slide"
    }
   },
   "source": [
    "#### 1. Holdout Set\n",
    "## Implementación Numérica"
   ]
  },
  {
   "cell_type": "code",
   "execution_count": null,
   "metadata": {
    "collapsed": false
   },
   "outputs": [],
   "source": [
    "import numpy as np\n",
    "from mat281_code import model\n",
    "\n",
    "# Load data\n",
    "data = model.load_data(\"data/dataN5000.txt\")  # Change here\n",
    "N = data.shape[0]\n",
    "split = int(0.7*N)   # Change here\n",
    "\n",
    "# Permute the data\n",
    "np.random.seed(23)   # Change here\n",
    "data = np.random.permutation(data)\n",
    "\n",
    "# Do the split\n",
    "training_data = data[:split,:]\n",
    "testing_data = data[split:,:]\n",
    "\n",
    "# Train model excluding the holdout set\n",
    "training_params = model.get_params(training_data)\n",
    "\n",
    "# Test with the holdout set\n",
    "prediction_error = model.get_error(training_params, testing_data)\n",
    "print \"Prediction error estimated on \", prediction_error, \"\\n\"\n",
    "\n",
    "# Train model with all the data\n",
    "all_data_params = model.get_params(data)\n",
    "\n",
    "# Report\n",
    "model.full_report(training_data, testing_data, training_params, all_data_params)\n",
    "\n",
    "# Plot the model\n",
    "model.plot(training_data, testing_data, training_params, all_data_params)"
   ]
  },
  {
   "cell_type": "markdown",
   "metadata": {
    "slideshow": {
     "slide_type": "slide"
    }
   },
   "source": [
    "#### 1. Holdout Set\n",
    "## Conclusiones\n",
    "El holdout se ve afectado:\n",
    "* Por la forma de seleccionar los datos. \n",
    "* Por el tamaño de la partición training-testing.\n",
    "* Por el tamaño del conjunto de datos considerados."
   ]
  },
  {
   "cell_type": "markdown",
   "metadata": {
    "slideshow": {
     "slide_type": "slide"
    }
   },
   "source": [
    "#### 1. Holdout Set\n",
    "## Comparación\n",
    "\n",
    "¿Cuánto afecta la selección de la partición al error de predicción?\n",
    "\n",
    "Si tenemos $N$ datos y queremos un split de $n$ datos de entrenamiento y $N-n$ datos de testing, existen\n",
    "$ C^N_n = \\frac{N!}{n!(N-n)!}$ posibilidades.\n",
    "\n",
    "En nuestro caso, para $N=50$ y $n=0.7 \\times 50 = 35$, tenemos $>2.5 \\cdot 10^{12}$ posibles combinaciones distintas de datos."
   ]
  },
  {
   "cell_type": "code",
   "execution_count": null,
   "metadata": {
    "collapsed": false,
    "slideshow": {
     "slide_type": "fragment"
    }
   },
   "outputs": [],
   "source": [
    "from scipy.misc import comb\n",
    "print comb(50,35)\n",
    "print comb(50,15)"
   ]
  },
  {
   "cell_type": "markdown",
   "metadata": {
    "slideshow": {
     "slide_type": "slide"
    }
   },
   "source": [
    "#### 1. Holdout Set\n",
    "## Comparación\n",
    "\n",
    "¿Cuánto afecta la selección de la partición al error de predicción?\n",
    "\n",
    "Realicemos un experimento numérico sencillo..."
   ]
  },
  {
   "cell_type": "code",
   "execution_count": null,
   "metadata": {
    "collapsed": false
   },
   "outputs": [],
   "source": [
    "import numpy as np\n",
    "from mat281_code import model\n",
    "from matplotlib import pyplot as plt\n",
    "\n",
    "# Number of different seeds to test \n",
    "total_seeds = 250\n",
    "\n",
    "# Load data\n",
    "data = model.load_data(\"data/dataN5000.txt\")\n",
    "N = data.shape[0]\n",
    "split = int(0.7*N)\n",
    "\n",
    "prediction_error = np.zeros(total_seeds)\n",
    "for seed in range(total_seeds):\n",
    "    # Permute the data\n",
    "    np.random.seed(seed)\n",
    "    data = np.random.permutation(data)\n",
    "\n",
    "    # Do the split\n",
    "    training_data = data[:split,:]\n",
    "    testing_data = data[split:,:]\n",
    "\n",
    "    # Train model excluding the holdout set\n",
    "    training_params = model.get_params(training_data)\n",
    "\n",
    "    # Test with the holdout set\n",
    "    prediction_error[seed] = model.get_error(training_params, testing_data)\n",
    "\n",
    "# Histogram on the prediction error\n",
    "fig = plt.figure(figsize=(16,8))\n",
    "plt.hist(prediction_error, rwidth=0.8)\n",
    "plt.xlim(0,3)\n",
    "plt.show()"
   ]
  },
  {
   "cell_type": "markdown",
   "metadata": {
    "slideshow": {
     "slide_type": "slide"
    }
   },
   "source": [
    "#### 1. Holdout Set\n",
    "## Comparación\n",
    "\n",
    "¿Cuánto afecta la selección de la partición al error de predicción?\n",
    "\n",
    "Realicemos un experimento numérico más general."
   ]
  },
  {
   "cell_type": "code",
   "execution_count": null,
   "metadata": {
    "collapsed": false
   },
   "outputs": [],
   "source": [
    "import numpy as np\n",
    "from mat281_code import model\n",
    "from matplotlib import pyplot as plt\n",
    "\n",
    "# Number of different seeds to test \n",
    "total_seeds = 250\n",
    "\n",
    "datasizes = (20,50,100,500,5000)\n",
    "mean_prediction_error = np.zeros(len(datasizes))\n",
    "std_prediction_error = np.zeros(len(datasizes))\n",
    "\n",
    "for i, N in enumerate(datasizes):\n",
    "    # Load data\n",
    "    datafile = \"data/dataN%d.txt\" %N\n",
    "    data = model.load_data(datafile)\n",
    "    split = int(0.7*N)\n",
    "\n",
    "    prediction_error = np.zeros(total_seeds)\n",
    "    for seed in range(total_seeds):\n",
    "        # Permute the data\n",
    "        np.random.seed(seed)\n",
    "        data = np.random.permutation(data)\n",
    "\n",
    "        # Do the split\n",
    "        training_data = data[:split,:]\n",
    "        testing_data = data[split:,:]\n",
    "\n",
    "        # Train model excluding the holdout set\n",
    "        training_params = model.get_params(training_data)\n",
    "\n",
    "        # Test with the holdout set\n",
    "        prediction_error[seed] = model.get_error(training_params, \n",
    "                                                 testing_data)\n",
    "        \n",
    "    # Compute mean and std, and save into vector    \n",
    "    mean_prediction_error[i] = prediction_error.mean() \n",
    "    std_prediction_error[i] = prediction_error.std() \n",
    "\n",
    "# Histogram on the prediction error\n",
    "fig = plt.figure(figsize=(16,8))\n",
    "plt.plot(datasizes, mean_prediction_error, 'b', lw=2.0)\n",
    "plt.plot(datasizes, mean_prediction_error-std_prediction_error, 'b:', lw=2.0)\n",
    "plt.plot(datasizes, mean_prediction_error+std_prediction_error, 'b:', lw=2.0)\n",
    "plt.xlabel(\"Data size\")\n",
    "plt.ylabel(\"Prediction Error\")\n",
    "plt.show()"
   ]
  },
  {
   "cell_type": "markdown",
   "metadata": {
    "slideshow": {
     "slide_type": "slide"
    }
   },
   "source": [
    "#### 1. Holdout Set\n",
    "## Conclusiones\n",
    "El holdout se ve afectado:\n",
    "* Por la forma de seleccionar los datos, ***pero con impacto decreciente a medida que aumenta el tamaño del dataset considerado***.\n",
    "* Por el tamaño de la partición training-testing.\n",
    "* Por el tamaño del conjunto de datos considerados."
   ]
  },
  {
   "cell_type": "markdown",
   "metadata": {
    "slideshow": {
     "slide_type": "slide"
    }
   },
   "source": [
    "#### 1. Holdout Set\n",
    "## Comparación\n",
    "\n",
    "¿Cuánto afecta el tamaño de la partición (split) al error de predicción?\n",
    "\n",
    "Realicemos un sencillo experimento numérico:"
   ]
  },
  {
   "cell_type": "code",
   "execution_count": null,
   "metadata": {
    "collapsed": false
   },
   "outputs": [],
   "source": [
    "import numpy as np\n",
    "from mat281_code import model\n",
    "from matplotlib import pyplot as plt\n",
    "\n",
    "# Number of different seeds to test \n",
    "total_seeds = 250\n",
    "\n",
    "# Load data\n",
    "data = model.load_data(\"data/dataN5000.txt\") # Change here\n",
    "N = data.shape[0]\n",
    "split = int(0.7*N)  # Change here \n",
    "\n",
    "training_error = np.zeros(total_seeds)\n",
    "prediction_error = np.zeros(total_seeds)\n",
    "\n",
    "for seed in range(total_seeds):\n",
    "    # Permute the data\n",
    "    np.random.seed(seed)\n",
    "    data = np.random.permutation(data)\n",
    "\n",
    "    # Do the split\n",
    "    training_data = data[:split,:]\n",
    "    testing_data = data[split:,:]\n",
    "\n",
    "    # Train model excluding the holdout set\n",
    "    training_params = model.get_params(training_data)\n",
    "\n",
    "    # Test with the holdout set\n",
    "    training_error[seed] = model.get_error(training_params, training_data)\n",
    "    prediction_error[seed] = model.get_error(training_params, testing_data)\n",
    "\n",
    "# Histogram on the prediction error\n",
    "fig = plt.figure(figsize=(16,8))\n",
    "plt.subplot(2,1,1)\n",
    "plt.hist(training_error, rwidth=0.8, color=\"red\")\n",
    "plt.ylabel(\"Training Error\")\n",
    "plt.xlim(0,3)\n",
    "plt.subplot(2,1,2)\n",
    "plt.hist(prediction_error, rwidth=0.8)\n",
    "plt.ylabel(\"Prediction Error\")\n",
    "plt.xlim(0,3)\n",
    "plt.show()"
   ]
  },
  {
   "cell_type": "markdown",
   "metadata": {
    "slideshow": {
     "slide_type": "slide"
    }
   },
   "source": [
    "#### 1. Holdout Set\n",
    "## Comparación\n",
    "\n",
    "¿Cuánto afecta el tamaño de la partición al error de predicción?\n",
    "\n",
    "Realicemos un experimento numérico más detallado:"
   ]
  },
  {
   "cell_type": "code",
   "execution_count": null,
   "metadata": {
    "collapsed": false
   },
   "outputs": [],
   "source": [
    "import numpy as np\n",
    "from mat281_code import model\n",
    "from matplotlib import pyplot as plt\n",
    "\n",
    "# Number of different seeds to test \n",
    "total_seeds = 100\n",
    "\n",
    "N = 5000 # N>=50\n",
    "\n",
    "splitsizes = np.linspace(0.1,0.9,9)\n",
    "mean_prediction_error = np.zeros(len(splitsizes))\n",
    "std_prediction_error = np.zeros(len(splitsizes))\n",
    "mean_training_error = np.zeros(len(splitsizes))\n",
    "std_training_error = np.zeros(len(splitsizes))\n",
    "\n",
    "for i, s in enumerate(splitsizes):\n",
    "    # Load data\n",
    "    datafile = \"data/dataN%d.txt\" %N\n",
    "    data = model.load_data(datafile)\n",
    "    split = int(s*N)\n",
    "    split = min(max(split, 4), N-4) # Requirement for optimization\n",
    "    \n",
    "    prediction_error = np.zeros(total_seeds)\n",
    "    training_error = np.zeros(total_seeds)\n",
    "    for seed in range(total_seeds):\n",
    "        # Permute the data\n",
    "        np.random.seed(seed)\n",
    "        data = np.random.permutation(data)\n",
    "\n",
    "        # Do the split\n",
    "        training_data = data[:split,:]\n",
    "        testing_data = data[split:,:]\n",
    "        \n",
    "        # Train model excluding the holdout set\n",
    "        training_params = model.get_params(training_data)\n",
    "\n",
    "        # Test with the holdout set\n",
    "        training_error[seed] = model.get_error(training_params, training_data)\n",
    "        prediction_error[seed] = model.get_error(training_params, testing_data)\n",
    "        \n",
    "    # Compute mean and std, and save into vector    \n",
    "    mean_training_error[i] = training_error.mean() \n",
    "    std_training_error[i] = training_error.std() \n",
    "    mean_prediction_error[i] = prediction_error.mean() \n",
    "    std_prediction_error[i] = prediction_error.std() \n",
    "\n",
    "# Histogram on the prediction error\n",
    "fig = plt.figure(figsize=(16,8))\n",
    "plt.subplot(2,1,1)\n",
    "plt.plot(splitsizes, mean_training_error, 'r', lw=2.0)\n",
    "plt.plot(splitsizes, mean_training_error-std_training_error, 'r:', lw=2.0)\n",
    "plt.plot(splitsizes, mean_training_error+std_training_error, 'r:', lw=2.0)\n",
    "plt.xlabel(\"Split size for training\")\n",
    "plt.ylabel(\"Training Error\")\n",
    "plt.subplot(2,1,2)\n",
    "plt.plot(splitsizes, mean_prediction_error, 'b', lw=2.0)\n",
    "plt.plot(splitsizes, mean_prediction_error-std_prediction_error, 'b:', lw=2.0)\n",
    "plt.plot(splitsizes, mean_prediction_error+std_prediction_error, 'b:', lw=2.0)\n",
    "plt.xlabel(\"Split size for training\")\n",
    "plt.ylabel(\"Prediction Error\")\n",
    "plt.show()"
   ]
  },
  {
   "cell_type": "markdown",
   "metadata": {
    "slideshow": {
     "slide_type": "slide"
    }
   },
   "source": [
    "#### 1. Holdout Set\n",
    "## Conclusiones\n",
    "El holdout se ve afectado:\n",
    "* Por la forma de seleccionar los datos, pero con impacto decreciente a medida que aumenta el tamaño del dataset considerado.\n",
    "* Por el tamaño de la partición training-testing, ***con impacto decreciente a medida que aumenta el tamaño del dataset considerado. Además, el split 70-30% es una buena elección para datasets medianos.***.\n",
    "* Por el tamaño del conjunto de datos considerados. ***Holdout Set funciona bien para datasets medianos o grandes***."
   ]
  },
  {
   "cell_type": "markdown",
   "metadata": {
    "slideshow": {
     "slide_type": "slide"
    }
   },
   "source": [
    "#### 1. Holdout Set\n",
    "## Pros\n",
    "* No hay suposiciones paramétrica o teóricas.\n",
    "* Si hay suficientes datos, es altamente precisa.\n",
    "* Simple de implementar.\n",
    "* Conceptualmente simple.\n",
    "\n",
    "## Contras\n",
    "* Sesgo conservativo.\n",
    "* Requiere un número suficiente de datos.\n",
    "* Resulta tentador utilizar datos en el set de entrenamiento, resulta en contaminación del error de prediccción.\n",
    "* Se debe elegir el tamaño del set de entrenamiento (70 %-30 % común pero no obligatorio)."
   ]
  }
 ],
 "metadata": {
  "celltoolbar": "Slideshow",
  "kernelspec": {
   "display_name": "Python 2",
   "language": "python",
   "name": "python2"
  },
  "language_info": {
   "codemirror_mode": {
    "name": "ipython",
    "version": 2
   },
   "file_extension": ".py",
   "mimetype": "text/x-python",
   "name": "python",
   "nbconvert_exporter": "python",
   "pygments_lexer": "ipython2",
   "version": "2.7.6"
  }
 },
 "nbformat": 4,
 "nbformat_minor": 0
}
