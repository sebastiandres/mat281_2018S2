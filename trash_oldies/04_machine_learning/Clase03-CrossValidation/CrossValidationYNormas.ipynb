{
 "cells": [
  {
   "cell_type": "code",
   "execution_count": 1,
   "metadata": {
    "collapsed": false,
    "slideshow": {
     "slide_type": "skip"
    }
   },
   "outputs": [
    {
     "data": {
      "text/html": [
       "<style>\n",
       "\n",
       "/*********************************************\n",
       " * COLORS FOR EXAMPLES\n",
       " *********************************************/\n",
       "em {color: #800000;}\n",
       "span.good {color: #008000;}\n",
       "span.warning {color: #808000;}\n",
       "span.bad {color: #800000;}\n",
       "\n",
       "/*********************************************\n",
       " * GLOBAL STYLES\n",
       " *********************************************/\n",
       ".reveal h1 {color: #000000; text-shadow: 0px 0px 6px rgba(0, 0, 0, 0.2);}\n",
       ".reveal h2 {color: #222222; text-shadow: 0px 0px 5px rgba(0, 0, 0, 0.2);}\n",
       ".reveal h3 {color: #444444; text-shadow: 0px 0px 4px rgba(0, 0, 0, 0.2);}\n",
       ".reveal h4 {color: #666666; text-shadow: 0px 0px 3px rgba(0, 0, 0, 0.2);}\n",
       ".reveal h5 {color: #888888; text-shadow: 0px 0px 2px rgba(0, 0, 0, 0.2);}\n",
       ".reveal h6 {color: #AAAAAA; text-shadow: 0px 0px 1px rgba(0, 0, 0, 0.2);}\n",
       "\n",
       "/*********************************************\n",
       " * IMAGES\n",
       " *********************************************/\n",
       ".reveal section img { margin-left:auto; margin-right:auto;}\n",
       "\n",
       "</style>\n"
      ],
      "text/plain": [
       "<IPython.core.display.HTML object>"
      ]
     },
     "execution_count": 1,
     "metadata": {},
     "output_type": "execute_result"
    }
   ],
   "source": [
    "\"\"\"\n",
    "IPython Notebook v4.0 para python 2.7\n",
    "Librerías adicionales: numpy, matplotlib\n",
    "Contenido bajo licencia CC-BY 4.0. Código bajo licencia MIT. (c) Sebastian Flores.\n",
    "\"\"\"\n",
    "\n",
    "# Configuracion para recargar módulos y librerías \n",
    "%reload_ext autoreload\n",
    "%autoreload 2\n",
    "%matplotlib inline\n",
    "\n",
    "from IPython.core.display import HTML\n",
    "\n",
    "HTML(open(\"style/mat281.css\", \"r\").read())"
   ]
  },
  {
   "cell_type": "markdown",
   "metadata": {
    "slideshow": {
     "slide_type": "slide"
    }
   },
   "source": [
    "<header class=\"w3-container w3-teal\">\n",
    "<img src=\"images/utfsm.png\" alt=\"\" height=\"100px\" align=\"left\"/>\n",
    "<img src=\"images/mat.png\" alt=\"\" height=\"100px\" align=\"right\"/>\n",
    "</header>\n",
    "<br/><br/><br/><br/><br/>\n",
    "# MAT281\n",
    "## Aplicaciones de la Matemática en la Ingeniería\n",
    "\n",
    "### Sebastián Flores\n",
    "\n",
    "https://www.github.com/usantamaria/mat281\n"
   ]
  },
  {
   "cell_type": "markdown",
   "metadata": {
    "slideshow": {
     "slide_type": "slide"
    }
   },
   "source": [
    "## Clase anterior\n",
    "\n",
    "* Holdout Set"
   ]
  },
  {
   "cell_type": "markdown",
   "metadata": {
    "slideshow": {
     "slide_type": "slide"
    }
   },
   "source": [
    "## ¿Qué contenido aprenderemos?\n",
    "\n",
    "* Cross Validation\n"
   ]
  },
  {
   "cell_type": "markdown",
   "metadata": {
    "slideshow": {
     "slide_type": "slide"
    }
   },
   "source": [
    "## ¿Porqué aprenderemos ese contenido?\n",
    "\n",
    "* Cross Validation\n",
    "\n",
    "Esencial para poder estimar el poder predictivo de un modelo cuando se tienen pocos datos o el modelo es costoso de entrenar o evaluar.\n"
   ]
  },
  {
   "cell_type": "markdown",
   "metadata": {
    "slideshow": {
     "slide_type": "slide"
    }
   },
   "source": [
    "## Modelo\n",
    "\n",
    "Ilustraremos el funcionamiento del método con datos sintéticos:\n",
    "$$ y(x) = 5 \\cos \\Big( \\frac{\\pi}{4} x \\Big) + \\mathcal{N}\\Big(0,1\\Big)$$\n",
    "\n",
    "Buscaremos ajustar un modelo del tipo\n",
    "$$ y(x) = a \\cos \\Big( b x + c\\Big) + d$$\n",
    "minimizando el error cuadrático.\n",
    "\n",
    "El error predictivo del modelo será calculado utilizando RMSE:\n",
    "$$ E(o,p) = \\sqrt{ \\frac{1}{N}\\sum_{i=1}^N (o_i - p_i)^2 }$$\n",
    "El RMSE corresponde a la desviación estándar de los residuos."
   ]
  },
  {
   "cell_type": "markdown",
   "metadata": {
    "slideshow": {
     "slide_type": "slide"
    }
   },
   "source": [
    "## 2. Cross Validation\n",
    "\n",
    "Se realiza de manera secuencial varios procedimientos de Holdout Set. \n",
    "Los datos se utilizan para entrenar el modelo o para testear el modelo, pero nunca para ambas simultáneamente.\n",
    "\n",
    "<img src=\"images/CrossValidation.png\" alt=\"\" width=\"400px\" align=\"middle\"/>"
   ]
  },
  {
   "cell_type": "markdown",
   "metadata": {
    "slideshow": {
     "slide_type": "slide"
    }
   },
   "source": [
    "#### 2. Cross Validation\n",
    "## Características\n",
    "\n",
    "* Es similar al holdout set.\n",
    "\n",
    "* Datos son utilizados para entrenar el modelo y para obtener el error de predicción pero nunca simultáneamente.\n",
    "\n",
    "* Permite obtener estimación de la variablidad del verdadero error de estimación."
   ]
  },
  {
   "cell_type": "markdown",
   "metadata": {
    "slideshow": {
     "slide_type": "slide"
    }
   },
   "source": [
    "#### 2. Cross Validation\n",
    "## ¿Cuántas y cuales particiones utilizar?\n",
    "\n",
    "* Pocas particiones: error de predicción será conservador y con poca variabilidad.\n",
    "* Muchas particiones: error de predicción será realista pero con mucha variabilidad.\n",
    "* Resulta necesario considerar además el tiempo computacional requerido para entrenar los modelos en cada partición."
   ]
  },
  {
   "cell_type": "markdown",
   "metadata": {
    "slideshow": {
     "slide_type": "slide"
    }
   },
   "source": [
    "#### 2. Cross Validation\n",
    "## Alternativas\n",
    "\n",
    "¿Cómo hacermos las particiones?\n",
    "\n",
    "* Validación Cruzada no Exhaustiva Secuencial.\n",
    "* Validación Cruzada no Exhaustiva Aleatoria.\n",
    "* Validación Cruzada: Leave One Out (LOO).\n",
    "* Validación Cruzada Exhaustiva."
   ]
  },
  {
   "cell_type": "markdown",
   "metadata": {
    "collapsed": true,
    "slideshow": {
     "slide_type": "slide"
    }
   },
   "source": [
    "## 2.1 Validación Cruzada No Exhaustiva Secuencial. \n",
    "\n",
    "* Se seleccionan $M$ particiones excluyentes: una fracción $(M-1)/M$ para entrenamiento y una fracción $1/M$ para testing.\n",
    "* Un dato es utilizado una única vez como predicción y $M-1$ veces para entrenamiento.\n",
    "* Requiere realizar mezclar aleatoriamente los datos al inicio.\n",
    "* Típicamente 5 particiones de 80%-20% o 10 particiones de 90%-10%."
   ]
  },
  {
   "cell_type": "markdown",
   "metadata": {
    "collapsed": true,
    "slideshow": {
     "slide_type": "slide"
    }
   },
   "source": [
    "#### 2.1 Validación Cruzada No Exhaustiva Secuencial. \n",
    "## Implementación"
   ]
  },
  {
   "cell_type": "code",
   "execution_count": null,
   "metadata": {
    "collapsed": false
   },
   "outputs": [],
   "source": [
    "import numpy as np\n",
    "from mat281_code import model\n",
    "\n",
    "# Parameters\n",
    "M = 5 # particiones\n",
    "\n",
    "# Load data\n",
    "data = model.load_data(\"data/dataN5000.txt\") # Change here\n",
    "N = data.shape[0]\n",
    "testing_size = int(1./M * N)\n",
    "\n",
    "# Permute the data\n",
    "np.random.seed(23)   # Change here\n",
    "data = np.random.permutation(data)\n",
    "\n",
    "# Create vector to store the prediction error\n",
    "prediction_error = np.zeros(M)\n",
    "\n",
    "# Perform Cross Validation\n",
    "for i in range(M):\n",
    "    index = np.arange(N)\n",
    "    testing_index = np.logical_and(i*testing_size < index,\n",
    "                                    index < (i+1)*testing_size)\n",
    "\n",
    "    # Do the split\n",
    "    testing_data = data[testing_index,:]\n",
    "    training_data = data[np.logical_not(testing_index),:]\n",
    "\n",
    "    # Train model excluding the holdout set\n",
    "    training_params = model.get_params(training_data)\n",
    "\n",
    "    # Test with the holdout set\n",
    "    prediction_error[i] = model.get_error(training_params, testing_data)\n",
    "    print \"Prediction error estimated on \", prediction_error[i], \"\\n\"\n",
    "\n",
    "# Train model with all the data\n",
    "all_data_params = model.get_params(data)\n",
    "\n",
    "# Report\n",
    "print \"Average of prediction error\", prediction_error.mean()\n",
    "print \"Standard Deviation of prediction error\", prediction_error.std()\n",
    "\n",
    "# Plot the model\n",
    "model.plot(training_data, testing_data, training_params, all_data_params)"
   ]
  },
  {
   "cell_type": "markdown",
   "metadata": {
    "collapsed": true,
    "slideshow": {
     "slide_type": "slide"
    }
   },
   "source": [
    "#### 2.1 Validación Cruzada No Exhaustiva\n",
    "\n",
    "## Pro\n",
    "* Simple de realizar y computacionalmente no TAN intensivo.\n",
    "* Entrega estimación de variabilidad.\n",
    "\n",
    "## Contra\n",
    "* Error de predicción conservador.\n",
    "* Valor depende de la mezcla aleatoria inicial."
   ]
  },
  {
   "cell_type": "markdown",
   "metadata": {
    "collapsed": true,
    "slideshow": {
     "slide_type": "slide"
    }
   },
   "source": [
    "## 2.2 Validación Cruzada No Exhaustiva Aleatoria\n",
    "\n",
    "* Se generan $M$ holdouts set de manera aleatoria.\n",
    "* Un dato no necesariamente es utilizado una única vez como predicción.\n",
    "* Requiere realizar mezclar aleatoriamente los datos en cada selección.\n",
    "* Típicamente número de muestras depende del costo computacional."
   ]
  },
  {
   "cell_type": "markdown",
   "metadata": {
    "collapsed": true,
    "slideshow": {
     "slide_type": "slide"
    }
   },
   "source": [
    "#### 2.2 Validación Cruzada No Exhaustiva Aleatoria\n",
    "## Implementación"
   ]
  },
  {
   "cell_type": "code",
   "execution_count": null,
   "metadata": {
    "collapsed": false
   },
   "outputs": [],
   "source": [
    "import numpy as np\n",
    "from mat281_code import model\n",
    "\n",
    "# Parameters\n",
    "M = 200 # Muestras\n",
    "\n",
    "# Load data\n",
    "data = model.load_data(\"data/dataN10.txt\")  # Change here\n",
    "N = data.shape[0]\n",
    "split = int(0.7*N)   # Change here\n",
    "\n",
    "# Create vector to store the prediction error\n",
    "prediction_error = np.zeros(M)\n",
    "\n",
    "for i in range(M):\n",
    "    # Permute the data\n",
    "    np.random.seed(i)   # HERE IS THE MAIN POINT #\n",
    "    data = np.random.permutation(data)\n",
    "\n",
    "    # Do the split\n",
    "    training_data = data[:split,:]\n",
    "    testing_data = data[split:,:]\n",
    "\n",
    "    # Train model excluding the holdout set\n",
    "    training_params = model.get_params(training_data)\n",
    "\n",
    "    # Test with the holdout set\n",
    "    prediction_error[i] = model.get_error(training_params, testing_data)\n",
    "    print \"Prediction error estimated on \", prediction_error[i], \"\\n\"\n",
    "\n",
    "# Train model with all the data\n",
    "all_data_params = model.get_params(data)\n",
    "\n",
    "# Report\n",
    "print \"Average of prediction error\", prediction_error.mean()\n",
    "print \"Standard Deviation of prediction error\", prediction_error.std()\n",
    "\n",
    "# Plot the model\n",
    "model.plot(training_data, testing_data, training_params, all_data_params)"
   ]
  },
  {
   "cell_type": "markdown",
   "metadata": {
    "collapsed": true,
    "slideshow": {
     "slide_type": "slide"
    }
   },
   "source": [
    "#### 2.2 Validación Cruzada No Exhaustiva Aleatoria\n",
    "\n",
    "## Pro\n",
    "* Simple de realizar pero computacionalmente intensivo.\n",
    "* Entrega muy buenos resultados.\n",
    "\n",
    "## Contra\n",
    "* Error de predicción depende del número de muestras.\n",
    "* Valor puede depender de aleatoriedad."
   ]
  },
  {
   "cell_type": "markdown",
   "metadata": {
    "slideshow": {
     "slide_type": "slide"
    }
   },
   "source": [
    "## 2.3 Leave One Out (LOO)\n",
    "\n",
    "Si el número de datos $N$ es pequeño, se hacen $N$ particiones. Se entrena con $N-1$ datos y se prueba con $1$ datos.\n",
    "\n",
    "* Fácil de implementar\n",
    "* **NO** Requiere realizar mezclar aleatoriamente los datos al inicio."
   ]
  },
  {
   "cell_type": "markdown",
   "metadata": {
    "slideshow": {
     "slide_type": "slide"
    }
   },
   "source": [
    "#### 2.3 Leave One Out (LOO)\n",
    "## Implementación"
   ]
  },
  {
   "cell_type": "code",
   "execution_count": null,
   "metadata": {
    "collapsed": false
   },
   "outputs": [],
   "source": [
    "import numpy as np\n",
    "from mat281_code import model\n",
    "\n",
    "# Parameter free (M=N)\n",
    "\n",
    "# Load data\n",
    "data = model.load_data(\"data/dataN20.txt\")  # Change here\n",
    "N = data.shape[0]\n",
    "\n",
    "# Create vector to store the prediction error\n",
    "prediction_error = np.zeros(N)\n",
    "\n",
    "for i in range(N):\n",
    "    \n",
    "    testing_index = np.zeros(N, dtype=bool)\n",
    "    testing_index[i] = True\n",
    "\n",
    "    # Do the split\n",
    "    testing_data = data[testing_index,:]\n",
    "    training_data = data[np.logical_not(testing_index),:]\n",
    "\n",
    "    # Train model excluding the holdout set\n",
    "    training_params = model.get_params(training_data)\n",
    "\n",
    "    # Test with the holdout set\n",
    "    prediction_error[i] = model.get_error(training_params, testing_data)\n",
    "    print \"Prediction error estimated on \", prediction_error[i]\n",
    "\n",
    "# Train model with all the data\n",
    "all_data_params = model.get_params(data)\n",
    "\n",
    "# Report\n",
    "print \"Average of prediction error\", prediction_error.mean()\n",
    "print \"Standard Deviation of prediction error\", prediction_error.std()\n",
    "\n",
    "# Plot the model\n",
    "model.plot(training_data, testing_data, training_params, all_data_params)"
   ]
  },
  {
   "cell_type": "markdown",
   "metadata": {
    "collapsed": true,
    "slideshow": {
     "slide_type": "slide"
    }
   },
   "source": [
    "#### 2.3 Validación Cruzada: Leave One Out\n",
    "\n",
    "## Pro\n",
    "* No es necesario configurar: tamaño y numero de particiones fijo.\n",
    "* Completamente exhaustivo: no contiene aleatoriedad.\n",
    "\n",
    "## Contra\n",
    "* Computacionalmente intensivo: sólo para modelos \"baratos\" de conseguir y tamaños de datos pequeños.\n",
    "* Estimación de error optimista con posibilidad de sobreajuste."
   ]
  },
  {
   "cell_type": "markdown",
   "metadata": {
    "slideshow": {
     "slide_type": "slide"
    }
   },
   "source": [
    "\n",
    "## 2.4  Validación Cruzada Exhaustiva\n",
    "\n",
    "* Sólo es posible cuando se tiene un número bajo de datos.\n",
    "* Se fija  el holdout set (por ejemplo, 70-30), y se prueban todas las combinaciones posibles."
   ]
  },
  {
   "cell_type": "code",
   "execution_count": null,
   "metadata": {
    "collapsed": false
   },
   "outputs": [],
   "source": [
    "from scipy.misc import comb\n",
    "N = 10\n",
    "split = int(0.7*N)\n",
    "print comb(N,split)"
   ]
  },
  {
   "cell_type": "markdown",
   "metadata": {
    "slideshow": {
     "slide_type": "slide"
    }
   },
   "source": [
    "\n",
    "#### 2.4 Validación Cruzada Exhaustiva\n",
    "## Implementación"
   ]
  },
  {
   "cell_type": "code",
   "execution_count": null,
   "metadata": {
    "collapsed": false
   },
   "outputs": [],
   "source": [
    "import numpy as np\n",
    "from mat281_code import model\n",
    "\n",
    "import itertools # Library to get the permutations\n",
    "from scipy.misc import comb\n",
    "\n",
    "# Load data\n",
    "data = model.load_data(\"data/dataN20.txt\")  # Change here\n",
    "N = data.shape[0]\n",
    "split = int(0.7*N)\n",
    "M = int(comb(N,split))\n",
    "\n",
    "# Create vector to store the prediction error\n",
    "prediction_error = np.zeros(M)\n",
    "index = np.arange(N)\n",
    "\n",
    "for i, training_index in enumerate(itertools.combinations(index,split)):\n",
    "                                \n",
    "    # Do the split\n",
    "    training_data = data[np.array(training_index),:]\n",
    "    testing_index = list(set(range(N))-set(training_index))\n",
    "    testing_data = data[np.array(testing_index),:]\n",
    "\n",
    "    # Train model excluding the holdout set\n",
    "    training_params = model.get_params(training_data)\n",
    "\n",
    "    # Test with the holdout set\n",
    "    prediction_error[i] = model.get_error(training_params, testing_data)\n",
    "\n",
    "# Train model with all the data\n",
    "all_data_params = model.get_params(data)\n",
    "\n",
    "# Report\n",
    "print \"Average of prediction error\", prediction_error.mean()\n",
    "print \"Standard Deviation of prediction error\", prediction_error.std()\n",
    "\n",
    "# Plot the model\n",
    "model.plot(training_data, testing_data, training_params, all_data_params)"
   ]
  },
  {
   "cell_type": "markdown",
   "metadata": {
    "collapsed": true,
    "slideshow": {
     "slide_type": "slide"
    }
   },
   "source": [
    "#### 2.4 Validación Cruzada Exhaustiva\n",
    "\n",
    "## Pro\n",
    "* No es necesario configurar: tamaño y número de particiones fijo.\n",
    "* Completamente exhaustivo: no contiene aleatoriedad.\n",
    "\n",
    "## Contra\n",
    "* Computacionalmente muy intensivo: sólo para modelos \"baratos\" de conseguir y tamaños de datos muy pequeños. Utilizar sólo si datos son extremadamente escasos.\n",
    "* Estimación de error optimista con posibilidad de sobreajuste, debido a pocos datos. \n",
    "* Modelo es malo, pero sabemos que tan malo es."
   ]
  },
  {
   "cell_type": "markdown",
   "metadata": {
    "collapsed": true,
    "slideshow": {
     "slide_type": "slide"
    }
   },
   "source": [
    "#### Validación Cruzada\n",
    "\n",
    "## Resumen\n",
    "\n",
    "En general, conviene siempre utilizar Validación Cruzada:\n",
    "* Permite estimar error de predicción más precisamente: promedio es más preciso y se conoce su variablidad.\n",
    "* Único problema: costo computacional."
   ]
  },
  {
   "cell_type": "markdown",
   "metadata": {
    "collapsed": true,
    "slideshow": {
     "slide_type": "slide"
    }
   },
   "source": [
    "#### Validación Cruzada\n",
    "\n",
    "## Consejos\n",
    "\n",
    "* Si $N<10$, vaya a buscar más datos. No se moleste en ajustar un modelo.\n",
    "* Si $N>10$, prefiera:\n",
    "  * Cross Validation No Exhaustivo Aleatorio. \n",
    "  * Cross Validation No Exhaustivo Secuencial.\n",
    "* Si $N>1000$, utilice Cross Validation Secuencial (5 pasadas al 20-80)."
   ]
  },
  {
   "cell_type": "markdown",
   "metadata": {
    "collapsed": true,
    "slideshow": {
     "slide_type": "slide"
    }
   },
   "source": [
    "## Normas\n",
    "Se dice que $||\\cdot||$ es una norma de un espacio vectorial $V$ sobre el cuerpo $R$ si se cumple:\n",
    "\n",
    "* Positividad:\n",
    "$$||x|| ≥ 0 ∀x ∈ V y ||x|| = 0 =⇒ x = 0$$\n",
    "* Escalabilidad:\n",
    "$$||αx|| = |α| ||x|| ∀x ∈ V y α ∈ R$$\n",
    "* Desigualdad Triangular:\n",
    "$$||x + y || ≤ ||x|| + ||y|| ∀x, y ∈ V$$"
   ]
  },
  {
   "cell_type": "markdown",
   "metadata": {
    "collapsed": true,
    "slideshow": {
     "slide_type": "slide"
    }
   },
   "source": [
    "## Normas\n",
    "Para $x$ en $R^n$ podemos definir, entre otros:\n",
    "* Norma 1, de Manhattan o del taxista:\n",
    "$$||x||_1 = \\sum_{i=1}^n |x_i|$$\n",
    "\n",
    "* Norma 2 o euclidiana:\n",
    "$$||x||_1 = \\sqrt{ \\sum_{i=1}^n x_i^2 }$$\n",
    "\n",
    "* Norma Infinito:\n",
    "$$||x||_{\\infty} = \\max_{i=1, ..., n} |x_i|$$\n"
   ]
  },
  {
   "cell_type": "markdown",
   "metadata": {
    "collapsed": true,
    "slideshow": {
     "slide_type": "slide"
    }
   },
   "source": [
    "## Implementación de Norma 1"
   ]
  },
  {
   "cell_type": "code",
   "execution_count": null,
   "metadata": {
    "collapsed": true
   },
   "outputs": [],
   "source": [
    "import numpy as np\n",
    "from numpy import linalg\n",
    "\n",
    "def norm_1_very_wrong(x):\n",
    "    norm1 = 0\n",
    "    for i in range(len(x)):\n",
    "        norm1 = norm1 + abs(x[i])\n",
    "    return norm1\n",
    "\n",
    "def norm_1_wrong(x):\n",
    "    norm1 = 0\n",
    "    for xi in x: # Dont use the index if possible\n",
    "        norm1 += abs(xi)\n",
    "    return norm1\n",
    "\n",
    "def norm_1_better(x):\n",
    "    return np.abs(x).sum()\n",
    "\n",
    "def norm_1(x):\n",
    "    return linalg.norm(x,1)"
   ]
  },
  {
   "cell_type": "code",
   "execution_count": null,
   "metadata": {
    "collapsed": false
   },
   "outputs": [],
   "source": [
    "my_big_vector = np.random.rand(100000)\n",
    "%timeit norm_1_very_wrong(my_big_vector)\n",
    "%timeit norm_1_wrong(my_big_vector)\n",
    "%timeit norm_1_better(my_big_vector)\n",
    "%timeit norm_1(my_big_vector)"
   ]
  },
  {
   "cell_type": "markdown",
   "metadata": {
    "collapsed": true,
    "slideshow": {
     "slide_type": "slide"
    }
   },
   "source": [
    "## Implementación de Norma 2"
   ]
  },
  {
   "cell_type": "code",
   "execution_count": null,
   "metadata": {
    "collapsed": false
   },
   "outputs": [],
   "source": [
    "import numpy as np\n",
    "from numpy import linalg\n",
    "\n",
    "def norm_2_very_wrong(x):\n",
    "    norm2 = 0\n",
    "    for i in range(len(x)):\n",
    "        norm2 = norm2 + x[i]**2\n",
    "    return norm2**0.5\n",
    "\n",
    "def norm_2_wrong(x):\n",
    "    norm2 = 0\n",
    "    for xi in x:\n",
    "        norm2 += xi**2\n",
    "    return np.sqrt(norm2)\n",
    "\n",
    "def norm_2_better(x):\n",
    "    return np.sqrt((x**2).sum())\n",
    "\n",
    "def norm_2(x):\n",
    "    return linalg.norm(x,2)"
   ]
  },
  {
   "cell_type": "code",
   "execution_count": null,
   "metadata": {
    "collapsed": false
   },
   "outputs": [],
   "source": [
    "my_big_vector = np.random.rand(100000)\n",
    "%timeit norm_2_very_wrong(my_big_vector)\n",
    "%timeit norm_2_wrong(my_big_vector)\n",
    "%timeit norm_2_better(my_big_vector)\n",
    "%timeit norm_2(my_big_vector)"
   ]
  },
  {
   "cell_type": "markdown",
   "metadata": {
    "collapsed": true,
    "slideshow": {
     "slide_type": "slide"
    }
   },
   "source": [
    "## Implementación de Norma $\\infty$"
   ]
  },
  {
   "cell_type": "code",
   "execution_count": null,
   "metadata": {
    "collapsed": false
   },
   "outputs": [],
   "source": [
    "import numpy as np\n",
    "from numpy import linalg\n",
    "\n",
    "def norm_inf_very_wrong(x):\n",
    "    norminf = 0\n",
    "    for i in range(len(x)):\n",
    "        norminf = max(norminf, abs(x[i]))\n",
    "    return norminf\n",
    "\n",
    "def norm_inf_wrong(x):\n",
    "    norminf = 0\n",
    "    for xi in x:\n",
    "        norminf = max(norminf, abs(xi))\n",
    "    return norminf\n",
    "\n",
    "def norm_inf_better(x):\n",
    "    return np.abs(x).max()\n",
    "\n",
    "def norm_inf(x):\n",
    "    return linalg.norm(x,np.inf)"
   ]
  },
  {
   "cell_type": "code",
   "execution_count": null,
   "metadata": {
    "collapsed": false
   },
   "outputs": [],
   "source": [
    "my_big_vector = np.random.rand(100000)\n",
    "%timeit norm_inf_very_wrong(my_big_vector)\n",
    "%timeit norm_inf_wrong(my_big_vector)\n",
    "%timeit norm_inf_better(my_big_vector)\n",
    "%timeit norm_inf(my_big_vector)"
   ]
  },
  {
   "cell_type": "markdown",
   "metadata": {
    "collapsed": true,
    "slideshow": {
     "slide_type": "slide"
    }
   },
   "source": [
    "## Conclusiones\n",
    "\n",
    "* Utilice ciclo for apropiadamente, sólo si es necesario.\n",
    "* Si existe, utilice la función al más bajo nivel, ya implementada en alguna librería."
   ]
  },
  {
   "cell_type": "code",
   "execution_count": null,
   "metadata": {
    "collapsed": true
   },
   "outputs": [],
   "source": [
    "linalg.norm?"
   ]
  },
  {
   "cell_type": "markdown",
   "metadata": {
    "collapsed": true,
    "slideshow": {
     "slide_type": "slide"
    }
   },
   "source": [
    "## Normas Equivalentes: Definicion\n",
    "Las normas $||\\cdot||_a$ y $||\\cdot||_b$ se dicen equivalentes en el mismo espacio\n",
    "vectorial $V$ si existen constantes $\\alpha > 0$ y $\\beta > 0$ tales que\n",
    "$$ \\alpha \\ ||x||_a \\leq ||x||_b \\leq \\beta \\ ||x||_a \\forall x ∈ V$$"
   ]
  },
  {
   "cell_type": "markdown",
   "metadata": {
    "collapsed": true,
    "slideshow": {
     "slide_type": "slide"
    }
   },
   "source": [
    "## Normas Equivalentes: Teorema\n",
    "En $R^n$ todas las normas son equivalentes.\n",
    "\n",
    "En particular, las normas $||\\cdot||_1$ , $||\\cdot||_2$ y $||\\cdot||_{\\infty}$ son equivalentes.\n",
    "\n",
    "***One norm to rule them all.***"
   ]
  },
  {
   "cell_type": "markdown",
   "metadata": {
    "collapsed": true,
    "slideshow": {
     "slide_type": "fragment"
    }
   },
   "source": [
    "* Norma 2 y norma infinito\n",
    "$$ \\frac{1}{n} ||x||_2 \\leq ||x||_{\\infty} \\leq 1 ||x||_2 $$\n",
    "* Norma infinito y norma 1\n",
    "$$||x||_{\\infty} \\leq ||x||_1 \\leq n ||x||_{\\infty} $$\n",
    "* Norma 1 y norma 2\n",
    "$$\\frac{1}{n}||x||_1 \\leq ||x||_2 \\leq n ||x||_1 $$\n",
    "\n",
    "\n",
    "En general ([demo](http://math.stackexchange.com/questions/218046/relations-between-p-norms) ):\n",
    "$$ ||x||_p \\leq n^{\\frac{1}{p}-\\frac{1}{q}} ||x||_q$$\n",
    "\n"
   ]
  },
  {
   "cell_type": "markdown",
   "metadata": {
    "collapsed": true,
    "slideshow": {
     "slide_type": "slide"
    }
   },
   "source": [
    "###  Normas Equivalentes: Contra-Teorema\n",
    "* Normas equivalentes no producen problemas equivalentes.\n",
    "* No es lo mismo que minimizar en una norma que en otra."
   ]
  },
  {
   "cell_type": "markdown",
   "metadata": {
    "collapsed": true,
    "slideshow": {
     "slide_type": "slide"
    }
   },
   "source": [
    "## Ejemplo\n",
    "Consideremos $R^2$ y $F(x) = F (x_1 , x_2 ) = (x_1 + 1)^2 + (x_2 + 1)^2$ .\n",
    "Tenemos que claramente\n",
    "$$ \\max_{||x||_1  \\leq 1} F(x) \\neq  \\max_{||x||_2  \\leq 1} F(x) \\neq  \\max_{||x||_{\\infty}  \\leq 1} F(x)$$\n",
    "y\n",
    "$$ \\textrm{argmax}_{||x||_1  \\leq 1} F(x) \\neq  \\textrm{argmax}_{||x||_2  \\leq 1} F(x) \\neq  \\textrm{argmax}_{||x||_{\\infty}  \\leq 1} F(x)$$"
   ]
  },
  {
   "cell_type": "markdown",
   "metadata": {
    "collapsed": true,
    "slideshow": {
     "slide_type": "slide"
    }
   },
   "source": [
    "<img src=\"images/Norma1.png\" alt=\"\" width=\"900px\" align=\"middle\"/>"
   ]
  },
  {
   "cell_type": "markdown",
   "metadata": {
    "collapsed": true,
    "slideshow": {
     "slide_type": "slide"
    }
   },
   "source": [
    "<img src=\"images/Norma2.png\" alt=\"\" width=\"900px\" align=\"middle\"/>"
   ]
  },
  {
   "cell_type": "markdown",
   "metadata": {
    "collapsed": true,
    "slideshow": {
     "slide_type": "slide"
    }
   },
   "source": [
    "<img src=\"images/NormaInf.png\" alt=\"\" width=\"900px\" align=\"middle\"/>"
   ]
  },
  {
   "cell_type": "markdown",
   "metadata": {
    "collapsed": true,
    "slideshow": {
     "slide_type": "slide"
    }
   },
   "source": [
    "Pero profe, claro, su problema era trivial...\n",
    "\n",
    "Cómo estaba minimizando sobre espacios distintos era lógico que llega a valores distintos.\n",
    "\n",
    "Fijemos el espacio de minimización y pongamos la norma en el funcional a minimizar"
   ]
  },
  {
   "cell_type": "markdown",
   "metadata": {
    "collapsed": true,
    "slideshow": {
     "slide_type": "slide"
    }
   },
   "source": [
    "Consideremos $m, b ∈ R$ y sean ciertos pares de datos\n",
    "$$(x_1 , y_1 ), (x_2 , y_2 ), ..., (x_n , y_n )$$\n",
    "que deseamos modelar utilizando $y = mx + b$.\n",
    "\n",
    "* ¿Los valores de $m$ y $b$ dependen de la norma en la que se minimiza?\n",
    "* ¿Qué datos podr ́ıamos utilizar? ¿Qué tal el conjunto de Anscombe?\n",
    "\n",
    "Recordemos que la minimización en norma 2 de cada grupo del cuadrteto de Anscombe daba los mismos parámetros. ¿Que sucede con las otras normas?"
   ]
  },
  {
   "cell_type": "markdown",
   "metadata": {
    "collapsed": true,
    "slideshow": {
     "slide_type": "slide"
    }
   },
   "source": [
    "<img src=\"images/Anscombe0.png\" alt=\"\" width=\"600px\" align=\"middle\"/>"
   ]
  },
  {
   "cell_type": "markdown",
   "metadata": {
    "collapsed": true,
    "slideshow": {
     "slide_type": "slide"
    }
   },
   "source": [
    "<img src=\"images/Anscombe1.png\" alt=\"\" width=\"600px\" align=\"middle\"/>"
   ]
  },
  {
   "cell_type": "markdown",
   "metadata": {
    "collapsed": true,
    "slideshow": {
     "slide_type": "slide"
    }
   },
   "source": [
    "<img src=\"images/AnscombeII.png\" alt=\"\" width=\"700px\" align=\"middle\"/>"
   ]
  },
  {
   "cell_type": "markdown",
   "metadata": {
    "collapsed": true,
    "slideshow": {
     "slide_type": "slide"
    }
   },
   "source": [
    "<img src=\"images/AnscombeI.png\" alt=\"\" width=\"700px\" align=\"middle\"/>"
   ]
  },
  {
   "cell_type": "markdown",
   "metadata": {
    "collapsed": true,
    "slideshow": {
     "slide_type": "slide"
    }
   },
   "source": [
    "<img src=\"images/AnscombeIII.png\" alt=\"\" width=\"700px\" align=\"middle\"/>"
   ]
  },
  {
   "cell_type": "markdown",
   "metadata": {
    "collapsed": true,
    "slideshow": {
     "slide_type": "slide"
    }
   },
   "source": [
    "<img src=\"images/AnscombeIV.png\" alt=\"\" width=\"700px\" align=\"middle\"/>"
   ]
  },
  {
   "cell_type": "markdown",
   "metadata": {
    "collapsed": true,
    "slideshow": {
     "slide_type": "slide"
    }
   },
   "source": [
    "## Resumen\n",
    "* Not all norms are born equal.\n",
    "* Norma $1$ insensible a outliers, pero no es diferenciable.\n",
    "* Norma $2$ es sensible a outliers, pero es diferenciable.\n",
    "* Norma $\\infty$ es muy sensible a outliers, y no es diferenciable.\n",
    "\n",
    "Escoger una norma en un problema dado tiene más razones prácticas que teóricas"
   ]
  }
 ],
 "metadata": {
  "celltoolbar": "Slideshow",
  "kernelspec": {
   "display_name": "Python 2",
   "language": "python",
   "name": "python2"
  },
  "language_info": {
   "codemirror_mode": {
    "name": "ipython",
    "version": 2
   },
   "file_extension": ".py",
   "mimetype": "text/x-python",
   "name": "python",
   "nbconvert_exporter": "python",
   "pygments_lexer": "ipython2",
   "version": "2.7.6"
  }
 },
 "nbformat": 4,
 "nbformat_minor": 0
}
